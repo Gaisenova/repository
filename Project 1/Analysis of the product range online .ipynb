{
 "cells": [
  {
   "cell_type": "markdown",
   "metadata": {},
   "source": [
    "# Финальный проект - Анализ товарного ассортимента"
   ]
  },
  {
   "cell_type": "markdown",
   "metadata": {},
   "source": [
    "Ссылка на презентацию- https://docs.google.com/presentation/d/1JmzXZFQc5FIfn8tSACQt3g1YDW1Z1NQDMxLaSbwnm4c/edit?usp=sharing"
   ]
  },
  {
   "cell_type": "markdown",
   "metadata": {},
   "source": [
    "Ссылка на дашборд - https://public.tableau.com/app/profile/irina3149/viz/Numberofpurchases/Dashboard1?publish=yes"
   ]
  },
  {
   "cell_type": "markdown",
   "metadata": {},
   "source": [
    "## Цель и задачи проекта "
   ]
  },
  {
   "cell_type": "markdown",
   "metadata": {},
   "source": [
    "    В Интернет-магазине товаров для дома «Пока все ещё тут» нужно сделать полноценный анализ товарного ассортимента.\n",
    "              Цель проекта: \n",
    "               - Анализировать товарный ассортимент и сформировать рекомендации для дальнейшего развития.\n",
    "               \n",
    "             Задачи проекта:\n",
    "               - провести исследовательский анализ данных;\n",
    "               - проанализировать торговый ассортимент;\n",
    "               - сформулировать и проверить статистические гипотезы.\n",
    "               \n",
    "          Описание данных:\n",
    "          \n",
    "          date - дата заказа;\n",
    "          customer_id - идентификатор покупателя;\n",
    "          order_id- идентификатор заказа;\n",
    "          product- наименование товара;\n",
    "          quantity- количество товара в заказе;\n",
    "          price- цена товара.\n",
    "          "
   ]
  },
  {
   "cell_type": "markdown",
   "metadata": {},
   "source": [
    "## Изучение данных в датасете"
   ]
  },
  {
   "cell_type": "code",
   "execution_count": 1,
   "metadata": {},
   "outputs": [],
   "source": [
    "import pandas as pd\n",
    "import seaborn as sns\n",
    "import numpy as np\n",
    "import matplotlib.pyplot as plt\n",
    "from IPython.display import display\n",
    "import datetime as dt\n",
    "import re"
   ]
  },
  {
   "cell_type": "markdown",
   "metadata": {},
   "source": [
    "Прочитаем файл и посмотрим первые 5 строк."
   ]
  },
  {
   "cell_type": "code",
   "execution_count": 2,
   "metadata": {},
   "outputs": [
    {
     "data": {
      "text/html": [
       "<div>\n",
       "<style scoped>\n",
       "    .dataframe tbody tr th:only-of-type {\n",
       "        vertical-align: middle;\n",
       "    }\n",
       "\n",
       "    .dataframe tbody tr th {\n",
       "        vertical-align: top;\n",
       "    }\n",
       "\n",
       "    .dataframe thead th {\n",
       "        text-align: right;\n",
       "    }\n",
       "</style>\n",
       "<table border=\"1\" class=\"dataframe\">\n",
       "  <thead>\n",
       "    <tr style=\"text-align: right;\">\n",
       "      <th></th>\n",
       "      <th>date</th>\n",
       "      <th>customer_id</th>\n",
       "      <th>order_id</th>\n",
       "      <th>product</th>\n",
       "      <th>quantity</th>\n",
       "      <th>price</th>\n",
       "    </tr>\n",
       "  </thead>\n",
       "  <tbody>\n",
       "    <tr>\n",
       "      <th>0</th>\n",
       "      <td>2018100100</td>\n",
       "      <td>ee47d746-6d2f-4d3c-9622-c31412542920</td>\n",
       "      <td>68477</td>\n",
       "      <td>Комнатное растение в горшке Алое Вера, d12, h30</td>\n",
       "      <td>1</td>\n",
       "      <td>142.0</td>\n",
       "    </tr>\n",
       "    <tr>\n",
       "      <th>1</th>\n",
       "      <td>2018100100</td>\n",
       "      <td>ee47d746-6d2f-4d3c-9622-c31412542920</td>\n",
       "      <td>68477</td>\n",
       "      <td>Комнатное растение в горшке Кофе Арабика, d12,...</td>\n",
       "      <td>1</td>\n",
       "      <td>194.0</td>\n",
       "    </tr>\n",
       "    <tr>\n",
       "      <th>2</th>\n",
       "      <td>2018100100</td>\n",
       "      <td>ee47d746-6d2f-4d3c-9622-c31412542920</td>\n",
       "      <td>68477</td>\n",
       "      <td>Радермахера d-12 см h-20 см</td>\n",
       "      <td>1</td>\n",
       "      <td>112.0</td>\n",
       "    </tr>\n",
       "    <tr>\n",
       "      <th>3</th>\n",
       "      <td>2018100100</td>\n",
       "      <td>ee47d746-6d2f-4d3c-9622-c31412542920</td>\n",
       "      <td>68477</td>\n",
       "      <td>Хризолидокарпус Лутесценс d-9 см</td>\n",
       "      <td>1</td>\n",
       "      <td>179.0</td>\n",
       "    </tr>\n",
       "    <tr>\n",
       "      <th>4</th>\n",
       "      <td>2018100100</td>\n",
       "      <td>ee47d746-6d2f-4d3c-9622-c31412542920</td>\n",
       "      <td>68477</td>\n",
       "      <td>Циперус Зумула d-12 см h-25 см</td>\n",
       "      <td>1</td>\n",
       "      <td>112.0</td>\n",
       "    </tr>\n",
       "  </tbody>\n",
       "</table>\n",
       "</div>"
      ],
      "text/plain": [
       "         date                           customer_id  order_id  \\\n",
       "0  2018100100  ee47d746-6d2f-4d3c-9622-c31412542920     68477   \n",
       "1  2018100100  ee47d746-6d2f-4d3c-9622-c31412542920     68477   \n",
       "2  2018100100  ee47d746-6d2f-4d3c-9622-c31412542920     68477   \n",
       "3  2018100100  ee47d746-6d2f-4d3c-9622-c31412542920     68477   \n",
       "4  2018100100  ee47d746-6d2f-4d3c-9622-c31412542920     68477   \n",
       "\n",
       "                                             product  quantity  price  \n",
       "0    Комнатное растение в горшке Алое Вера, d12, h30         1  142.0  \n",
       "1  Комнатное растение в горшке Кофе Арабика, d12,...         1  194.0  \n",
       "2                        Радермахера d-12 см h-20 см         1  112.0  \n",
       "3                   Хризолидокарпус Лутесценс d-9 см         1  179.0  \n",
       "4                     Циперус Зумула d-12 см h-25 см         1  112.0  "
      ]
     },
     "execution_count": 2,
     "metadata": {},
     "output_type": "execute_result"
    }
   ],
   "source": [
    "data = pd.read_csv('/datasets/ecommerce_dataset.csv')\n",
    "data.head()"
   ]
  },
  {
   "cell_type": "code",
   "execution_count": 3,
   "metadata": {},
   "outputs": [
    {
     "name": "stdout",
     "output_type": "stream",
     "text": [
      "<class 'pandas.core.frame.DataFrame'>\n",
      "RangeIndex: 6737 entries, 0 to 6736\n",
      "Data columns (total 6 columns):\n",
      " #   Column       Non-Null Count  Dtype  \n",
      "---  ------       --------------  -----  \n",
      " 0   date         6737 non-null   int64  \n",
      " 1   customer_id  6737 non-null   object \n",
      " 2   order_id     6737 non-null   int64  \n",
      " 3   product      6737 non-null   object \n",
      " 4   quantity     6737 non-null   int64  \n",
      " 5   price        6737 non-null   float64\n",
      "dtypes: float64(1), int64(3), object(2)\n",
      "memory usage: 315.9+ KB\n"
     ]
    }
   ],
   "source": [
    "data.info()# посмотрим типы данных"
   ]
  },
  {
   "cell_type": "code",
   "execution_count": 4,
   "metadata": {},
   "outputs": [
    {
     "data": {
      "text/html": [
       "<div>\n",
       "<style scoped>\n",
       "    .dataframe tbody tr th:only-of-type {\n",
       "        vertical-align: middle;\n",
       "    }\n",
       "\n",
       "    .dataframe tbody tr th {\n",
       "        vertical-align: top;\n",
       "    }\n",
       "\n",
       "    .dataframe thead th {\n",
       "        text-align: right;\n",
       "    }\n",
       "</style>\n",
       "<table border=\"1\" class=\"dataframe\">\n",
       "  <thead>\n",
       "    <tr style=\"text-align: right;\">\n",
       "      <th></th>\n",
       "      <th>date</th>\n",
       "      <th>order_id</th>\n",
       "      <th>quantity</th>\n",
       "      <th>price</th>\n",
       "    </tr>\n",
       "  </thead>\n",
       "  <tbody>\n",
       "    <tr>\n",
       "      <th>count</th>\n",
       "      <td>6.737000e+03</td>\n",
       "      <td>6737.000000</td>\n",
       "      <td>6737.000000</td>\n",
       "      <td>6737.000000</td>\n",
       "    </tr>\n",
       "    <tr>\n",
       "      <th>mean</th>\n",
       "      <td>2.018855e+09</td>\n",
       "      <td>43128.948345</td>\n",
       "      <td>2.501559</td>\n",
       "      <td>462.028499</td>\n",
       "    </tr>\n",
       "    <tr>\n",
       "      <th>std</th>\n",
       "      <td>3.855185e+05</td>\n",
       "      <td>27899.414662</td>\n",
       "      <td>15.266478</td>\n",
       "      <td>871.296064</td>\n",
       "    </tr>\n",
       "    <tr>\n",
       "      <th>min</th>\n",
       "      <td>2.018100e+09</td>\n",
       "      <td>12624.000000</td>\n",
       "      <td>1.000000</td>\n",
       "      <td>9.000000</td>\n",
       "    </tr>\n",
       "    <tr>\n",
       "      <th>25%</th>\n",
       "      <td>2.019020e+09</td>\n",
       "      <td>14827.000000</td>\n",
       "      <td>1.000000</td>\n",
       "      <td>101.000000</td>\n",
       "    </tr>\n",
       "    <tr>\n",
       "      <th>50%</th>\n",
       "      <td>2.019050e+09</td>\n",
       "      <td>68503.000000</td>\n",
       "      <td>1.000000</td>\n",
       "      <td>135.000000</td>\n",
       "    </tr>\n",
       "    <tr>\n",
       "      <th>75%</th>\n",
       "      <td>2.019061e+09</td>\n",
       "      <td>70504.000000</td>\n",
       "      <td>1.000000</td>\n",
       "      <td>398.000000</td>\n",
       "    </tr>\n",
       "    <tr>\n",
       "      <th>max</th>\n",
       "      <td>2.019103e+09</td>\n",
       "      <td>73164.000000</td>\n",
       "      <td>1000.000000</td>\n",
       "      <td>14917.000000</td>\n",
       "    </tr>\n",
       "  </tbody>\n",
       "</table>\n",
       "</div>"
      ],
      "text/plain": [
       "               date      order_id     quantity         price\n",
       "count  6.737000e+03   6737.000000  6737.000000   6737.000000\n",
       "mean   2.018855e+09  43128.948345     2.501559    462.028499\n",
       "std    3.855185e+05  27899.414662    15.266478    871.296064\n",
       "min    2.018100e+09  12624.000000     1.000000      9.000000\n",
       "25%    2.019020e+09  14827.000000     1.000000    101.000000\n",
       "50%    2.019050e+09  68503.000000     1.000000    135.000000\n",
       "75%    2.019061e+09  70504.000000     1.000000    398.000000\n",
       "max    2.019103e+09  73164.000000  1000.000000  14917.000000"
      ]
     },
     "execution_count": 4,
     "metadata": {},
     "output_type": "execute_result"
    }
   ],
   "source": [
    "data.describe()"
   ]
  },
  {
   "cell_type": "code",
   "execution_count": 5,
   "metadata": {},
   "outputs": [
    {
     "data": {
      "text/plain": [
       "array(['Комнатное растение в горшке Алое Вера, d12, h30',\n",
       "       'Комнатное растение в горшке Кофе Арабика, d12, h25',\n",
       "       'Радермахера d-12 см h-20 см', ...,\n",
       "       'Сушилка для белья на ванну FREUDENBERG (GIMI) Alablock Varadero silver A4P',\n",
       "       'Каланхое каландива малиновое d-7 см', 'Литопс Микс d-5 см'],\n",
       "      dtype=object)"
      ]
     },
     "execution_count": 5,
     "metadata": {},
     "output_type": "execute_result"
    }
   ],
   "source": [
    "data['product'].unique()"
   ]
  },
  {
   "cell_type": "markdown",
   "metadata": {},
   "source": [
    "Посмотрим сколько наименований товаров."
   ]
  },
  {
   "cell_type": "code",
   "execution_count": 6,
   "metadata": {},
   "outputs": [
    {
     "data": {
      "text/plain": [
       "2343"
      ]
     },
     "execution_count": 6,
     "metadata": {},
     "output_type": "execute_result"
    }
   ],
   "source": [
    "data['product'].nunique()"
   ]
  },
  {
   "cell_type": "code",
   "execution_count": 7,
   "metadata": {},
   "outputs": [
    {
     "data": {
      "text/plain": [
       "Рассада Кабачка сорт Зебра кассета 6 шт E6                                   79\n",
       "Рассада Кабачка сорт Золотинка кассета 6 шт E6                               78\n",
       "Рассада Кабачка сорт Белогор кассета 6 шт E6                                 77\n",
       "Рассада Кабачка сорт Аэронавт, кассета по 6шт                                76\n",
       "Рассада Огурец Фараон ячейки по 6 шт Е6                                      76\n",
       "                                                                             ..\n",
       "Коробка INFINITY CURVER перфорированная с крышкой 17 л белая 04742-N23-00     1\n",
       "Лестница-стремянка Dogrular Ufuk оцинкованная 4-х ступенчатая                 1\n",
       "Тарелка обеденная ГРИН ОД 25 см G0707 Luminarc                                1\n",
       "Tepмокружка AVEX Freeflow 700 мл сталь AVEX0776                               1\n",
       "Цветок искусственный Мак 45 см пластик                                        1\n",
       "Name: product, Length: 2343, dtype: int64"
      ]
     },
     "execution_count": 7,
     "metadata": {},
     "output_type": "execute_result"
    }
   ],
   "source": [
    "data['product'].value_counts()"
   ]
  },
  {
   "cell_type": "code",
   "execution_count": 8,
   "metadata": {},
   "outputs": [
    {
     "data": {
      "text/plain": [
       "14833    888\n",
       "14835    203\n",
       "14753     90\n",
       "14897     63\n",
       "70960     60\n",
       "        ... \n",
       "70683      1\n",
       "68636      1\n",
       "72734      1\n",
       "68640      1\n",
       "71898      1\n",
       "Name: order_id, Length: 2784, dtype: int64"
      ]
     },
     "execution_count": 8,
     "metadata": {},
     "output_type": "execute_result"
    }
   ],
   "source": [
    "data['order_id'].value_counts()"
   ]
  },
  {
   "cell_type": "markdown",
   "metadata": {},
   "source": [
    "## Предобработка данных"
   ]
  },
  {
   "cell_type": "markdown",
   "metadata": {},
   "source": [
    "### Изменение типа данных в столбце даты"
   ]
  },
  {
   "cell_type": "code",
   "execution_count": 9,
   "metadata": {},
   "outputs": [],
   "source": [
    "data['date']= pd.to_datetime(data['date'],format='%Y%m%d%H')"
   ]
  },
  {
   "cell_type": "code",
   "execution_count": 10,
   "metadata": {},
   "outputs": [
    {
     "data": {
      "text/html": [
       "<div>\n",
       "<style scoped>\n",
       "    .dataframe tbody tr th:only-of-type {\n",
       "        vertical-align: middle;\n",
       "    }\n",
       "\n",
       "    .dataframe tbody tr th {\n",
       "        vertical-align: top;\n",
       "    }\n",
       "\n",
       "    .dataframe thead th {\n",
       "        text-align: right;\n",
       "    }\n",
       "</style>\n",
       "<table border=\"1\" class=\"dataframe\">\n",
       "  <thead>\n",
       "    <tr style=\"text-align: right;\">\n",
       "      <th></th>\n",
       "      <th>date</th>\n",
       "      <th>customer_id</th>\n",
       "      <th>order_id</th>\n",
       "      <th>product</th>\n",
       "      <th>quantity</th>\n",
       "      <th>price</th>\n",
       "    </tr>\n",
       "  </thead>\n",
       "  <tbody>\n",
       "    <tr>\n",
       "      <th>0</th>\n",
       "      <td>2018-10-01</td>\n",
       "      <td>ee47d746-6d2f-4d3c-9622-c31412542920</td>\n",
       "      <td>68477</td>\n",
       "      <td>Комнатное растение в горшке Алое Вера, d12, h30</td>\n",
       "      <td>1</td>\n",
       "      <td>142.0</td>\n",
       "    </tr>\n",
       "    <tr>\n",
       "      <th>1</th>\n",
       "      <td>2018-10-01</td>\n",
       "      <td>ee47d746-6d2f-4d3c-9622-c31412542920</td>\n",
       "      <td>68477</td>\n",
       "      <td>Комнатное растение в горшке Кофе Арабика, d12,...</td>\n",
       "      <td>1</td>\n",
       "      <td>194.0</td>\n",
       "    </tr>\n",
       "    <tr>\n",
       "      <th>2</th>\n",
       "      <td>2018-10-01</td>\n",
       "      <td>ee47d746-6d2f-4d3c-9622-c31412542920</td>\n",
       "      <td>68477</td>\n",
       "      <td>Радермахера d-12 см h-20 см</td>\n",
       "      <td>1</td>\n",
       "      <td>112.0</td>\n",
       "    </tr>\n",
       "    <tr>\n",
       "      <th>3</th>\n",
       "      <td>2018-10-01</td>\n",
       "      <td>ee47d746-6d2f-4d3c-9622-c31412542920</td>\n",
       "      <td>68477</td>\n",
       "      <td>Хризолидокарпус Лутесценс d-9 см</td>\n",
       "      <td>1</td>\n",
       "      <td>179.0</td>\n",
       "    </tr>\n",
       "    <tr>\n",
       "      <th>4</th>\n",
       "      <td>2018-10-01</td>\n",
       "      <td>ee47d746-6d2f-4d3c-9622-c31412542920</td>\n",
       "      <td>68477</td>\n",
       "      <td>Циперус Зумула d-12 см h-25 см</td>\n",
       "      <td>1</td>\n",
       "      <td>112.0</td>\n",
       "    </tr>\n",
       "  </tbody>\n",
       "</table>\n",
       "</div>"
      ],
      "text/plain": [
       "        date                           customer_id  order_id  \\\n",
       "0 2018-10-01  ee47d746-6d2f-4d3c-9622-c31412542920     68477   \n",
       "1 2018-10-01  ee47d746-6d2f-4d3c-9622-c31412542920     68477   \n",
       "2 2018-10-01  ee47d746-6d2f-4d3c-9622-c31412542920     68477   \n",
       "3 2018-10-01  ee47d746-6d2f-4d3c-9622-c31412542920     68477   \n",
       "4 2018-10-01  ee47d746-6d2f-4d3c-9622-c31412542920     68477   \n",
       "\n",
       "                                             product  quantity  price  \n",
       "0    Комнатное растение в горшке Алое Вера, d12, h30         1  142.0  \n",
       "1  Комнатное растение в горшке Кофе Арабика, d12,...         1  194.0  \n",
       "2                        Радермахера d-12 см h-20 см         1  112.0  \n",
       "3                   Хризолидокарпус Лутесценс d-9 см         1  179.0  \n",
       "4                     Циперус Зумула d-12 см h-25 см         1  112.0  "
      ]
     },
     "execution_count": 10,
     "metadata": {},
     "output_type": "execute_result"
    }
   ],
   "source": [
    "data.head()"
   ]
  },
  {
   "cell_type": "code",
   "execution_count": 11,
   "metadata": {},
   "outputs": [
    {
     "data": {
      "text/plain": [
       "Timestamp('2019-10-31 16:00:00')"
      ]
     },
     "execution_count": 11,
     "metadata": {},
     "output_type": "execute_result"
    }
   ],
   "source": [
    "data['date'].max()"
   ]
  },
  {
   "cell_type": "code",
   "execution_count": 12,
   "metadata": {},
   "outputs": [
    {
     "data": {
      "text/plain": [
       "Timestamp('2018-10-01 00:00:00')"
      ]
     },
     "execution_count": 12,
     "metadata": {},
     "output_type": "execute_result"
    }
   ],
   "source": [
    "data['date'].min()"
   ]
  },
  {
   "cell_type": "markdown",
   "metadata": {},
   "source": [
    "### Проверка данных на пропуски, дубликаты"
   ]
  },
  {
   "cell_type": "markdown",
   "metadata": {},
   "source": [
    "Проверим на наличие пропусков."
   ]
  },
  {
   "cell_type": "code",
   "execution_count": 13,
   "metadata": {},
   "outputs": [
    {
     "data": {
      "text/plain": [
       "date           0\n",
       "customer_id    0\n",
       "order_id       0\n",
       "product        0\n",
       "quantity       0\n",
       "price          0\n",
       "dtype: int64"
      ]
     },
     "execution_count": 13,
     "metadata": {},
     "output_type": "execute_result"
    }
   ],
   "source": [
    "data.isna().sum()"
   ]
  },
  {
   "cell_type": "markdown",
   "metadata": {},
   "source": [
    "Проверим на наличие явных дубликатов."
   ]
  },
  {
   "cell_type": "code",
   "execution_count": 14,
   "metadata": {},
   "outputs": [
    {
     "data": {
      "text/plain": [
       "0"
      ]
     },
     "execution_count": 14,
     "metadata": {},
     "output_type": "execute_result"
    }
   ],
   "source": [
    "data.duplicated().sum()"
   ]
  },
  {
   "cell_type": "markdown",
   "metadata": {},
   "source": [
    "Проверим на наличие неявных дубликатов."
   ]
  },
  {
   "cell_type": "code",
   "execution_count": 15,
   "metadata": {},
   "outputs": [
    {
     "data": {
      "text/plain": [
       "1886"
      ]
     },
     "execution_count": 15,
     "metadata": {},
     "output_type": "execute_result"
    }
   ],
   "source": [
    "data[['customer_id', 'order_id', 'product']].duplicated().sum()"
   ]
  },
  {
   "cell_type": "code",
   "execution_count": 16,
   "metadata": {},
   "outputs": [
    {
     "data": {
      "text/html": [
       "<div>\n",
       "<style scoped>\n",
       "    .dataframe tbody tr th:only-of-type {\n",
       "        vertical-align: middle;\n",
       "    }\n",
       "\n",
       "    .dataframe tbody tr th {\n",
       "        vertical-align: top;\n",
       "    }\n",
       "\n",
       "    .dataframe thead th {\n",
       "        text-align: right;\n",
       "    }\n",
       "</style>\n",
       "<table border=\"1\" class=\"dataframe\">\n",
       "  <thead>\n",
       "    <tr style=\"text-align: right;\">\n",
       "      <th></th>\n",
       "      <th>date</th>\n",
       "    </tr>\n",
       "    <tr>\n",
       "      <th>order_id</th>\n",
       "      <th></th>\n",
       "    </tr>\n",
       "  </thead>\n",
       "  <tbody>\n",
       "    <tr>\n",
       "      <th>14833</th>\n",
       "      <td>74</td>\n",
       "    </tr>\n",
       "    <tr>\n",
       "      <th>70960</th>\n",
       "      <td>60</td>\n",
       "    </tr>\n",
       "    <tr>\n",
       "      <th>69162</th>\n",
       "      <td>23</td>\n",
       "    </tr>\n",
       "    <tr>\n",
       "      <th>71148</th>\n",
       "      <td>16</td>\n",
       "    </tr>\n",
       "    <tr>\n",
       "      <th>69531</th>\n",
       "      <td>12</td>\n",
       "    </tr>\n",
       "    <tr>\n",
       "      <th>...</th>\n",
       "      <td>...</td>\n",
       "    </tr>\n",
       "    <tr>\n",
       "      <th>69608</th>\n",
       "      <td>1</td>\n",
       "    </tr>\n",
       "    <tr>\n",
       "      <th>69611</th>\n",
       "      <td>1</td>\n",
       "    </tr>\n",
       "    <tr>\n",
       "      <th>69612</th>\n",
       "      <td>1</td>\n",
       "    </tr>\n",
       "    <tr>\n",
       "      <th>69614</th>\n",
       "      <td>1</td>\n",
       "    </tr>\n",
       "    <tr>\n",
       "      <th>73164</th>\n",
       "      <td>1</td>\n",
       "    </tr>\n",
       "  </tbody>\n",
       "</table>\n",
       "<p>2784 rows × 1 columns</p>\n",
       "</div>"
      ],
      "text/plain": [
       "          date\n",
       "order_id      \n",
       "14833       74\n",
       "70960       60\n",
       "69162       23\n",
       "71148       16\n",
       "69531       12\n",
       "...        ...\n",
       "69608        1\n",
       "69611        1\n",
       "69612        1\n",
       "69614        1\n",
       "73164        1\n",
       "\n",
       "[2784 rows x 1 columns]"
      ]
     },
     "execution_count": 16,
     "metadata": {},
     "output_type": "execute_result"
    }
   ],
   "source": [
    "\n",
    "dubl_df=data.groupby('order_id').agg({'date':'nunique'}).sort_values (by='date', ascending=False)\n",
    "dubl_df"
   ]
  },
  {
   "cell_type": "code",
   "execution_count": 17,
   "metadata": {},
   "outputs": [
    {
     "data": {
      "text/html": [
       "<div>\n",
       "<style scoped>\n",
       "    .dataframe tbody tr th:only-of-type {\n",
       "        vertical-align: middle;\n",
       "    }\n",
       "\n",
       "    .dataframe tbody tr th {\n",
       "        vertical-align: top;\n",
       "    }\n",
       "\n",
       "    .dataframe thead th {\n",
       "        text-align: right;\n",
       "    }\n",
       "</style>\n",
       "<table border=\"1\" class=\"dataframe\">\n",
       "  <thead>\n",
       "    <tr style=\"text-align: right;\">\n",
       "      <th></th>\n",
       "      <th>date</th>\n",
       "      <th>customer_id</th>\n",
       "      <th>order_id</th>\n",
       "      <th>product</th>\n",
       "      <th>quantity</th>\n",
       "      <th>price</th>\n",
       "    </tr>\n",
       "  </thead>\n",
       "  <tbody>\n",
       "    <tr>\n",
       "      <th>5544</th>\n",
       "      <td>2019-06-22 06:00:00</td>\n",
       "      <td>1d6c8c1f-a799-4418-9af2-1ded47d7a85c</td>\n",
       "      <td>14833</td>\n",
       "      <td>Тагетис крупноцветковый рассада однолетних цве...</td>\n",
       "      <td>1</td>\n",
       "      <td>210.0</td>\n",
       "    </tr>\n",
       "    <tr>\n",
       "      <th>5046</th>\n",
       "      <td>2019-06-10 20:00:00</td>\n",
       "      <td>1d6c8c1f-a799-4418-9af2-1ded47d7a85c</td>\n",
       "      <td>14833</td>\n",
       "      <td>Тагетис крупноцветковый рассада однолетних цве...</td>\n",
       "      <td>1</td>\n",
       "      <td>210.0</td>\n",
       "    </tr>\n",
       "    <tr>\n",
       "      <th>5291</th>\n",
       "      <td>2019-06-14 09:00:00</td>\n",
       "      <td>1d6c8c1f-a799-4418-9af2-1ded47d7a85c</td>\n",
       "      <td>14833</td>\n",
       "      <td>Тагетис крупноцветковый рассада однолетних цве...</td>\n",
       "      <td>1</td>\n",
       "      <td>210.0</td>\n",
       "    </tr>\n",
       "    <tr>\n",
       "      <th>4326</th>\n",
       "      <td>2019-06-02 16:00:00</td>\n",
       "      <td>1d6c8c1f-a799-4418-9af2-1ded47d7a85c</td>\n",
       "      <td>14833</td>\n",
       "      <td>Тагетис крупноцветковый рассада однолетних цве...</td>\n",
       "      <td>1</td>\n",
       "      <td>210.0</td>\n",
       "    </tr>\n",
       "    <tr>\n",
       "      <th>4672</th>\n",
       "      <td>2019-06-05 22:00:00</td>\n",
       "      <td>1d6c8c1f-a799-4418-9af2-1ded47d7a85c</td>\n",
       "      <td>14833</td>\n",
       "      <td>Тагетис крупноцветковый рассада однолетних цве...</td>\n",
       "      <td>1</td>\n",
       "      <td>210.0</td>\n",
       "    </tr>\n",
       "    <tr>\n",
       "      <th>...</th>\n",
       "      <td>...</td>\n",
       "      <td>...</td>\n",
       "      <td>...</td>\n",
       "      <td>...</td>\n",
       "      <td>...</td>\n",
       "      <td>...</td>\n",
       "    </tr>\n",
       "    <tr>\n",
       "      <th>5022</th>\n",
       "      <td>2019-06-10 15:00:00</td>\n",
       "      <td>1d6c8c1f-a799-4418-9af2-1ded47d7a85c</td>\n",
       "      <td>14833</td>\n",
       "      <td>Рассада Кабачка сорт Аэронавт, кассета по 6шт</td>\n",
       "      <td>1</td>\n",
       "      <td>120.0</td>\n",
       "    </tr>\n",
       "    <tr>\n",
       "      <th>5006</th>\n",
       "      <td>2019-06-10 10:00:00</td>\n",
       "      <td>1d6c8c1f-a799-4418-9af2-1ded47d7a85c</td>\n",
       "      <td>14833</td>\n",
       "      <td>Рассада Кабачка сорт Аэронавт, кассета по 6шт</td>\n",
       "      <td>1</td>\n",
       "      <td>120.0</td>\n",
       "    </tr>\n",
       "    <tr>\n",
       "      <th>4993</th>\n",
       "      <td>2019-06-10 09:00:00</td>\n",
       "      <td>1d6c8c1f-a799-4418-9af2-1ded47d7a85c</td>\n",
       "      <td>14833</td>\n",
       "      <td>Рассада Кабачка сорт Аэронавт, кассета по 6шт</td>\n",
       "      <td>1</td>\n",
       "      <td>120.0</td>\n",
       "    </tr>\n",
       "    <tr>\n",
       "      <th>4968</th>\n",
       "      <td>2019-06-10 07:00:00</td>\n",
       "      <td>1d6c8c1f-a799-4418-9af2-1ded47d7a85c</td>\n",
       "      <td>14833</td>\n",
       "      <td>Рассада Кабачка сорт Аэронавт, кассета по 6шт</td>\n",
       "      <td>1</td>\n",
       "      <td>120.0</td>\n",
       "    </tr>\n",
       "    <tr>\n",
       "      <th>4980</th>\n",
       "      <td>2019-06-10 08:00:00</td>\n",
       "      <td>1d6c8c1f-a799-4418-9af2-1ded47d7a85c</td>\n",
       "      <td>14833</td>\n",
       "      <td>Рассада Кабачка сорт Аэронавт, кассета по 6шт</td>\n",
       "      <td>1</td>\n",
       "      <td>120.0</td>\n",
       "    </tr>\n",
       "  </tbody>\n",
       "</table>\n",
       "<p>888 rows × 6 columns</p>\n",
       "</div>"
      ],
      "text/plain": [
       "                    date                           customer_id  order_id  \\\n",
       "5544 2019-06-22 06:00:00  1d6c8c1f-a799-4418-9af2-1ded47d7a85c     14833   \n",
       "5046 2019-06-10 20:00:00  1d6c8c1f-a799-4418-9af2-1ded47d7a85c     14833   \n",
       "5291 2019-06-14 09:00:00  1d6c8c1f-a799-4418-9af2-1ded47d7a85c     14833   \n",
       "4326 2019-06-02 16:00:00  1d6c8c1f-a799-4418-9af2-1ded47d7a85c     14833   \n",
       "4672 2019-06-05 22:00:00  1d6c8c1f-a799-4418-9af2-1ded47d7a85c     14833   \n",
       "...                  ...                                   ...       ...   \n",
       "5022 2019-06-10 15:00:00  1d6c8c1f-a799-4418-9af2-1ded47d7a85c     14833   \n",
       "5006 2019-06-10 10:00:00  1d6c8c1f-a799-4418-9af2-1ded47d7a85c     14833   \n",
       "4993 2019-06-10 09:00:00  1d6c8c1f-a799-4418-9af2-1ded47d7a85c     14833   \n",
       "4968 2019-06-10 07:00:00  1d6c8c1f-a799-4418-9af2-1ded47d7a85c     14833   \n",
       "4980 2019-06-10 08:00:00  1d6c8c1f-a799-4418-9af2-1ded47d7a85c     14833   \n",
       "\n",
       "                                                product  quantity  price  \n",
       "5544  Тагетис крупноцветковый рассада однолетних цве...         1  210.0  \n",
       "5046  Тагетис крупноцветковый рассада однолетних цве...         1  210.0  \n",
       "5291  Тагетис крупноцветковый рассада однолетних цве...         1  210.0  \n",
       "4326  Тагетис крупноцветковый рассада однолетних цве...         1  210.0  \n",
       "4672  Тагетис крупноцветковый рассада однолетних цве...         1  210.0  \n",
       "...                                                 ...       ...    ...  \n",
       "5022      Рассада Кабачка сорт Аэронавт, кассета по 6шт         1  120.0  \n",
       "5006      Рассада Кабачка сорт Аэронавт, кассета по 6шт         1  120.0  \n",
       "4993      Рассада Кабачка сорт Аэронавт, кассета по 6шт         1  120.0  \n",
       "4968      Рассада Кабачка сорт Аэронавт, кассета по 6шт         1  120.0  \n",
       "4980      Рассада Кабачка сорт Аэронавт, кассета по 6шт         1  120.0  \n",
       "\n",
       "[888 rows x 6 columns]"
      ]
     },
     "execution_count": 17,
     "metadata": {},
     "output_type": "execute_result"
    }
   ],
   "source": [
    "\n",
    "data.loc[data['order_id']==14833].sort_values (by='product', ascending=False)"
   ]
  },
  {
   "cell_type": "markdown",
   "metadata": {},
   "source": [
    "Посмотрим, что за дубликаты подробнее."
   ]
  },
  {
   "cell_type": "code",
   "execution_count": 18,
   "metadata": {},
   "outputs": [],
   "source": [
    "data = (data[data[['customer_id', 'order_id', 'product']].duplicated(keep='last') != True])"
   ]
  },
  {
   "cell_type": "markdown",
   "metadata": {},
   "source": [
    "### Проверка данных на аномалии, удаление выбросов"
   ]
  },
  {
   "cell_type": "markdown",
   "metadata": {},
   "source": [
    "Построим боксплот и проверим есть ли в данных аномалии."
   ]
  },
  {
   "cell_type": "code",
   "execution_count": 19,
   "metadata": {},
   "outputs": [
    {
     "data": {
      "image/png": "[encoded data removed]",
      "text/plain": [
       "<Figure size 720x432 with 1 Axes>"
      ]
     },
     "metadata": {
      "needs_background": "light"
     },
     "output_type": "display_data"
    }
   ],
   "source": [
    "plt.figure(figsize=(10, 6))\n",
    "data.boxplot('quantity')\n",
    "plt.show;"
   ]
  },
  {
   "cell_type": "markdown",
   "metadata": {},
   "source": [
    "Из графика видно,что количество товаров больше 100 - это выбросы, которые нас не интересуют и их можно удалить из анализа."
   ]
  },
  {
   "cell_type": "markdown",
   "metadata": {},
   "source": [
    "Также можно посмотреть распределение на гистограмме."
   ]
  },
  {
   "cell_type": "code",
   "execution_count": 20,
   "metadata": {},
   "outputs": [
    {
     "data": {
      "image/png": "[encoded data removed]",
      "text/plain": [
       "<Figure size 720x432 with 1 Axes>"
      ]
     },
     "metadata": {
      "needs_background": "light"
     },
     "output_type": "display_data"
    }
   ],
   "source": [
    "plt.figure(figsize=(10, 6))\n",
    "sns.histplot(data['quantity'])\n",
    "plt.show;"
   ]
  },
  {
   "cell_type": "code",
   "execution_count": 21,
   "metadata": {},
   "outputs": [
    {
     "data": {
      "text/plain": [
       "9"
      ]
     },
     "execution_count": 21,
     "metadata": {},
     "output_type": "execute_result"
    }
   ],
   "source": [
    "len(data[data['quantity']>100])"
   ]
  },
  {
   "cell_type": "code",
   "execution_count": 22,
   "metadata": {},
   "outputs": [
    {
     "name": "stdout",
     "output_type": "stream",
     "text": [
      "Доля выбросов  по столбцу quantity равно 0.1855287569573284\n"
     ]
    }
   ],
   "source": [
    "print('Доля выбросов  по столбцу quantity равно',(9/len(data))*100)"
   ]
  },
  {
   "cell_type": "markdown",
   "metadata": {},
   "source": [
    "Доля выбросов незначительна, значит можно удалить из анализа данных."
   ]
  },
  {
   "cell_type": "code",
   "execution_count": 23,
   "metadata": {},
   "outputs": [],
   "source": [
    " data=data[data['quantity']<100]\n",
    "data.to_csv('data.csv', index=False)   "
   ]
  },
  {
   "cell_type": "markdown",
   "metadata": {},
   "source": [
    "## Исследовательский анализ данных"
   ]
  },
  {
   "cell_type": "markdown",
   "metadata": {},
   "source": [
    "Добавим в таблицу столбец выручки и день недели месяц."
   ]
  },
  {
   "cell_type": "code",
   "execution_count": 24,
   "metadata": {},
   "outputs": [
    {
     "data": {
      "text/html": [
       "<div>\n",
       "<style scoped>\n",
       "    .dataframe tbody tr th:only-of-type {\n",
       "        vertical-align: middle;\n",
       "    }\n",
       "\n",
       "    .dataframe tbody tr th {\n",
       "        vertical-align: top;\n",
       "    }\n",
       "\n",
       "    .dataframe thead th {\n",
       "        text-align: right;\n",
       "    }\n",
       "</style>\n",
       "<table border=\"1\" class=\"dataframe\">\n",
       "  <thead>\n",
       "    <tr style=\"text-align: right;\">\n",
       "      <th></th>\n",
       "      <th>date</th>\n",
       "      <th>customer_id</th>\n",
       "      <th>order_id</th>\n",
       "      <th>product</th>\n",
       "      <th>quantity</th>\n",
       "      <th>price</th>\n",
       "      <th>revenue</th>\n",
       "      <th>day week</th>\n",
       "      <th>month</th>\n",
       "    </tr>\n",
       "  </thead>\n",
       "  <tbody>\n",
       "    <tr>\n",
       "      <th>0</th>\n",
       "      <td>2018-10-01</td>\n",
       "      <td>ee47d746-6d2f-4d3c-9622-c31412542920</td>\n",
       "      <td>68477</td>\n",
       "      <td>Комнатное растение в горшке Алое Вера, d12, h30</td>\n",
       "      <td>1</td>\n",
       "      <td>142.0</td>\n",
       "      <td>142.0</td>\n",
       "      <td>0</td>\n",
       "      <td>10</td>\n",
       "    </tr>\n",
       "    <tr>\n",
       "      <th>1</th>\n",
       "      <td>2018-10-01</td>\n",
       "      <td>ee47d746-6d2f-4d3c-9622-c31412542920</td>\n",
       "      <td>68477</td>\n",
       "      <td>Комнатное растение в горшке Кофе Арабика, d12,...</td>\n",
       "      <td>1</td>\n",
       "      <td>194.0</td>\n",
       "      <td>194.0</td>\n",
       "      <td>0</td>\n",
       "      <td>10</td>\n",
       "    </tr>\n",
       "    <tr>\n",
       "      <th>2</th>\n",
       "      <td>2018-10-01</td>\n",
       "      <td>ee47d746-6d2f-4d3c-9622-c31412542920</td>\n",
       "      <td>68477</td>\n",
       "      <td>Радермахера d-12 см h-20 см</td>\n",
       "      <td>1</td>\n",
       "      <td>112.0</td>\n",
       "      <td>112.0</td>\n",
       "      <td>0</td>\n",
       "      <td>10</td>\n",
       "    </tr>\n",
       "    <tr>\n",
       "      <th>3</th>\n",
       "      <td>2018-10-01</td>\n",
       "      <td>ee47d746-6d2f-4d3c-9622-c31412542920</td>\n",
       "      <td>68477</td>\n",
       "      <td>Хризолидокарпус Лутесценс d-9 см</td>\n",
       "      <td>1</td>\n",
       "      <td>179.0</td>\n",
       "      <td>179.0</td>\n",
       "      <td>0</td>\n",
       "      <td>10</td>\n",
       "    </tr>\n",
       "    <tr>\n",
       "      <th>4</th>\n",
       "      <td>2018-10-01</td>\n",
       "      <td>ee47d746-6d2f-4d3c-9622-c31412542920</td>\n",
       "      <td>68477</td>\n",
       "      <td>Циперус Зумула d-12 см h-25 см</td>\n",
       "      <td>1</td>\n",
       "      <td>112.0</td>\n",
       "      <td>112.0</td>\n",
       "      <td>0</td>\n",
       "      <td>10</td>\n",
       "    </tr>\n",
       "  </tbody>\n",
       "</table>\n",
       "</div>"
      ],
      "text/plain": [
       "        date                           customer_id  order_id  \\\n",
       "0 2018-10-01  ee47d746-6d2f-4d3c-9622-c31412542920     68477   \n",
       "1 2018-10-01  ee47d746-6d2f-4d3c-9622-c31412542920     68477   \n",
       "2 2018-10-01  ee47d746-6d2f-4d3c-9622-c31412542920     68477   \n",
       "3 2018-10-01  ee47d746-6d2f-4d3c-9622-c31412542920     68477   \n",
       "4 2018-10-01  ee47d746-6d2f-4d3c-9622-c31412542920     68477   \n",
       "\n",
       "                                             product  quantity  price  \\\n",
       "0    Комнатное растение в горшке Алое Вера, d12, h30         1  142.0   \n",
       "1  Комнатное растение в горшке Кофе Арабика, d12,...         1  194.0   \n",
       "2                        Радермахера d-12 см h-20 см         1  112.0   \n",
       "3                   Хризолидокарпус Лутесценс d-9 см         1  179.0   \n",
       "4                     Циперус Зумула d-12 см h-25 см         1  112.0   \n",
       "\n",
       "   revenue  day week  month  \n",
       "0    142.0         0     10  \n",
       "1    194.0         0     10  \n",
       "2    112.0         0     10  \n",
       "3    179.0         0     10  \n",
       "4    112.0         0     10  "
      ]
     },
     "execution_count": 24,
     "metadata": {},
     "output_type": "execute_result"
    }
   ],
   "source": [
    "data['revenue']= data['quantity']*data['price']\n",
    "data['day week']= pd.DatetimeIndex(data['date']).weekday\n",
    "data['month']= pd.DatetimeIndex(data['date']).month\n",
    "data.head()"
   ]
  },
  {
   "cell_type": "markdown",
   "metadata": {},
   "source": [
    "Посмотрим теперь некоторые уникальные значение наименования товара."
   ]
  },
  {
   "cell_type": "code",
   "execution_count": 25,
   "metadata": {},
   "outputs": [
    {
     "data": {
      "text/plain": [
       "array(['Комнатное растение в горшке Алое Вера, d12, h30',\n",
       "       'Комнатное растение в горшке Кофе Арабика, d12, h25',\n",
       "       'Радермахера d-12 см h-20 см', ...,\n",
       "       'Сушилка для белья на ванну FREUDENBERG (GIMI) Alablock Varadero silver A4P',\n",
       "       'Каланхое каландива малиновое d-7 см', 'Литопс Микс d-5 см'],\n",
       "      dtype=object)"
      ]
     },
     "execution_count": 25,
     "metadata": {},
     "output_type": "execute_result"
    }
   ],
   "source": [
    "data['product'].unique()"
   ]
  },
  {
   "cell_type": "markdown",
   "metadata": {},
   "source": [
    "Приведем название товара к нижнему регистру."
   ]
  },
  {
   "cell_type": "code",
   "execution_count": 26,
   "metadata": {},
   "outputs": [
    {
     "data": {
      "text/html": [
       "<div>\n",
       "<style scoped>\n",
       "    .dataframe tbody tr th:only-of-type {\n",
       "        vertical-align: middle;\n",
       "    }\n",
       "\n",
       "    .dataframe tbody tr th {\n",
       "        vertical-align: top;\n",
       "    }\n",
       "\n",
       "    .dataframe thead th {\n",
       "        text-align: right;\n",
       "    }\n",
       "</style>\n",
       "<table border=\"1\" class=\"dataframe\">\n",
       "  <thead>\n",
       "    <tr style=\"text-align: right;\">\n",
       "      <th></th>\n",
       "      <th>date</th>\n",
       "      <th>customer_id</th>\n",
       "      <th>order_id</th>\n",
       "      <th>product</th>\n",
       "      <th>quantity</th>\n",
       "      <th>price</th>\n",
       "      <th>revenue</th>\n",
       "      <th>day week</th>\n",
       "      <th>month</th>\n",
       "    </tr>\n",
       "  </thead>\n",
       "  <tbody>\n",
       "    <tr>\n",
       "      <th>0</th>\n",
       "      <td>2018-10-01</td>\n",
       "      <td>ee47d746-6d2f-4d3c-9622-c31412542920</td>\n",
       "      <td>68477</td>\n",
       "      <td>комнатное растение в горшке алое вера, d12, h30</td>\n",
       "      <td>1</td>\n",
       "      <td>142.0</td>\n",
       "      <td>142.0</td>\n",
       "      <td>0</td>\n",
       "      <td>10</td>\n",
       "    </tr>\n",
       "    <tr>\n",
       "      <th>1</th>\n",
       "      <td>2018-10-01</td>\n",
       "      <td>ee47d746-6d2f-4d3c-9622-c31412542920</td>\n",
       "      <td>68477</td>\n",
       "      <td>комнатное растение в горшке кофе арабика, d12,...</td>\n",
       "      <td>1</td>\n",
       "      <td>194.0</td>\n",
       "      <td>194.0</td>\n",
       "      <td>0</td>\n",
       "      <td>10</td>\n",
       "    </tr>\n",
       "    <tr>\n",
       "      <th>2</th>\n",
       "      <td>2018-10-01</td>\n",
       "      <td>ee47d746-6d2f-4d3c-9622-c31412542920</td>\n",
       "      <td>68477</td>\n",
       "      <td>радермахера d-12 см h-20 см</td>\n",
       "      <td>1</td>\n",
       "      <td>112.0</td>\n",
       "      <td>112.0</td>\n",
       "      <td>0</td>\n",
       "      <td>10</td>\n",
       "    </tr>\n",
       "    <tr>\n",
       "      <th>3</th>\n",
       "      <td>2018-10-01</td>\n",
       "      <td>ee47d746-6d2f-4d3c-9622-c31412542920</td>\n",
       "      <td>68477</td>\n",
       "      <td>хризолидокарпус лутесценс d-9 см</td>\n",
       "      <td>1</td>\n",
       "      <td>179.0</td>\n",
       "      <td>179.0</td>\n",
       "      <td>0</td>\n",
       "      <td>10</td>\n",
       "    </tr>\n",
       "    <tr>\n",
       "      <th>4</th>\n",
       "      <td>2018-10-01</td>\n",
       "      <td>ee47d746-6d2f-4d3c-9622-c31412542920</td>\n",
       "      <td>68477</td>\n",
       "      <td>циперус зумула d-12 см h-25 см</td>\n",
       "      <td>1</td>\n",
       "      <td>112.0</td>\n",
       "      <td>112.0</td>\n",
       "      <td>0</td>\n",
       "      <td>10</td>\n",
       "    </tr>\n",
       "  </tbody>\n",
       "</table>\n",
       "</div>"
      ],
      "text/plain": [
       "        date                           customer_id  order_id  \\\n",
       "0 2018-10-01  ee47d746-6d2f-4d3c-9622-c31412542920     68477   \n",
       "1 2018-10-01  ee47d746-6d2f-4d3c-9622-c31412542920     68477   \n",
       "2 2018-10-01  ee47d746-6d2f-4d3c-9622-c31412542920     68477   \n",
       "3 2018-10-01  ee47d746-6d2f-4d3c-9622-c31412542920     68477   \n",
       "4 2018-10-01  ee47d746-6d2f-4d3c-9622-c31412542920     68477   \n",
       "\n",
       "                                             product  quantity  price  \\\n",
       "0    комнатное растение в горшке алое вера, d12, h30         1  142.0   \n",
       "1  комнатное растение в горшке кофе арабика, d12,...         1  194.0   \n",
       "2                        радермахера d-12 см h-20 см         1  112.0   \n",
       "3                   хризолидокарпус лутесценс d-9 см         1  179.0   \n",
       "4                     циперус зумула d-12 см h-25 см         1  112.0   \n",
       "\n",
       "   revenue  day week  month  \n",
       "0    142.0         0     10  \n",
       "1    194.0         0     10  \n",
       "2    112.0         0     10  \n",
       "3    179.0         0     10  \n",
       "4    112.0         0     10  "
      ]
     },
     "execution_count": 26,
     "metadata": {},
     "output_type": "execute_result"
    }
   ],
   "source": [
    "pd.set_option('chained_assignment', None)\n",
    "data['product'] = data['product'].str.lower()\n",
    "data.head()\n",
    "\n"
   ]
  },
  {
   "cell_type": "markdown",
   "metadata": {},
   "source": [
    "Сократим название товара до первой запятой."
   ]
  },
  {
   "cell_type": "code",
   "execution_count": 27,
   "metadata": {},
   "outputs": [
    {
     "data": {
      "text/html": [
       "<div>\n",
       "<style scoped>\n",
       "    .dataframe tbody tr th:only-of-type {\n",
       "        vertical-align: middle;\n",
       "    }\n",
       "\n",
       "    .dataframe tbody tr th {\n",
       "        vertical-align: top;\n",
       "    }\n",
       "\n",
       "    .dataframe thead th {\n",
       "        text-align: right;\n",
       "    }\n",
       "</style>\n",
       "<table border=\"1\" class=\"dataframe\">\n",
       "  <thead>\n",
       "    <tr style=\"text-align: right;\">\n",
       "      <th></th>\n",
       "      <th>date</th>\n",
       "      <th>customer_id</th>\n",
       "      <th>order_id</th>\n",
       "      <th>product</th>\n",
       "      <th>quantity</th>\n",
       "      <th>price</th>\n",
       "      <th>revenue</th>\n",
       "      <th>day week</th>\n",
       "      <th>month</th>\n",
       "    </tr>\n",
       "  </thead>\n",
       "  <tbody>\n",
       "    <tr>\n",
       "      <th>0</th>\n",
       "      <td>2018-10-01</td>\n",
       "      <td>ee47d746-6d2f-4d3c-9622-c31412542920</td>\n",
       "      <td>68477</td>\n",
       "      <td>комнатное растение в горшке алое вера</td>\n",
       "      <td>1</td>\n",
       "      <td>142.0</td>\n",
       "      <td>142.0</td>\n",
       "      <td>0</td>\n",
       "      <td>10</td>\n",
       "    </tr>\n",
       "    <tr>\n",
       "      <th>1</th>\n",
       "      <td>2018-10-01</td>\n",
       "      <td>ee47d746-6d2f-4d3c-9622-c31412542920</td>\n",
       "      <td>68477</td>\n",
       "      <td>комнатное растение в горшке кофе арабика</td>\n",
       "      <td>1</td>\n",
       "      <td>194.0</td>\n",
       "      <td>194.0</td>\n",
       "      <td>0</td>\n",
       "      <td>10</td>\n",
       "    </tr>\n",
       "    <tr>\n",
       "      <th>2</th>\n",
       "      <td>2018-10-01</td>\n",
       "      <td>ee47d746-6d2f-4d3c-9622-c31412542920</td>\n",
       "      <td>68477</td>\n",
       "      <td>радермахера d-12 см h-20 см</td>\n",
       "      <td>1</td>\n",
       "      <td>112.0</td>\n",
       "      <td>112.0</td>\n",
       "      <td>0</td>\n",
       "      <td>10</td>\n",
       "    </tr>\n",
       "    <tr>\n",
       "      <th>3</th>\n",
       "      <td>2018-10-01</td>\n",
       "      <td>ee47d746-6d2f-4d3c-9622-c31412542920</td>\n",
       "      <td>68477</td>\n",
       "      <td>хризолидокарпус лутесценс d-9 см</td>\n",
       "      <td>1</td>\n",
       "      <td>179.0</td>\n",
       "      <td>179.0</td>\n",
       "      <td>0</td>\n",
       "      <td>10</td>\n",
       "    </tr>\n",
       "    <tr>\n",
       "      <th>4</th>\n",
       "      <td>2018-10-01</td>\n",
       "      <td>ee47d746-6d2f-4d3c-9622-c31412542920</td>\n",
       "      <td>68477</td>\n",
       "      <td>циперус зумула d-12 см h-25 см</td>\n",
       "      <td>1</td>\n",
       "      <td>112.0</td>\n",
       "      <td>112.0</td>\n",
       "      <td>0</td>\n",
       "      <td>10</td>\n",
       "    </tr>\n",
       "  </tbody>\n",
       "</table>\n",
       "</div>"
      ],
      "text/plain": [
       "        date                           customer_id  order_id  \\\n",
       "0 2018-10-01  ee47d746-6d2f-4d3c-9622-c31412542920     68477   \n",
       "1 2018-10-01  ee47d746-6d2f-4d3c-9622-c31412542920     68477   \n",
       "2 2018-10-01  ee47d746-6d2f-4d3c-9622-c31412542920     68477   \n",
       "3 2018-10-01  ee47d746-6d2f-4d3c-9622-c31412542920     68477   \n",
       "4 2018-10-01  ee47d746-6d2f-4d3c-9622-c31412542920     68477   \n",
       "\n",
       "                                    product  quantity  price  revenue  \\\n",
       "0     комнатное растение в горшке алое вера         1  142.0    142.0   \n",
       "1  комнатное растение в горшке кофе арабика         1  194.0    194.0   \n",
       "2               радермахера d-12 см h-20 см         1  112.0    112.0   \n",
       "3          хризолидокарпус лутесценс d-9 см         1  179.0    179.0   \n",
       "4            циперус зумула d-12 см h-25 см         1  112.0    112.0   \n",
       "\n",
       "   day week  month  \n",
       "0         0     10  \n",
       "1         0     10  \n",
       "2         0     10  \n",
       "3         0     10  \n",
       "4         0     10  "
      ]
     },
     "execution_count": 27,
     "metadata": {},
     "output_type": "execute_result"
    }
   ],
   "source": [
    "data['product'] = data['product'].str.split(\",\")\n",
    "data['product'] = data['product'].apply(lambda x: x[0]) \n",
    "data.head()"
   ]
  },
  {
   "cell_type": "markdown",
   "metadata": {},
   "source": [
    "Посчитаем количество строк в таблице data."
   ]
  },
  {
   "cell_type": "code",
   "execution_count": 28,
   "metadata": {},
   "outputs": [
    {
     "data": {
      "text/plain": [
       "4838"
      ]
     },
     "execution_count": 28,
     "metadata": {},
     "output_type": "execute_result"
    }
   ],
   "source": [
    "len(data)"
   ]
  },
  {
   "cell_type": "markdown",
   "metadata": {},
   "source": [
    "Составим словарь для определения категории товара."
   ]
  },
  {
   "cell_type": "code",
   "execution_count": 29,
   "metadata": {},
   "outputs": [],
   "source": [
    "dict_cat= {\n",
    "    'товары для кухни': ['кухн','блюдце','миска','ваза','кувшин','бидон','кастрюля','овощ','продукт', 'тарелка', 'нож', 'салатник', 'чайник', 'банка', 'салфетка', 'рыбочистка','пищ', 'термос',\n",
    "            'венчик','бульон','набор бокалов','вилка','сахарница','ложка','свч','выпечк', 'стакан','фужер','хлеб','варка','кружка','муляж','сковорода','блюдо','скатерть','соковыжималка','кондитер','набор фужеров','приборов','чай'],\n",
    "    'товары для ванной комнаты и уборки': ['доска','перчатки','вантуз','мусор','ведро','веник','гладильн', 'ванн', 'влаговпитывающий', 'туалета', 'таз', 'щетка','средство','сантех'\n",
    "             'мыл', 'коврик', 'нетканые салфетки', 'полотен', 'ткань универсальная', 'ёрш','дозатор','швабра','сушилка'],\n",
    "    'растения и семена':['календ','петрушка','патиссон','пиретрум',' виноград','хризолидокарпус','циперус зумула','аквилегия','дендробиум','мимоза','тыква','артемизия','земляника','гербера','валериана','азалия','антуриум','бегония','антуриум','фален', 'растен','пеларгония','рассада','капуста','лаванда','томат','зверобой','юкка','герань','космея','молодило','флокс','нивянник','крокус','цикламен',\n",
    "                         'эвкалипт','гортензия','радермахера','виола','вигна','цинния','огурец','аптения','калибрахоа','гвоздика','бадан','бархатцы','буддлея','хлорофитум','хризантема','адиантум','барвинок','роза','клубника','фиалка','комнатн','альбука','афеляндра','шеффлера','петуния','георгина','аспарагус','глоксиния','эхеверия','клен','фуксия','лантана','кипарисовик','вербена','кориандр','дыня','цитрофортунелла','папоротник','калла','бальзамин','горш','черенок','фатсия','астра','нефролепис','мелисса','ель','базилик','каланхое','арбуз','кабачок'],\n",
    "'товары для спальни':['комод','бель','простын','комплект','покрывало','плед','одеяло','халат','наволочка','наматрацник','наматрасник'],\n",
    "    'товары для прихожей':['обувница','этажерка','вешал','полки','придверн','обув','хранения','чехол'],\n",
    "    'аксесcуары для дома':['исскуст','декор','композ','кашпо','цветок','сумка-тележка','стремянка','насадка','тележка','сумка','термометр'],\n",
    "     'электротовары':['пылесос','электр','миксер','утюг','фен']}"
   ]
  },
  {
   "cell_type": "markdown",
   "metadata": {},
   "source": [
    "Составим функцию для определения категории товара."
   ]
  },
  {
   "cell_type": "code",
   "execution_count": 30,
   "metadata": {},
   "outputs": [],
   "source": [
    "def categories(goods):\n",
    "    for category, items in dict_cat.items():\n",
    "        for item in items:\n",
    "            if item in goods:\n",
    "                return category\n",
    "    return '1000 мелочей'\n",
    "\n",
    "data['product_category']= data['product'].apply(categories)"
   ]
  },
  {
   "cell_type": "code",
   "execution_count": 31,
   "metadata": {},
   "outputs": [
    {
     "data": {
      "text/html": [
       "<div>\n",
       "<style scoped>\n",
       "    .dataframe tbody tr th:only-of-type {\n",
       "        vertical-align: middle;\n",
       "    }\n",
       "\n",
       "    .dataframe tbody tr th {\n",
       "        vertical-align: top;\n",
       "    }\n",
       "\n",
       "    .dataframe thead th {\n",
       "        text-align: right;\n",
       "    }\n",
       "</style>\n",
       "<table border=\"1\" class=\"dataframe\">\n",
       "  <thead>\n",
       "    <tr style=\"text-align: right;\">\n",
       "      <th></th>\n",
       "      <th>date</th>\n",
       "      <th>customer_id</th>\n",
       "      <th>order_id</th>\n",
       "      <th>product</th>\n",
       "      <th>quantity</th>\n",
       "      <th>price</th>\n",
       "      <th>revenue</th>\n",
       "      <th>day week</th>\n",
       "      <th>month</th>\n",
       "      <th>product_category</th>\n",
       "    </tr>\n",
       "  </thead>\n",
       "  <tbody>\n",
       "    <tr>\n",
       "      <th>0</th>\n",
       "      <td>2018-10-01</td>\n",
       "      <td>ee47d746-6d2f-4d3c-9622-c31412542920</td>\n",
       "      <td>68477</td>\n",
       "      <td>комнатное растение в горшке алое вера</td>\n",
       "      <td>1</td>\n",
       "      <td>142.0</td>\n",
       "      <td>142.0</td>\n",
       "      <td>0</td>\n",
       "      <td>10</td>\n",
       "      <td>растения и семена</td>\n",
       "    </tr>\n",
       "    <tr>\n",
       "      <th>1</th>\n",
       "      <td>2018-10-01</td>\n",
       "      <td>ee47d746-6d2f-4d3c-9622-c31412542920</td>\n",
       "      <td>68477</td>\n",
       "      <td>комнатное растение в горшке кофе арабика</td>\n",
       "      <td>1</td>\n",
       "      <td>194.0</td>\n",
       "      <td>194.0</td>\n",
       "      <td>0</td>\n",
       "      <td>10</td>\n",
       "      <td>растения и семена</td>\n",
       "    </tr>\n",
       "    <tr>\n",
       "      <th>2</th>\n",
       "      <td>2018-10-01</td>\n",
       "      <td>ee47d746-6d2f-4d3c-9622-c31412542920</td>\n",
       "      <td>68477</td>\n",
       "      <td>радермахера d-12 см h-20 см</td>\n",
       "      <td>1</td>\n",
       "      <td>112.0</td>\n",
       "      <td>112.0</td>\n",
       "      <td>0</td>\n",
       "      <td>10</td>\n",
       "      <td>растения и семена</td>\n",
       "    </tr>\n",
       "    <tr>\n",
       "      <th>3</th>\n",
       "      <td>2018-10-01</td>\n",
       "      <td>ee47d746-6d2f-4d3c-9622-c31412542920</td>\n",
       "      <td>68477</td>\n",
       "      <td>хризолидокарпус лутесценс d-9 см</td>\n",
       "      <td>1</td>\n",
       "      <td>179.0</td>\n",
       "      <td>179.0</td>\n",
       "      <td>0</td>\n",
       "      <td>10</td>\n",
       "      <td>растения и семена</td>\n",
       "    </tr>\n",
       "    <tr>\n",
       "      <th>4</th>\n",
       "      <td>2018-10-01</td>\n",
       "      <td>ee47d746-6d2f-4d3c-9622-c31412542920</td>\n",
       "      <td>68477</td>\n",
       "      <td>циперус зумула d-12 см h-25 см</td>\n",
       "      <td>1</td>\n",
       "      <td>112.0</td>\n",
       "      <td>112.0</td>\n",
       "      <td>0</td>\n",
       "      <td>10</td>\n",
       "      <td>растения и семена</td>\n",
       "    </tr>\n",
       "  </tbody>\n",
       "</table>\n",
       "</div>"
      ],
      "text/plain": [
       "        date                           customer_id  order_id  \\\n",
       "0 2018-10-01  ee47d746-6d2f-4d3c-9622-c31412542920     68477   \n",
       "1 2018-10-01  ee47d746-6d2f-4d3c-9622-c31412542920     68477   \n",
       "2 2018-10-01  ee47d746-6d2f-4d3c-9622-c31412542920     68477   \n",
       "3 2018-10-01  ee47d746-6d2f-4d3c-9622-c31412542920     68477   \n",
       "4 2018-10-01  ee47d746-6d2f-4d3c-9622-c31412542920     68477   \n",
       "\n",
       "                                    product  quantity  price  revenue  \\\n",
       "0     комнатное растение в горшке алое вера         1  142.0    142.0   \n",
       "1  комнатное растение в горшке кофе арабика         1  194.0    194.0   \n",
       "2               радермахера d-12 см h-20 см         1  112.0    112.0   \n",
       "3          хризолидокарпус лутесценс d-9 см         1  179.0    179.0   \n",
       "4            циперус зумула d-12 см h-25 см         1  112.0    112.0   \n",
       "\n",
       "   day week  month   product_category  \n",
       "0         0     10  растения и семена  \n",
       "1         0     10  растения и семена  \n",
       "2         0     10  растения и семена  \n",
       "3         0     10  растения и семена  \n",
       "4         0     10  растения и семена  "
      ]
     },
     "execution_count": 31,
     "metadata": {},
     "output_type": "execute_result"
    }
   ],
   "source": [
    "data.head()"
   ]
  },
  {
   "cell_type": "markdown",
   "metadata": {},
   "source": [
    "Сгруппируем товары по категориям и посчитаем выручку."
   ]
  },
  {
   "cell_type": "code",
   "execution_count": 32,
   "metadata": {},
   "outputs": [
    {
     "data": {
      "text/html": [
       "<div>\n",
       "<style scoped>\n",
       "    .dataframe tbody tr th:only-of-type {\n",
       "        vertical-align: middle;\n",
       "    }\n",
       "\n",
       "    .dataframe tbody tr th {\n",
       "        vertical-align: top;\n",
       "    }\n",
       "\n",
       "    .dataframe thead th {\n",
       "        text-align: right;\n",
       "    }\n",
       "</style>\n",
       "<table border=\"1\" class=\"dataframe\">\n",
       "  <thead>\n",
       "    <tr style=\"text-align: right;\">\n",
       "      <th></th>\n",
       "      <th>product_category</th>\n",
       "      <th>revenue</th>\n",
       "    </tr>\n",
       "  </thead>\n",
       "  <tbody>\n",
       "    <tr>\n",
       "      <th>0</th>\n",
       "      <td>товары для ванной комнаты и уборки</td>\n",
       "      <td>1069282.0</td>\n",
       "    </tr>\n",
       "    <tr>\n",
       "      <th>1</th>\n",
       "      <td>аксесcуары для дома</td>\n",
       "      <td>824519.0</td>\n",
       "    </tr>\n",
       "    <tr>\n",
       "      <th>2</th>\n",
       "      <td>растения и семена</td>\n",
       "      <td>529734.0</td>\n",
       "    </tr>\n",
       "    <tr>\n",
       "      <th>3</th>\n",
       "      <td>товары для кухни</td>\n",
       "      <td>418224.0</td>\n",
       "    </tr>\n",
       "    <tr>\n",
       "      <th>4</th>\n",
       "      <td>1000 мелочей</td>\n",
       "      <td>217671.0</td>\n",
       "    </tr>\n",
       "    <tr>\n",
       "      <th>5</th>\n",
       "      <td>товары для прихожей</td>\n",
       "      <td>200980.0</td>\n",
       "    </tr>\n",
       "    <tr>\n",
       "      <th>6</th>\n",
       "      <td>товары для спальни</td>\n",
       "      <td>67527.0</td>\n",
       "    </tr>\n",
       "    <tr>\n",
       "      <th>7</th>\n",
       "      <td>электротовары</td>\n",
       "      <td>19805.0</td>\n",
       "    </tr>\n",
       "  </tbody>\n",
       "</table>\n",
       "</div>"
      ],
      "text/plain": [
       "                     product_category    revenue\n",
       "0  товары для ванной комнаты и уборки  1069282.0\n",
       "1                 аксесcуары для дома   824519.0\n",
       "2                   растения и семена   529734.0\n",
       "3                    товары для кухни   418224.0\n",
       "4                        1000 мелочей   217671.0\n",
       "5                 товары для прихожей   200980.0\n",
       "6                  товары для спальни    67527.0\n",
       "7                       электротовары    19805.0"
      ]
     },
     "execution_count": 32,
     "metadata": {},
     "output_type": "execute_result"
    }
   ],
   "source": [
    "df_cat= data.pivot_table(index='product_category',values='revenue',aggfunc='sum').sort_values(by='revenue',ascending= False).reset_index()\n",
    "df_cat\n",
    "\n"
   ]
  },
  {
   "cell_type": "markdown",
   "metadata": {},
   "source": [
    "Построим график по выручке в разрезе категорий товаров."
   ]
  },
  {
   "cell_type": "code",
   "execution_count": 33,
   "metadata": {},
   "outputs": [
    {
     "data": {
      "image/png": "[encoded data removed]",
      "text/plain": [
       "<Figure size 720x504 with 1 Axes>"
      ]
     },
     "metadata": {
      "needs_background": "light"
     },
     "output_type": "display_data"
    }
   ],
   "source": [
    "plt.figure(figsize=(10, 7))\n",
    "sns.barplot(y='product_category', x='revenue', data=df_cat)\n",
    "plt.title('Выручка по категориям за анализируемый период')\n",
    "plt.show;"
   ]
  },
  {
   "cell_type": "markdown",
   "metadata": {},
   "source": [
    "Из графика видно, что по размеру выручки можно выделить топ-5 категорий- аксессуары для дома,растения и семена,товары для ванной, товары для кухни,1000 мелочей. "
   ]
  },
  {
   "cell_type": "markdown",
   "metadata": {},
   "source": [
    "Теперь рассмотрим категории по количеству продаж."
   ]
  },
  {
   "cell_type": "code",
   "execution_count": 34,
   "metadata": {},
   "outputs": [
    {
     "data": {
      "text/html": [
       "<div>\n",
       "<style scoped>\n",
       "    .dataframe tbody tr th:only-of-type {\n",
       "        vertical-align: middle;\n",
       "    }\n",
       "\n",
       "    .dataframe tbody tr th {\n",
       "        vertical-align: top;\n",
       "    }\n",
       "\n",
       "    .dataframe thead th {\n",
       "        text-align: right;\n",
       "    }\n",
       "</style>\n",
       "<table border=\"1\" class=\"dataframe\">\n",
       "  <thead>\n",
       "    <tr style=\"text-align: right;\">\n",
       "      <th></th>\n",
       "      <th>product_category</th>\n",
       "      <th>quantity</th>\n",
       "    </tr>\n",
       "  </thead>\n",
       "  <tbody>\n",
       "    <tr>\n",
       "      <th>0</th>\n",
       "      <td>растения и семена</td>\n",
       "      <td>2158</td>\n",
       "    </tr>\n",
       "    <tr>\n",
       "      <th>1</th>\n",
       "      <td>товары для ванной комнаты и уборки</td>\n",
       "      <td>916</td>\n",
       "    </tr>\n",
       "    <tr>\n",
       "      <th>2</th>\n",
       "      <td>товары для кухни</td>\n",
       "      <td>776</td>\n",
       "    </tr>\n",
       "    <tr>\n",
       "      <th>3</th>\n",
       "      <td>аксесcуары для дома</td>\n",
       "      <td>452</td>\n",
       "    </tr>\n",
       "    <tr>\n",
       "      <th>4</th>\n",
       "      <td>1000 мелочей</td>\n",
       "      <td>334</td>\n",
       "    </tr>\n",
       "    <tr>\n",
       "      <th>5</th>\n",
       "      <td>товары для прихожей</td>\n",
       "      <td>160</td>\n",
       "    </tr>\n",
       "    <tr>\n",
       "      <th>6</th>\n",
       "      <td>товары для спальни</td>\n",
       "      <td>23</td>\n",
       "    </tr>\n",
       "    <tr>\n",
       "      <th>7</th>\n",
       "      <td>электротовары</td>\n",
       "      <td>19</td>\n",
       "    </tr>\n",
       "  </tbody>\n",
       "</table>\n",
       "</div>"
      ],
      "text/plain": [
       "                     product_category  quantity\n",
       "0                   растения и семена      2158\n",
       "1  товары для ванной комнаты и уборки       916\n",
       "2                    товары для кухни       776\n",
       "3                 аксесcуары для дома       452\n",
       "4                        1000 мелочей       334\n",
       "5                 товары для прихожей       160\n",
       "6                  товары для спальни        23\n",
       "7                       электротовары        19"
      ]
     },
     "execution_count": 34,
     "metadata": {},
     "output_type": "execute_result"
    }
   ],
   "source": [
    "df_count= data.pivot_table(index='product_category',values='quantity',aggfunc='count').sort_values(by='quantity',ascending= False).reset_index()\n",
    "df_count"
   ]
  },
  {
   "cell_type": "code",
   "execution_count": 35,
   "metadata": {},
   "outputs": [
    {
     "data": {
      "image/png": "[encoded data removed]",
      "text/plain": [
       "<Figure size 720x504 with 1 Axes>"
      ]
     },
     "metadata": {
      "needs_background": "light"
     },
     "output_type": "display_data"
    }
   ],
   "source": [
    "plt.figure(figsize=(10, 7))\n",
    "sns.barplot(y='product_category', x='quantity', data=df_count)\n",
    "plt.title('Количество продаж по категориям за анализируемый период')\n",
    "plt.show;"
   ]
  },
  {
   "cell_type": "markdown",
   "metadata": {},
   "source": [
    "Судя по графику, по количеству продаж другие лидеры- это категории- растения и семена,товары для кухни, товары для ванной,аксессуары для дома, 1000 мелочей.\n"
   ]
  },
  {
   "cell_type": "markdown",
   "metadata": {},
   "source": [
    "Теперь рассмотрим каждую категорию в отдельности, какие там товары лидируют, а какие отстают."
   ]
  },
  {
   "cell_type": "code",
   "execution_count": 36,
   "metadata": {},
   "outputs": [],
   "source": [
    "plants_seed = data.query('product_category== \"растения и семена\"')\n",
    "top_plants_seed=plants_seed.pivot_table(index='product',values='quantity',aggfunc='count').sort_values(by='quantity',ascending= False).reset_index().query('quantity>30')\n"
   ]
  },
  {
   "cell_type": "code",
   "execution_count": 37,
   "metadata": {},
   "outputs": [
    {
     "data": {
      "text/html": [
       "<div>\n",
       "<style scoped>\n",
       "    .dataframe tbody tr th:only-of-type {\n",
       "        vertical-align: middle;\n",
       "    }\n",
       "\n",
       "    .dataframe tbody tr th {\n",
       "        vertical-align: top;\n",
       "    }\n",
       "\n",
       "    .dataframe thead th {\n",
       "        text-align: right;\n",
       "    }\n",
       "</style>\n",
       "<table border=\"1\" class=\"dataframe\">\n",
       "  <thead>\n",
       "    <tr style=\"text-align: right;\">\n",
       "      <th></th>\n",
       "      <th>product</th>\n",
       "      <th>quantity</th>\n",
       "    </tr>\n",
       "  </thead>\n",
       "  <tbody>\n",
       "    <tr>\n",
       "      <th>0</th>\n",
       "      <td>герань домашняя (пеларгония зональная) цветуща...</td>\n",
       "      <td>96</td>\n",
       "    </tr>\n",
       "    <tr>\n",
       "      <th>1</th>\n",
       "      <td>пеларгония розебудная red pandora укорененный ...</td>\n",
       "      <td>66</td>\n",
       "    </tr>\n",
       "    <tr>\n",
       "      <th>2</th>\n",
       "      <td>пеларгония розебудная prins nikolai укорененны...</td>\n",
       "      <td>57</td>\n",
       "    </tr>\n",
       "    <tr>\n",
       "      <th>3</th>\n",
       "      <td>пеларгония зональная диам. 12 см сиреневый пол...</td>\n",
       "      <td>52</td>\n",
       "    </tr>\n",
       "    <tr>\n",
       "      <th>4</th>\n",
       "      <td>пеларгония розебудная mary укорененный черенок</td>\n",
       "      <td>39</td>\n",
       "    </tr>\n",
       "  </tbody>\n",
       "</table>\n",
       "</div>"
      ],
      "text/plain": [
       "                                             product  quantity\n",
       "0  герань домашняя (пеларгония зональная) цветуща...        96\n",
       "1  пеларгония розебудная red pandora укорененный ...        66\n",
       "2  пеларгония розебудная prins nikolai укорененны...        57\n",
       "3  пеларгония зональная диам. 12 см сиреневый пол...        52\n",
       "4     пеларгония розебудная mary укорененный черенок        39"
      ]
     },
     "execution_count": 37,
     "metadata": {},
     "output_type": "execute_result"
    }
   ],
   "source": [
    "\n",
    "top_plants_seed"
   ]
  },
  {
   "cell_type": "markdown",
   "metadata": {},
   "source": [
    "Из таблицы видно, что лидирует в продажах герань домашняя и пеларгония розебудная, данные растения и будут основными товарами в категории- растения и семена."
   ]
  },
  {
   "cell_type": "code",
   "execution_count": 38,
   "metadata": {},
   "outputs": [
    {
     "data": {
      "text/html": [
       "<div>\n",
       "<style scoped>\n",
       "    .dataframe tbody tr th:only-of-type {\n",
       "        vertical-align: middle;\n",
       "    }\n",
       "\n",
       "    .dataframe tbody tr th {\n",
       "        vertical-align: top;\n",
       "    }\n",
       "\n",
       "    .dataframe thead th {\n",
       "        text-align: right;\n",
       "    }\n",
       "</style>\n",
       "<table border=\"1\" class=\"dataframe\">\n",
       "  <thead>\n",
       "    <tr style=\"text-align: right;\">\n",
       "      <th></th>\n",
       "      <th>product</th>\n",
       "      <th>quantity</th>\n",
       "    </tr>\n",
       "  </thead>\n",
       "  <tbody>\n",
       "    <tr>\n",
       "      <th>308</th>\n",
       "      <td>эвкалипт сильвердроп d-7 см h-30 см</td>\n",
       "      <td>1</td>\n",
       "    </tr>\n",
       "    <tr>\n",
       "      <th>309</th>\n",
       "      <td>эвкалипт сильвердроп в горшке d-7 см</td>\n",
       "      <td>1</td>\n",
       "    </tr>\n",
       "    <tr>\n",
       "      <th>310</th>\n",
       "      <td>рассада огурец кристина ячейки по 6 шт е6</td>\n",
       "      <td>1</td>\n",
       "    </tr>\n",
       "    <tr>\n",
       "      <th>311</th>\n",
       "      <td>цикламен d-12 см h-20 цвет в ассортименте</td>\n",
       "      <td>1</td>\n",
       "    </tr>\n",
       "    <tr>\n",
       "      <th>312</th>\n",
       "      <td>цикламен d-12 см h-20 см белый с малиновой сер...</td>\n",
       "      <td>1</td>\n",
       "    </tr>\n",
       "    <tr>\n",
       "      <th>...</th>\n",
       "      <td>...</td>\n",
       "      <td>...</td>\n",
       "    </tr>\n",
       "    <tr>\n",
       "      <th>750</th>\n",
       "      <td>молодило микс d-9 см</td>\n",
       "      <td>1</td>\n",
       "    </tr>\n",
       "    <tr>\n",
       "      <th>751</th>\n",
       "      <td>молодило в горшке d-12 см</td>\n",
       "      <td>1</td>\n",
       "    </tr>\n",
       "    <tr>\n",
       "      <th>752</th>\n",
       "      <td>многолетнее растение душица-орегано розовый об...</td>\n",
       "      <td>1</td>\n",
       "    </tr>\n",
       "    <tr>\n",
       "      <th>753</th>\n",
       "      <td>мелисса лекарственная d-9 см</td>\n",
       "      <td>1</td>\n",
       "    </tr>\n",
       "    <tr>\n",
       "      <th>754</th>\n",
       "      <td>юкка нитчатая d-12 см h-25-35 см</td>\n",
       "      <td>1</td>\n",
       "    </tr>\n",
       "  </tbody>\n",
       "</table>\n",
       "<p>447 rows × 2 columns</p>\n",
       "</div>"
      ],
      "text/plain": [
       "                                               product  quantity\n",
       "308                эвкалипт сильвердроп d-7 см h-30 см         1\n",
       "309               эвкалипт сильвердроп в горшке d-7 см         1\n",
       "310          рассада огурец кристина ячейки по 6 шт е6         1\n",
       "311          цикламен d-12 см h-20 цвет в ассортименте         1\n",
       "312  цикламен d-12 см h-20 см белый с малиновой сер...         1\n",
       "..                                                 ...       ...\n",
       "750                               молодило микс d-9 см         1\n",
       "751                          молодило в горшке d-12 см         1\n",
       "752  многолетнее растение душица-орегано розовый об...         1\n",
       "753                       мелисса лекарственная d-9 см         1\n",
       "754                   юкка нитчатая d-12 см h-25-35 см         1\n",
       "\n",
       "[447 rows x 2 columns]"
      ]
     },
     "execution_count": 38,
     "metadata": {},
     "output_type": "execute_result"
    }
   ],
   "source": [
    "min_plants_seed=plants_seed.pivot_table(index='product',values='quantity',aggfunc='count').sort_values(by='quantity',ascending= False).reset_index().query('quantity==1')\n",
    "min_plants_seed"
   ]
  },
  {
   "cell_type": "markdown",
   "metadata": {},
   "source": [
    "Одними из редких 447 товаров ,которые покупают в одном экземпляре, будут дополнительными-  являются эвкалипт,цикломен,юкка и мелиса и рассада огурца."
   ]
  },
  {
   "cell_type": "code",
   "execution_count": 39,
   "metadata": {},
   "outputs": [
    {
     "data": {
      "text/html": [
       "<div>\n",
       "<style scoped>\n",
       "    .dataframe tbody tr th:only-of-type {\n",
       "        vertical-align: middle;\n",
       "    }\n",
       "\n",
       "    .dataframe tbody tr th {\n",
       "        vertical-align: top;\n",
       "    }\n",
       "\n",
       "    .dataframe thead th {\n",
       "        text-align: right;\n",
       "    }\n",
       "</style>\n",
       "<table border=\"1\" class=\"dataframe\">\n",
       "  <thead>\n",
       "    <tr style=\"text-align: right;\">\n",
       "      <th></th>\n",
       "      <th>product</th>\n",
       "      <th>quantity</th>\n",
       "    </tr>\n",
       "  </thead>\n",
       "  <tbody>\n",
       "    <tr>\n",
       "      <th>0</th>\n",
       "      <td>сушилка для белья потолочная лиана 2</td>\n",
       "      <td>25</td>\n",
       "    </tr>\n",
       "    <tr>\n",
       "      <th>1</th>\n",
       "      <td>сушилка для белья потолочная лиана 1</td>\n",
       "      <td>20</td>\n",
       "    </tr>\n",
       "    <tr>\n",
       "      <th>2</th>\n",
       "      <td>сушилка для белья настенная zalger prima 510-7...</td>\n",
       "      <td>17</td>\n",
       "    </tr>\n",
       "    <tr>\n",
       "      <th>3</th>\n",
       "      <td>таз пластмассовый со стиральной доской (иж)</td>\n",
       "      <td>10</td>\n",
       "    </tr>\n",
       "    <tr>\n",
       "      <th>4</th>\n",
       "      <td>штора со встроенными кольцами под штангу для в...</td>\n",
       "      <td>10</td>\n",
       "    </tr>\n",
       "  </tbody>\n",
       "</table>\n",
       "</div>"
      ],
      "text/plain": [
       "                                             product  quantity\n",
       "0               сушилка для белья потолочная лиана 2        25\n",
       "1               сушилка для белья потолочная лиана 1        20\n",
       "2  сушилка для белья настенная zalger prima 510-7...        17\n",
       "3        таз пластмассовый со стиральной доской (иж)        10\n",
       "4  штора со встроенными кольцами под штангу для в...        10"
      ]
     },
     "execution_count": 39,
     "metadata": {},
     "output_type": "execute_result"
    }
   ],
   "source": [
    "prod_bathroom = data.query('product_category== \"товары для ванной комнаты и уборки\"')\n",
    "top_prod_bathroom=prod_bathroom.pivot_table(index='product',values='quantity',aggfunc='count').sort_values(by='quantity',ascending= False).reset_index().query('quantity>=10')\n",
    "top_prod_bathroom"
   ]
  },
  {
   "cell_type": "markdown",
   "metadata": {},
   "source": [
    "Из таблицы видно, что пользуется спросом и покупается сушилка для белья лиана 2, лиана 1 , штора и таз пластмассовый."
   ]
  },
  {
   "cell_type": "code",
   "execution_count": 40,
   "metadata": {},
   "outputs": [
    {
     "data": {
      "text/html": [
       "<div>\n",
       "<style scoped>\n",
       "    .dataframe tbody tr th:only-of-type {\n",
       "        vertical-align: middle;\n",
       "    }\n",
       "\n",
       "    .dataframe tbody tr th {\n",
       "        vertical-align: top;\n",
       "    }\n",
       "\n",
       "    .dataframe thead th {\n",
       "        text-align: right;\n",
       "    }\n",
       "</style>\n",
       "<table border=\"1\" class=\"dataframe\">\n",
       "  <thead>\n",
       "    <tr style=\"text-align: right;\">\n",
       "      <th></th>\n",
       "      <th>product</th>\n",
       "      <th>quantity</th>\n",
       "    </tr>\n",
       "  </thead>\n",
       "  <tbody>\n",
       "    <tr>\n",
       "      <th>178</th>\n",
       "      <td>сушилка для белья на стену leifheit rollquick ...</td>\n",
       "      <td>1</td>\n",
       "    </tr>\n",
       "    <tr>\n",
       "      <th>179</th>\n",
       "      <td>сушилка для белья настенная ника сн90 белая 90 см</td>\n",
       "      <td>1</td>\n",
       "    </tr>\n",
       "    <tr>\n",
       "      <th>180</th>\n",
       "      <td>сушилка для белья напольная gimi tempo super</td>\n",
       "      <td>1</td>\n",
       "    </tr>\n",
       "    <tr>\n",
       "      <th>181</th>\n",
       "      <td>сушилка для белья напольная colombo star 18</td>\n",
       "      <td>1</td>\n",
       "    </tr>\n",
       "    <tr>\n",
       "      <th>182</th>\n",
       "      <td>сушилка для белья виолет ricko 5м rk-5/100 нас...</td>\n",
       "      <td>1</td>\n",
       "    </tr>\n",
       "    <tr>\n",
       "      <th>...</th>\n",
       "      <td>...</td>\n",
       "      <td>...</td>\n",
       "    </tr>\n",
       "    <tr>\n",
       "      <th>479</th>\n",
       "      <td>лестница-стремянка dogrular ufuk оцинкованная ...</td>\n",
       "      <td>1</td>\n",
       "    </tr>\n",
       "    <tr>\n",
       "      <th>480</th>\n",
       "      <td>лестница-стремянка dogrular ufuk оцинкованная ...</td>\n",
       "      <td>1</td>\n",
       "    </tr>\n",
       "    <tr>\n",
       "      <th>481</th>\n",
       "      <td>кухонное полотенце махровое 42х28 см wellness ...</td>\n",
       "      <td>1</td>\n",
       "    </tr>\n",
       "    <tr>\n",
       "      <th>482</th>\n",
       "      <td>кухонное полотенце вафельное 64х38 см wellness...</td>\n",
       "      <td>1</td>\n",
       "    </tr>\n",
       "    <tr>\n",
       "      <th>483</th>\n",
       "      <td>ёрш унитазный с подставкой wc \"стандарт\"</td>\n",
       "      <td>1</td>\n",
       "    </tr>\n",
       "  </tbody>\n",
       "</table>\n",
       "<p>306 rows × 2 columns</p>\n",
       "</div>"
      ],
      "text/plain": [
       "                                               product  quantity\n",
       "178  сушилка для белья на стену leifheit rollquick ...         1\n",
       "179  сушилка для белья настенная ника сн90 белая 90 см         1\n",
       "180       сушилка для белья напольная gimi tempo super         1\n",
       "181        сушилка для белья напольная colombo star 18         1\n",
       "182  сушилка для белья виолет ricko 5м rk-5/100 нас...         1\n",
       "..                                                 ...       ...\n",
       "479  лестница-стремянка dogrular ufuk оцинкованная ...         1\n",
       "480  лестница-стремянка dogrular ufuk оцинкованная ...         1\n",
       "481  кухонное полотенце махровое 42х28 см wellness ...         1\n",
       "482  кухонное полотенце вафельное 64х38 см wellness...         1\n",
       "483           ёрш унитазный с подставкой wc \"стандарт\"         1\n",
       "\n",
       "[306 rows x 2 columns]"
      ]
     },
     "execution_count": 40,
     "metadata": {},
     "output_type": "execute_result"
    }
   ],
   "source": [
    "min_prod_bathroom = prod_bathroom.pivot_table(index='product',values='quantity',aggfunc='count').sort_values(by='quantity',ascending= False).reset_index().query('quantity<2')\n",
    "min_prod_bathroom"
   ]
  },
  {
   "cell_type": "markdown",
   "metadata": {},
   "source": [
    "В таблице представлены 306 наименований товаров,которые представлены в одном количестве.Значит менее популярны у покупателей. Значит они будут являться дополнительными."
   ]
  },
  {
   "cell_type": "code",
   "execution_count": 41,
   "metadata": {},
   "outputs": [
    {
     "data": {
      "text/html": [
       "<div>\n",
       "<style scoped>\n",
       "    .dataframe tbody tr th:only-of-type {\n",
       "        vertical-align: middle;\n",
       "    }\n",
       "\n",
       "    .dataframe tbody tr th {\n",
       "        vertical-align: top;\n",
       "    }\n",
       "\n",
       "    .dataframe thead th {\n",
       "        text-align: right;\n",
       "    }\n",
       "</style>\n",
       "<table border=\"1\" class=\"dataframe\">\n",
       "  <thead>\n",
       "    <tr style=\"text-align: right;\">\n",
       "      <th></th>\n",
       "      <th>product</th>\n",
       "      <th>quantity</th>\n",
       "    </tr>\n",
       "  </thead>\n",
       "  <tbody>\n",
       "    <tr>\n",
       "      <th>0</th>\n",
       "      <td>рассада зелени для кухни розмарина в горшке ди...</td>\n",
       "      <td>14</td>\n",
       "    </tr>\n",
       "    <tr>\n",
       "      <th>1</th>\n",
       "      <td>рассада зелени для кухни розмарин блю лагун ди...</td>\n",
       "      <td>13</td>\n",
       "    </tr>\n",
       "    <tr>\n",
       "      <th>2</th>\n",
       "      <td>муляж баклажан 18 см</td>\n",
       "      <td>10</td>\n",
       "    </tr>\n",
       "    <tr>\n",
       "      <th>3</th>\n",
       "      <td>рассада зелени для кухни тимьян-чабрец розовый...</td>\n",
       "      <td>10</td>\n",
       "    </tr>\n",
       "    <tr>\n",
       "      <th>4</th>\n",
       "      <td>муляж яблоко зеленый 9 см полиуретан</td>\n",
       "      <td>10</td>\n",
       "    </tr>\n",
       "    <tr>\n",
       "      <th>5</th>\n",
       "      <td>рассада зелени для кухни базилик тонус</td>\n",
       "      <td>10</td>\n",
       "    </tr>\n",
       "  </tbody>\n",
       "</table>\n",
       "</div>"
      ],
      "text/plain": [
       "                                             product  quantity\n",
       "0  рассада зелени для кухни розмарина в горшке ди...        14\n",
       "1  рассада зелени для кухни розмарин блю лагун ди...        13\n",
       "2                               муляж баклажан 18 см        10\n",
       "3  рассада зелени для кухни тимьян-чабрец розовый...        10\n",
       "4               муляж яблоко зеленый 9 см полиуретан        10\n",
       "5             рассада зелени для кухни базилик тонус        10"
      ]
     },
     "execution_count": 41,
     "metadata": {},
     "output_type": "execute_result"
    }
   ],
   "source": [
    "kitchen_supplies=data.query('product_category== \"товары для кухни\"')\n",
    "top_kitchen_supplies=kitchen_supplies.pivot_table(index='product',values='quantity',aggfunc='count').sort_values(by='quantity',ascending= False).reset_index().query('quantity>=10')\n",
    "top_kitchen_supplies"
   ]
  },
  {
   "cell_type": "markdown",
   "metadata": {},
   "source": [
    "Как не странно,в категории  товарах для кухни пользуется спросом  рассада зелени для кухни и муляэ яблока и баклажана."
   ]
  },
  {
   "cell_type": "code",
   "execution_count": 42,
   "metadata": {},
   "outputs": [
    {
     "data": {
      "text/html": [
       "<div>\n",
       "<style scoped>\n",
       "    .dataframe tbody tr th:only-of-type {\n",
       "        vertical-align: middle;\n",
       "    }\n",
       "\n",
       "    .dataframe tbody tr th {\n",
       "        vertical-align: top;\n",
       "    }\n",
       "\n",
       "    .dataframe thead th {\n",
       "        text-align: right;\n",
       "    }\n",
       "</style>\n",
       "<table border=\"1\" class=\"dataframe\">\n",
       "  <thead>\n",
       "    <tr style=\"text-align: right;\">\n",
       "      <th></th>\n",
       "      <th>product</th>\n",
       "      <th>quantity</th>\n",
       "    </tr>\n",
       "  </thead>\n",
       "  <tbody>\n",
       "    <tr>\n",
       "      <th>127</th>\n",
       "      <td>скатерть арлет 50% полиэфир 50% хлопок овальна...</td>\n",
       "      <td>1</td>\n",
       "    </tr>\n",
       "    <tr>\n",
       "      <th>128</th>\n",
       "      <td>рыбочистка металлическая</td>\n",
       "      <td>1</td>\n",
       "    </tr>\n",
       "    <tr>\n",
       "      <th>129</th>\n",
       "      <td>салатник luminarc amбиантэ оранж 16 см l6417</td>\n",
       "      <td>1</td>\n",
       "    </tr>\n",
       "    <tr>\n",
       "      <th>130</th>\n",
       "      <td>салатник luminarc amбиантэ анис 16 см l6415</td>\n",
       "      <td>1</td>\n",
       "    </tr>\n",
       "    <tr>\n",
       "      <th>131</th>\n",
       "      <td>сервировочная салфетка пвх 26х41 см ванда 6001</td>\n",
       "      <td>1</td>\n",
       "    </tr>\n",
       "    <tr>\n",
       "      <th>...</th>\n",
       "      <td>...</td>\n",
       "      <td>...</td>\n",
       "    </tr>\n",
       "    <tr>\n",
       "      <th>434</th>\n",
       "      <td>набор эмалированных салатников metalloni рязан...</td>\n",
       "      <td>1</td>\n",
       "    </tr>\n",
       "    <tr>\n",
       "      <th>435</th>\n",
       "      <td>набор эмалированных салатников metalloni ветка...</td>\n",
       "      <td>1</td>\n",
       "    </tr>\n",
       "    <tr>\n",
       "      <th>436</th>\n",
       "      <td>набор фужеров для шампанского френч брассери 6...</td>\n",
       "      <td>1</td>\n",
       "    </tr>\n",
       "    <tr>\n",
       "      <th>437</th>\n",
       "      <td>набор фужеров для красного вина 235 мл</td>\n",
       "      <td>1</td>\n",
       "    </tr>\n",
       "    <tr>\n",
       "      <th>438</th>\n",
       "      <td>шприц кондитерский webber с 8 насадками 23*10*...</td>\n",
       "      <td>1</td>\n",
       "    </tr>\n",
       "  </tbody>\n",
       "</table>\n",
       "<p>312 rows × 2 columns</p>\n",
       "</div>"
      ],
      "text/plain": [
       "                                               product  quantity\n",
       "127  скатерть арлет 50% полиэфир 50% хлопок овальна...         1\n",
       "128                           рыбочистка металлическая         1\n",
       "129       салатник luminarc amбиантэ оранж 16 см l6417         1\n",
       "130        салатник luminarc amбиантэ анис 16 см l6415         1\n",
       "131     сервировочная салфетка пвх 26х41 см ванда 6001         1\n",
       "..                                                 ...       ...\n",
       "434  набор эмалированных салатников metalloni рязан...         1\n",
       "435  набор эмалированных салатников metalloni ветка...         1\n",
       "436  набор фужеров для шампанского френч брассери 6...         1\n",
       "437             набор фужеров для красного вина 235 мл         1\n",
       "438  шприц кондитерский webber с 8 насадками 23*10*...         1\n",
       "\n",
       "[312 rows x 2 columns]"
      ]
     },
     "execution_count": 42,
     "metadata": {},
     "output_type": "execute_result"
    }
   ],
   "source": [
    "min_kitchen_supplies=kitchen_supplies.pivot_table(index='product',values='quantity',aggfunc='count').sort_values(by='quantity',ascending= False).reset_index().query('quantity<2')\n",
    "min_kitchen_supplies"
   ]
  },
  {
   "cell_type": "markdown",
   "metadata": {},
   "source": [
    "В таблице выше  представлены 312 товаров, которые покупается в одном экземпляре. Значит являются допольнительными."
   ]
  },
  {
   "cell_type": "markdown",
   "metadata": {},
   "source": [
    " Теперь можно посмотреть количество продаж в разрезе категорий по месяцам. Только сделаем срез данных за период с 01.11.2018г. по 31.10.2019г., исключим данные за октябрь 2018г."
   ]
  },
  {
   "cell_type": "code",
   "execution_count": 43,
   "metadata": {},
   "outputs": [],
   "source": [
    "data= data.loc[\"2018-11-01 00:00:00\":]"
   ]
  },
  {
   "cell_type": "code",
   "execution_count": 44,
   "metadata": {},
   "outputs": [],
   "source": [
    "count_month = data.pivot_table(index=['product_category','month'],values='quantity',aggfunc='count').sort_values(by='quantity',ascending= False).reset_index()"
   ]
  },
  {
   "cell_type": "code",
   "execution_count": 45,
   "metadata": {},
   "outputs": [
    {
     "data": {
      "image/png": "[encoded data removed]",
      "text/plain": [
       "<Figure size 720x504 with 1 Axes>"
      ]
     },
     "metadata": {
      "needs_background": "light"
     },
     "output_type": "display_data"
    }
   ],
   "source": [
    "plt.figure(figsize=(10, 7))\n",
    "sns.barplot(y='quantity', x='month', data=count_month)\n",
    "plt.title('Количество продаж по месяцам за анализируемый период')\n",
    "plt.show;"
   ]
  },
  {
   "cell_type": "code",
   "execution_count": 46,
   "metadata": {},
   "outputs": [
    {
     "data": {
      "image/png": "[encoded data removed]",
      "text/plain": [
       "<Figure size 864x432 with 1 Axes>"
      ]
     },
     "metadata": {},
     "output_type": "display_data"
    }
   ],
   "source": [
    "    sns.set_style(\"darkgrid\")\n",
    "    plt.figure(figsize=(12,6))\n",
    "    sns.lineplot(data =count_month, x = \"month\", y = \"quantity\");\n",
    "    plt.xlabel('Месяца')\n",
    "    plt.ylabel('Количество продаж  по месяцам')\n",
    "    plt.title('Количество продаж товаров по месяцам');\n"
   ]
  },
  {
   "cell_type": "markdown",
   "metadata": {},
   "source": [
    "    Из графиков очень  заметно, что количество продаж увеличивается с апреля. Наблюдается некоторая сезонность.\n",
    "     \n",
    "     Интересно за счет продаж каких категорий  повышается количество  продаж? \n",
    "     \n",
    "    Для того,чтобы ответить на этот вопрос, рассмотрим  количество продаж в мае в разрезе категорий."
   ]
  },
  {
   "cell_type": "code",
   "execution_count": 47,
   "metadata": {},
   "outputs": [
    {
     "data": {
      "text/html": [
       "<div>\n",
       "<style scoped>\n",
       "    .dataframe tbody tr th:only-of-type {\n",
       "        vertical-align: middle;\n",
       "    }\n",
       "\n",
       "    .dataframe tbody tr th {\n",
       "        vertical-align: top;\n",
       "    }\n",
       "\n",
       "    .dataframe thead th {\n",
       "        text-align: right;\n",
       "    }\n",
       "</style>\n",
       "<table border=\"1\" class=\"dataframe\">\n",
       "  <thead>\n",
       "    <tr style=\"text-align: right;\">\n",
       "      <th></th>\n",
       "      <th>product_category</th>\n",
       "      <th>month</th>\n",
       "      <th>quantity</th>\n",
       "    </tr>\n",
       "  </thead>\n",
       "  <tbody>\n",
       "    <tr>\n",
       "      <th>1</th>\n",
       "      <td>растения и семена</td>\n",
       "      <td>4</td>\n",
       "      <td>472</td>\n",
       "    </tr>\n",
       "    <tr>\n",
       "      <th>9</th>\n",
       "      <td>товары для ванной комнаты и уборки</td>\n",
       "      <td>4</td>\n",
       "      <td>65</td>\n",
       "    </tr>\n",
       "    <tr>\n",
       "      <th>14</th>\n",
       "      <td>товары для кухни</td>\n",
       "      <td>4</td>\n",
       "      <td>56</td>\n",
       "    </tr>\n",
       "    <tr>\n",
       "      <th>18</th>\n",
       "      <td>аксесcуары для дома</td>\n",
       "      <td>4</td>\n",
       "      <td>47</td>\n",
       "    </tr>\n",
       "    <tr>\n",
       "      <th>35</th>\n",
       "      <td>1000 мелочей</td>\n",
       "      <td>4</td>\n",
       "      <td>22</td>\n",
       "    </tr>\n",
       "    <tr>\n",
       "      <th>44</th>\n",
       "      <td>товары для прихожей</td>\n",
       "      <td>4</td>\n",
       "      <td>10</td>\n",
       "    </tr>\n",
       "    <tr>\n",
       "      <th>56</th>\n",
       "      <td>товары для спальни</td>\n",
       "      <td>4</td>\n",
       "      <td>2</td>\n",
       "    </tr>\n",
       "    <tr>\n",
       "      <th>59</th>\n",
       "      <td>электротовары</td>\n",
       "      <td>4</td>\n",
       "      <td>2</td>\n",
       "    </tr>\n",
       "  </tbody>\n",
       "</table>\n",
       "</div>"
      ],
      "text/plain": [
       "                      product_category  month  quantity\n",
       "1                    растения и семена      4       472\n",
       "9   товары для ванной комнаты и уборки      4        65\n",
       "14                    товары для кухни      4        56\n",
       "18                 аксесcуары для дома      4        47\n",
       "35                        1000 мелочей      4        22\n",
       "44                 товары для прихожей      4        10\n",
       "56                  товары для спальни      4         2\n",
       "59                       электротовары      4         2"
      ]
     },
     "execution_count": 47,
     "metadata": {},
     "output_type": "execute_result"
    }
   ],
   "source": [
    "april= count_month. query('month ==4')\n",
    "april"
   ]
  },
  {
   "cell_type": "markdown",
   "metadata": {},
   "source": [
    "Для наглядности сформируем график и посмотрим что за категории приносят нам увеличение продаж в апреле."
   ]
  },
  {
   "cell_type": "code",
   "execution_count": 48,
   "metadata": {},
   "outputs": [
    {
     "data": {
      "image/png": "[encoded data removed]",
      "text/plain": [
       "<Figure size 720x504 with 1 Axes>"
      ]
     },
     "metadata": {},
     "output_type": "display_data"
    }
   ],
   "source": [
    "plt.figure(figsize=(10, 7))\n",
    "sns.barplot(y='product_category', x='quantity', data=april)\n",
    "plt.title('Количество продаж за апрель')\n",
    "plt.show;"
   ]
  },
  {
   "cell_type": "markdown",
   "metadata": {},
   "source": [
    "Выяснили в апреле продажи повышаются за счет категории растения и семена, это объясняется наступлением дачного сезона."
   ]
  },
  {
   "cell_type": "code",
   "execution_count": 49,
   "metadata": {},
   "outputs": [
    {
     "data": {
      "text/html": [
       "<div>\n",
       "<style scoped>\n",
       "    .dataframe tbody tr th:only-of-type {\n",
       "        vertical-align: middle;\n",
       "    }\n",
       "\n",
       "    .dataframe tbody tr th {\n",
       "        vertical-align: top;\n",
       "    }\n",
       "\n",
       "    .dataframe thead th {\n",
       "        text-align: right;\n",
       "    }\n",
       "</style>\n",
       "<table border=\"1\" class=\"dataframe\">\n",
       "  <thead>\n",
       "    <tr style=\"text-align: right;\">\n",
       "      <th></th>\n",
       "      <th>product_category</th>\n",
       "      <th>month</th>\n",
       "      <th>quantity</th>\n",
       "    </tr>\n",
       "  </thead>\n",
       "  <tbody>\n",
       "    <tr>\n",
       "      <th>0</th>\n",
       "      <td>растения и семена</td>\n",
       "      <td>5</td>\n",
       "      <td>488</td>\n",
       "    </tr>\n",
       "    <tr>\n",
       "      <th>5</th>\n",
       "      <td>товары для кухни</td>\n",
       "      <td>5</td>\n",
       "      <td>119</td>\n",
       "    </tr>\n",
       "    <tr>\n",
       "      <th>26</th>\n",
       "      <td>товары для ванной комнаты и уборки</td>\n",
       "      <td>5</td>\n",
       "      <td>30</td>\n",
       "    </tr>\n",
       "    <tr>\n",
       "      <th>28</th>\n",
       "      <td>аксесcуары для дома</td>\n",
       "      <td>5</td>\n",
       "      <td>27</td>\n",
       "    </tr>\n",
       "    <tr>\n",
       "      <th>37</th>\n",
       "      <td>1000 мелочей</td>\n",
       "      <td>5</td>\n",
       "      <td>19</td>\n",
       "    </tr>\n",
       "    <tr>\n",
       "      <th>45</th>\n",
       "      <td>товары для прихожей</td>\n",
       "      <td>5</td>\n",
       "      <td>9</td>\n",
       "    </tr>\n",
       "    <tr>\n",
       "      <th>62</th>\n",
       "      <td>товары для спальни</td>\n",
       "      <td>5</td>\n",
       "      <td>1</td>\n",
       "    </tr>\n",
       "  </tbody>\n",
       "</table>\n",
       "</div>"
      ],
      "text/plain": [
       "                      product_category  month  quantity\n",
       "0                    растения и семена      5       488\n",
       "5                     товары для кухни      5       119\n",
       "26  товары для ванной комнаты и уборки      5        30\n",
       "28                 аксесcуары для дома      5        27\n",
       "37                        1000 мелочей      5        19\n",
       "45                 товары для прихожей      5         9\n",
       "62                  товары для спальни      5         1"
      ]
     },
     "execution_count": 49,
     "metadata": {},
     "output_type": "execute_result"
    }
   ],
   "source": [
    "may = count_month. query('month ==5')\n",
    "may"
   ]
  },
  {
   "cell_type": "code",
   "execution_count": 50,
   "metadata": {},
   "outputs": [
    {
     "data": {
      "image/png": "[encoded data removed]",
      "text/plain": [
       "<Figure size 720x504 with 1 Axes>"
      ]
     },
     "metadata": {},
     "output_type": "display_data"
    }
   ],
   "source": [
    "plt.figure(figsize=(10, 7))\n",
    "sns.barplot(y='product_category', x='quantity', data=may)\n",
    "plt.title('Количество продаж за май')\n",
    "plt.show;"
   ]
  },
  {
   "cell_type": "markdown",
   "metadata": {},
   "source": [
    "Из графика видно, что в мае продажи повышаются за счет трех категорий- растения и семена ,товары для кухни,товары для ванной и уборки."
   ]
  },
  {
   "cell_type": "markdown",
   "metadata": {},
   "source": [
    " Теперь рассмотрим зависит ли количество продаж по дням недели. "
   ]
  },
  {
   "cell_type": "code",
   "execution_count": 51,
   "metadata": {},
   "outputs": [
    {
     "data": {
      "text/plain": [
       "array([0, 1, 2, 3, 4, 5, 6])"
      ]
     },
     "execution_count": 51,
     "metadata": {},
     "output_type": "execute_result"
    }
   ],
   "source": [
    "data['day week'].unique()"
   ]
  },
  {
   "cell_type": "code",
   "execution_count": 52,
   "metadata": {},
   "outputs": [
    {
     "data": {
      "text/html": [
       "<div>\n",
       "<style scoped>\n",
       "    .dataframe tbody tr th:only-of-type {\n",
       "        vertical-align: middle;\n",
       "    }\n",
       "\n",
       "    .dataframe tbody tr th {\n",
       "        vertical-align: top;\n",
       "    }\n",
       "\n",
       "    .dataframe thead th {\n",
       "        text-align: right;\n",
       "    }\n",
       "</style>\n",
       "<table border=\"1\" class=\"dataframe\">\n",
       "  <thead>\n",
       "    <tr style=\"text-align: right;\">\n",
       "      <th></th>\n",
       "      <th>day week</th>\n",
       "      <th>quantity</th>\n",
       "    </tr>\n",
       "  </thead>\n",
       "  <tbody>\n",
       "    <tr>\n",
       "      <th>0</th>\n",
       "      <td>0</td>\n",
       "      <td>579</td>\n",
       "    </tr>\n",
       "    <tr>\n",
       "      <th>1</th>\n",
       "      <td>3</td>\n",
       "      <td>532</td>\n",
       "    </tr>\n",
       "    <tr>\n",
       "      <th>2</th>\n",
       "      <td>1</td>\n",
       "      <td>516</td>\n",
       "    </tr>\n",
       "    <tr>\n",
       "      <th>3</th>\n",
       "      <td>2</td>\n",
       "      <td>504</td>\n",
       "    </tr>\n",
       "    <tr>\n",
       "      <th>4</th>\n",
       "      <td>4</td>\n",
       "      <td>367</td>\n",
       "    </tr>\n",
       "    <tr>\n",
       "      <th>5</th>\n",
       "      <td>6</td>\n",
       "      <td>321</td>\n",
       "    </tr>\n",
       "    <tr>\n",
       "      <th>6</th>\n",
       "      <td>5</td>\n",
       "      <td>301</td>\n",
       "    </tr>\n",
       "  </tbody>\n",
       "</table>\n",
       "</div>"
      ],
      "text/plain": [
       "   day week  quantity\n",
       "0         0       579\n",
       "1         3       532\n",
       "2         1       516\n",
       "3         2       504\n",
       "4         4       367\n",
       "5         6       321\n",
       "6         5       301"
      ]
     },
     "execution_count": 52,
     "metadata": {},
     "output_type": "execute_result"
    }
   ],
   "source": [
    "dayweek = data.groupby('day week').agg({'quantity':'count'}).sort_values(by='quantity',ascending= False).reset_index()\n",
    "dayweek"
   ]
  },
  {
   "cell_type": "code",
   "execution_count": 53,
   "metadata": {},
   "outputs": [
    {
     "data": {
      "image/png": "[encoded data removed]",
      "text/plain": [
       "<Figure size 864x432 with 1 Axes>"
      ]
     },
     "metadata": {},
     "output_type": "display_data"
    }
   ],
   "source": [
    "sns.set_style(\"whitegrid\")\n",
    "plt.figure(figsize=(12,6))\n",
    "sns.lineplot(data=dayweek, x=\"day week\", y=\"quantity\")\n",
    "plt.xlabel('Дни недели')\n",
    "plt.ylabel('Количество продаж')\n",
    "plt.title('Количество продаж товаров по дням недели');"
   ]
  },
  {
   "cell_type": "markdown",
   "metadata": {},
   "source": [
    "Из графика видно, что в понедельник продажи больше,чем в другие дни. В четверг наблюдается небольшой рост, а затем снижение до субботы, а в воскресение заметен  рост."
   ]
  },
  {
   "cell_type": "markdown",
   "metadata": {},
   "source": [
    "Теперь посмотрим среднюю выручку по дням недели."
   ]
  },
  {
   "cell_type": "code",
   "execution_count": 54,
   "metadata": {},
   "outputs": [
    {
     "data": {
      "text/html": [
       "<div>\n",
       "<style scoped>\n",
       "    .dataframe tbody tr th:only-of-type {\n",
       "        vertical-align: middle;\n",
       "    }\n",
       "\n",
       "    .dataframe tbody tr th {\n",
       "        vertical-align: top;\n",
       "    }\n",
       "\n",
       "    .dataframe thead th {\n",
       "        text-align: right;\n",
       "    }\n",
       "</style>\n",
       "<table border=\"1\" class=\"dataframe\">\n",
       "  <thead>\n",
       "    <tr style=\"text-align: right;\">\n",
       "      <th></th>\n",
       "      <th>day week</th>\n",
       "      <th>revenue</th>\n",
       "    </tr>\n",
       "  </thead>\n",
       "  <tbody>\n",
       "    <tr>\n",
       "      <th>0</th>\n",
       "      <td>4</td>\n",
       "      <td>828.544959</td>\n",
       "    </tr>\n",
       "    <tr>\n",
       "      <th>1</th>\n",
       "      <td>2</td>\n",
       "      <td>606.061508</td>\n",
       "    </tr>\n",
       "    <tr>\n",
       "      <th>2</th>\n",
       "      <td>1</td>\n",
       "      <td>603.021318</td>\n",
       "    </tr>\n",
       "    <tr>\n",
       "      <th>3</th>\n",
       "      <td>6</td>\n",
       "      <td>571.803738</td>\n",
       "    </tr>\n",
       "    <tr>\n",
       "      <th>4</th>\n",
       "      <td>3</td>\n",
       "      <td>541.058271</td>\n",
       "    </tr>\n",
       "    <tr>\n",
       "      <th>5</th>\n",
       "      <td>5</td>\n",
       "      <td>499.887043</td>\n",
       "    </tr>\n",
       "    <tr>\n",
       "      <th>6</th>\n",
       "      <td>0</td>\n",
       "      <td>478.466321</td>\n",
       "    </tr>\n",
       "  </tbody>\n",
       "</table>\n",
       "</div>"
      ],
      "text/plain": [
       "   day week     revenue\n",
       "0         4  828.544959\n",
       "1         2  606.061508\n",
       "2         1  603.021318\n",
       "3         6  571.803738\n",
       "4         3  541.058271\n",
       "5         5  499.887043\n",
       "6         0  478.466321"
      ]
     },
     "execution_count": 54,
     "metadata": {},
     "output_type": "execute_result"
    }
   ],
   "source": [
    "dayweek_revenue =data.groupby('day week').agg({'revenue':'mean'}).sort_values(by='revenue',ascending= False).reset_index()\n",
    "dayweek_revenue"
   ]
  },
  {
   "cell_type": "code",
   "execution_count": 55,
   "metadata": {},
   "outputs": [
    {
     "data": {
      "image/png": "[encoded data removed]",
      "text/plain": [
       "<Figure size 864x432 with 1 Axes>"
      ]
     },
     "metadata": {},
     "output_type": "display_data"
    }
   ],
   "source": [
    "sns.set_style(\"whitegrid\")\n",
    "plt.figure(figsize=(12,6))\n",
    "sns.lineplot(data=dayweek_revenue, x=\"day week\", y=\"revenue\")\n",
    "plt.xlabel('Дни недели')\n",
    "plt.ylabel('Средняя выручка')\n",
    "plt.title('Сумма средней выручки по дням недели');"
   ]
  },
  {
   "cell_type": "markdown",
   "metadata": {},
   "source": [
    "Из графика видно, что во четверг и в пятницу наблюдается рост средней выручки."
   ]
  },
  {
   "cell_type": "markdown",
   "metadata": {},
   "source": [
    "Построим матрицу корреляции для данных по ассортименту."
   ]
  },
  {
   "cell_type": "code",
   "execution_count": 56,
   "metadata": {},
   "outputs": [
    {
     "data": {
      "image/png": "[encoded data removed]",
      "text/plain": [
       "<Figure size 864x648 with 2 Axes>"
      ]
     },
     "metadata": {},
     "output_type": "display_data"
    }
   ],
   "source": [
    "cm=data.corr()\n",
    "plt.figure(figsize=(12,9))\n",
    "sns.heatmap(cm, annot=True, square=True)\n",
    "plt.title('Матрица корреляции')\n",
    "plt.show()"
   ]
  },
  {
   "cell_type": "markdown",
   "metadata": {},
   "source": [
    "     Матрица корреляции показывает нам взаимосвязь признаков с целевой переменной,т.е выручкой. Чем ближе коэффициент к 1 , тем сильнее взаимосвязь признаков.\n",
    "     Из матрицы видно, что  выручка высоко коррелирует с ценой товара - коэффициент составляет 0.82, если пользоваться шкалой Чеддока. Также заметно ,что выручка слабо взаимосвязана от количества товара, коэффициент 0.24.\n"
   ]
  },
  {
   "cell_type": "markdown",
   "metadata": {},
   "source": [
    "### АВС анализ"
   ]
  },
  {
   "cell_type": "code",
   "execution_count": 57,
   "metadata": {},
   "outputs": [
    {
     "data": {
      "text/html": [
       "<div>\n",
       "<style scoped>\n",
       "    .dataframe tbody tr th:only-of-type {\n",
       "        vertical-align: middle;\n",
       "    }\n",
       "\n",
       "    .dataframe tbody tr th {\n",
       "        vertical-align: top;\n",
       "    }\n",
       "\n",
       "    .dataframe thead th {\n",
       "        text-align: right;\n",
       "    }\n",
       "</style>\n",
       "<table border=\"1\" class=\"dataframe\">\n",
       "  <thead>\n",
       "    <tr style=\"text-align: right;\">\n",
       "      <th></th>\n",
       "      <th>product_category</th>\n",
       "      <th>revenue</th>\n",
       "    </tr>\n",
       "  </thead>\n",
       "  <tbody>\n",
       "    <tr>\n",
       "      <th>0</th>\n",
       "      <td>товары для ванной комнаты и уборки</td>\n",
       "      <td>1069282.0</td>\n",
       "    </tr>\n",
       "    <tr>\n",
       "      <th>1</th>\n",
       "      <td>аксесcуары для дома</td>\n",
       "      <td>824519.0</td>\n",
       "    </tr>\n",
       "    <tr>\n",
       "      <th>2</th>\n",
       "      <td>растения и семена</td>\n",
       "      <td>529734.0</td>\n",
       "    </tr>\n",
       "    <tr>\n",
       "      <th>3</th>\n",
       "      <td>товары для кухни</td>\n",
       "      <td>418224.0</td>\n",
       "    </tr>\n",
       "    <tr>\n",
       "      <th>4</th>\n",
       "      <td>1000 мелочей</td>\n",
       "      <td>217671.0</td>\n",
       "    </tr>\n",
       "    <tr>\n",
       "      <th>5</th>\n",
       "      <td>товары для прихожей</td>\n",
       "      <td>200980.0</td>\n",
       "    </tr>\n",
       "    <tr>\n",
       "      <th>6</th>\n",
       "      <td>товары для спальни</td>\n",
       "      <td>67527.0</td>\n",
       "    </tr>\n",
       "    <tr>\n",
       "      <th>7</th>\n",
       "      <td>электротовары</td>\n",
       "      <td>19805.0</td>\n",
       "    </tr>\n",
       "  </tbody>\n",
       "</table>\n",
       "</div>"
      ],
      "text/plain": [
       "                     product_category    revenue\n",
       "0  товары для ванной комнаты и уборки  1069282.0\n",
       "1                 аксесcуары для дома   824519.0\n",
       "2                   растения и семена   529734.0\n",
       "3                    товары для кухни   418224.0\n",
       "4                        1000 мелочей   217671.0\n",
       "5                 товары для прихожей   200980.0\n",
       "6                  товары для спальни    67527.0\n",
       "7                       электротовары    19805.0"
      ]
     },
     "execution_count": 57,
     "metadata": {},
     "output_type": "execute_result"
    }
   ],
   "source": [
    "df_cat"
   ]
  },
  {
   "cell_type": "code",
   "execution_count": 58,
   "metadata": {},
   "outputs": [
    {
     "data": {
      "text/html": [
       "<div>\n",
       "<style scoped>\n",
       "    .dataframe tbody tr th:only-of-type {\n",
       "        vertical-align: middle;\n",
       "    }\n",
       "\n",
       "    .dataframe tbody tr th {\n",
       "        vertical-align: top;\n",
       "    }\n",
       "\n",
       "    .dataframe thead th {\n",
       "        text-align: right;\n",
       "    }\n",
       "</style>\n",
       "<table border=\"1\" class=\"dataframe\">\n",
       "  <thead>\n",
       "    <tr style=\"text-align: right;\">\n",
       "      <th></th>\n",
       "      <th>product_category</th>\n",
       "      <th>revenue</th>\n",
       "      <th>share of total revenue</th>\n",
       "    </tr>\n",
       "  </thead>\n",
       "  <tbody>\n",
       "    <tr>\n",
       "      <th>0</th>\n",
       "      <td>товары для ванной комнаты и уборки</td>\n",
       "      <td>1069282.0</td>\n",
       "      <td>31.94</td>\n",
       "    </tr>\n",
       "    <tr>\n",
       "      <th>1</th>\n",
       "      <td>аксесcуары для дома</td>\n",
       "      <td>824519.0</td>\n",
       "      <td>24.63</td>\n",
       "    </tr>\n",
       "    <tr>\n",
       "      <th>2</th>\n",
       "      <td>растения и семена</td>\n",
       "      <td>529734.0</td>\n",
       "      <td>15.82</td>\n",
       "    </tr>\n",
       "    <tr>\n",
       "      <th>3</th>\n",
       "      <td>товары для кухни</td>\n",
       "      <td>418224.0</td>\n",
       "      <td>12.49</td>\n",
       "    </tr>\n",
       "    <tr>\n",
       "      <th>4</th>\n",
       "      <td>1000 мелочей</td>\n",
       "      <td>217671.0</td>\n",
       "      <td>6.50</td>\n",
       "    </tr>\n",
       "    <tr>\n",
       "      <th>5</th>\n",
       "      <td>товары для прихожей</td>\n",
       "      <td>200980.0</td>\n",
       "      <td>6.00</td>\n",
       "    </tr>\n",
       "    <tr>\n",
       "      <th>6</th>\n",
       "      <td>товары для спальни</td>\n",
       "      <td>67527.0</td>\n",
       "      <td>2.02</td>\n",
       "    </tr>\n",
       "    <tr>\n",
       "      <th>7</th>\n",
       "      <td>электротовары</td>\n",
       "      <td>19805.0</td>\n",
       "      <td>0.59</td>\n",
       "    </tr>\n",
       "  </tbody>\n",
       "</table>\n",
       "</div>"
      ],
      "text/plain": [
       "                     product_category    revenue  share of total revenue\n",
       "0  товары для ванной комнаты и уборки  1069282.0                   31.94\n",
       "1                 аксесcуары для дома   824519.0                   24.63\n",
       "2                   растения и семена   529734.0                   15.82\n",
       "3                    товары для кухни   418224.0                   12.49\n",
       "4                        1000 мелочей   217671.0                    6.50\n",
       "5                 товары для прихожей   200980.0                    6.00\n",
       "6                  товары для спальни    67527.0                    2.02\n",
       "7                       электротовары    19805.0                    0.59"
      ]
     },
     "execution_count": 58,
     "metadata": {},
     "output_type": "execute_result"
    }
   ],
   "source": [
    "df_cat['share of total revenue']= round((df_cat['revenue']/sum(df_cat['revenue'])*100),2)\n",
    "df_cat"
   ]
  },
  {
   "cell_type": "code",
   "execution_count": 59,
   "metadata": {},
   "outputs": [
    {
     "data": {
      "text/html": [
       "<div>\n",
       "<style scoped>\n",
       "    .dataframe tbody tr th:only-of-type {\n",
       "        vertical-align: middle;\n",
       "    }\n",
       "\n",
       "    .dataframe tbody tr th {\n",
       "        vertical-align: top;\n",
       "    }\n",
       "\n",
       "    .dataframe thead th {\n",
       "        text-align: right;\n",
       "    }\n",
       "</style>\n",
       "<table border=\"1\" class=\"dataframe\">\n",
       "  <thead>\n",
       "    <tr style=\"text-align: right;\">\n",
       "      <th></th>\n",
       "      <th>product_category</th>\n",
       "      <th>revenue</th>\n",
       "      <th>share of total revenue</th>\n",
       "      <th>cum_sum</th>\n",
       "    </tr>\n",
       "  </thead>\n",
       "  <tbody>\n",
       "    <tr>\n",
       "      <th>0</th>\n",
       "      <td>товары для ванной комнаты и уборки</td>\n",
       "      <td>1069282.0</td>\n",
       "      <td>31.94</td>\n",
       "      <td>32.0</td>\n",
       "    </tr>\n",
       "    <tr>\n",
       "      <th>1</th>\n",
       "      <td>аксесcуары для дома</td>\n",
       "      <td>824519.0</td>\n",
       "      <td>24.63</td>\n",
       "      <td>57.0</td>\n",
       "    </tr>\n",
       "    <tr>\n",
       "      <th>2</th>\n",
       "      <td>растения и семена</td>\n",
       "      <td>529734.0</td>\n",
       "      <td>15.82</td>\n",
       "      <td>72.0</td>\n",
       "    </tr>\n",
       "    <tr>\n",
       "      <th>3</th>\n",
       "      <td>товары для кухни</td>\n",
       "      <td>418224.0</td>\n",
       "      <td>12.49</td>\n",
       "      <td>85.0</td>\n",
       "    </tr>\n",
       "    <tr>\n",
       "      <th>4</th>\n",
       "      <td>1000 мелочей</td>\n",
       "      <td>217671.0</td>\n",
       "      <td>6.50</td>\n",
       "      <td>91.0</td>\n",
       "    </tr>\n",
       "    <tr>\n",
       "      <th>5</th>\n",
       "      <td>товары для прихожей</td>\n",
       "      <td>200980.0</td>\n",
       "      <td>6.00</td>\n",
       "      <td>97.0</td>\n",
       "    </tr>\n",
       "    <tr>\n",
       "      <th>6</th>\n",
       "      <td>товары для спальни</td>\n",
       "      <td>67527.0</td>\n",
       "      <td>2.02</td>\n",
       "      <td>99.0</td>\n",
       "    </tr>\n",
       "    <tr>\n",
       "      <th>7</th>\n",
       "      <td>электротовары</td>\n",
       "      <td>19805.0</td>\n",
       "      <td>0.59</td>\n",
       "      <td>100.0</td>\n",
       "    </tr>\n",
       "  </tbody>\n",
       "</table>\n",
       "</div>"
      ],
      "text/plain": [
       "                     product_category    revenue  share of total revenue  \\\n",
       "0  товары для ванной комнаты и уборки  1069282.0                   31.94   \n",
       "1                 аксесcуары для дома   824519.0                   24.63   \n",
       "2                   растения и семена   529734.0                   15.82   \n",
       "3                    товары для кухни   418224.0                   12.49   \n",
       "4                        1000 мелочей   217671.0                    6.50   \n",
       "5                 товары для прихожей   200980.0                    6.00   \n",
       "6                  товары для спальни    67527.0                    2.02   \n",
       "7                       электротовары    19805.0                    0.59   \n",
       "\n",
       "   cum_sum  \n",
       "0     32.0  \n",
       "1     57.0  \n",
       "2     72.0  \n",
       "3     85.0  \n",
       "4     91.0  \n",
       "5     97.0  \n",
       "6     99.0  \n",
       "7    100.0  "
      ]
     },
     "execution_count": 59,
     "metadata": {},
     "output_type": "execute_result"
    }
   ],
   "source": [
    "df_cat['cum_sum'] = round(df_cat['share of total revenue'].cumsum (),0)\n",
    "df_cat\n"
   ]
  },
  {
   "cell_type": "markdown",
   "metadata": {},
   "source": [
    "В пятом столбце обозначим принадлежность к соответствующей группе. Позиции, совокупный процент которых составляет до 80%, относятся к группе А, 80-95% — к группе В, 95-100% — к группе С."
   ]
  },
  {
   "cell_type": "markdown",
   "metadata": {},
   "source": [
    "Создадим функцию для установления вида группы."
   ]
  },
  {
   "cell_type": "code",
   "execution_count": 60,
   "metadata": {},
   "outputs": [
    {
     "data": {
      "text/html": [
       "<div>\n",
       "<style scoped>\n",
       "    .dataframe tbody tr th:only-of-type {\n",
       "        vertical-align: middle;\n",
       "    }\n",
       "\n",
       "    .dataframe tbody tr th {\n",
       "        vertical-align: top;\n",
       "    }\n",
       "\n",
       "    .dataframe thead th {\n",
       "        text-align: right;\n",
       "    }\n",
       "</style>\n",
       "<table border=\"1\" class=\"dataframe\">\n",
       "  <thead>\n",
       "    <tr style=\"text-align: right;\">\n",
       "      <th></th>\n",
       "      <th>product_category</th>\n",
       "      <th>revenue</th>\n",
       "      <th>share of total revenue</th>\n",
       "      <th>cum_sum</th>\n",
       "      <th>groups</th>\n",
       "    </tr>\n",
       "  </thead>\n",
       "  <tbody>\n",
       "    <tr>\n",
       "      <th>0</th>\n",
       "      <td>товары для ванной комнаты и уборки</td>\n",
       "      <td>1069282.0</td>\n",
       "      <td>31.94</td>\n",
       "      <td>32.0</td>\n",
       "      <td>A</td>\n",
       "    </tr>\n",
       "    <tr>\n",
       "      <th>1</th>\n",
       "      <td>аксесcуары для дома</td>\n",
       "      <td>824519.0</td>\n",
       "      <td>24.63</td>\n",
       "      <td>57.0</td>\n",
       "      <td>A</td>\n",
       "    </tr>\n",
       "    <tr>\n",
       "      <th>2</th>\n",
       "      <td>растения и семена</td>\n",
       "      <td>529734.0</td>\n",
       "      <td>15.82</td>\n",
       "      <td>72.0</td>\n",
       "      <td>A</td>\n",
       "    </tr>\n",
       "    <tr>\n",
       "      <th>3</th>\n",
       "      <td>товары для кухни</td>\n",
       "      <td>418224.0</td>\n",
       "      <td>12.49</td>\n",
       "      <td>85.0</td>\n",
       "      <td>B</td>\n",
       "    </tr>\n",
       "    <tr>\n",
       "      <th>4</th>\n",
       "      <td>1000 мелочей</td>\n",
       "      <td>217671.0</td>\n",
       "      <td>6.50</td>\n",
       "      <td>91.0</td>\n",
       "      <td>B</td>\n",
       "    </tr>\n",
       "    <tr>\n",
       "      <th>5</th>\n",
       "      <td>товары для прихожей</td>\n",
       "      <td>200980.0</td>\n",
       "      <td>6.00</td>\n",
       "      <td>97.0</td>\n",
       "      <td>C</td>\n",
       "    </tr>\n",
       "    <tr>\n",
       "      <th>6</th>\n",
       "      <td>товары для спальни</td>\n",
       "      <td>67527.0</td>\n",
       "      <td>2.02</td>\n",
       "      <td>99.0</td>\n",
       "      <td>C</td>\n",
       "    </tr>\n",
       "    <tr>\n",
       "      <th>7</th>\n",
       "      <td>электротовары</td>\n",
       "      <td>19805.0</td>\n",
       "      <td>0.59</td>\n",
       "      <td>100.0</td>\n",
       "      <td>C</td>\n",
       "    </tr>\n",
       "  </tbody>\n",
       "</table>\n",
       "</div>"
      ],
      "text/plain": [
       "                     product_category    revenue  share of total revenue  \\\n",
       "0  товары для ванной комнаты и уборки  1069282.0                   31.94   \n",
       "1                 аксесcуары для дома   824519.0                   24.63   \n",
       "2                   растения и семена   529734.0                   15.82   \n",
       "3                    товары для кухни   418224.0                   12.49   \n",
       "4                        1000 мелочей   217671.0                    6.50   \n",
       "5                 товары для прихожей   200980.0                    6.00   \n",
       "6                  товары для спальни    67527.0                    2.02   \n",
       "7                       электротовары    19805.0                    0.59   \n",
       "\n",
       "   cum_sum groups  \n",
       "0     32.0      A  \n",
       "1     57.0      A  \n",
       "2     72.0      A  \n",
       "3     85.0      B  \n",
       "4     91.0      B  \n",
       "5     97.0      C  \n",
       "6     99.0      C  \n",
       "7    100.0      C  "
      ]
     },
     "execution_count": 60,
     "metadata": {},
     "output_type": "execute_result"
    }
   ],
   "source": [
    "def analysis_groups(row):\n",
    "    analysis = row['cum_sum']\n",
    "    if analysis< 80.0:\n",
    "        return 'A'\n",
    "    if 80.0<= analysis<95.0:\n",
    "        return 'B'\n",
    "    else: return 'C'\n",
    "df_cat['groups'] = df_cat.apply(analysis_groups, axis=1)\n",
    "\n",
    "df_cat\n",
    "\n"
   ]
  },
  {
   "cell_type": "markdown",
   "metadata": {},
   "source": [
    "     Вывод: Категории товаров группы А являются целевыми,т.е на них нужно сосредоточиться и больше закупать.\n",
    "    Из таблицы видно,что это такие категории-товары для ванной, акссесуары для дома и растения и семена. \n",
    "      Категории товаров группы B приносят меньше выручки,но они расширяют ассортиментов товаров и обеспечивают стабильную выручку.К ним относятся товары для кухни и 1000 мелочей.\n",
    "      Категории товаров  группы С не приносят выручки. К группе С относятся товары для прихожей, товары для спальни и электротовары. Возможно,в данных категорий стоит снизить ассортимент или отказаться от них."
   ]
  },
  {
   "cell_type": "markdown",
   "metadata": {},
   "source": [
    "## Рассмотрим покупателей"
   ]
  },
  {
   "cell_type": "markdown",
   "metadata": {},
   "source": [
    "Отсортируем  покупателей по количеству заказов."
   ]
  },
  {
   "cell_type": "code",
   "execution_count": 61,
   "metadata": {},
   "outputs": [
    {
     "data": {
      "text/html": [
       "<div>\n",
       "<style scoped>\n",
       "    .dataframe tbody tr th:only-of-type {\n",
       "        vertical-align: middle;\n",
       "    }\n",
       "\n",
       "    .dataframe tbody tr th {\n",
       "        vertical-align: top;\n",
       "    }\n",
       "\n",
       "    .dataframe thead th {\n",
       "        text-align: right;\n",
       "    }\n",
       "</style>\n",
       "<table border=\"1\" class=\"dataframe\">\n",
       "  <thead>\n",
       "    <tr style=\"text-align: right;\">\n",
       "      <th></th>\n",
       "      <th>customer_id</th>\n",
       "      <th>order_id</th>\n",
       "    </tr>\n",
       "  </thead>\n",
       "  <tbody>\n",
       "    <tr>\n",
       "      <th>0</th>\n",
       "      <td>d3b9ffea-d143-4747-8d59-74ab843d1ad6</td>\n",
       "      <td>51</td>\n",
       "    </tr>\n",
       "    <tr>\n",
       "      <th>1</th>\n",
       "      <td>760aa067-90c3-4794-b7a9-a8831197388b</td>\n",
       "      <td>36</td>\n",
       "    </tr>\n",
       "    <tr>\n",
       "      <th>2</th>\n",
       "      <td>2a0acc09-e343-4f92-b5c0-f598ef2b07d4</td>\n",
       "      <td>31</td>\n",
       "    </tr>\n",
       "    <tr>\n",
       "      <th>3</th>\n",
       "      <td>3d5fef90-4a65-4a7e-84cf-010eba7b038d</td>\n",
       "      <td>30</td>\n",
       "    </tr>\n",
       "    <tr>\n",
       "      <th>4</th>\n",
       "      <td>a3394ff2-4cd2-4332-9f6c-2668ac608fbc</td>\n",
       "      <td>30</td>\n",
       "    </tr>\n",
       "    <tr>\n",
       "      <th>...</th>\n",
       "      <td>...</td>\n",
       "      <td>...</td>\n",
       "    </tr>\n",
       "    <tr>\n",
       "      <th>1501</th>\n",
       "      <td>5c58e738-90c5-4478-93a5-f5907be45877</td>\n",
       "      <td>1</td>\n",
       "    </tr>\n",
       "    <tr>\n",
       "      <th>1502</th>\n",
       "      <td>5c453ae5-74c1-4a89-b6a2-277b0b393434</td>\n",
       "      <td>1</td>\n",
       "    </tr>\n",
       "    <tr>\n",
       "      <th>1503</th>\n",
       "      <td>5bee7748-a089-4d7c-a1ad-075cd8846a41</td>\n",
       "      <td>1</td>\n",
       "    </tr>\n",
       "    <tr>\n",
       "      <th>1504</th>\n",
       "      <td>5bbd2c0c-d93f-4ffe-b08c-0267dd881317</td>\n",
       "      <td>1</td>\n",
       "    </tr>\n",
       "    <tr>\n",
       "      <th>1505</th>\n",
       "      <td>ffe82299-3f5b-4214-87fe-3d36ecccfac3</td>\n",
       "      <td>1</td>\n",
       "    </tr>\n",
       "  </tbody>\n",
       "</table>\n",
       "<p>1506 rows × 2 columns</p>\n",
       "</div>"
      ],
      "text/plain": [
       "                               customer_id  order_id\n",
       "0     d3b9ffea-d143-4747-8d59-74ab843d1ad6        51\n",
       "1     760aa067-90c3-4794-b7a9-a8831197388b        36\n",
       "2     2a0acc09-e343-4f92-b5c0-f598ef2b07d4        31\n",
       "3     3d5fef90-4a65-4a7e-84cf-010eba7b038d        30\n",
       "4     a3394ff2-4cd2-4332-9f6c-2668ac608fbc        30\n",
       "...                                    ...       ...\n",
       "1501  5c58e738-90c5-4478-93a5-f5907be45877         1\n",
       "1502  5c453ae5-74c1-4a89-b6a2-277b0b393434         1\n",
       "1503  5bee7748-a089-4d7c-a1ad-075cd8846a41         1\n",
       "1504  5bbd2c0c-d93f-4ffe-b08c-0267dd881317         1\n",
       "1505  ffe82299-3f5b-4214-87fe-3d36ecccfac3         1\n",
       "\n",
       "[1506 rows x 2 columns]"
      ]
     },
     "execution_count": 61,
     "metadata": {},
     "output_type": "execute_result"
    }
   ],
   "source": [
    "customers=data.pivot_table(index='customer_id',values='order_id',aggfunc='count').sort_values(by='order_id',ascending= False).reset_index()\n",
    "customers"
   ]
  },
  {
   "cell_type": "code",
   "execution_count": 62,
   "metadata": {},
   "outputs": [
    {
     "data": {
      "image/png": "[encoded data removed]",
      "text/plain": [
       "<Figure size 864x576 with 1 Axes>"
      ]
     },
     "metadata": {},
     "output_type": "display_data"
    }
   ],
   "source": [
    "    plt.figure(figsize=(12,8))\n",
    "    sns.histplot(customers['order_id'])\n",
    "    plt.title('Распределение покупателей по количеству заказов')\n",
    "    plt.show()\n"
   ]
  },
  {
   "cell_type": "markdown",
   "metadata": {},
   "source": [
    "Из графика видно, что основная часть покупателей делает от 1 до 5 заказов."
   ]
  },
  {
   "cell_type": "markdown",
   "metadata": {},
   "source": [
    "Теперь подробней рассмотрим покупателей, которые делают больше одного заказа."
   ]
  },
  {
   "cell_type": "code",
   "execution_count": 63,
   "metadata": {},
   "outputs": [
    {
     "data": {
      "text/plain": [
       "292"
      ]
     },
     "execution_count": 63,
     "metadata": {},
     "output_type": "execute_result"
    }
   ],
   "source": [
    "top_customers=customers.query('order_id>1')\n",
    "len(top_customers)"
   ]
  },
  {
   "cell_type": "markdown",
   "metadata": {},
   "source": [
    "292 покупателя сделали больше одного заказа. Посмотрим на распределение по заказам."
   ]
  },
  {
   "cell_type": "code",
   "execution_count": 64,
   "metadata": {},
   "outputs": [
    {
     "data": {
      "image/png": "[encoded data removed]",
      "text/plain": [
       "<Figure size 864x576 with 1 Axes>"
      ]
     },
     "metadata": {},
     "output_type": "display_data"
    }
   ],
   "source": [
    "    plt.figure(figsize=(12,8))\n",
    "    sns.histplot(top_customers['order_id'])\n",
    "    plt.title('Распределение покупателей по количеству заказов')\n",
    "    plt.show()"
   ]
  },
  {
   "cell_type": "markdown",
   "metadata": {},
   "source": [
    "Из графика видно,что 145 покупателей сделали 2 заказа, 36 покупателей - 4 заказа."
   ]
  },
  {
   "cell_type": "markdown",
   "metadata": {},
   "source": [
    "Рассотрим от чего зависит количество покупателей."
   ]
  },
  {
   "cell_type": "code",
   "execution_count": 65,
   "metadata": {},
   "outputs": [
    {
     "data": {
      "text/html": [
       "<div>\n",
       "<style scoped>\n",
       "    .dataframe tbody tr th:only-of-type {\n",
       "        vertical-align: middle;\n",
       "    }\n",
       "\n",
       "    .dataframe tbody tr th {\n",
       "        vertical-align: top;\n",
       "    }\n",
       "\n",
       "    .dataframe thead th {\n",
       "        text-align: right;\n",
       "    }\n",
       "</style>\n",
       "<table border=\"1\" class=\"dataframe\">\n",
       "  <thead>\n",
       "    <tr style=\"text-align: right;\">\n",
       "      <th></th>\n",
       "      <th>date</th>\n",
       "      <th>customer_id</th>\n",
       "    </tr>\n",
       "  </thead>\n",
       "  <tbody>\n",
       "    <tr>\n",
       "      <th>0</th>\n",
       "      <td>2019-04-27 16:00:00</td>\n",
       "      <td>51</td>\n",
       "    </tr>\n",
       "    <tr>\n",
       "      <th>1</th>\n",
       "      <td>2019-04-24 21:00:00</td>\n",
       "      <td>44</td>\n",
       "    </tr>\n",
       "    <tr>\n",
       "      <th>2</th>\n",
       "      <td>2019-05-13 15:00:00</td>\n",
       "      <td>36</td>\n",
       "    </tr>\n",
       "    <tr>\n",
       "      <th>3</th>\n",
       "      <td>2019-05-02 16:00:00</td>\n",
       "      <td>36</td>\n",
       "    </tr>\n",
       "    <tr>\n",
       "      <th>4</th>\n",
       "      <td>2019-06-05 09:00:00</td>\n",
       "      <td>32</td>\n",
       "    </tr>\n",
       "  </tbody>\n",
       "</table>\n",
       "</div>"
      ],
      "text/plain": [
       "                 date  customer_id\n",
       "0 2019-04-27 16:00:00           51\n",
       "1 2019-04-24 21:00:00           44\n",
       "2 2019-05-13 15:00:00           36\n",
       "3 2019-05-02 16:00:00           36\n",
       "4 2019-06-05 09:00:00           32"
      ]
     },
     "execution_count": 65,
     "metadata": {},
     "output_type": "execute_result"
    }
   ],
   "source": [
    "df=data.groupby('date').agg({'customer_id':'count'}).sort_values(by='customer_id',ascending= False).reset_index()\n",
    "df.head()"
   ]
  },
  {
   "cell_type": "code",
   "execution_count": 66,
   "metadata": {},
   "outputs": [
    {
     "data": {
      "image/png": "[encoded data removed]",
      "text/plain": [
       "<Figure size 1080x576 with 1 Axes>"
      ]
     },
     "metadata": {},
     "output_type": "display_data"
    }
   ],
   "source": [
    "        plt.figure(figsize=(15,8))\n",
    "        sns.lineplot(data=df, x=\"date\", y=\"customer_id\")\n",
    "        plt.xlabel('дата')\n",
    "        plt.ylabel('количество покупателей')\n",
    "        plt.title(f'Зависимость количества покупателей от даты');   "
   ]
  },
  {
   "cell_type": "markdown",
   "metadata": {},
   "source": [
    "Из графика видно, что количество покупателей зависит от месяца покупки. В мае заметен рост числа покупателей в связи с началом дачного сезона."
   ]
  },
  {
   "cell_type": "markdown",
   "metadata": {},
   "source": [
    "Теперь рассмотрим количество покупателей от цены товаров."
   ]
  },
  {
   "cell_type": "code",
   "execution_count": 67,
   "metadata": {},
   "outputs": [],
   "source": [
    "pc= data.groupby('price').agg({'customer_id':'count'}).sort_values(by='customer_id',ascending= False).reset_index()\n"
   ]
  },
  {
   "cell_type": "code",
   "execution_count": 68,
   "metadata": {},
   "outputs": [
    {
     "data": {
      "image/png": "[encoded data removed]",
      "text/plain": [
       "<Figure size 1080x576 with 1 Axes>"
      ]
     },
     "metadata": {},
     "output_type": "display_data"
    }
   ],
   "source": [
    "        plt.figure(figsize=(15,8))\n",
    "        sns.scatterplot(data=pc, x=\"price\", y=\"customer_id\")\n",
    "        plt.xlabel('Цена')\n",
    "        plt.ylabel('количество покупателей')\n",
    "        plt.title(f'Зависимость количества покупателей от цены');   "
   ]
  },
  {
   "cell_type": "markdown",
   "metadata": {},
   "source": [
    "Из графика видно, что основная часть покупателей сосредоточена до цены 2000, далее чем выше цена товара,тем ниже количество покупателей."
   ]
  },
  {
   "cell_type": "markdown",
   "metadata": {},
   "source": [
    "Посчитаем коэффициент корреляции."
   ]
  },
  {
   "cell_type": "code",
   "execution_count": 69,
   "metadata": {},
   "outputs": [
    {
     "data": {
      "text/plain": [
       "-0.20020271100010006"
      ]
     },
     "execution_count": 69,
     "metadata": {},
     "output_type": "execute_result"
    }
   ],
   "source": [
    "pc['price'].corr(pc['customer_id'])"
   ]
  },
  {
   "cell_type": "markdown",
   "metadata": {},
   "source": [
    "Коэффициент отрицательный , это говорит от том,что взаимосвязь противоположная."
   ]
  },
  {
   "cell_type": "markdown",
   "metadata": {},
   "source": [
    "Вывод, что на количество покупателей влияет месяц покупки,т.е сезонность, и цена товара."
   ]
  },
  {
   "cell_type": "markdown",
   "metadata": {},
   "source": [
    "### Формирование и проверка статистических гипотез\n",
    "4.1  Н0- Среднее количество проданных товаров основной категории равно среднему количеству дополнительной категории.\n",
    " H1- Среднее количество проданных товаров основной категории различается от  среднему количеству дополнительной.\n"
   ]
  },
  {
   "cell_type": "markdown",
   "metadata": {},
   "source": [
    "     Разделим категории на основные и дополнительные. Основными категориями будут являться растения и семена, товары для ванной и уборки, товары для кухни и акссесуары для дома.А дополнительными остальные категории- товары для прихожей, товары для спальни, 1000 мелочей,электротовары."
   ]
  },
  {
   "cell_type": "code",
   "execution_count": 70,
   "metadata": {},
   "outputs": [],
   "source": [
    "data_main= data[data['product_category'].isin(['товары для ванной комнаты и уборки', 'аксесcуары для дома','растения и семена','товары для кухни'])]\n",
    "data_additional= data[data['product_category'].isin(['1000 мелочей', 'товары для прихожей','товары для спальни','электротовары'])]"
   ]
  },
  {
   "cell_type": "code",
   "execution_count": 71,
   "metadata": {},
   "outputs": [
    {
     "name": "stdout",
     "output_type": "stream",
     "text": [
      "p-значение: 0.0009258116459345693\n",
      "Отвергаем нулевую гипотезу\n"
     ]
    }
   ],
   "source": [
    "from scipy import stats as st\n",
    "import numpy as np\n",
    "\n",
    "sample_1 = data_main['quantity']\n",
    "sample_2 =data_additional['quantity']\n",
    "alpha = .05 \n",
    "results = st.ttest_ind(\n",
    "    sample_1,sample_2)\n",
    "\n",
    "print('p-значение:', results.pvalue)\n",
    "\n",
    "if results.pvalue < alpha:\n",
    "    print(\"Отвергаем нулевую гипотезу\")\n",
    "else:\n",
    "    print(\"Не получилось отвергнуть нулевую гипотезу\") \n"
   ]
  },
  {
   "cell_type": "markdown",
   "metadata": {},
   "source": [
    "Значит мы отвергаем нулевую гипотезу , это значит , что среднее количество товаров основной категории и дополнительной категории различны."
   ]
  },
  {
   "cell_type": "markdown",
   "metadata": {},
   "source": [
    "H0- Средняя выручка товаров основной категории равна средней выручке дополнительной категории.\n",
    "H1- Средняя выручка товаров основной категории различается от средней выручки дополнительной категории.\n"
   ]
  },
  {
   "cell_type": "code",
   "execution_count": 72,
   "metadata": {},
   "outputs": [
    {
     "name": "stdout",
     "output_type": "stream",
     "text": [
      "p-значение: 3.787001482910175e-09\n",
      "Отвергаем нулевую гипотезу\n"
     ]
    }
   ],
   "source": [
    "sample_1 = data_main['revenue']\n",
    "sample_2 =data_additional['revenue']\n",
    "alpha = .05 \n",
    "results = st.ttest_ind(\n",
    "    sample_1,sample_2)\n",
    "\n",
    "print('p-значение:', results.pvalue)\n",
    "\n",
    "if results.pvalue < alpha:\n",
    "    print(\"Отвергаем нулевую гипотезу\")\n",
    "else:\n",
    "    print(\"Не получилось отвергнуть нулевую гипотезу\") \n"
   ]
  },
  {
   "cell_type": "markdown",
   "metadata": {},
   "source": [
    "Проверкой мы отвергаем нулевую гипотезу, значит средняя выручка товаров основной категории различается от средней выручки дополнительной категории."
   ]
  },
  {
   "cell_type": "markdown",
   "metadata": {},
   "source": [
    "### Общий вывод"
   ]
  },
  {
   "cell_type": "markdown",
   "metadata": {},
   "source": [
    "       В данном проекте проведен  анализ товарного ассортимента, в частности:\n",
    "        - провели исследовательский анализ данных;\n",
    "        - проанализировали торговый ассортимент; \n",
    "        - сформулировали и проверили статистические гипотезы.\n",
    "         \n",
    "            Ассортимент товаров был разделен на 8 категорий: \n",
    "    -растения и семена,\n",
    "    -товары для ванной и уборки,\n",
    "    -товары для кухни,\n",
    "    -акссесуары для дома,\n",
    "    -товары для прихожей,\n",
    "    -товары для спальни,\n",
    "    -1000 мелочей,\n",
    "    -электротовары.\n",
    "      По размеру выручки можно выделить топ-5 категорий- аксессуары для дома,растения и семена,товары для ванной, товары для кухни,1000 мелочей. \n",
    "    По количеству продаж другие лидеры- это категории- растения и семена,товары для кухни, товары для ванной,акссесуары для дома, 1000 мелочей.\n",
    "       Рассмотрели количество продаж по месяцам- обнаружили сезонность, в апреле и мае  продажи растут. \n",
    "       В апреле и мае продажи повышаются за счет категории растения и семена, это объясняется наступлением дачного сезона.\n",
    "     \n",
    "       Рассмотрели зависимость количества продаж от дня недели.В понедельник продажи больше,чем в другие дни. В четверг наблюдается небольшой рост, а затем снижение до субботы, а в воскресение снова заметен  рост.\n",
    "       Во вторник и в пятницу наблюдается рост средней выручки.\n",
    "       Построили матрицу корреляции, которая показывает нам взаимосвязь признаков с целевой переменной,т.е выручкой. Чем ближе коэффициент к 1 , тем сильнее взаимосвязь признаков.\n",
    "       Из матрицы видно, что  выручка средне коррелирует с ценой товара - коэффициент составляет 0.82, если пользоваться шкалой Чеддока. Также заметно ,что выручка слабо взаимосвязана от количества товара, коэффициент 0.24.\n",
    "   \n",
    "    Проверили две статистические гипотезы:\n",
    "        первая-\n",
    "        Н0- Среднее количество проданных товаров основной категории равно среднему количеству дополнительной категории.\n",
    "        H1- Среднее количество проданных товаров основной категории различается от  среднему количеству дополнительной.\n",
    "        \n",
    "        вторая-\n",
    "        H0- Средняя выручка товаров основной категории равна средней выручке дополнительной категории.\n",
    "        H1- Средняя выручка товаров основной категории различается от средней выручки дополнительной категории.\n",
    "        \n",
    "     Проверкой мы отвергаем нулевые гипотезы, значит:\n",
    "        -среднее количество товаров основной категории и дополнительной категории различны.\n",
    "        -средняя выручка товаров основной категории различается от средней выручки дополнительной категории.   \n",
    "\n",
    "        \n",
    "       Исходя из всего сказанного, можно сформировать следующие рекомендации:\n",
    "\n",
    "     -нужно расширять ассортимент категорий товаров группы А-это такие категории-товары для ванной, акссесуары для дома и растения и семена.\n",
    "    - сокращать товарный ассортимент категории товаров  группы С,которые не приносят выручки. К группе С относятся товары для прихожей, товары для спальни и электротовары.\n",
    "    "
   ]
  }
 ],
 "metadata": {
  "ExecuteTimeLog": [
   {
    "duration": 3,
    "start_time": "2022-10-25T12:12:13.005Z"
   },
   {
    "duration": 1441,
    "start_time": "2022-10-25T12:12:34.399Z"
   },
   {
    "duration": 80,
    "start_time": "2022-10-25T12:13:13.207Z"
   },
   {
    "duration": 53,
    "start_time": "2022-10-25T12:13:34.024Z"
   },
   {
    "duration": 11,
    "start_time": "2022-10-25T12:13:50.016Z"
   },
   {
    "duration": 19,
    "start_time": "2022-10-25T12:14:00.475Z"
   },
   {
    "duration": 5,
    "start_time": "2022-10-25T12:14:13.497Z"
   },
   {
    "duration": 79,
    "start_time": "2022-10-25T12:14:50.581Z"
   },
   {
    "duration": 7,
    "start_time": "2022-10-25T12:15:05.492Z"
   },
   {
    "duration": 9,
    "start_time": "2022-10-25T12:15:21.571Z"
   },
   {
    "duration": 6,
    "start_time": "2022-10-25T12:15:34.431Z"
   },
   {
    "duration": 18,
    "start_time": "2022-10-25T12:15:44.720Z"
   },
   {
    "duration": 3,
    "start_time": "2022-10-25T12:16:46.193Z"
   },
   {
    "duration": 2,
    "start_time": "2022-10-25T12:17:18.138Z"
   },
   {
    "duration": 4,
    "start_time": "2022-10-25T12:17:35.056Z"
   },
   {
    "duration": 10,
    "start_time": "2022-10-25T12:17:52.158Z"
   },
   {
    "duration": 15,
    "start_time": "2022-10-25T12:18:01.727Z"
   },
   {
    "duration": 5,
    "start_time": "2022-10-25T12:18:18.136Z"
   },
   {
    "duration": 2,
    "start_time": "2022-10-25T12:18:36.689Z"
   },
   {
    "duration": 8,
    "start_time": "2022-10-25T12:19:18.261Z"
   },
   {
    "duration": 76,
    "start_time": "2022-10-25T12:19:29.712Z"
   },
   {
    "duration": 9,
    "start_time": "2022-10-25T12:19:43.685Z"
   },
   {
    "duration": 7,
    "start_time": "2022-10-25T12:20:18.925Z"
   },
   {
    "duration": 17,
    "start_time": "2022-10-25T12:20:32.364Z"
   },
   {
    "duration": 2,
    "start_time": "2022-10-25T12:21:03.260Z"
   },
   {
    "duration": 111,
    "start_time": "2022-10-25T12:21:21.879Z"
   },
   {
    "duration": 13,
    "start_time": "2022-10-25T12:27:17.179Z"
   },
   {
    "duration": 5,
    "start_time": "2022-10-25T12:28:59.687Z"
   },
   {
    "duration": 4,
    "start_time": "2022-10-25T12:29:14.411Z"
   },
   {
    "duration": 4,
    "start_time": "2022-10-25T12:29:21.628Z"
   },
   {
    "duration": 15,
    "start_time": "2022-10-25T12:30:14.043Z"
   },
   {
    "duration": 16,
    "start_time": "2022-10-25T12:30:20.706Z"
   },
   {
    "duration": 4,
    "start_time": "2022-10-25T12:30:53.402Z"
   },
   {
    "duration": 4,
    "start_time": "2022-10-25T12:30:57.879Z"
   },
   {
    "duration": 11,
    "start_time": "2022-10-25T12:31:04.343Z"
   },
   {
    "duration": 1376,
    "start_time": "2022-10-25T12:31:33.395Z"
   },
   {
    "duration": 51,
    "start_time": "2022-10-25T12:31:34.773Z"
   },
   {
    "duration": 11,
    "start_time": "2022-10-25T12:31:34.825Z"
   },
   {
    "duration": 22,
    "start_time": "2022-10-25T12:31:34.837Z"
   },
   {
    "duration": 5,
    "start_time": "2022-10-25T12:31:34.860Z"
   },
   {
    "duration": 7,
    "start_time": "2022-10-25T12:31:34.866Z"
   },
   {
    "duration": 6,
    "start_time": "2022-10-25T12:31:34.874Z"
   },
   {
    "duration": 7,
    "start_time": "2022-10-25T12:31:34.882Z"
   },
   {
    "duration": 36,
    "start_time": "2022-10-25T12:31:34.890Z"
   },
   {
    "duration": 10,
    "start_time": "2022-10-25T12:31:34.928Z"
   },
   {
    "duration": 4,
    "start_time": "2022-10-25T12:31:34.939Z"
   },
   {
    "duration": 10,
    "start_time": "2022-10-25T12:31:34.944Z"
   },
   {
    "duration": 13,
    "start_time": "2022-10-25T12:31:34.956Z"
   },
   {
    "duration": 14,
    "start_time": "2022-10-25T12:31:34.970Z"
   },
   {
    "duration": 10,
    "start_time": "2022-10-25T12:31:34.985Z"
   },
   {
    "duration": 4,
    "start_time": "2022-10-25T12:31:34.996Z"
   },
   {
    "duration": 34,
    "start_time": "2022-10-25T12:31:35.002Z"
   },
   {
    "duration": 116,
    "start_time": "2022-10-25T12:31:35.037Z"
   },
   {
    "duration": 4,
    "start_time": "2022-10-25T12:36:00.237Z"
   },
   {
    "duration": 1314,
    "start_time": "2022-10-25T12:37:13.353Z"
   },
   {
    "duration": 50,
    "start_time": "2022-10-25T12:37:14.669Z"
   },
   {
    "duration": 10,
    "start_time": "2022-10-25T12:37:14.720Z"
   },
   {
    "duration": 22,
    "start_time": "2022-10-25T12:37:14.732Z"
   },
   {
    "duration": 5,
    "start_time": "2022-10-25T12:37:14.755Z"
   },
   {
    "duration": 9,
    "start_time": "2022-10-25T12:37:14.763Z"
   },
   {
    "duration": 12,
    "start_time": "2022-10-25T12:37:14.773Z"
   },
   {
    "duration": 8,
    "start_time": "2022-10-25T12:37:14.786Z"
   },
   {
    "duration": 27,
    "start_time": "2022-10-25T12:37:14.795Z"
   },
   {
    "duration": 10,
    "start_time": "2022-10-25T12:37:14.824Z"
   },
   {
    "duration": 4,
    "start_time": "2022-10-25T12:37:14.835Z"
   },
   {
    "duration": 6,
    "start_time": "2022-10-25T12:37:14.840Z"
   },
   {
    "duration": 12,
    "start_time": "2022-10-25T12:37:14.847Z"
   },
   {
    "duration": 8,
    "start_time": "2022-10-25T12:37:14.861Z"
   },
   {
    "duration": 9,
    "start_time": "2022-10-25T12:37:14.870Z"
   },
   {
    "duration": 11,
    "start_time": "2022-10-25T12:37:14.880Z"
   },
   {
    "duration": 16,
    "start_time": "2022-10-25T12:37:14.921Z"
   },
   {
    "duration": 115,
    "start_time": "2022-10-25T12:37:14.938Z"
   },
   {
    "duration": 99,
    "start_time": "2022-10-25T12:41:22.725Z"
   },
   {
    "duration": 9,
    "start_time": "2022-10-25T12:41:46.782Z"
   },
   {
    "duration": 9,
    "start_time": "2022-10-25T12:41:58.622Z"
   },
   {
    "duration": 10,
    "start_time": "2022-10-25T12:48:52.647Z"
   },
   {
    "duration": 15,
    "start_time": "2022-10-25T13:35:14.011Z"
   },
   {
    "duration": 4,
    "start_time": "2022-10-25T13:38:47.151Z"
   },
   {
    "duration": 5,
    "start_time": "2022-10-25T13:38:54.545Z"
   },
   {
    "duration": 12,
    "start_time": "2022-10-25T13:38:57.601Z"
   },
   {
    "duration": 1324,
    "start_time": "2022-10-25T13:39:36.976Z"
   },
   {
    "duration": 52,
    "start_time": "2022-10-25T13:39:38.302Z"
   },
   {
    "duration": 11,
    "start_time": "2022-10-25T13:39:38.355Z"
   },
   {
    "duration": 23,
    "start_time": "2022-10-25T13:39:38.368Z"
   },
   {
    "duration": 5,
    "start_time": "2022-10-25T13:39:38.392Z"
   },
   {
    "duration": 27,
    "start_time": "2022-10-25T13:39:38.399Z"
   },
   {
    "duration": 7,
    "start_time": "2022-10-25T13:39:38.427Z"
   },
   {
    "duration": 5,
    "start_time": "2022-10-25T13:39:38.436Z"
   },
   {
    "duration": 20,
    "start_time": "2022-10-25T13:39:38.442Z"
   },
   {
    "duration": 4,
    "start_time": "2022-10-25T13:39:38.464Z"
   },
   {
    "duration": 6,
    "start_time": "2022-10-25T13:39:38.469Z"
   },
   {
    "duration": 143,
    "start_time": "2022-10-25T13:39:38.477Z"
   },
   {
    "duration": 0,
    "start_time": "2022-10-25T13:39:38.622Z"
   },
   {
    "duration": 0,
    "start_time": "2022-10-25T13:39:38.623Z"
   },
   {
    "duration": 0,
    "start_time": "2022-10-25T13:39:38.624Z"
   },
   {
    "duration": 0,
    "start_time": "2022-10-25T13:39:38.625Z"
   },
   {
    "duration": 0,
    "start_time": "2022-10-25T13:39:38.626Z"
   },
   {
    "duration": 5,
    "start_time": "2022-10-25T13:40:43.010Z"
   },
   {
    "duration": 10,
    "start_time": "2022-10-25T13:50:37.953Z"
   },
   {
    "duration": 9,
    "start_time": "2022-10-25T13:50:52.090Z"
   },
   {
    "duration": 6,
    "start_time": "2022-10-25T13:54:02.664Z"
   },
   {
    "duration": 16,
    "start_time": "2022-10-25T13:54:28.319Z"
   },
   {
    "duration": 17,
    "start_time": "2022-10-25T13:57:47.833Z"
   },
   {
    "duration": 9,
    "start_time": "2022-10-25T14:04:02.599Z"
   },
   {
    "duration": 14,
    "start_time": "2022-10-25T14:04:17.380Z"
   },
   {
    "duration": 16,
    "start_time": "2022-10-25T14:04:53.293Z"
   },
   {
    "duration": 5,
    "start_time": "2022-10-25T14:05:28.904Z"
   },
   {
    "duration": 4,
    "start_time": "2022-10-25T14:05:45.319Z"
   },
   {
    "duration": 11,
    "start_time": "2022-10-25T14:11:55.125Z"
   },
   {
    "duration": 5,
    "start_time": "2022-10-25T14:12:04.870Z"
   },
   {
    "duration": 5,
    "start_time": "2022-10-25T14:12:07.159Z"
   },
   {
    "duration": 1312,
    "start_time": "2022-10-25T14:12:18.672Z"
   },
   {
    "duration": 55,
    "start_time": "2022-10-25T14:12:19.986Z"
   },
   {
    "duration": 11,
    "start_time": "2022-10-25T14:12:20.042Z"
   },
   {
    "duration": 21,
    "start_time": "2022-10-25T14:12:20.055Z"
   },
   {
    "duration": 5,
    "start_time": "2022-10-25T14:12:20.077Z"
   },
   {
    "duration": 9,
    "start_time": "2022-10-25T14:12:20.084Z"
   },
   {
    "duration": 33,
    "start_time": "2022-10-25T14:12:20.095Z"
   },
   {
    "duration": 10,
    "start_time": "2022-10-25T14:12:20.130Z"
   },
   {
    "duration": 28,
    "start_time": "2022-10-25T14:12:20.141Z"
   },
   {
    "duration": 4,
    "start_time": "2022-10-25T14:12:20.172Z"
   },
   {
    "duration": 16,
    "start_time": "2022-10-25T14:12:20.178Z"
   },
   {
    "duration": 18,
    "start_time": "2022-10-25T14:12:20.196Z"
   },
   {
    "duration": 18,
    "start_time": "2022-10-25T14:12:20.215Z"
   },
   {
    "duration": 5,
    "start_time": "2022-10-25T14:12:20.234Z"
   },
   {
    "duration": 15,
    "start_time": "2022-10-25T14:12:20.240Z"
   },
   {
    "duration": 10,
    "start_time": "2022-10-25T14:12:20.257Z"
   },
   {
    "duration": 15,
    "start_time": "2022-10-25T14:12:20.268Z"
   },
   {
    "duration": 6,
    "start_time": "2022-10-25T14:12:20.284Z"
   },
   {
    "duration": 31,
    "start_time": "2022-10-25T14:12:20.293Z"
   },
   {
    "duration": 124,
    "start_time": "2022-10-25T14:12:20.326Z"
   },
   {
    "duration": 16,
    "start_time": "2022-10-25T14:13:27.364Z"
   },
   {
    "duration": 14,
    "start_time": "2022-10-25T14:13:39.937Z"
   },
   {
    "duration": 6,
    "start_time": "2022-10-25T14:13:43.264Z"
   },
   {
    "duration": 4,
    "start_time": "2022-10-25T14:13:45.755Z"
   },
   {
    "duration": 97,
    "start_time": "2022-10-25T14:19:21.087Z"
   },
   {
    "duration": 5,
    "start_time": "2022-10-25T14:20:29.805Z"
   },
   {
    "duration": 4,
    "start_time": "2022-10-25T14:20:33.199Z"
   },
   {
    "duration": 17,
    "start_time": "2022-10-25T14:22:30.295Z"
   },
   {
    "duration": 14,
    "start_time": "2022-10-25T14:27:11.419Z"
   },
   {
    "duration": 81,
    "start_time": "2022-10-25T14:27:29.968Z"
   },
   {
    "duration": 10,
    "start_time": "2022-10-25T14:28:00.304Z"
   },
   {
    "duration": 378,
    "start_time": "2022-10-25T14:36:53.844Z"
   },
   {
    "duration": 287,
    "start_time": "2022-10-25T14:37:22.157Z"
   },
   {
    "duration": 288,
    "start_time": "2022-10-25T14:37:34.974Z"
   },
   {
    "duration": 8,
    "start_time": "2022-10-25T14:40:05.184Z"
   },
   {
    "duration": 9,
    "start_time": "2022-10-25T14:46:55.294Z"
   },
   {
    "duration": 11,
    "start_time": "2022-10-25T14:46:59.999Z"
   },
   {
    "duration": 12,
    "start_time": "2022-10-25T14:47:02.141Z"
   },
   {
    "duration": 19,
    "start_time": "2022-10-25T14:47:43.966Z"
   },
   {
    "duration": 10,
    "start_time": "2022-10-25T14:47:52.823Z"
   },
   {
    "duration": 12,
    "start_time": "2022-10-25T14:48:19.911Z"
   },
   {
    "duration": 1370,
    "start_time": "2022-10-25T14:49:17.988Z"
   },
   {
    "duration": 59,
    "start_time": "2022-10-25T14:49:19.360Z"
   },
   {
    "duration": 12,
    "start_time": "2022-10-25T14:49:19.420Z"
   },
   {
    "duration": 19,
    "start_time": "2022-10-25T14:49:19.434Z"
   },
   {
    "duration": 5,
    "start_time": "2022-10-25T14:49:19.454Z"
   },
   {
    "duration": 11,
    "start_time": "2022-10-25T14:49:19.460Z"
   },
   {
    "duration": 8,
    "start_time": "2022-10-25T14:49:19.472Z"
   },
   {
    "duration": 9,
    "start_time": "2022-10-25T14:49:19.481Z"
   },
   {
    "duration": 19,
    "start_time": "2022-10-25T14:49:19.522Z"
   },
   {
    "duration": 4,
    "start_time": "2022-10-25T14:49:19.544Z"
   },
   {
    "duration": 6,
    "start_time": "2022-10-25T14:49:19.549Z"
   },
   {
    "duration": 11,
    "start_time": "2022-10-25T14:49:19.557Z"
   },
   {
    "duration": 8,
    "start_time": "2022-10-25T14:49:19.570Z"
   },
   {
    "duration": 8,
    "start_time": "2022-10-25T14:49:19.580Z"
   },
   {
    "duration": 15,
    "start_time": "2022-10-25T14:49:19.621Z"
   },
   {
    "duration": 124,
    "start_time": "2022-10-25T14:49:19.637Z"
   },
   {
    "duration": 7,
    "start_time": "2022-10-25T14:50:17.792Z"
   },
   {
    "duration": 6,
    "start_time": "2022-10-25T14:50:27.750Z"
   },
   {
    "duration": 16,
    "start_time": "2022-10-25T14:50:56.495Z"
   },
   {
    "duration": 106,
    "start_time": "2022-10-25T14:57:43.598Z"
   },
   {
    "duration": 6,
    "start_time": "2022-10-25T14:58:00.469Z"
   },
   {
    "duration": 6,
    "start_time": "2022-10-25T14:58:10.291Z"
   },
   {
    "duration": 6,
    "start_time": "2022-10-25T14:58:20.601Z"
   },
   {
    "duration": 18,
    "start_time": "2022-10-25T14:59:03.412Z"
   },
   {
    "duration": 5,
    "start_time": "2022-10-25T15:00:51.273Z"
   },
   {
    "duration": 6,
    "start_time": "2022-10-25T15:43:49.235Z"
   },
   {
    "duration": 17,
    "start_time": "2022-10-25T15:52:38.288Z"
   },
   {
    "duration": 10,
    "start_time": "2022-10-25T15:57:04.872Z"
   },
   {
    "duration": 12,
    "start_time": "2022-10-25T16:03:41.400Z"
   },
   {
    "duration": 12,
    "start_time": "2022-10-25T16:06:07.535Z"
   },
   {
    "duration": 12,
    "start_time": "2022-10-25T16:10:18.411Z"
   },
   {
    "duration": 7,
    "start_time": "2022-10-25T16:49:31.512Z"
   },
   {
    "duration": 17,
    "start_time": "2022-10-25T16:49:55.995Z"
   },
   {
    "duration": 1331,
    "start_time": "2022-10-25T17:02:16.401Z"
   },
   {
    "duration": 51,
    "start_time": "2022-10-25T17:02:17.734Z"
   },
   {
    "duration": 12,
    "start_time": "2022-10-25T17:02:17.787Z"
   },
   {
    "duration": 25,
    "start_time": "2022-10-25T17:02:17.802Z"
   },
   {
    "duration": 5,
    "start_time": "2022-10-25T17:02:17.828Z"
   },
   {
    "duration": 6,
    "start_time": "2022-10-25T17:02:17.835Z"
   },
   {
    "duration": 12,
    "start_time": "2022-10-25T17:02:17.842Z"
   },
   {
    "duration": 12,
    "start_time": "2022-10-25T17:02:17.856Z"
   },
   {
    "duration": 6,
    "start_time": "2022-10-25T17:02:17.869Z"
   },
   {
    "duration": 10,
    "start_time": "2022-10-25T17:02:17.878Z"
   },
   {
    "duration": 9,
    "start_time": "2022-10-25T17:02:17.889Z"
   },
   {
    "duration": 16,
    "start_time": "2022-10-25T17:02:17.900Z"
   },
   {
    "duration": 7,
    "start_time": "2022-10-25T17:02:17.917Z"
   },
   {
    "duration": 16,
    "start_time": "2022-10-25T17:02:17.925Z"
   },
   {
    "duration": 7,
    "start_time": "2022-10-25T17:02:17.943Z"
   },
   {
    "duration": 122,
    "start_time": "2022-10-25T17:02:17.951Z"
   },
   {
    "duration": 45,
    "start_time": "2022-10-26T06:37:02.536Z"
   },
   {
    "duration": 6,
    "start_time": "2022-10-26T06:37:24.063Z"
   },
   {
    "duration": 6,
    "start_time": "2022-10-26T06:37:27.232Z"
   },
   {
    "duration": 1613,
    "start_time": "2022-10-26T06:37:49.370Z"
   },
   {
    "duration": 98,
    "start_time": "2022-10-26T06:37:50.985Z"
   },
   {
    "duration": 13,
    "start_time": "2022-10-26T06:37:51.084Z"
   },
   {
    "duration": 20,
    "start_time": "2022-10-26T06:37:51.098Z"
   },
   {
    "duration": 7,
    "start_time": "2022-10-26T06:37:51.120Z"
   },
   {
    "duration": 11,
    "start_time": "2022-10-26T06:37:51.128Z"
   },
   {
    "duration": 8,
    "start_time": "2022-10-26T06:37:51.141Z"
   },
   {
    "duration": 8,
    "start_time": "2022-10-26T06:37:51.151Z"
   },
   {
    "duration": 9,
    "start_time": "2022-10-26T06:37:51.160Z"
   },
   {
    "duration": 5,
    "start_time": "2022-10-26T06:37:51.171Z"
   },
   {
    "duration": 138,
    "start_time": "2022-10-26T06:37:51.178Z"
   },
   {
    "duration": 0,
    "start_time": "2022-10-26T06:37:51.318Z"
   },
   {
    "duration": 0,
    "start_time": "2022-10-26T06:37:51.324Z"
   },
   {
    "duration": 0,
    "start_time": "2022-10-26T06:37:51.325Z"
   },
   {
    "duration": 0,
    "start_time": "2022-10-26T06:37:51.327Z"
   },
   {
    "duration": 0,
    "start_time": "2022-10-26T06:37:51.328Z"
   },
   {
    "duration": 0,
    "start_time": "2022-10-26T06:37:51.330Z"
   },
   {
    "duration": 20,
    "start_time": "2022-10-26T06:37:58.990Z"
   },
   {
    "duration": 11,
    "start_time": "2022-10-26T06:40:14.908Z"
   },
   {
    "duration": 926,
    "start_time": "2022-10-26T06:40:43.985Z"
   },
   {
    "duration": 733,
    "start_time": "2022-10-26T06:41:07.331Z"
   },
   {
    "duration": 599,
    "start_time": "2022-10-26T06:41:30.214Z"
   },
   {
    "duration": 9,
    "start_time": "2022-10-26T06:46:35.476Z"
   },
   {
    "duration": 75,
    "start_time": "2022-10-26T06:53:32.038Z"
   },
   {
    "duration": 72,
    "start_time": "2022-10-26T06:53:41.661Z"
   },
   {
    "duration": 77,
    "start_time": "2022-10-26T06:54:00.083Z"
   },
   {
    "duration": 618,
    "start_time": "2022-10-26T06:54:11.352Z"
   },
   {
    "duration": 584,
    "start_time": "2022-10-26T06:54:21.949Z"
   },
   {
    "duration": 1390,
    "start_time": "2022-10-26T06:54:32.075Z"
   },
   {
    "duration": 57,
    "start_time": "2022-10-26T06:54:33.467Z"
   },
   {
    "duration": 18,
    "start_time": "2022-10-26T06:54:33.526Z"
   },
   {
    "duration": 29,
    "start_time": "2022-10-26T06:54:33.547Z"
   },
   {
    "duration": 5,
    "start_time": "2022-10-26T06:54:33.578Z"
   },
   {
    "duration": 39,
    "start_time": "2022-10-26T06:54:33.586Z"
   },
   {
    "duration": 9,
    "start_time": "2022-10-26T06:54:33.626Z"
   },
   {
    "duration": 6,
    "start_time": "2022-10-26T06:54:33.636Z"
   },
   {
    "duration": 5,
    "start_time": "2022-10-26T06:54:33.644Z"
   },
   {
    "duration": 4,
    "start_time": "2022-10-26T06:54:33.652Z"
   },
   {
    "duration": 17,
    "start_time": "2022-10-26T06:54:33.658Z"
   },
   {
    "duration": 48,
    "start_time": "2022-10-26T06:54:33.677Z"
   },
   {
    "duration": 9,
    "start_time": "2022-10-26T06:54:33.727Z"
   },
   {
    "duration": 8,
    "start_time": "2022-10-26T06:54:33.738Z"
   },
   {
    "duration": 25,
    "start_time": "2022-10-26T06:54:33.748Z"
   },
   {
    "duration": 12,
    "start_time": "2022-10-26T06:54:33.775Z"
   },
   {
    "duration": 179,
    "start_time": "2022-10-26T06:54:33.789Z"
   },
   {
    "duration": 10,
    "start_time": "2022-10-26T06:55:12.337Z"
   },
   {
    "duration": 15,
    "start_time": "2022-10-26T07:08:59.283Z"
   },
   {
    "duration": 77,
    "start_time": "2022-10-26T07:14:03.298Z"
   },
   {
    "duration": 122,
    "start_time": "2022-10-26T07:35:51.053Z"
   },
   {
    "duration": 141,
    "start_time": "2022-10-26T08:42:36.744Z"
   },
   {
    "duration": 157,
    "start_time": "2022-10-26T08:43:20.355Z"
   },
   {
    "duration": 124,
    "start_time": "2022-10-26T08:44:36.863Z"
   },
   {
    "duration": 263,
    "start_time": "2022-10-26T08:45:20.300Z"
   },
   {
    "duration": 5,
    "start_time": "2022-10-26T09:46:06.544Z"
   },
   {
    "duration": 15,
    "start_time": "2022-10-26T09:47:33.841Z"
   },
   {
    "duration": 10,
    "start_time": "2022-10-26T09:57:44.896Z"
   },
   {
    "duration": 9,
    "start_time": "2022-10-26T09:58:37.506Z"
   },
   {
    "duration": 9,
    "start_time": "2022-10-26T09:58:46.335Z"
   },
   {
    "duration": 19,
    "start_time": "2022-10-26T10:00:08.891Z"
   },
   {
    "duration": 18,
    "start_time": "2022-10-26T10:01:48.663Z"
   },
   {
    "duration": 16,
    "start_time": "2022-10-26T10:02:48.833Z"
   },
   {
    "duration": 10,
    "start_time": "2022-10-26T10:03:35.530Z"
   },
   {
    "duration": 76,
    "start_time": "2022-10-26T10:04:19.605Z"
   },
   {
    "duration": 11,
    "start_time": "2022-10-26T10:04:28.883Z"
   },
   {
    "duration": 85,
    "start_time": "2022-10-26T10:04:55.846Z"
   },
   {
    "duration": 11,
    "start_time": "2022-10-26T10:05:06.570Z"
   },
   {
    "duration": 9,
    "start_time": "2022-10-26T10:05:24.849Z"
   },
   {
    "duration": 9,
    "start_time": "2022-10-26T10:06:08.887Z"
   },
   {
    "duration": 121,
    "start_time": "2022-10-26T10:07:35.034Z"
   },
   {
    "duration": 176,
    "start_time": "2022-10-26T10:09:05.297Z"
   },
   {
    "duration": 114,
    "start_time": "2022-10-26T10:09:29.593Z"
   },
   {
    "duration": 17,
    "start_time": "2022-10-26T10:10:08.900Z"
   },
   {
    "duration": 12,
    "start_time": "2022-10-26T10:10:23.169Z"
   },
   {
    "duration": 15,
    "start_time": "2022-10-26T10:10:47.448Z"
   },
   {
    "duration": 11,
    "start_time": "2022-10-26T10:11:21.084Z"
   },
   {
    "duration": 7,
    "start_time": "2022-10-26T10:11:38.701Z"
   },
   {
    "duration": 9,
    "start_time": "2022-10-26T10:11:43.464Z"
   },
   {
    "duration": 108,
    "start_time": "2022-10-26T10:11:54.843Z"
   },
   {
    "duration": 146,
    "start_time": "2022-10-26T10:12:00.360Z"
   },
   {
    "duration": 7,
    "start_time": "2022-10-26T10:12:43.445Z"
   },
   {
    "duration": 5,
    "start_time": "2022-10-26T10:13:39.296Z"
   },
   {
    "duration": 1555,
    "start_time": "2022-10-26T10:14:21.464Z"
   },
   {
    "duration": 58,
    "start_time": "2022-10-26T10:14:23.021Z"
   },
   {
    "duration": 14,
    "start_time": "2022-10-26T10:14:23.080Z"
   },
   {
    "duration": 22,
    "start_time": "2022-10-26T10:14:23.097Z"
   },
   {
    "duration": 10,
    "start_time": "2022-10-26T10:14:23.120Z"
   },
   {
    "duration": 22,
    "start_time": "2022-10-26T10:14:23.132Z"
   },
   {
    "duration": 32,
    "start_time": "2022-10-26T10:14:23.155Z"
   },
   {
    "duration": 28,
    "start_time": "2022-10-26T10:14:23.189Z"
   },
   {
    "duration": 10,
    "start_time": "2022-10-26T10:14:23.219Z"
   },
   {
    "duration": 27,
    "start_time": "2022-10-26T10:14:23.233Z"
   },
   {
    "duration": 31,
    "start_time": "2022-10-26T10:14:23.262Z"
   },
   {
    "duration": 26,
    "start_time": "2022-10-26T10:14:23.294Z"
   },
   {
    "duration": 28,
    "start_time": "2022-10-26T10:14:23.321Z"
   },
   {
    "duration": 37,
    "start_time": "2022-10-26T10:14:23.351Z"
   },
   {
    "duration": 24,
    "start_time": "2022-10-26T10:14:23.390Z"
   },
   {
    "duration": 31,
    "start_time": "2022-10-26T10:14:23.416Z"
   },
   {
    "duration": 25,
    "start_time": "2022-10-26T10:14:23.448Z"
   },
   {
    "duration": 23,
    "start_time": "2022-10-26T10:14:23.474Z"
   },
   {
    "duration": 26,
    "start_time": "2022-10-26T10:14:23.498Z"
   },
   {
    "duration": 139,
    "start_time": "2022-10-26T10:14:23.526Z"
   },
   {
    "duration": 165,
    "start_time": "2022-10-26T10:14:23.667Z"
   },
   {
    "duration": 160,
    "start_time": "2022-10-26T10:14:45.929Z"
   },
   {
    "duration": 43,
    "start_time": "2022-10-27T12:12:56.706Z"
   },
   {
    "duration": 1536,
    "start_time": "2022-10-27T12:13:10.884Z"
   },
   {
    "duration": 165,
    "start_time": "2022-10-27T12:13:12.421Z"
   },
   {
    "duration": 12,
    "start_time": "2022-10-27T12:13:12.588Z"
   },
   {
    "duration": 20,
    "start_time": "2022-10-27T12:13:12.602Z"
   },
   {
    "duration": 6,
    "start_time": "2022-10-27T12:13:12.624Z"
   },
   {
    "duration": 9,
    "start_time": "2022-10-27T12:13:12.632Z"
   },
   {
    "duration": 11,
    "start_time": "2022-10-27T12:13:12.643Z"
   },
   {
    "duration": 7,
    "start_time": "2022-10-27T12:13:12.656Z"
   },
   {
    "duration": 17,
    "start_time": "2022-10-27T12:13:12.665Z"
   },
   {
    "duration": 17,
    "start_time": "2022-10-27T12:13:12.685Z"
   },
   {
    "duration": 12,
    "start_time": "2022-10-27T12:13:12.704Z"
   },
   {
    "duration": 9,
    "start_time": "2022-10-27T12:13:12.718Z"
   },
   {
    "duration": 10,
    "start_time": "2022-10-27T12:13:12.728Z"
   },
   {
    "duration": 11,
    "start_time": "2022-10-27T12:13:12.740Z"
   },
   {
    "duration": 41,
    "start_time": "2022-10-27T12:13:12.752Z"
   },
   {
    "duration": 27,
    "start_time": "2022-10-27T12:13:12.795Z"
   },
   {
    "duration": 25,
    "start_time": "2022-10-27T12:13:12.823Z"
   },
   {
    "duration": 13,
    "start_time": "2022-10-27T12:13:12.849Z"
   },
   {
    "duration": 10,
    "start_time": "2022-10-27T12:13:12.864Z"
   },
   {
    "duration": 13,
    "start_time": "2022-10-27T12:13:12.875Z"
   },
   {
    "duration": 110,
    "start_time": "2022-10-27T12:13:12.890Z"
   },
   {
    "duration": 140,
    "start_time": "2022-10-27T12:13:13.002Z"
   },
   {
    "duration": 24,
    "start_time": "2022-10-27T12:14:09.007Z"
   },
   {
    "duration": 9,
    "start_time": "2022-10-27T12:14:29.609Z"
   },
   {
    "duration": 8,
    "start_time": "2022-10-27T12:14:42.161Z"
   },
   {
    "duration": 6,
    "start_time": "2022-10-27T12:14:54.370Z"
   },
   {
    "duration": 10,
    "start_time": "2022-10-27T12:15:50.658Z"
   },
   {
    "duration": 6,
    "start_time": "2022-10-27T12:15:54.975Z"
   },
   {
    "duration": 8,
    "start_time": "2022-10-27T12:17:18.896Z"
   },
   {
    "duration": 10,
    "start_time": "2022-10-27T12:17:45.462Z"
   },
   {
    "duration": 9,
    "start_time": "2022-10-27T12:18:04.475Z"
   },
   {
    "duration": 4,
    "start_time": "2022-10-27T12:23:22.454Z"
   },
   {
    "duration": 4,
    "start_time": "2022-10-27T12:23:50.968Z"
   },
   {
    "duration": 4,
    "start_time": "2022-10-27T12:31:47.722Z"
   },
   {
    "duration": 45,
    "start_time": "2022-10-27T12:38:40.471Z"
   },
   {
    "duration": 15,
    "start_time": "2022-10-27T12:38:57.891Z"
   },
   {
    "duration": 8,
    "start_time": "2022-10-27T12:39:16.372Z"
   },
   {
    "duration": 8,
    "start_time": "2022-10-27T12:39:21.939Z"
   },
   {
    "duration": 8,
    "start_time": "2022-10-27T12:42:19.996Z"
   },
   {
    "duration": 8,
    "start_time": "2022-10-27T12:42:39.031Z"
   },
   {
    "duration": 8,
    "start_time": "2022-10-27T12:43:15.158Z"
   },
   {
    "duration": 8,
    "start_time": "2022-10-27T12:43:36.863Z"
   },
   {
    "duration": 1348,
    "start_time": "2022-10-27T12:44:42.000Z"
   },
   {
    "duration": 50,
    "start_time": "2022-10-27T12:44:43.350Z"
   },
   {
    "duration": 11,
    "start_time": "2022-10-27T12:44:43.402Z"
   },
   {
    "duration": 32,
    "start_time": "2022-10-27T12:44:43.415Z"
   },
   {
    "duration": 5,
    "start_time": "2022-10-27T12:44:43.449Z"
   },
   {
    "duration": 10,
    "start_time": "2022-10-27T12:44:43.455Z"
   },
   {
    "duration": 9,
    "start_time": "2022-10-27T12:44:43.466Z"
   },
   {
    "duration": 9,
    "start_time": "2022-10-27T12:44:43.476Z"
   },
   {
    "duration": 20,
    "start_time": "2022-10-27T12:44:43.486Z"
   },
   {
    "duration": 11,
    "start_time": "2022-10-27T12:44:43.508Z"
   },
   {
    "duration": 7,
    "start_time": "2022-10-27T12:44:43.520Z"
   },
   {
    "duration": 5,
    "start_time": "2022-10-27T12:44:43.529Z"
   },
   {
    "duration": 12,
    "start_time": "2022-10-27T12:44:43.536Z"
   },
   {
    "duration": 9,
    "start_time": "2022-10-27T12:44:43.550Z"
   },
   {
    "duration": 9,
    "start_time": "2022-10-27T12:44:43.561Z"
   },
   {
    "duration": 10,
    "start_time": "2022-10-27T12:44:43.601Z"
   },
   {
    "duration": 122,
    "start_time": "2022-10-27T12:44:43.613Z"
   },
   {
    "duration": 149,
    "start_time": "2022-10-27T12:44:43.737Z"
   },
   {
    "duration": 11,
    "start_time": "2022-10-27T12:44:43.888Z"
   },
   {
    "duration": 14,
    "start_time": "2022-10-27T12:46:20.306Z"
   },
   {
    "duration": 10,
    "start_time": "2022-10-27T12:46:40.671Z"
   },
   {
    "duration": 10,
    "start_time": "2022-10-27T12:47:17.072Z"
   },
   {
    "duration": 4,
    "start_time": "2022-10-27T12:53:42.494Z"
   },
   {
    "duration": 45,
    "start_time": "2022-10-27T12:57:51.432Z"
   },
   {
    "duration": 47,
    "start_time": "2022-10-27T12:58:11.686Z"
   },
   {
    "duration": 51,
    "start_time": "2022-10-27T12:58:38.405Z"
   },
   {
    "duration": 58,
    "start_time": "2022-10-27T12:58:45.460Z"
   },
   {
    "duration": 50,
    "start_time": "2022-10-27T12:59:37.314Z"
   },
   {
    "duration": 64,
    "start_time": "2022-10-27T12:59:53.337Z"
   },
   {
    "duration": 4,
    "start_time": "2022-10-27T13:00:15.276Z"
   },
   {
    "duration": 4,
    "start_time": "2022-10-27T13:00:38.377Z"
   },
   {
    "duration": 5,
    "start_time": "2022-10-27T13:00:47.017Z"
   },
   {
    "duration": 4,
    "start_time": "2022-10-27T13:00:59.191Z"
   },
   {
    "duration": 77,
    "start_time": "2022-10-27T13:02:13.862Z"
   },
   {
    "duration": 4,
    "start_time": "2022-10-27T13:55:02.391Z"
   },
   {
    "duration": 6,
    "start_time": "2022-10-27T13:58:58.078Z"
   },
   {
    "duration": 13,
    "start_time": "2022-10-27T13:59:48.141Z"
   },
   {
    "duration": 5,
    "start_time": "2022-10-27T14:11:07.773Z"
   },
   {
    "duration": 35,
    "start_time": "2022-10-27T14:15:38.312Z"
   },
   {
    "duration": 50,
    "start_time": "2022-10-27T17:03:53.585Z"
   },
   {
    "duration": 8,
    "start_time": "2022-10-27T17:04:30.156Z"
   },
   {
    "duration": 9,
    "start_time": "2022-10-27T17:09:40.474Z"
   },
   {
    "duration": 1644,
    "start_time": "2022-10-27T17:09:53.330Z"
   },
   {
    "duration": 194,
    "start_time": "2022-10-27T17:09:54.976Z"
   },
   {
    "duration": 14,
    "start_time": "2022-10-27T17:09:55.172Z"
   },
   {
    "duration": 39,
    "start_time": "2022-10-27T17:09:55.188Z"
   },
   {
    "duration": 18,
    "start_time": "2022-10-27T17:09:55.229Z"
   },
   {
    "duration": 16,
    "start_time": "2022-10-27T17:09:55.249Z"
   },
   {
    "duration": 23,
    "start_time": "2022-10-27T17:09:55.266Z"
   },
   {
    "duration": 29,
    "start_time": "2022-10-27T17:09:55.290Z"
   },
   {
    "duration": 18,
    "start_time": "2022-10-27T17:09:55.321Z"
   },
   {
    "duration": 34,
    "start_time": "2022-10-27T17:09:55.341Z"
   },
   {
    "duration": 14,
    "start_time": "2022-10-27T17:09:55.377Z"
   },
   {
    "duration": 19,
    "start_time": "2022-10-27T17:09:55.392Z"
   },
   {
    "duration": 52,
    "start_time": "2022-10-27T17:09:55.412Z"
   },
   {
    "duration": 71,
    "start_time": "2022-10-27T17:09:55.466Z"
   },
   {
    "duration": 12,
    "start_time": "2022-10-27T17:09:55.539Z"
   },
   {
    "duration": 9,
    "start_time": "2022-10-27T17:09:55.553Z"
   },
   {
    "duration": 140,
    "start_time": "2022-10-27T17:09:55.564Z"
   },
   {
    "duration": 165,
    "start_time": "2022-10-27T17:09:55.705Z"
   },
   {
    "duration": 5,
    "start_time": "2022-10-27T17:09:55.872Z"
   },
   {
    "duration": 8,
    "start_time": "2022-10-27T17:09:55.878Z"
   },
   {
    "duration": 7,
    "start_time": "2022-10-27T17:09:55.888Z"
   },
   {
    "duration": 27,
    "start_time": "2022-10-27T17:09:55.897Z"
   },
   {
    "duration": 55,
    "start_time": "2022-10-27T17:09:55.926Z"
   },
   {
    "duration": 143,
    "start_time": "2022-10-27T17:09:55.983Z"
   },
   {
    "duration": 51,
    "start_time": "2022-10-27T19:06:49.907Z"
   },
   {
    "duration": 43,
    "start_time": "2022-10-27T19:07:24.133Z"
   },
   {
    "duration": 1615,
    "start_time": "2022-10-27T19:07:38.836Z"
   },
   {
    "duration": 179,
    "start_time": "2022-10-27T19:07:40.453Z"
   },
   {
    "duration": 12,
    "start_time": "2022-10-27T19:07:40.634Z"
   },
   {
    "duration": 20,
    "start_time": "2022-10-27T19:07:40.648Z"
   },
   {
    "duration": 5,
    "start_time": "2022-10-27T19:07:40.670Z"
   },
   {
    "duration": 5,
    "start_time": "2022-10-27T19:07:40.677Z"
   },
   {
    "duration": 7,
    "start_time": "2022-10-27T19:07:40.683Z"
   },
   {
    "duration": 8,
    "start_time": "2022-10-27T19:07:40.692Z"
   },
   {
    "duration": 10,
    "start_time": "2022-10-27T19:07:40.702Z"
   },
   {
    "duration": 14,
    "start_time": "2022-10-27T19:07:40.714Z"
   },
   {
    "duration": 10,
    "start_time": "2022-10-27T19:07:40.730Z"
   },
   {
    "duration": 6,
    "start_time": "2022-10-27T19:07:40.741Z"
   },
   {
    "duration": 32,
    "start_time": "2022-10-27T19:07:40.749Z"
   },
   {
    "duration": 10,
    "start_time": "2022-10-27T19:07:40.783Z"
   },
   {
    "duration": 9,
    "start_time": "2022-10-27T19:07:40.795Z"
   },
   {
    "duration": 9,
    "start_time": "2022-10-27T19:07:40.806Z"
   },
   {
    "duration": 151,
    "start_time": "2022-10-27T19:07:40.817Z"
   },
   {
    "duration": 156,
    "start_time": "2022-10-27T19:07:40.970Z"
   },
   {
    "duration": 5,
    "start_time": "2022-10-27T19:07:41.128Z"
   },
   {
    "duration": 8,
    "start_time": "2022-10-27T19:07:41.134Z"
   },
   {
    "duration": 7,
    "start_time": "2022-10-27T19:07:41.143Z"
   },
   {
    "duration": 32,
    "start_time": "2022-10-27T19:07:41.151Z"
   },
   {
    "duration": 28,
    "start_time": "2022-10-27T19:07:41.184Z"
   },
   {
    "duration": 130,
    "start_time": "2022-10-27T19:07:41.213Z"
   },
   {
    "duration": 30,
    "start_time": "2022-10-27T19:08:10.975Z"
   },
   {
    "duration": 32,
    "start_time": "2022-10-27T19:18:27.622Z"
   },
   {
    "duration": 29,
    "start_time": "2022-10-27T19:21:52.582Z"
   },
   {
    "duration": 28,
    "start_time": "2022-10-27T19:32:58.632Z"
   },
   {
    "duration": 28,
    "start_time": "2022-10-27T19:37:00.828Z"
   },
   {
    "duration": 35,
    "start_time": "2022-10-27T19:37:45.322Z"
   },
   {
    "duration": 33,
    "start_time": "2022-10-27T19:41:30.110Z"
   },
   {
    "duration": 29,
    "start_time": "2022-10-27T19:42:46.518Z"
   },
   {
    "duration": 30,
    "start_time": "2022-10-27T19:51:39.116Z"
   },
   {
    "duration": 30,
    "start_time": "2022-10-27T19:56:51.023Z"
   },
   {
    "duration": 38,
    "start_time": "2022-10-27T19:57:32.684Z"
   },
   {
    "duration": 1400,
    "start_time": "2022-10-27T19:57:47.590Z"
   },
   {
    "duration": 53,
    "start_time": "2022-10-27T19:57:48.992Z"
   },
   {
    "duration": 14,
    "start_time": "2022-10-27T19:57:49.046Z"
   },
   {
    "duration": 31,
    "start_time": "2022-10-27T19:57:49.062Z"
   },
   {
    "duration": 5,
    "start_time": "2022-10-27T19:57:49.095Z"
   },
   {
    "duration": 7,
    "start_time": "2022-10-27T19:57:49.101Z"
   },
   {
    "duration": 13,
    "start_time": "2022-10-27T19:57:49.110Z"
   },
   {
    "duration": 9,
    "start_time": "2022-10-27T19:57:49.125Z"
   },
   {
    "duration": 14,
    "start_time": "2022-10-27T19:57:49.135Z"
   },
   {
    "duration": 9,
    "start_time": "2022-10-27T19:57:49.151Z"
   },
   {
    "duration": 6,
    "start_time": "2022-10-27T19:57:49.161Z"
   },
   {
    "duration": 11,
    "start_time": "2022-10-27T19:57:49.176Z"
   },
   {
    "duration": 10,
    "start_time": "2022-10-27T19:57:49.189Z"
   },
   {
    "duration": 19,
    "start_time": "2022-10-27T19:57:49.201Z"
   },
   {
    "duration": 10,
    "start_time": "2022-10-27T19:57:49.222Z"
   },
   {
    "duration": 15,
    "start_time": "2022-10-27T19:57:49.233Z"
   },
   {
    "duration": 143,
    "start_time": "2022-10-27T19:57:49.249Z"
   },
   {
    "duration": 160,
    "start_time": "2022-10-27T19:57:49.394Z"
   },
   {
    "duration": 5,
    "start_time": "2022-10-27T19:57:49.555Z"
   },
   {
    "duration": 14,
    "start_time": "2022-10-27T19:57:49.562Z"
   },
   {
    "duration": 20,
    "start_time": "2022-10-27T19:57:49.580Z"
   },
   {
    "duration": 20,
    "start_time": "2022-10-27T19:57:49.602Z"
   },
   {
    "duration": 40,
    "start_time": "2022-10-27T19:57:49.624Z"
   },
   {
    "duration": 157,
    "start_time": "2022-10-27T19:57:49.667Z"
   },
   {
    "duration": 9,
    "start_time": "2022-10-27T20:06:54.393Z"
   },
   {
    "duration": 10,
    "start_time": "2022-10-27T20:08:00.244Z"
   },
   {
    "duration": 17,
    "start_time": "2022-10-27T20:08:11.848Z"
   },
   {
    "duration": 32,
    "start_time": "2022-10-27T20:10:45.422Z"
   },
   {
    "duration": 31,
    "start_time": "2022-10-27T20:12:21.942Z"
   },
   {
    "duration": 103,
    "start_time": "2022-10-27T20:13:56.339Z"
   },
   {
    "duration": 56,
    "start_time": "2022-10-28T05:57:47.158Z"
   },
   {
    "duration": 1570,
    "start_time": "2022-10-28T05:57:59.202Z"
   },
   {
    "duration": 188,
    "start_time": "2022-10-28T05:58:00.774Z"
   },
   {
    "duration": 11,
    "start_time": "2022-10-28T05:58:00.964Z"
   },
   {
    "duration": 26,
    "start_time": "2022-10-28T05:58:00.977Z"
   },
   {
    "duration": 6,
    "start_time": "2022-10-28T05:58:01.004Z"
   },
   {
    "duration": 24,
    "start_time": "2022-10-28T05:58:01.011Z"
   },
   {
    "duration": 16,
    "start_time": "2022-10-28T05:58:01.037Z"
   },
   {
    "duration": 20,
    "start_time": "2022-10-28T05:58:01.054Z"
   },
   {
    "duration": 21,
    "start_time": "2022-10-28T05:58:01.076Z"
   },
   {
    "duration": 25,
    "start_time": "2022-10-28T05:58:01.099Z"
   },
   {
    "duration": 24,
    "start_time": "2022-10-28T05:58:01.126Z"
   },
   {
    "duration": 21,
    "start_time": "2022-10-28T05:58:01.152Z"
   },
   {
    "duration": 17,
    "start_time": "2022-10-28T05:58:01.175Z"
   },
   {
    "duration": 29,
    "start_time": "2022-10-28T05:58:01.193Z"
   },
   {
    "duration": 10,
    "start_time": "2022-10-28T05:58:01.224Z"
   },
   {
    "duration": 26,
    "start_time": "2022-10-28T05:58:01.235Z"
   },
   {
    "duration": 122,
    "start_time": "2022-10-28T05:58:01.262Z"
   },
   {
    "duration": 147,
    "start_time": "2022-10-28T05:58:01.386Z"
   },
   {
    "duration": 5,
    "start_time": "2022-10-28T05:58:01.536Z"
   },
   {
    "duration": 18,
    "start_time": "2022-10-28T05:58:01.542Z"
   },
   {
    "duration": 10,
    "start_time": "2022-10-28T05:58:01.562Z"
   },
   {
    "duration": 25,
    "start_time": "2022-10-28T05:58:01.573Z"
   },
   {
    "duration": 45,
    "start_time": "2022-10-28T05:58:01.599Z"
   },
   {
    "duration": 145,
    "start_time": "2022-10-28T05:58:01.646Z"
   },
   {
    "duration": 54,
    "start_time": "2022-10-28T07:41:11.192Z"
   },
   {
    "duration": 15,
    "start_time": "2022-10-28T08:37:59.982Z"
   },
   {
    "duration": 330,
    "start_time": "2022-10-28T08:38:06.803Z"
   },
   {
    "duration": 1463,
    "start_time": "2022-10-28T08:38:21.040Z"
   },
   {
    "duration": 63,
    "start_time": "2022-10-28T08:38:22.505Z"
   },
   {
    "duration": 11,
    "start_time": "2022-10-28T08:38:22.569Z"
   },
   {
    "duration": 22,
    "start_time": "2022-10-28T08:38:22.581Z"
   },
   {
    "duration": 16,
    "start_time": "2022-10-28T08:38:22.605Z"
   },
   {
    "duration": 27,
    "start_time": "2022-10-28T08:38:22.622Z"
   },
   {
    "duration": 8,
    "start_time": "2022-10-28T08:38:22.650Z"
   },
   {
    "duration": 7,
    "start_time": "2022-10-28T08:38:22.659Z"
   },
   {
    "duration": 12,
    "start_time": "2022-10-28T08:38:22.667Z"
   },
   {
    "duration": 11,
    "start_time": "2022-10-28T08:38:22.680Z"
   },
   {
    "duration": 6,
    "start_time": "2022-10-28T08:38:22.692Z"
   },
   {
    "duration": 6,
    "start_time": "2022-10-28T08:38:22.699Z"
   },
   {
    "duration": 17,
    "start_time": "2022-10-28T08:38:22.723Z"
   },
   {
    "duration": 19,
    "start_time": "2022-10-28T08:38:22.742Z"
   },
   {
    "duration": 65,
    "start_time": "2022-10-28T08:38:22.762Z"
   },
   {
    "duration": 9,
    "start_time": "2022-10-28T08:38:22.835Z"
   },
   {
    "duration": 132,
    "start_time": "2022-10-28T08:38:22.846Z"
   },
   {
    "duration": 157,
    "start_time": "2022-10-28T08:38:22.980Z"
   },
   {
    "duration": 6,
    "start_time": "2022-10-28T08:38:23.139Z"
   },
   {
    "duration": 7,
    "start_time": "2022-10-28T08:38:23.147Z"
   },
   {
    "duration": 5,
    "start_time": "2022-10-28T08:38:23.156Z"
   },
   {
    "duration": 14,
    "start_time": "2022-10-28T08:38:23.163Z"
   },
   {
    "duration": 60,
    "start_time": "2022-10-28T08:38:23.179Z"
   },
   {
    "duration": 438,
    "start_time": "2022-10-28T08:38:23.241Z"
   },
   {
    "duration": 0,
    "start_time": "2022-10-28T08:38:23.680Z"
   },
   {
    "duration": 21,
    "start_time": "2022-10-28T08:56:38.526Z"
   },
   {
    "duration": 13,
    "start_time": "2022-10-28T08:56:53.755Z"
   },
   {
    "duration": 1400,
    "start_time": "2022-10-28T08:57:11.536Z"
   },
   {
    "duration": 54,
    "start_time": "2022-10-28T08:57:12.938Z"
   },
   {
    "duration": 11,
    "start_time": "2022-10-28T08:57:12.993Z"
   },
   {
    "duration": 23,
    "start_time": "2022-10-28T08:57:13.006Z"
   },
   {
    "duration": 5,
    "start_time": "2022-10-28T08:57:13.031Z"
   },
   {
    "duration": 6,
    "start_time": "2022-10-28T08:57:13.038Z"
   },
   {
    "duration": 7,
    "start_time": "2022-10-28T08:57:13.046Z"
   },
   {
    "duration": 17,
    "start_time": "2022-10-28T08:57:13.054Z"
   },
   {
    "duration": 11,
    "start_time": "2022-10-28T08:57:13.073Z"
   },
   {
    "duration": 10,
    "start_time": "2022-10-28T08:57:13.108Z"
   },
   {
    "duration": 7,
    "start_time": "2022-10-28T08:57:13.120Z"
   },
   {
    "duration": 10,
    "start_time": "2022-10-28T08:57:13.128Z"
   },
   {
    "duration": 7,
    "start_time": "2022-10-28T08:57:13.140Z"
   },
   {
    "duration": 10,
    "start_time": "2022-10-28T08:57:13.149Z"
   },
   {
    "duration": 10,
    "start_time": "2022-10-28T08:57:13.160Z"
   },
   {
    "duration": 44,
    "start_time": "2022-10-28T08:57:13.171Z"
   },
   {
    "duration": 129,
    "start_time": "2022-10-28T08:57:13.217Z"
   },
   {
    "duration": 152,
    "start_time": "2022-10-28T08:57:13.348Z"
   },
   {
    "duration": 5,
    "start_time": "2022-10-28T08:57:13.508Z"
   },
   {
    "duration": 7,
    "start_time": "2022-10-28T08:57:13.515Z"
   },
   {
    "duration": 8,
    "start_time": "2022-10-28T08:57:13.524Z"
   },
   {
    "duration": 23,
    "start_time": "2022-10-28T08:57:13.534Z"
   },
   {
    "duration": 19,
    "start_time": "2022-10-28T08:57:13.559Z"
   },
   {
    "duration": 29,
    "start_time": "2022-10-28T08:57:13.580Z"
   },
   {
    "duration": 161,
    "start_time": "2022-10-28T08:57:13.611Z"
   },
   {
    "duration": 18,
    "start_time": "2022-10-28T08:57:50.055Z"
   },
   {
    "duration": 8,
    "start_time": "2022-10-28T08:59:21.450Z"
   },
   {
    "duration": 16,
    "start_time": "2022-10-28T08:59:53.160Z"
   },
   {
    "duration": 16,
    "start_time": "2022-10-28T09:24:10.734Z"
   },
   {
    "duration": 12,
    "start_time": "2022-10-28T09:24:59.783Z"
   },
   {
    "duration": 1663,
    "start_time": "2022-10-28T09:25:11.731Z"
   },
   {
    "duration": 69,
    "start_time": "2022-10-28T09:25:13.395Z"
   },
   {
    "duration": 12,
    "start_time": "2022-10-28T09:25:13.466Z"
   },
   {
    "duration": 19,
    "start_time": "2022-10-28T09:25:13.480Z"
   },
   {
    "duration": 5,
    "start_time": "2022-10-28T09:25:13.501Z"
   },
   {
    "duration": 30,
    "start_time": "2022-10-28T09:25:13.516Z"
   },
   {
    "duration": 13,
    "start_time": "2022-10-28T09:25:13.548Z"
   },
   {
    "duration": 7,
    "start_time": "2022-10-28T09:25:13.562Z"
   },
   {
    "duration": 13,
    "start_time": "2022-10-28T09:25:13.571Z"
   },
   {
    "duration": 10,
    "start_time": "2022-10-28T09:25:13.586Z"
   },
   {
    "duration": 7,
    "start_time": "2022-10-28T09:25:13.598Z"
   },
   {
    "duration": 35,
    "start_time": "2022-10-28T09:25:13.606Z"
   },
   {
    "duration": 10,
    "start_time": "2022-10-28T09:25:13.642Z"
   },
   {
    "duration": 9,
    "start_time": "2022-10-28T09:25:13.653Z"
   },
   {
    "duration": 11,
    "start_time": "2022-10-28T09:25:13.663Z"
   },
   {
    "duration": 9,
    "start_time": "2022-10-28T09:25:13.676Z"
   },
   {
    "duration": 129,
    "start_time": "2022-10-28T09:25:13.686Z"
   },
   {
    "duration": 170,
    "start_time": "2022-10-28T09:25:13.816Z"
   },
   {
    "duration": 6,
    "start_time": "2022-10-28T09:25:13.987Z"
   },
   {
    "duration": 17,
    "start_time": "2022-10-28T09:25:13.995Z"
   },
   {
    "duration": 5,
    "start_time": "2022-10-28T09:25:14.014Z"
   },
   {
    "duration": 34,
    "start_time": "2022-10-28T09:25:14.021Z"
   },
   {
    "duration": 18,
    "start_time": "2022-10-28T09:25:14.057Z"
   },
   {
    "duration": 17,
    "start_time": "2022-10-28T09:25:14.076Z"
   },
   {
    "duration": 59,
    "start_time": "2022-10-28T09:25:14.094Z"
   },
   {
    "duration": 178,
    "start_time": "2022-10-28T09:25:14.154Z"
   },
   {
    "duration": 518,
    "start_time": "2022-10-28T09:26:05.334Z"
   },
   {
    "duration": 444,
    "start_time": "2022-10-28T09:26:36.633Z"
   },
   {
    "duration": 484,
    "start_time": "2022-10-28T09:27:43.703Z"
   },
   {
    "duration": 51,
    "start_time": "2022-10-28T09:29:57.745Z"
   },
   {
    "duration": 116,
    "start_time": "2022-10-28T09:34:36.301Z"
   },
   {
    "duration": 33,
    "start_time": "2022-10-28T09:37:58.430Z"
   },
   {
    "duration": 34,
    "start_time": "2022-10-28T09:41:18.186Z"
   },
   {
    "duration": 33,
    "start_time": "2022-10-28T09:41:43.157Z"
   },
   {
    "duration": 34,
    "start_time": "2022-10-28T09:41:49.924Z"
   },
   {
    "duration": 32,
    "start_time": "2022-10-28T09:42:22.375Z"
   },
   {
    "duration": 32,
    "start_time": "2022-10-28T09:42:45.848Z"
   },
   {
    "duration": 210,
    "start_time": "2022-10-28T09:44:57.286Z"
   },
   {
    "duration": 16,
    "start_time": "2022-10-28T09:45:24.469Z"
   },
   {
    "duration": 1469,
    "start_time": "2022-10-28T09:45:54.114Z"
   },
   {
    "duration": 61,
    "start_time": "2022-10-28T09:45:55.585Z"
   },
   {
    "duration": 12,
    "start_time": "2022-10-28T09:45:55.647Z"
   },
   {
    "duration": 20,
    "start_time": "2022-10-28T09:45:55.662Z"
   },
   {
    "duration": 8,
    "start_time": "2022-10-28T09:45:55.684Z"
   },
   {
    "duration": 8,
    "start_time": "2022-10-28T09:45:55.710Z"
   },
   {
    "duration": 10,
    "start_time": "2022-10-28T09:45:55.719Z"
   },
   {
    "duration": 6,
    "start_time": "2022-10-28T09:45:55.730Z"
   },
   {
    "duration": 11,
    "start_time": "2022-10-28T09:45:55.738Z"
   },
   {
    "duration": 9,
    "start_time": "2022-10-28T09:45:55.752Z"
   },
   {
    "duration": 8,
    "start_time": "2022-10-28T09:45:55.763Z"
   },
   {
    "duration": 37,
    "start_time": "2022-10-28T09:45:55.773Z"
   },
   {
    "duration": 8,
    "start_time": "2022-10-28T09:45:55.812Z"
   },
   {
    "duration": 10,
    "start_time": "2022-10-28T09:45:55.821Z"
   },
   {
    "duration": 8,
    "start_time": "2022-10-28T09:45:55.833Z"
   },
   {
    "duration": 8,
    "start_time": "2022-10-28T09:45:55.843Z"
   },
   {
    "duration": 157,
    "start_time": "2022-10-28T09:45:55.853Z"
   },
   {
    "duration": 156,
    "start_time": "2022-10-28T09:45:56.012Z"
   },
   {
    "duration": 7,
    "start_time": "2022-10-28T09:45:56.170Z"
   },
   {
    "duration": 9,
    "start_time": "2022-10-28T09:45:56.179Z"
   },
   {
    "duration": 20,
    "start_time": "2022-10-28T09:45:56.189Z"
   },
   {
    "duration": 16,
    "start_time": "2022-10-28T09:45:56.211Z"
   },
   {
    "duration": 20,
    "start_time": "2022-10-28T09:45:56.229Z"
   },
   {
    "duration": 19,
    "start_time": "2022-10-28T09:45:56.250Z"
   },
   {
    "duration": 45,
    "start_time": "2022-10-28T09:45:56.271Z"
   },
   {
    "duration": 162,
    "start_time": "2022-10-28T09:45:56.318Z"
   },
   {
    "duration": 16,
    "start_time": "2022-10-28T09:46:23.773Z"
   },
   {
    "duration": 18,
    "start_time": "2022-10-28T09:47:03.744Z"
   },
   {
    "duration": 48,
    "start_time": "2022-10-28T09:48:44.275Z"
   },
   {
    "duration": 93,
    "start_time": "2022-10-28T09:49:33.330Z"
   },
   {
    "duration": 30,
    "start_time": "2022-10-28T09:56:31.968Z"
   },
   {
    "duration": 31,
    "start_time": "2022-10-28T10:02:09.847Z"
   },
   {
    "duration": 32,
    "start_time": "2022-10-28T10:03:01.642Z"
   },
   {
    "duration": 32,
    "start_time": "2022-10-28T10:03:17.156Z"
   },
   {
    "duration": 56,
    "start_time": "2022-10-28T11:07:57.397Z"
   },
   {
    "duration": 72,
    "start_time": "2022-10-28T11:30:33.157Z"
   },
   {
    "duration": 1355,
    "start_time": "2022-10-28T11:52:08.453Z"
   },
   {
    "duration": 55,
    "start_time": "2022-10-28T11:52:09.810Z"
   },
   {
    "duration": 12,
    "start_time": "2022-10-28T11:52:09.866Z"
   },
   {
    "duration": 18,
    "start_time": "2022-10-28T11:52:09.880Z"
   },
   {
    "duration": 6,
    "start_time": "2022-10-28T11:52:09.900Z"
   },
   {
    "duration": 7,
    "start_time": "2022-10-28T11:52:09.907Z"
   },
   {
    "duration": 9,
    "start_time": "2022-10-28T11:52:09.915Z"
   },
   {
    "duration": 6,
    "start_time": "2022-10-28T11:52:09.925Z"
   },
   {
    "duration": 12,
    "start_time": "2022-10-28T11:52:09.932Z"
   },
   {
    "duration": 9,
    "start_time": "2022-10-28T11:52:09.946Z"
   },
   {
    "duration": 6,
    "start_time": "2022-10-28T11:52:09.957Z"
   },
   {
    "duration": 6,
    "start_time": "2022-10-28T11:52:09.964Z"
   },
   {
    "duration": 11,
    "start_time": "2022-10-28T11:52:10.009Z"
   },
   {
    "duration": 11,
    "start_time": "2022-10-28T11:52:10.021Z"
   },
   {
    "duration": 15,
    "start_time": "2022-10-28T11:52:10.033Z"
   },
   {
    "duration": 12,
    "start_time": "2022-10-28T11:52:10.049Z"
   },
   {
    "duration": 135,
    "start_time": "2022-10-28T11:52:10.062Z"
   },
   {
    "duration": 158,
    "start_time": "2022-10-28T11:52:10.200Z"
   },
   {
    "duration": 5,
    "start_time": "2022-10-28T11:52:10.360Z"
   },
   {
    "duration": 10,
    "start_time": "2022-10-28T11:52:10.367Z"
   },
   {
    "duration": 12,
    "start_time": "2022-10-28T11:52:10.379Z"
   },
   {
    "duration": 21,
    "start_time": "2022-10-28T11:52:10.393Z"
   },
   {
    "duration": 18,
    "start_time": "2022-10-28T11:52:10.416Z"
   },
   {
    "duration": 17,
    "start_time": "2022-10-28T11:52:10.436Z"
   },
   {
    "duration": 24,
    "start_time": "2022-10-28T11:52:10.454Z"
   },
   {
    "duration": 127,
    "start_time": "2022-10-28T11:59:06.771Z"
   },
   {
    "duration": 15,
    "start_time": "2022-10-28T12:01:45.428Z"
   },
   {
    "duration": 14,
    "start_time": "2022-10-28T12:03:04.633Z"
   },
   {
    "duration": 5,
    "start_time": "2022-10-28T12:03:25.260Z"
   },
   {
    "duration": 4,
    "start_time": "2022-10-28T12:04:34.875Z"
   },
   {
    "duration": 14,
    "start_time": "2022-10-28T12:04:37.397Z"
   },
   {
    "duration": 19,
    "start_time": "2022-10-28T12:10:46.286Z"
   },
   {
    "duration": 10,
    "start_time": "2022-10-28T12:11:55.860Z"
   },
   {
    "duration": 11,
    "start_time": "2022-10-28T12:13:10.942Z"
   },
   {
    "duration": 13,
    "start_time": "2022-10-28T12:13:26.251Z"
   },
   {
    "duration": 1405,
    "start_time": "2022-10-28T12:13:52.129Z"
   },
   {
    "duration": 54,
    "start_time": "2022-10-28T12:13:53.536Z"
   },
   {
    "duration": 13,
    "start_time": "2022-10-28T12:13:53.591Z"
   },
   {
    "duration": 28,
    "start_time": "2022-10-28T12:13:53.606Z"
   },
   {
    "duration": 7,
    "start_time": "2022-10-28T12:13:53.636Z"
   },
   {
    "duration": 21,
    "start_time": "2022-10-28T12:13:53.644Z"
   },
   {
    "duration": 17,
    "start_time": "2022-10-28T12:13:53.666Z"
   },
   {
    "duration": 13,
    "start_time": "2022-10-28T12:13:53.684Z"
   },
   {
    "duration": 19,
    "start_time": "2022-10-28T12:13:53.698Z"
   },
   {
    "duration": 18,
    "start_time": "2022-10-28T12:13:53.719Z"
   },
   {
    "duration": 18,
    "start_time": "2022-10-28T12:13:53.739Z"
   },
   {
    "duration": 21,
    "start_time": "2022-10-28T12:13:53.759Z"
   },
   {
    "duration": 18,
    "start_time": "2022-10-28T12:13:53.782Z"
   },
   {
    "duration": 20,
    "start_time": "2022-10-28T12:13:53.801Z"
   },
   {
    "duration": 20,
    "start_time": "2022-10-28T12:13:53.822Z"
   },
   {
    "duration": 16,
    "start_time": "2022-10-28T12:13:53.844Z"
   },
   {
    "duration": 140,
    "start_time": "2022-10-28T12:13:53.861Z"
   },
   {
    "duration": 158,
    "start_time": "2022-10-28T12:13:54.003Z"
   },
   {
    "duration": 5,
    "start_time": "2022-10-28T12:13:54.162Z"
   },
   {
    "duration": 22,
    "start_time": "2022-10-28T12:13:54.169Z"
   },
   {
    "duration": 10,
    "start_time": "2022-10-28T12:13:54.193Z"
   },
   {
    "duration": 34,
    "start_time": "2022-10-28T12:13:54.204Z"
   },
   {
    "duration": 18,
    "start_time": "2022-10-28T12:13:54.240Z"
   },
   {
    "duration": 16,
    "start_time": "2022-10-28T12:13:54.260Z"
   },
   {
    "duration": 36,
    "start_time": "2022-10-28T12:13:54.278Z"
   },
   {
    "duration": 8,
    "start_time": "2022-10-28T12:13:54.315Z"
   },
   {
    "duration": 149,
    "start_time": "2022-10-28T12:13:54.324Z"
   },
   {
    "duration": 11,
    "start_time": "2022-10-28T12:15:15.779Z"
   },
   {
    "duration": 5,
    "start_time": "2022-10-28T12:32:29.284Z"
   },
   {
    "duration": 5,
    "start_time": "2022-10-28T12:32:56.673Z"
   },
   {
    "duration": 1340,
    "start_time": "2022-10-28T12:33:15.265Z"
   },
   {
    "duration": 59,
    "start_time": "2022-10-28T12:33:16.606Z"
   },
   {
    "duration": 12,
    "start_time": "2022-10-28T12:33:16.666Z"
   },
   {
    "duration": 17,
    "start_time": "2022-10-28T12:33:16.680Z"
   },
   {
    "duration": 6,
    "start_time": "2022-10-28T12:33:16.699Z"
   },
   {
    "duration": 8,
    "start_time": "2022-10-28T12:33:16.706Z"
   },
   {
    "duration": 7,
    "start_time": "2022-10-28T12:33:16.715Z"
   },
   {
    "duration": 6,
    "start_time": "2022-10-28T12:33:16.724Z"
   },
   {
    "duration": 18,
    "start_time": "2022-10-28T12:33:16.732Z"
   },
   {
    "duration": 31,
    "start_time": "2022-10-28T12:33:16.752Z"
   },
   {
    "duration": 16,
    "start_time": "2022-10-28T12:33:16.784Z"
   },
   {
    "duration": 14,
    "start_time": "2022-10-28T12:33:16.801Z"
   },
   {
    "duration": 32,
    "start_time": "2022-10-28T12:33:16.816Z"
   },
   {
    "duration": 24,
    "start_time": "2022-10-28T12:33:16.849Z"
   },
   {
    "duration": 9,
    "start_time": "2022-10-28T12:33:16.874Z"
   },
   {
    "duration": 10,
    "start_time": "2022-10-28T12:33:16.885Z"
   },
   {
    "duration": 129,
    "start_time": "2022-10-28T12:33:16.896Z"
   },
   {
    "duration": 147,
    "start_time": "2022-10-28T12:33:17.027Z"
   },
   {
    "duration": 5,
    "start_time": "2022-10-28T12:33:17.175Z"
   },
   {
    "duration": 15,
    "start_time": "2022-10-28T12:33:17.181Z"
   },
   {
    "duration": 13,
    "start_time": "2022-10-28T12:33:17.197Z"
   },
   {
    "duration": 16,
    "start_time": "2022-10-28T12:33:17.212Z"
   },
   {
    "duration": 34,
    "start_time": "2022-10-28T12:33:17.230Z"
   },
   {
    "duration": 18,
    "start_time": "2022-10-28T12:33:17.266Z"
   },
   {
    "duration": 32,
    "start_time": "2022-10-28T12:33:17.285Z"
   },
   {
    "duration": 8,
    "start_time": "2022-10-28T12:33:17.319Z"
   },
   {
    "duration": 19,
    "start_time": "2022-10-28T12:33:17.329Z"
   },
   {
    "duration": 13,
    "start_time": "2022-10-28T12:33:52.801Z"
   },
   {
    "duration": 8,
    "start_time": "2022-10-29T09:21:53.544Z"
   },
   {
    "duration": 55,
    "start_time": "2022-10-29T09:21:59.546Z"
   },
   {
    "duration": 3,
    "start_time": "2022-10-29T09:22:04.194Z"
   },
   {
    "duration": 1688,
    "start_time": "2022-10-29T09:22:14.702Z"
   },
   {
    "duration": 191,
    "start_time": "2022-10-29T09:22:16.394Z"
   },
   {
    "duration": 13,
    "start_time": "2022-10-29T09:22:16.587Z"
   },
   {
    "duration": 23,
    "start_time": "2022-10-29T09:22:16.602Z"
   },
   {
    "duration": 5,
    "start_time": "2022-10-29T09:22:16.627Z"
   },
   {
    "duration": 7,
    "start_time": "2022-10-29T09:22:16.633Z"
   },
   {
    "duration": 9,
    "start_time": "2022-10-29T09:22:16.642Z"
   },
   {
    "duration": 7,
    "start_time": "2022-10-29T09:22:16.653Z"
   },
   {
    "duration": 13,
    "start_time": "2022-10-29T09:22:16.661Z"
   },
   {
    "duration": 11,
    "start_time": "2022-10-29T09:22:16.677Z"
   },
   {
    "duration": 6,
    "start_time": "2022-10-29T09:22:16.690Z"
   },
   {
    "duration": 6,
    "start_time": "2022-10-29T09:22:16.697Z"
   },
   {
    "duration": 33,
    "start_time": "2022-10-29T09:22:16.705Z"
   },
   {
    "duration": 9,
    "start_time": "2022-10-29T09:22:16.739Z"
   },
   {
    "duration": 13,
    "start_time": "2022-10-29T09:22:16.749Z"
   },
   {
    "duration": 10,
    "start_time": "2022-10-29T09:22:16.763Z"
   },
   {
    "duration": 154,
    "start_time": "2022-10-29T09:22:16.775Z"
   },
   {
    "duration": 151,
    "start_time": "2022-10-29T09:22:16.932Z"
   },
   {
    "duration": 5,
    "start_time": "2022-10-29T09:22:17.085Z"
   },
   {
    "duration": 9,
    "start_time": "2022-10-29T09:22:17.092Z"
   },
   {
    "duration": 5,
    "start_time": "2022-10-29T09:22:17.103Z"
   },
   {
    "duration": 34,
    "start_time": "2022-10-29T09:22:17.110Z"
   },
   {
    "duration": 35,
    "start_time": "2022-10-29T09:22:17.146Z"
   },
   {
    "duration": 18,
    "start_time": "2022-10-29T09:22:17.182Z"
   },
   {
    "duration": 19,
    "start_time": "2022-10-29T09:22:17.201Z"
   },
   {
    "duration": 16,
    "start_time": "2022-10-29T09:22:17.221Z"
   },
   {
    "duration": 48,
    "start_time": "2022-10-29T09:22:17.238Z"
   },
   {
    "duration": 0,
    "start_time": "2022-10-29T09:22:17.288Z"
   },
   {
    "duration": 45,
    "start_time": "2022-10-29T09:22:43.138Z"
   },
   {
    "duration": 5,
    "start_time": "2022-10-29T09:23:06.881Z"
   },
   {
    "duration": 4,
    "start_time": "2022-10-29T09:23:09.259Z"
   },
   {
    "duration": 115,
    "start_time": "2022-10-29T09:38:57.912Z"
   },
   {
    "duration": 233,
    "start_time": "2022-10-29T09:39:25.011Z"
   },
   {
    "duration": 200,
    "start_time": "2022-10-29T09:40:23.329Z"
   },
   {
    "duration": 262,
    "start_time": "2022-10-29T09:40:37.732Z"
   },
   {
    "duration": 1392,
    "start_time": "2022-10-29T09:40:50.563Z"
   },
   {
    "duration": 57,
    "start_time": "2022-10-29T09:40:51.957Z"
   },
   {
    "duration": 13,
    "start_time": "2022-10-29T09:40:52.016Z"
   },
   {
    "duration": 23,
    "start_time": "2022-10-29T09:40:52.030Z"
   },
   {
    "duration": 7,
    "start_time": "2022-10-29T09:40:52.054Z"
   },
   {
    "duration": 8,
    "start_time": "2022-10-29T09:40:52.062Z"
   },
   {
    "duration": 7,
    "start_time": "2022-10-29T09:40:52.072Z"
   },
   {
    "duration": 6,
    "start_time": "2022-10-29T09:40:52.081Z"
   },
   {
    "duration": 44,
    "start_time": "2022-10-29T09:40:52.089Z"
   },
   {
    "duration": 11,
    "start_time": "2022-10-29T09:40:52.137Z"
   },
   {
    "duration": 11,
    "start_time": "2022-10-29T09:40:52.149Z"
   },
   {
    "duration": 8,
    "start_time": "2022-10-29T09:40:52.162Z"
   },
   {
    "duration": 10,
    "start_time": "2022-10-29T09:40:52.172Z"
   },
   {
    "duration": 18,
    "start_time": "2022-10-29T09:40:52.184Z"
   },
   {
    "duration": 30,
    "start_time": "2022-10-29T09:40:52.204Z"
   },
   {
    "duration": 10,
    "start_time": "2022-10-29T09:40:52.236Z"
   },
   {
    "duration": 144,
    "start_time": "2022-10-29T09:40:52.247Z"
   },
   {
    "duration": 160,
    "start_time": "2022-10-29T09:40:52.392Z"
   },
   {
    "duration": 5,
    "start_time": "2022-10-29T09:40:52.554Z"
   },
   {
    "duration": 26,
    "start_time": "2022-10-29T09:40:52.560Z"
   },
   {
    "duration": 29,
    "start_time": "2022-10-29T09:40:52.588Z"
   },
   {
    "duration": 57,
    "start_time": "2022-10-29T09:40:52.619Z"
   },
   {
    "duration": 71,
    "start_time": "2022-10-29T09:40:52.678Z"
   },
   {
    "duration": 28,
    "start_time": "2022-10-29T09:40:52.751Z"
   },
   {
    "duration": 44,
    "start_time": "2022-10-29T09:40:52.781Z"
   },
   {
    "duration": 59,
    "start_time": "2022-10-29T09:40:52.827Z"
   },
   {
    "duration": 13,
    "start_time": "2022-10-29T09:40:52.887Z"
   },
   {
    "duration": 28,
    "start_time": "2022-10-29T09:40:52.903Z"
   },
   {
    "duration": 12,
    "start_time": "2022-10-29T09:41:22.948Z"
   },
   {
    "duration": 4,
    "start_time": "2022-10-29T09:43:01.872Z"
   },
   {
    "duration": 27,
    "start_time": "2022-10-29T09:43:04.449Z"
   },
   {
    "duration": 11,
    "start_time": "2022-10-29T09:43:35.553Z"
   },
   {
    "duration": 22,
    "start_time": "2022-10-29T09:43:47.381Z"
   },
   {
    "duration": 22,
    "start_time": "2022-10-29T09:44:06.127Z"
   },
   {
    "duration": 5,
    "start_time": "2022-10-29T09:45:28.749Z"
   },
   {
    "duration": 115,
    "start_time": "2022-10-29T09:45:50.525Z"
   },
   {
    "duration": 8,
    "start_time": "2022-10-29T09:46:38.197Z"
   },
   {
    "duration": 20,
    "start_time": "2022-10-29T09:47:11.713Z"
   },
   {
    "duration": 43,
    "start_time": "2022-10-29T10:17:11.444Z"
   },
   {
    "duration": 45,
    "start_time": "2022-10-29T10:18:22.165Z"
   },
   {
    "duration": 5,
    "start_time": "2022-10-29T10:19:11.010Z"
   },
   {
    "duration": 30,
    "start_time": "2022-10-29T10:19:16.626Z"
   },
   {
    "duration": 23,
    "start_time": "2022-10-29T10:19:19.943Z"
   },
   {
    "duration": 6,
    "start_time": "2022-10-29T10:22:48.312Z"
   },
   {
    "duration": 45,
    "start_time": "2022-10-29T10:22:50.984Z"
   },
   {
    "duration": 16,
    "start_time": "2022-10-29T10:22:52.902Z"
   },
   {
    "duration": 5,
    "start_time": "2022-10-29T10:23:30.820Z"
   },
   {
    "duration": 6,
    "start_time": "2022-10-29T10:32:28.829Z"
   },
   {
    "duration": 31,
    "start_time": "2022-10-29T10:32:31.795Z"
   },
   {
    "duration": 15,
    "start_time": "2022-10-29T10:32:37.560Z"
   },
   {
    "duration": 4,
    "start_time": "2022-10-29T10:32:44.207Z"
   },
   {
    "duration": 6,
    "start_time": "2022-10-29T10:35:32.127Z"
   },
   {
    "duration": 33,
    "start_time": "2022-10-29T10:35:34.756Z"
   },
   {
    "duration": 14,
    "start_time": "2022-10-29T10:35:41.991Z"
   },
   {
    "duration": 3,
    "start_time": "2022-10-29T10:35:47.348Z"
   },
   {
    "duration": 7,
    "start_time": "2022-10-29T10:40:33.701Z"
   },
   {
    "duration": 33,
    "start_time": "2022-10-29T10:40:36.061Z"
   },
   {
    "duration": 16,
    "start_time": "2022-10-29T10:40:40.004Z"
   },
   {
    "duration": 4,
    "start_time": "2022-10-29T10:40:49.040Z"
   },
   {
    "duration": 9,
    "start_time": "2022-10-29T10:43:06.387Z"
   },
   {
    "duration": 34,
    "start_time": "2022-10-29T10:43:09.942Z"
   },
   {
    "duration": 18,
    "start_time": "2022-10-29T10:43:12.136Z"
   },
   {
    "duration": 5,
    "start_time": "2022-10-29T10:43:16.468Z"
   },
   {
    "duration": 6,
    "start_time": "2022-10-29T10:46:04.174Z"
   },
   {
    "duration": 39,
    "start_time": "2022-10-29T10:46:06.360Z"
   },
   {
    "duration": 14,
    "start_time": "2022-10-29T10:46:09.512Z"
   },
   {
    "duration": 6,
    "start_time": "2022-10-29T10:49:29.801Z"
   },
   {
    "duration": 35,
    "start_time": "2022-10-29T10:49:33.540Z"
   },
   {
    "duration": 14,
    "start_time": "2022-10-29T10:49:35.561Z"
   },
   {
    "duration": 15,
    "start_time": "2022-10-29T10:51:06.052Z"
   },
   {
    "duration": 6,
    "start_time": "2022-10-29T10:51:11.861Z"
   },
   {
    "duration": 35,
    "start_time": "2022-10-29T10:51:14.565Z"
   },
   {
    "duration": 14,
    "start_time": "2022-10-29T10:51:16.680Z"
   },
   {
    "duration": 4,
    "start_time": "2022-10-29T10:51:21.446Z"
   },
   {
    "duration": 1397,
    "start_time": "2022-10-29T10:51:34.555Z"
   },
   {
    "duration": 57,
    "start_time": "2022-10-29T10:51:35.954Z"
   },
   {
    "duration": 13,
    "start_time": "2022-10-29T10:51:36.013Z"
   },
   {
    "duration": 21,
    "start_time": "2022-10-29T10:51:36.027Z"
   },
   {
    "duration": 5,
    "start_time": "2022-10-29T10:51:36.051Z"
   },
   {
    "duration": 6,
    "start_time": "2022-10-29T10:51:36.058Z"
   },
   {
    "duration": 9,
    "start_time": "2022-10-29T10:51:36.066Z"
   },
   {
    "duration": 6,
    "start_time": "2022-10-29T10:51:36.077Z"
   },
   {
    "duration": 13,
    "start_time": "2022-10-29T10:51:36.085Z"
   },
   {
    "duration": 35,
    "start_time": "2022-10-29T10:51:36.100Z"
   },
   {
    "duration": 7,
    "start_time": "2022-10-29T10:51:36.137Z"
   },
   {
    "duration": 5,
    "start_time": "2022-10-29T10:51:36.147Z"
   },
   {
    "duration": 10,
    "start_time": "2022-10-29T10:51:36.153Z"
   },
   {
    "duration": 12,
    "start_time": "2022-10-29T10:51:36.166Z"
   },
   {
    "duration": 9,
    "start_time": "2022-10-29T10:51:36.179Z"
   },
   {
    "duration": 10,
    "start_time": "2022-10-29T10:51:36.190Z"
   },
   {
    "duration": 208,
    "start_time": "2022-10-29T10:51:36.202Z"
   },
   {
    "duration": 197,
    "start_time": "2022-10-29T10:51:36.412Z"
   },
   {
    "duration": 5,
    "start_time": "2022-10-29T10:51:36.611Z"
   },
   {
    "duration": 15,
    "start_time": "2022-10-29T10:51:36.618Z"
   },
   {
    "duration": 6,
    "start_time": "2022-10-29T10:51:36.636Z"
   },
   {
    "duration": 16,
    "start_time": "2022-10-29T10:51:36.644Z"
   },
   {
    "duration": 47,
    "start_time": "2022-10-29T10:51:36.662Z"
   },
   {
    "duration": 23,
    "start_time": "2022-10-29T10:51:36.711Z"
   },
   {
    "duration": 19,
    "start_time": "2022-10-29T10:51:36.737Z"
   },
   {
    "duration": 7,
    "start_time": "2022-10-29T10:51:36.757Z"
   },
   {
    "duration": 7,
    "start_time": "2022-10-29T10:51:36.766Z"
   },
   {
    "duration": 63,
    "start_time": "2022-10-29T10:51:36.775Z"
   },
   {
    "duration": 16,
    "start_time": "2022-10-29T10:51:36.840Z"
   },
   {
    "duration": 4,
    "start_time": "2022-10-29T10:51:36.858Z"
   },
   {
    "duration": 6,
    "start_time": "2022-10-29T10:58:32.408Z"
   },
   {
    "duration": 18,
    "start_time": "2022-10-29T10:58:36.204Z"
   },
   {
    "duration": 3,
    "start_time": "2022-10-29T10:58:45.392Z"
   },
   {
    "duration": 1386,
    "start_time": "2022-10-29T10:59:00.858Z"
   },
   {
    "duration": 56,
    "start_time": "2022-10-29T10:59:02.246Z"
   },
   {
    "duration": 12,
    "start_time": "2022-10-29T10:59:02.304Z"
   },
   {
    "duration": 23,
    "start_time": "2022-10-29T10:59:02.318Z"
   },
   {
    "duration": 7,
    "start_time": "2022-10-29T10:59:02.343Z"
   },
   {
    "duration": 9,
    "start_time": "2022-10-29T10:59:02.352Z"
   },
   {
    "duration": 10,
    "start_time": "2022-10-29T10:59:02.363Z"
   },
   {
    "duration": 25,
    "start_time": "2022-10-29T10:59:02.374Z"
   },
   {
    "duration": 21,
    "start_time": "2022-10-29T10:59:02.401Z"
   },
   {
    "duration": 11,
    "start_time": "2022-10-29T10:59:02.433Z"
   },
   {
    "duration": 10,
    "start_time": "2022-10-29T10:59:02.445Z"
   },
   {
    "duration": 6,
    "start_time": "2022-10-29T10:59:02.457Z"
   },
   {
    "duration": 8,
    "start_time": "2022-10-29T10:59:02.465Z"
   },
   {
    "duration": 9,
    "start_time": "2022-10-29T10:59:02.474Z"
   },
   {
    "duration": 8,
    "start_time": "2022-10-29T10:59:02.485Z"
   },
   {
    "duration": 21,
    "start_time": "2022-10-29T10:59:02.494Z"
   },
   {
    "duration": 127,
    "start_time": "2022-10-29T10:59:02.533Z"
   },
   {
    "duration": 159,
    "start_time": "2022-10-29T10:59:02.663Z"
   },
   {
    "duration": 10,
    "start_time": "2022-10-29T10:59:02.824Z"
   },
   {
    "duration": 6,
    "start_time": "2022-10-29T10:59:02.836Z"
   },
   {
    "duration": 7,
    "start_time": "2022-10-29T10:59:02.843Z"
   },
   {
    "duration": 18,
    "start_time": "2022-10-29T10:59:02.851Z"
   },
   {
    "duration": 35,
    "start_time": "2022-10-29T10:59:02.870Z"
   },
   {
    "duration": 28,
    "start_time": "2022-10-29T10:59:02.907Z"
   },
   {
    "duration": 19,
    "start_time": "2022-10-29T10:59:02.936Z"
   },
   {
    "duration": 7,
    "start_time": "2022-10-29T10:59:02.956Z"
   },
   {
    "duration": 6,
    "start_time": "2022-10-29T10:59:02.965Z"
   },
   {
    "duration": 60,
    "start_time": "2022-10-29T10:59:02.974Z"
   },
   {
    "duration": 15,
    "start_time": "2022-10-29T10:59:03.035Z"
   },
   {
    "duration": 4,
    "start_time": "2022-10-29T10:59:03.051Z"
   },
   {
    "duration": 6,
    "start_time": "2022-10-29T12:11:53.541Z"
   },
   {
    "duration": 37,
    "start_time": "2022-10-29T12:11:56.124Z"
   },
   {
    "duration": 9,
    "start_time": "2022-10-29T12:11:59.241Z"
   },
   {
    "duration": 7,
    "start_time": "2022-10-29T12:12:08.400Z"
   },
   {
    "duration": 4,
    "start_time": "2022-10-29T12:12:10.657Z"
   },
   {
    "duration": 1659,
    "start_time": "2022-10-29T12:12:35.729Z"
   },
   {
    "duration": 63,
    "start_time": "2022-10-29T12:12:37.389Z"
   },
   {
    "duration": 12,
    "start_time": "2022-10-29T12:12:37.454Z"
   },
   {
    "duration": 31,
    "start_time": "2022-10-29T12:12:37.468Z"
   },
   {
    "duration": 6,
    "start_time": "2022-10-29T12:12:37.501Z"
   },
   {
    "duration": 26,
    "start_time": "2022-10-29T12:12:37.509Z"
   },
   {
    "duration": 17,
    "start_time": "2022-10-29T12:12:37.536Z"
   },
   {
    "duration": 9,
    "start_time": "2022-10-29T12:12:37.554Z"
   },
   {
    "duration": 13,
    "start_time": "2022-10-29T12:12:37.565Z"
   },
   {
    "duration": 10,
    "start_time": "2022-10-29T12:12:37.581Z"
   },
   {
    "duration": 8,
    "start_time": "2022-10-29T12:12:37.593Z"
   },
   {
    "duration": 39,
    "start_time": "2022-10-29T12:12:37.602Z"
   },
   {
    "duration": 8,
    "start_time": "2022-10-29T12:12:37.646Z"
   },
   {
    "duration": 13,
    "start_time": "2022-10-29T12:12:37.655Z"
   },
   {
    "duration": 9,
    "start_time": "2022-10-29T12:12:37.669Z"
   },
   {
    "duration": 9,
    "start_time": "2022-10-29T12:12:37.679Z"
   },
   {
    "duration": 176,
    "start_time": "2022-10-29T12:12:37.690Z"
   },
   {
    "duration": 207,
    "start_time": "2022-10-29T12:12:37.868Z"
   },
   {
    "duration": 6,
    "start_time": "2022-10-29T12:12:38.077Z"
   },
   {
    "duration": 5,
    "start_time": "2022-10-29T12:12:38.085Z"
   },
   {
    "duration": 8,
    "start_time": "2022-10-29T12:12:38.092Z"
   },
   {
    "duration": 34,
    "start_time": "2022-10-29T12:12:38.102Z"
   },
   {
    "duration": 51,
    "start_time": "2022-10-29T12:12:38.138Z"
   },
   {
    "duration": 26,
    "start_time": "2022-10-29T12:12:38.192Z"
   },
   {
    "duration": 38,
    "start_time": "2022-10-29T12:12:38.220Z"
   },
   {
    "duration": 4,
    "start_time": "2022-10-29T12:12:38.260Z"
   },
   {
    "duration": 6,
    "start_time": "2022-10-29T12:12:38.266Z"
   },
   {
    "duration": 39,
    "start_time": "2022-10-29T12:12:38.276Z"
   },
   {
    "duration": 26,
    "start_time": "2022-10-29T12:12:38.316Z"
   },
   {
    "duration": 15,
    "start_time": "2022-10-29T12:12:38.344Z"
   },
   {
    "duration": 6,
    "start_time": "2022-10-29T12:13:21.869Z"
   },
   {
    "duration": 50,
    "start_time": "2022-10-29T12:13:24.524Z"
   },
   {
    "duration": 17,
    "start_time": "2022-10-29T12:13:27.135Z"
   },
   {
    "duration": 4,
    "start_time": "2022-10-29T12:13:36.950Z"
   },
   {
    "duration": 6,
    "start_time": "2022-10-29T12:19:37.927Z"
   },
   {
    "duration": 39,
    "start_time": "2022-10-29T12:19:41.287Z"
   },
   {
    "duration": 14,
    "start_time": "2022-10-29T12:19:43.575Z"
   },
   {
    "duration": 4,
    "start_time": "2022-10-29T12:19:53.893Z"
   },
   {
    "duration": 6,
    "start_time": "2022-10-29T12:22:09.028Z"
   },
   {
    "duration": 50,
    "start_time": "2022-10-29T12:22:12.296Z"
   },
   {
    "duration": 16,
    "start_time": "2022-10-29T12:22:14.221Z"
   },
   {
    "duration": 4,
    "start_time": "2022-10-29T12:22:23.702Z"
   },
   {
    "duration": 6,
    "start_time": "2022-10-29T12:25:45.687Z"
   },
   {
    "duration": 39,
    "start_time": "2022-10-29T12:25:47.969Z"
   },
   {
    "duration": 19,
    "start_time": "2022-10-29T12:25:50.642Z"
   },
   {
    "duration": 5,
    "start_time": "2022-10-29T12:26:00.887Z"
   },
   {
    "duration": 4,
    "start_time": "2022-10-29T12:29:57.678Z"
   },
   {
    "duration": 4,
    "start_time": "2022-10-29T12:33:04.463Z"
   },
   {
    "duration": 3,
    "start_time": "2022-10-29T12:33:07.350Z"
   },
   {
    "duration": 12,
    "start_time": "2022-10-29T12:33:21.265Z"
   },
   {
    "duration": 7,
    "start_time": "2022-10-29T12:34:44.515Z"
   },
   {
    "duration": 40,
    "start_time": "2022-10-29T12:34:48.520Z"
   },
   {
    "duration": 17,
    "start_time": "2022-10-29T12:34:50.533Z"
   },
   {
    "duration": 4,
    "start_time": "2022-10-29T12:34:58.398Z"
   },
   {
    "duration": 7,
    "start_time": "2022-10-29T12:40:32.987Z"
   },
   {
    "duration": 45,
    "start_time": "2022-10-29T12:40:36.141Z"
   },
   {
    "duration": 7,
    "start_time": "2022-10-29T12:40:38.612Z"
   },
   {
    "duration": 7,
    "start_time": "2022-10-29T12:40:44.869Z"
   },
   {
    "duration": 7,
    "start_time": "2022-10-29T12:41:04.174Z"
   },
   {
    "duration": 38,
    "start_time": "2022-10-29T12:41:07.466Z"
   },
   {
    "duration": 12,
    "start_time": "2022-10-29T12:41:09.653Z"
   },
   {
    "duration": 4,
    "start_time": "2022-10-29T12:41:19.002Z"
   },
   {
    "duration": 6,
    "start_time": "2022-10-29T12:43:56.940Z"
   },
   {
    "duration": 56,
    "start_time": "2022-10-29T12:43:59.554Z"
   },
   {
    "duration": 12,
    "start_time": "2022-10-29T12:44:01.567Z"
   },
   {
    "duration": 3,
    "start_time": "2022-10-29T12:44:07.756Z"
   },
   {
    "duration": 6,
    "start_time": "2022-10-29T12:45:32.730Z"
   },
   {
    "duration": 38,
    "start_time": "2022-10-29T12:45:35.840Z"
   },
   {
    "duration": 11,
    "start_time": "2022-10-29T12:45:37.963Z"
   },
   {
    "duration": 4,
    "start_time": "2022-10-29T12:45:43.990Z"
   },
   {
    "duration": 6,
    "start_time": "2022-10-29T12:46:58.576Z"
   },
   {
    "duration": 40,
    "start_time": "2022-10-29T12:47:00.672Z"
   },
   {
    "duration": 11,
    "start_time": "2022-10-29T12:47:03.062Z"
   },
   {
    "duration": 12,
    "start_time": "2022-10-29T12:47:10.055Z"
   },
   {
    "duration": 9,
    "start_time": "2022-10-29T12:48:01.913Z"
   },
   {
    "duration": 40,
    "start_time": "2022-10-29T12:48:04.559Z"
   },
   {
    "duration": 11,
    "start_time": "2022-10-29T12:48:07.587Z"
   },
   {
    "duration": 4,
    "start_time": "2022-10-29T12:48:16.934Z"
   },
   {
    "duration": 7,
    "start_time": "2022-10-29T12:49:22.182Z"
   },
   {
    "duration": 38,
    "start_time": "2022-10-29T12:49:25.165Z"
   },
   {
    "duration": 12,
    "start_time": "2022-10-29T12:49:28.313Z"
   },
   {
    "duration": 4,
    "start_time": "2022-10-29T12:49:40.352Z"
   },
   {
    "duration": 40,
    "start_time": "2022-10-29T12:50:51.471Z"
   },
   {
    "duration": 12,
    "start_time": "2022-10-29T12:51:07.817Z"
   },
   {
    "duration": 4,
    "start_time": "2022-10-29T12:51:15.547Z"
   },
   {
    "duration": 7,
    "start_time": "2022-10-29T12:52:15.922Z"
   },
   {
    "duration": 42,
    "start_time": "2022-10-29T12:52:18.272Z"
   },
   {
    "duration": 10,
    "start_time": "2022-10-29T12:52:21.044Z"
   },
   {
    "duration": 5,
    "start_time": "2022-10-29T12:52:27.924Z"
   },
   {
    "duration": 6,
    "start_time": "2022-10-29T12:53:34.993Z"
   },
   {
    "duration": 41,
    "start_time": "2022-10-29T12:53:37.333Z"
   },
   {
    "duration": 11,
    "start_time": "2022-10-29T12:53:40.482Z"
   },
   {
    "duration": 4,
    "start_time": "2022-10-29T12:53:47.845Z"
   },
   {
    "duration": 6,
    "start_time": "2022-10-29T12:54:50.237Z"
   },
   {
    "duration": 40,
    "start_time": "2022-10-29T12:54:52.007Z"
   },
   {
    "duration": 11,
    "start_time": "2022-10-29T12:54:54.429Z"
   },
   {
    "duration": 4,
    "start_time": "2022-10-29T12:55:03.189Z"
   },
   {
    "duration": 7,
    "start_time": "2022-10-29T12:55:20.204Z"
   },
   {
    "duration": 4,
    "start_time": "2022-10-29T12:55:23.401Z"
   },
   {
    "duration": 4,
    "start_time": "2022-10-29T12:55:26.202Z"
   },
   {
    "duration": 1362,
    "start_time": "2022-10-29T12:55:47.976Z"
   },
   {
    "duration": 54,
    "start_time": "2022-10-29T12:55:49.340Z"
   },
   {
    "duration": 12,
    "start_time": "2022-10-29T12:55:49.395Z"
   },
   {
    "duration": 19,
    "start_time": "2022-10-29T12:55:49.409Z"
   },
   {
    "duration": 5,
    "start_time": "2022-10-29T12:55:49.430Z"
   },
   {
    "duration": 7,
    "start_time": "2022-10-29T12:55:49.436Z"
   },
   {
    "duration": 7,
    "start_time": "2022-10-29T12:55:49.444Z"
   },
   {
    "duration": 7,
    "start_time": "2022-10-29T12:55:49.453Z"
   },
   {
    "duration": 10,
    "start_time": "2022-10-29T12:55:49.462Z"
   },
   {
    "duration": 9,
    "start_time": "2022-10-29T12:55:49.475Z"
   },
   {
    "duration": 9,
    "start_time": "2022-10-29T12:55:49.486Z"
   },
   {
    "duration": 36,
    "start_time": "2022-10-29T12:55:49.497Z"
   },
   {
    "duration": 8,
    "start_time": "2022-10-29T12:55:49.535Z"
   },
   {
    "duration": 9,
    "start_time": "2022-10-29T12:55:49.545Z"
   },
   {
    "duration": 8,
    "start_time": "2022-10-29T12:55:49.555Z"
   },
   {
    "duration": 8,
    "start_time": "2022-10-29T12:55:49.565Z"
   },
   {
    "duration": 158,
    "start_time": "2022-10-29T12:55:49.575Z"
   },
   {
    "duration": 176,
    "start_time": "2022-10-29T12:55:49.735Z"
   },
   {
    "duration": 6,
    "start_time": "2022-10-29T12:55:49.913Z"
   },
   {
    "duration": 8,
    "start_time": "2022-10-29T12:55:49.933Z"
   },
   {
    "duration": 7,
    "start_time": "2022-10-29T12:55:49.943Z"
   },
   {
    "duration": 16,
    "start_time": "2022-10-29T12:55:49.951Z"
   },
   {
    "duration": 44,
    "start_time": "2022-10-29T12:55:49.969Z"
   },
   {
    "duration": 17,
    "start_time": "2022-10-29T12:55:50.015Z"
   },
   {
    "duration": 23,
    "start_time": "2022-10-29T12:55:50.033Z"
   },
   {
    "duration": 4,
    "start_time": "2022-10-29T12:55:50.058Z"
   },
   {
    "duration": 8,
    "start_time": "2022-10-29T12:55:50.064Z"
   },
   {
    "duration": 59,
    "start_time": "2022-10-29T12:55:50.076Z"
   },
   {
    "duration": 7,
    "start_time": "2022-10-29T12:55:50.136Z"
   },
   {
    "duration": 8,
    "start_time": "2022-10-29T12:55:50.144Z"
   },
   {
    "duration": 71,
    "start_time": "2022-10-29T13:14:24.131Z"
   },
   {
    "duration": 53,
    "start_time": "2022-10-29T13:15:40.032Z"
   },
   {
    "duration": 15,
    "start_time": "2022-10-29T13:16:44.038Z"
   },
   {
    "duration": 45,
    "start_time": "2022-10-29T13:23:40.874Z"
   },
   {
    "duration": 7,
    "start_time": "2022-10-29T13:24:45.776Z"
   },
   {
    "duration": 45,
    "start_time": "2022-10-29T13:24:50.696Z"
   },
   {
    "duration": 10,
    "start_time": "2022-10-29T13:24:53.659Z"
   },
   {
    "duration": 5,
    "start_time": "2022-10-29T13:25:06.290Z"
   },
   {
    "duration": 5,
    "start_time": "2022-10-29T13:25:52.359Z"
   },
   {
    "duration": 13,
    "start_time": "2022-10-29T13:26:21.726Z"
   },
   {
    "duration": 7,
    "start_time": "2022-10-29T13:28:45.835Z"
   },
   {
    "duration": 42,
    "start_time": "2022-10-29T13:28:50.702Z"
   },
   {
    "duration": 14,
    "start_time": "2022-10-29T13:28:52.601Z"
   },
   {
    "duration": 8,
    "start_time": "2022-10-29T13:29:48.243Z"
   },
   {
    "duration": 46,
    "start_time": "2022-10-29T13:29:51.692Z"
   },
   {
    "duration": 12,
    "start_time": "2022-10-29T13:29:54.055Z"
   },
   {
    "duration": 33,
    "start_time": "2022-10-29T13:33:29.467Z"
   },
   {
    "duration": 29,
    "start_time": "2022-10-29T13:33:54.424Z"
   },
   {
    "duration": 30,
    "start_time": "2022-10-29T13:34:01.873Z"
   },
   {
    "duration": 12,
    "start_time": "2022-10-29T13:34:23.233Z"
   },
   {
    "duration": 44,
    "start_time": "2022-10-29T13:35:48.860Z"
   },
   {
    "duration": 9,
    "start_time": "2022-10-29T13:37:41.504Z"
   },
   {
    "duration": 64,
    "start_time": "2022-10-29T13:37:46.002Z"
   },
   {
    "duration": 14,
    "start_time": "2022-10-29T13:37:48.010Z"
   },
   {
    "duration": 5,
    "start_time": "2022-10-29T13:43:45.333Z"
   },
   {
    "duration": 4,
    "start_time": "2022-10-29T13:44:15.197Z"
   },
   {
    "duration": 1432,
    "start_time": "2022-10-29T13:47:19.461Z"
   },
   {
    "duration": 56,
    "start_time": "2022-10-29T13:47:20.895Z"
   },
   {
    "duration": 13,
    "start_time": "2022-10-29T13:47:20.953Z"
   },
   {
    "duration": 22,
    "start_time": "2022-10-29T13:47:20.968Z"
   },
   {
    "duration": 6,
    "start_time": "2022-10-29T13:47:20.992Z"
   },
   {
    "duration": 25,
    "start_time": "2022-10-29T13:47:21.000Z"
   },
   {
    "duration": 15,
    "start_time": "2022-10-29T13:47:21.027Z"
   },
   {
    "duration": 15,
    "start_time": "2022-10-29T13:47:21.043Z"
   },
   {
    "duration": 15,
    "start_time": "2022-10-29T13:47:21.060Z"
   },
   {
    "duration": 14,
    "start_time": "2022-10-29T13:47:21.078Z"
   },
   {
    "duration": 17,
    "start_time": "2022-10-29T13:47:21.093Z"
   },
   {
    "duration": 33,
    "start_time": "2022-10-29T13:47:21.111Z"
   },
   {
    "duration": 16,
    "start_time": "2022-10-29T13:47:21.146Z"
   },
   {
    "duration": 27,
    "start_time": "2022-10-29T13:47:21.163Z"
   },
   {
    "duration": 24,
    "start_time": "2022-10-29T13:47:21.192Z"
   },
   {
    "duration": 10,
    "start_time": "2022-10-29T13:47:21.218Z"
   },
   {
    "duration": 129,
    "start_time": "2022-10-29T13:47:21.230Z"
   },
   {
    "duration": 174,
    "start_time": "2022-10-29T13:47:21.361Z"
   },
   {
    "duration": 5,
    "start_time": "2022-10-29T13:47:21.537Z"
   },
   {
    "duration": 8,
    "start_time": "2022-10-29T13:47:21.544Z"
   },
   {
    "duration": 11,
    "start_time": "2022-10-29T13:47:21.554Z"
   },
   {
    "duration": 19,
    "start_time": "2022-10-29T13:47:21.567Z"
   },
   {
    "duration": 45,
    "start_time": "2022-10-29T13:47:21.588Z"
   },
   {
    "duration": 35,
    "start_time": "2022-10-29T13:47:21.636Z"
   },
   {
    "duration": 29,
    "start_time": "2022-10-29T13:47:21.673Z"
   },
   {
    "duration": 9,
    "start_time": "2022-10-29T13:47:21.704Z"
   },
   {
    "duration": 13,
    "start_time": "2022-10-29T13:47:21.715Z"
   },
   {
    "duration": 68,
    "start_time": "2022-10-29T13:47:21.733Z"
   },
   {
    "duration": 37,
    "start_time": "2022-10-29T13:47:21.803Z"
   },
   {
    "duration": 8,
    "start_time": "2022-10-29T13:47:21.842Z"
   },
   {
    "duration": 5,
    "start_time": "2022-10-29T13:54:11.069Z"
   },
   {
    "duration": 5,
    "start_time": "2022-10-29T13:57:27.611Z"
   },
   {
    "duration": 5,
    "start_time": "2022-10-29T13:57:44.761Z"
   },
   {
    "duration": 5,
    "start_time": "2022-10-29T13:58:47.381Z"
   },
   {
    "duration": 14,
    "start_time": "2022-10-29T14:01:40.391Z"
   },
   {
    "duration": 16,
    "start_time": "2022-10-29T14:02:01.386Z"
   },
   {
    "duration": 7,
    "start_time": "2022-10-29T14:02:26.626Z"
   },
   {
    "duration": 44,
    "start_time": "2022-10-29T14:02:56.966Z"
   },
   {
    "duration": 12,
    "start_time": "2022-10-29T14:02:58.951Z"
   },
   {
    "duration": 15,
    "start_time": "2022-10-29T14:03:02.181Z"
   },
   {
    "duration": 15,
    "start_time": "2022-10-29T14:04:31.260Z"
   },
   {
    "duration": 36,
    "start_time": "2022-10-29T14:14:13.742Z"
   },
   {
    "duration": 6,
    "start_time": "2022-10-29T14:14:29.481Z"
   },
   {
    "duration": 15,
    "start_time": "2022-10-29T14:15:31.260Z"
   },
   {
    "duration": 4,
    "start_time": "2022-10-29T14:15:56.675Z"
   },
   {
    "duration": 8,
    "start_time": "2022-10-29T14:20:30.356Z"
   },
   {
    "duration": 48,
    "start_time": "2022-10-29T14:20:37.727Z"
   },
   {
    "duration": 10,
    "start_time": "2022-10-29T14:20:41.362Z"
   },
   {
    "duration": 5,
    "start_time": "2022-10-29T14:20:44.414Z"
   },
   {
    "duration": 7,
    "start_time": "2022-10-29T14:22:05.849Z"
   },
   {
    "duration": 46,
    "start_time": "2022-10-29T14:22:11.107Z"
   },
   {
    "duration": 10,
    "start_time": "2022-10-29T14:22:13.240Z"
   },
   {
    "duration": 46,
    "start_time": "2022-10-29T14:22:38.953Z"
   },
   {
    "duration": 12,
    "start_time": "2022-10-29T14:22:41.432Z"
   },
   {
    "duration": 38,
    "start_time": "2022-10-29T14:22:44.889Z"
   },
   {
    "duration": 53,
    "start_time": "2022-10-29T14:22:55.155Z"
   },
   {
    "duration": 15,
    "start_time": "2022-10-29T14:23:12.808Z"
   },
   {
    "duration": 15,
    "start_time": "2022-10-29T14:31:30.634Z"
   },
   {
    "duration": 6,
    "start_time": "2022-10-29T14:33:49.798Z"
   },
   {
    "duration": 10,
    "start_time": "2022-10-29T14:34:15.139Z"
   },
   {
    "duration": 204,
    "start_time": "2022-10-29T14:37:16.892Z"
   },
   {
    "duration": 276,
    "start_time": "2022-10-29T14:38:00.536Z"
   },
   {
    "duration": 210,
    "start_time": "2022-10-29T14:38:33.833Z"
   },
   {
    "duration": 47,
    "start_time": "2022-10-29T14:39:19.566Z"
   },
   {
    "duration": 229,
    "start_time": "2022-10-29T14:40:59.212Z"
   },
   {
    "duration": 245,
    "start_time": "2022-10-29T16:47:51.675Z"
   },
   {
    "duration": 421,
    "start_time": "2022-10-29T16:49:50.033Z"
   },
   {
    "duration": 16,
    "start_time": "2022-10-29T16:52:50.303Z"
   },
   {
    "duration": 304,
    "start_time": "2022-10-29T17:02:13.656Z"
   },
   {
    "duration": 180,
    "start_time": "2022-10-29T17:09:11.426Z"
   },
   {
    "duration": 191,
    "start_time": "2022-10-29T17:12:30.421Z"
   },
   {
    "duration": 1373,
    "start_time": "2022-10-29T17:13:46.669Z"
   },
   {
    "duration": 53,
    "start_time": "2022-10-29T17:13:48.044Z"
   },
   {
    "duration": 13,
    "start_time": "2022-10-29T17:13:48.099Z"
   },
   {
    "duration": 22,
    "start_time": "2022-10-29T17:13:48.114Z"
   },
   {
    "duration": 6,
    "start_time": "2022-10-29T17:13:48.137Z"
   },
   {
    "duration": 14,
    "start_time": "2022-10-29T17:13:48.145Z"
   },
   {
    "duration": 15,
    "start_time": "2022-10-29T17:13:48.161Z"
   },
   {
    "duration": 34,
    "start_time": "2022-10-29T17:13:48.181Z"
   },
   {
    "duration": 13,
    "start_time": "2022-10-29T17:13:48.217Z"
   },
   {
    "duration": 10,
    "start_time": "2022-10-29T17:13:48.233Z"
   },
   {
    "duration": 6,
    "start_time": "2022-10-29T17:13:48.245Z"
   },
   {
    "duration": 8,
    "start_time": "2022-10-29T17:13:48.253Z"
   },
   {
    "duration": 8,
    "start_time": "2022-10-29T17:13:48.263Z"
   },
   {
    "duration": 8,
    "start_time": "2022-10-29T17:13:48.273Z"
   },
   {
    "duration": 8,
    "start_time": "2022-10-29T17:13:48.283Z"
   },
   {
    "duration": 43,
    "start_time": "2022-10-29T17:13:48.292Z"
   },
   {
    "duration": 125,
    "start_time": "2022-10-29T17:13:48.337Z"
   },
   {
    "duration": 158,
    "start_time": "2022-10-29T17:13:48.464Z"
   },
   {
    "duration": 12,
    "start_time": "2022-10-29T17:13:48.624Z"
   },
   {
    "duration": 9,
    "start_time": "2022-10-29T17:13:48.638Z"
   },
   {
    "duration": 8,
    "start_time": "2022-10-29T17:13:48.649Z"
   },
   {
    "duration": 17,
    "start_time": "2022-10-29T17:13:48.658Z"
   },
   {
    "duration": 16,
    "start_time": "2022-10-29T17:13:48.676Z"
   },
   {
    "duration": 41,
    "start_time": "2022-10-29T17:13:48.694Z"
   },
   {
    "duration": 23,
    "start_time": "2022-10-29T17:13:48.738Z"
   },
   {
    "duration": 10,
    "start_time": "2022-10-29T17:13:48.763Z"
   },
   {
    "duration": 15,
    "start_time": "2022-10-29T17:13:48.775Z"
   },
   {
    "duration": 71,
    "start_time": "2022-10-29T17:13:48.794Z"
   },
   {
    "duration": 13,
    "start_time": "2022-10-29T17:13:48.866Z"
   },
   {
    "duration": 23,
    "start_time": "2022-10-29T17:13:48.880Z"
   },
   {
    "duration": 213,
    "start_time": "2022-10-29T17:13:48.904Z"
   },
   {
    "duration": 18,
    "start_time": "2022-10-29T17:13:49.119Z"
   },
   {
    "duration": 256,
    "start_time": "2022-10-29T17:13:49.139Z"
   },
   {
    "duration": 49,
    "start_time": "2022-10-29T17:20:31.608Z"
   },
   {
    "duration": 49,
    "start_time": "2022-10-29T17:26:46.172Z"
   },
   {
    "duration": 14,
    "start_time": "2022-10-29T17:28:33.641Z"
   },
   {
    "duration": 181,
    "start_time": "2022-10-29T17:28:36.988Z"
   },
   {
    "duration": 23,
    "start_time": "2022-10-29T17:59:28.708Z"
   },
   {
    "duration": 109,
    "start_time": "2022-10-29T18:01:19.110Z"
   },
   {
    "duration": 6,
    "start_time": "2022-10-29T18:01:27.977Z"
   },
   {
    "duration": 8,
    "start_time": "2022-10-29T18:04:02.726Z"
   },
   {
    "duration": 20,
    "start_time": "2022-10-29T18:05:04.966Z"
   },
   {
    "duration": 21,
    "start_time": "2022-10-29T18:10:16.385Z"
   },
   {
    "duration": 11,
    "start_time": "2022-10-29T18:12:13.534Z"
   },
   {
    "duration": 16,
    "start_time": "2022-10-29T18:13:01.491Z"
   },
   {
    "duration": 16,
    "start_time": "2022-10-29T18:13:04.621Z"
   },
   {
    "duration": 21,
    "start_time": "2022-10-29T18:13:59.463Z"
   },
   {
    "duration": 7,
    "start_time": "2022-10-29T18:20:35.848Z"
   },
   {
    "duration": 23,
    "start_time": "2022-10-29T18:21:50.305Z"
   },
   {
    "duration": 26,
    "start_time": "2022-10-29T18:21:53.267Z"
   },
   {
    "duration": 7,
    "start_time": "2022-10-29T18:23:12.566Z"
   },
   {
    "duration": 14,
    "start_time": "2022-10-29T18:24:23.151Z"
   },
   {
    "duration": 18,
    "start_time": "2022-10-29T18:24:33.132Z"
   },
   {
    "duration": 18,
    "start_time": "2022-10-29T18:25:17.105Z"
   },
   {
    "duration": 1429,
    "start_time": "2022-10-29T18:25:50.854Z"
   },
   {
    "duration": 54,
    "start_time": "2022-10-29T18:25:52.285Z"
   },
   {
    "duration": 12,
    "start_time": "2022-10-29T18:25:52.340Z"
   },
   {
    "duration": 21,
    "start_time": "2022-10-29T18:25:52.354Z"
   },
   {
    "duration": 7,
    "start_time": "2022-10-29T18:25:52.376Z"
   },
   {
    "duration": 9,
    "start_time": "2022-10-29T18:25:52.385Z"
   },
   {
    "duration": 40,
    "start_time": "2022-10-29T18:25:52.395Z"
   },
   {
    "duration": 6,
    "start_time": "2022-10-29T18:25:52.437Z"
   },
   {
    "duration": 19,
    "start_time": "2022-10-29T18:25:52.445Z"
   },
   {
    "duration": 10,
    "start_time": "2022-10-29T18:25:52.467Z"
   },
   {
    "duration": 7,
    "start_time": "2022-10-29T18:25:52.478Z"
   },
   {
    "duration": 10,
    "start_time": "2022-10-29T18:25:52.487Z"
   },
   {
    "duration": 39,
    "start_time": "2022-10-29T18:25:52.498Z"
   },
   {
    "duration": 13,
    "start_time": "2022-10-29T18:25:52.540Z"
   },
   {
    "duration": 9,
    "start_time": "2022-10-29T18:25:52.555Z"
   },
   {
    "duration": 9,
    "start_time": "2022-10-29T18:25:52.566Z"
   },
   {
    "duration": 157,
    "start_time": "2022-10-29T18:25:52.577Z"
   },
   {
    "duration": 174,
    "start_time": "2022-10-29T18:25:52.736Z"
   },
   {
    "duration": 5,
    "start_time": "2022-10-29T18:25:52.912Z"
   },
   {
    "duration": 9,
    "start_time": "2022-10-29T18:25:52.918Z"
   },
   {
    "duration": 7,
    "start_time": "2022-10-29T18:25:52.934Z"
   },
   {
    "duration": 18,
    "start_time": "2022-10-29T18:25:52.943Z"
   },
   {
    "duration": 16,
    "start_time": "2022-10-29T18:25:52.962Z"
   },
   {
    "duration": 17,
    "start_time": "2022-10-29T18:25:52.980Z"
   },
   {
    "duration": 51,
    "start_time": "2022-10-29T18:25:52.998Z"
   },
   {
    "duration": 4,
    "start_time": "2022-10-29T18:25:53.050Z"
   },
   {
    "duration": 7,
    "start_time": "2022-10-29T18:25:53.056Z"
   },
   {
    "duration": 69,
    "start_time": "2022-10-29T18:25:53.066Z"
   },
   {
    "duration": 12,
    "start_time": "2022-10-29T18:25:53.137Z"
   },
   {
    "duration": 18,
    "start_time": "2022-10-29T18:25:53.150Z"
   },
   {
    "duration": 211,
    "start_time": "2022-10-29T18:25:53.170Z"
   },
   {
    "duration": 13,
    "start_time": "2022-10-29T18:25:53.383Z"
   },
   {
    "duration": 276,
    "start_time": "2022-10-29T18:25:53.397Z"
   },
   {
    "duration": 16,
    "start_time": "2022-10-29T18:25:53.675Z"
   },
   {
    "duration": 9,
    "start_time": "2022-10-29T18:25:53.693Z"
   },
   {
    "duration": 33,
    "start_time": "2022-10-29T18:25:53.703Z"
   },
   {
    "duration": 18,
    "start_time": "2022-10-29T18:27:01.223Z"
   },
   {
    "duration": 17,
    "start_time": "2022-10-29T18:28:10.194Z"
   },
   {
    "duration": 81,
    "start_time": "2022-10-29T18:29:52.057Z"
   },
   {
    "duration": 44,
    "start_time": "2022-10-29T18:31:54.011Z"
   },
   {
    "duration": 18,
    "start_time": "2022-10-29T18:32:30.505Z"
   },
   {
    "duration": 1444,
    "start_time": "2022-10-29T18:37:26.805Z"
   },
   {
    "duration": 54,
    "start_time": "2022-10-29T18:37:28.251Z"
   },
   {
    "duration": 12,
    "start_time": "2022-10-29T18:37:28.306Z"
   },
   {
    "duration": 19,
    "start_time": "2022-10-29T18:37:28.320Z"
   },
   {
    "duration": 5,
    "start_time": "2022-10-29T18:37:28.340Z"
   },
   {
    "duration": 7,
    "start_time": "2022-10-29T18:37:28.347Z"
   },
   {
    "duration": 7,
    "start_time": "2022-10-29T18:37:28.356Z"
   },
   {
    "duration": 8,
    "start_time": "2022-10-29T18:37:28.365Z"
   },
   {
    "duration": 16,
    "start_time": "2022-10-29T18:37:28.374Z"
   },
   {
    "duration": 11,
    "start_time": "2022-10-29T18:37:28.392Z"
   },
   {
    "duration": 31,
    "start_time": "2022-10-29T18:37:28.404Z"
   },
   {
    "duration": 8,
    "start_time": "2022-10-29T18:37:28.437Z"
   },
   {
    "duration": 9,
    "start_time": "2022-10-29T18:37:28.446Z"
   },
   {
    "duration": 9,
    "start_time": "2022-10-29T18:37:28.457Z"
   },
   {
    "duration": 11,
    "start_time": "2022-10-29T18:37:28.468Z"
   },
   {
    "duration": 10,
    "start_time": "2022-10-29T18:37:28.480Z"
   },
   {
    "duration": 152,
    "start_time": "2022-10-29T18:37:28.491Z"
   },
   {
    "duration": 177,
    "start_time": "2022-10-29T18:37:28.644Z"
   },
   {
    "duration": 11,
    "start_time": "2022-10-29T18:37:28.823Z"
   },
   {
    "duration": 10,
    "start_time": "2022-10-29T18:37:28.836Z"
   },
   {
    "duration": 15,
    "start_time": "2022-10-29T18:37:28.847Z"
   },
   {
    "duration": 21,
    "start_time": "2022-10-29T18:37:28.864Z"
   },
   {
    "duration": 22,
    "start_time": "2022-10-29T18:37:28.887Z"
   },
   {
    "duration": 23,
    "start_time": "2022-10-29T18:37:28.910Z"
   },
   {
    "duration": 48,
    "start_time": "2022-10-29T18:37:28.935Z"
   },
   {
    "duration": 13,
    "start_time": "2022-10-29T18:37:28.985Z"
   },
   {
    "duration": 6,
    "start_time": "2022-10-29T18:37:29.000Z"
   },
   {
    "duration": 57,
    "start_time": "2022-10-29T18:37:29.010Z"
   },
   {
    "duration": 11,
    "start_time": "2022-10-29T18:37:29.069Z"
   },
   {
    "duration": 22,
    "start_time": "2022-10-29T18:37:29.082Z"
   },
   {
    "duration": 191,
    "start_time": "2022-10-29T18:37:29.106Z"
   },
   {
    "duration": 14,
    "start_time": "2022-10-29T18:37:29.299Z"
   },
   {
    "duration": 255,
    "start_time": "2022-10-29T18:37:29.315Z"
   },
   {
    "duration": 15,
    "start_time": "2022-10-29T18:37:29.572Z"
   },
   {
    "duration": 6,
    "start_time": "2022-10-29T18:37:29.589Z"
   },
   {
    "duration": 37,
    "start_time": "2022-10-29T18:37:29.597Z"
   },
   {
    "duration": 60,
    "start_time": "2022-10-30T07:41:14.401Z"
   },
   {
    "duration": 6,
    "start_time": "2022-10-30T07:41:24.938Z"
   },
   {
    "duration": 1601,
    "start_time": "2022-10-30T07:41:38.005Z"
   },
   {
    "duration": 176,
    "start_time": "2022-10-30T07:41:39.608Z"
   },
   {
    "duration": 14,
    "start_time": "2022-10-30T07:41:39.785Z"
   },
   {
    "duration": 24,
    "start_time": "2022-10-30T07:41:39.801Z"
   },
   {
    "duration": 5,
    "start_time": "2022-10-30T07:41:39.827Z"
   },
   {
    "duration": 6,
    "start_time": "2022-10-30T07:41:39.834Z"
   },
   {
    "duration": 7,
    "start_time": "2022-10-30T07:41:39.841Z"
   },
   {
    "duration": 7,
    "start_time": "2022-10-30T07:41:39.849Z"
   },
   {
    "duration": 12,
    "start_time": "2022-10-30T07:41:39.857Z"
   },
   {
    "duration": 37,
    "start_time": "2022-10-30T07:41:39.872Z"
   },
   {
    "duration": 4,
    "start_time": "2022-10-30T07:41:39.911Z"
   },
   {
    "duration": 4,
    "start_time": "2022-10-30T07:41:39.917Z"
   },
   {
    "duration": 6,
    "start_time": "2022-10-30T07:41:39.923Z"
   },
   {
    "duration": 8,
    "start_time": "2022-10-30T07:41:39.931Z"
   },
   {
    "duration": 8,
    "start_time": "2022-10-30T07:41:39.940Z"
   },
   {
    "duration": 9,
    "start_time": "2022-10-30T07:41:39.949Z"
   },
   {
    "duration": 155,
    "start_time": "2022-10-30T07:41:39.959Z"
   },
   {
    "duration": 152,
    "start_time": "2022-10-30T07:41:40.116Z"
   },
   {
    "duration": 6,
    "start_time": "2022-10-30T07:41:40.270Z"
   },
   {
    "duration": 7,
    "start_time": "2022-10-30T07:41:40.277Z"
   },
   {
    "duration": 23,
    "start_time": "2022-10-30T07:41:40.286Z"
   },
   {
    "duration": 16,
    "start_time": "2022-10-30T07:41:40.311Z"
   },
   {
    "duration": 52,
    "start_time": "2022-10-30T07:41:40.328Z"
   },
   {
    "duration": 16,
    "start_time": "2022-10-30T07:41:40.382Z"
   },
   {
    "duration": 16,
    "start_time": "2022-10-30T07:41:40.400Z"
   },
   {
    "duration": 6,
    "start_time": "2022-10-30T07:41:40.417Z"
   },
   {
    "duration": 7,
    "start_time": "2022-10-30T07:41:40.425Z"
   },
   {
    "duration": 49,
    "start_time": "2022-10-30T07:41:40.435Z"
   },
   {
    "duration": 25,
    "start_time": "2022-10-30T07:41:40.485Z"
   },
   {
    "duration": 24,
    "start_time": "2022-10-30T07:41:40.511Z"
   },
   {
    "duration": 189,
    "start_time": "2022-10-30T07:41:40.537Z"
   },
   {
    "duration": 15,
    "start_time": "2022-10-30T07:41:40.727Z"
   },
   {
    "duration": 261,
    "start_time": "2022-10-30T07:41:40.743Z"
   },
   {
    "duration": 18,
    "start_time": "2022-10-30T07:41:41.006Z"
   },
   {
    "duration": 19,
    "start_time": "2022-10-30T07:41:41.025Z"
   },
   {
    "duration": 36,
    "start_time": "2022-10-30T07:41:41.046Z"
   },
   {
    "duration": 23,
    "start_time": "2022-10-30T07:41:41.083Z"
   },
   {
    "duration": 19,
    "start_time": "2022-10-30T07:45:19.132Z"
   },
   {
    "duration": 17,
    "start_time": "2022-10-30T07:47:20.174Z"
   },
   {
    "duration": 15,
    "start_time": "2022-10-30T07:48:47.253Z"
   },
   {
    "duration": 13,
    "start_time": "2022-10-30T07:49:57.837Z"
   },
   {
    "duration": 16,
    "start_time": "2022-10-30T07:50:08.447Z"
   },
   {
    "duration": 17,
    "start_time": "2022-10-30T07:50:41.529Z"
   },
   {
    "duration": 19,
    "start_time": "2022-10-30T07:51:20.070Z"
   },
   {
    "duration": 16,
    "start_time": "2022-10-30T08:19:30.689Z"
   },
   {
    "duration": 42,
    "start_time": "2022-10-30T08:21:07.243Z"
   },
   {
    "duration": 147,
    "start_time": "2022-10-30T08:23:39.015Z"
   },
   {
    "duration": 24,
    "start_time": "2022-10-30T08:24:14.871Z"
   },
   {
    "duration": 11,
    "start_time": "2022-10-30T08:25:11.419Z"
   },
   {
    "duration": 21,
    "start_time": "2022-10-30T08:25:23.036Z"
   },
   {
    "duration": 17,
    "start_time": "2022-10-30T08:26:43.250Z"
   },
   {
    "duration": 20,
    "start_time": "2022-10-30T08:28:42.462Z"
   },
   {
    "duration": 49,
    "start_time": "2022-10-30T08:29:40.149Z"
   },
   {
    "duration": 23,
    "start_time": "2022-10-30T08:34:26.937Z"
   },
   {
    "duration": 14,
    "start_time": "2022-10-30T08:38:08.213Z"
   },
   {
    "duration": 17,
    "start_time": "2022-10-30T08:38:28.773Z"
   },
   {
    "duration": 114,
    "start_time": "2022-10-30T08:43:00.729Z"
   },
   {
    "duration": 20,
    "start_time": "2022-10-30T08:44:43.824Z"
   },
   {
    "duration": 46,
    "start_time": "2022-10-30T08:58:26.564Z"
   },
   {
    "duration": 16,
    "start_time": "2022-10-30T09:08:19.988Z"
   },
   {
    "duration": 61,
    "start_time": "2022-10-30T09:11:56.193Z"
   },
   {
    "duration": 60,
    "start_time": "2022-10-30T09:12:30.433Z"
   },
   {
    "duration": 13,
    "start_time": "2022-10-30T09:13:27.326Z"
   },
   {
    "duration": 46,
    "start_time": "2022-10-30T09:13:45.742Z"
   },
   {
    "duration": 48,
    "start_time": "2022-10-30T09:14:24.209Z"
   },
   {
    "duration": 403,
    "start_time": "2022-10-30T09:15:20.277Z"
   },
   {
    "duration": 403,
    "start_time": "2022-10-30T09:21:28.226Z"
   },
   {
    "duration": 55,
    "start_time": "2022-10-30T09:26:13.397Z"
   },
   {
    "duration": 371,
    "start_time": "2022-10-30T09:31:00.235Z"
   },
   {
    "duration": 415,
    "start_time": "2022-10-30T09:33:00.703Z"
   },
   {
    "duration": 417,
    "start_time": "2022-10-30T09:33:49.140Z"
   },
   {
    "duration": 504,
    "start_time": "2022-10-30T09:36:02.925Z"
   },
   {
    "duration": 13,
    "start_time": "2022-10-30T09:41:44.916Z"
   },
   {
    "duration": 6,
    "start_time": "2022-10-30T09:42:45.597Z"
   },
   {
    "duration": 13,
    "start_time": "2022-10-30T09:42:56.318Z"
   },
   {
    "duration": 49,
    "start_time": "2022-10-30T09:45:33.325Z"
   },
   {
    "duration": 391,
    "start_time": "2022-10-30T09:54:54.536Z"
   },
   {
    "duration": 189,
    "start_time": "2022-10-30T09:56:09.464Z"
   },
   {
    "duration": 199,
    "start_time": "2022-10-30T09:56:47.153Z"
   },
   {
    "duration": 8,
    "start_time": "2022-10-30T09:57:34.075Z"
   },
   {
    "duration": 220,
    "start_time": "2022-10-30T09:57:38.102Z"
   },
   {
    "duration": 293,
    "start_time": "2022-10-30T09:57:58.904Z"
   },
   {
    "duration": 78,
    "start_time": "2022-10-30T10:03:08.008Z"
   },
   {
    "duration": 80,
    "start_time": "2022-10-30T10:05:00.004Z"
   },
   {
    "duration": 44,
    "start_time": "2022-10-30T10:08:19.619Z"
   },
   {
    "duration": 48,
    "start_time": "2022-10-30T11:30:07.913Z"
   },
   {
    "duration": 40,
    "start_time": "2022-10-30T11:30:12.904Z"
   },
   {
    "duration": 16,
    "start_time": "2022-10-30T11:30:31.987Z"
   },
   {
    "duration": 19,
    "start_time": "2022-10-30T11:54:37.422Z"
   },
   {
    "duration": 2,
    "start_time": "2022-10-30T11:56:53.995Z"
   },
   {
    "duration": 4,
    "start_time": "2022-10-30T11:57:05.285Z"
   },
   {
    "duration": 44,
    "start_time": "2022-10-30T11:59:10.807Z"
   },
   {
    "duration": 13,
    "start_time": "2022-10-30T11:59:32.135Z"
   },
   {
    "duration": 17,
    "start_time": "2022-10-30T12:04:04.416Z"
   },
   {
    "duration": 11,
    "start_time": "2022-10-30T12:06:15.605Z"
   },
   {
    "duration": 11,
    "start_time": "2022-10-30T12:06:56.173Z"
   },
   {
    "duration": 4,
    "start_time": "2022-10-30T12:08:12.740Z"
   },
   {
    "duration": 10,
    "start_time": "2022-10-30T12:11:55.656Z"
   },
   {
    "duration": 13,
    "start_time": "2022-10-30T12:12:01.279Z"
   },
   {
    "duration": 10,
    "start_time": "2022-10-30T12:12:03.971Z"
   },
   {
    "duration": 14,
    "start_time": "2022-10-30T12:12:15.422Z"
   },
   {
    "duration": 10,
    "start_time": "2022-10-30T12:13:39.382Z"
   },
   {
    "duration": 17,
    "start_time": "2022-10-30T12:13:46.251Z"
   },
   {
    "duration": 1475,
    "start_time": "2022-10-30T12:14:00.386Z"
   },
   {
    "duration": 166,
    "start_time": "2022-10-30T12:14:01.863Z"
   },
   {
    "duration": 13,
    "start_time": "2022-10-30T12:14:02.031Z"
   },
   {
    "duration": 26,
    "start_time": "2022-10-30T12:14:02.046Z"
   },
   {
    "duration": 6,
    "start_time": "2022-10-30T12:14:02.074Z"
   },
   {
    "duration": 18,
    "start_time": "2022-10-30T12:14:02.081Z"
   },
   {
    "duration": 21,
    "start_time": "2022-10-30T12:14:02.101Z"
   },
   {
    "duration": 20,
    "start_time": "2022-10-30T12:14:02.124Z"
   },
   {
    "duration": 18,
    "start_time": "2022-10-30T12:14:02.145Z"
   },
   {
    "duration": 12,
    "start_time": "2022-10-30T12:14:02.165Z"
   },
   {
    "duration": 22,
    "start_time": "2022-10-30T12:14:02.178Z"
   },
   {
    "duration": 17,
    "start_time": "2022-10-30T12:14:02.202Z"
   },
   {
    "duration": 10,
    "start_time": "2022-10-30T12:14:02.221Z"
   },
   {
    "duration": 10,
    "start_time": "2022-10-30T12:14:02.233Z"
   },
   {
    "duration": 10,
    "start_time": "2022-10-30T12:14:02.244Z"
   },
   {
    "duration": 21,
    "start_time": "2022-10-30T12:14:02.255Z"
   },
   {
    "duration": 119,
    "start_time": "2022-10-30T12:14:02.277Z"
   },
   {
    "duration": 146,
    "start_time": "2022-10-30T12:14:02.398Z"
   },
   {
    "duration": 5,
    "start_time": "2022-10-30T12:14:02.546Z"
   },
   {
    "duration": 6,
    "start_time": "2022-10-30T12:14:02.553Z"
   },
   {
    "duration": 7,
    "start_time": "2022-10-30T12:14:02.561Z"
   },
   {
    "duration": 28,
    "start_time": "2022-10-30T12:14:02.569Z"
   },
   {
    "duration": 20,
    "start_time": "2022-10-30T12:14:02.608Z"
   },
   {
    "duration": 16,
    "start_time": "2022-10-30T12:14:02.629Z"
   },
   {
    "duration": 34,
    "start_time": "2022-10-30T12:14:02.647Z"
   },
   {
    "duration": 15,
    "start_time": "2022-10-30T12:14:02.682Z"
   },
   {
    "duration": 10,
    "start_time": "2022-10-30T12:14:02.699Z"
   },
   {
    "duration": 63,
    "start_time": "2022-10-30T12:14:02.713Z"
   },
   {
    "duration": 11,
    "start_time": "2022-10-30T12:14:02.777Z"
   },
   {
    "duration": 20,
    "start_time": "2022-10-30T12:14:02.790Z"
   },
   {
    "duration": 190,
    "start_time": "2022-10-30T12:14:02.812Z"
   },
   {
    "duration": 13,
    "start_time": "2022-10-30T12:14:03.009Z"
   },
   {
    "duration": 247,
    "start_time": "2022-10-30T12:14:03.024Z"
   },
   {
    "duration": 17,
    "start_time": "2022-10-30T12:14:03.272Z"
   },
   {
    "duration": 21,
    "start_time": "2022-10-30T12:14:03.290Z"
   },
   {
    "duration": 19,
    "start_time": "2022-10-30T12:14:03.313Z"
   },
   {
    "duration": 18,
    "start_time": "2022-10-30T12:14:03.333Z"
   },
   {
    "duration": 15,
    "start_time": "2022-10-30T12:14:03.353Z"
   },
   {
    "duration": 47,
    "start_time": "2022-10-30T12:14:03.369Z"
   },
   {
    "duration": 16,
    "start_time": "2022-10-30T12:14:03.418Z"
   },
   {
    "duration": 46,
    "start_time": "2022-10-30T12:14:03.435Z"
   },
   {
    "duration": 0,
    "start_time": "2022-10-30T12:14:03.482Z"
   },
   {
    "duration": 0,
    "start_time": "2022-10-30T12:14:03.483Z"
   },
   {
    "duration": 0,
    "start_time": "2022-10-30T12:14:03.485Z"
   },
   {
    "duration": 0,
    "start_time": "2022-10-30T12:14:03.486Z"
   },
   {
    "duration": 0,
    "start_time": "2022-10-30T12:14:03.486Z"
   },
   {
    "duration": 0,
    "start_time": "2022-10-30T12:14:03.487Z"
   },
   {
    "duration": 0,
    "start_time": "2022-10-30T12:14:03.488Z"
   },
   {
    "duration": 0,
    "start_time": "2022-10-30T12:14:03.489Z"
   },
   {
    "duration": 10,
    "start_time": "2022-10-30T12:14:28.739Z"
   },
   {
    "duration": 352,
    "start_time": "2022-10-30T12:14:31.482Z"
   },
   {
    "duration": 377,
    "start_time": "2022-10-30T12:14:36.620Z"
   },
   {
    "duration": 10,
    "start_time": "2022-10-30T12:14:41.112Z"
   },
   {
    "duration": 185,
    "start_time": "2022-10-30T12:14:44.638Z"
   },
   {
    "duration": 1515,
    "start_time": "2022-10-30T12:14:52.503Z"
   },
   {
    "duration": 55,
    "start_time": "2022-10-30T12:14:54.020Z"
   },
   {
    "duration": 12,
    "start_time": "2022-10-30T12:14:54.076Z"
   },
   {
    "duration": 19,
    "start_time": "2022-10-30T12:14:54.090Z"
   },
   {
    "duration": 6,
    "start_time": "2022-10-30T12:14:54.111Z"
   },
   {
    "duration": 8,
    "start_time": "2022-10-30T12:14:54.118Z"
   },
   {
    "duration": 8,
    "start_time": "2022-10-30T12:14:54.127Z"
   },
   {
    "duration": 6,
    "start_time": "2022-10-30T12:14:54.137Z"
   },
   {
    "duration": 14,
    "start_time": "2022-10-30T12:14:54.144Z"
   },
   {
    "duration": 49,
    "start_time": "2022-10-30T12:14:54.161Z"
   },
   {
    "duration": 6,
    "start_time": "2022-10-30T12:14:54.212Z"
   },
   {
    "duration": 6,
    "start_time": "2022-10-30T12:14:54.220Z"
   },
   {
    "duration": 8,
    "start_time": "2022-10-30T12:14:54.228Z"
   },
   {
    "duration": 11,
    "start_time": "2022-10-30T12:14:54.238Z"
   },
   {
    "duration": 10,
    "start_time": "2022-10-30T12:14:54.250Z"
   },
   {
    "duration": 12,
    "start_time": "2022-10-30T12:14:54.261Z"
   },
   {
    "duration": 159,
    "start_time": "2022-10-30T12:14:54.310Z"
   },
   {
    "duration": 192,
    "start_time": "2022-10-30T12:14:54.472Z"
   },
   {
    "duration": 5,
    "start_time": "2022-10-30T12:14:54.666Z"
   },
   {
    "duration": 6,
    "start_time": "2022-10-30T12:14:54.672Z"
   },
   {
    "duration": 6,
    "start_time": "2022-10-30T12:14:54.679Z"
   },
   {
    "duration": 28,
    "start_time": "2022-10-30T12:14:54.687Z"
   },
   {
    "duration": 21,
    "start_time": "2022-10-30T12:14:54.717Z"
   },
   {
    "duration": 16,
    "start_time": "2022-10-30T12:14:54.739Z"
   },
   {
    "duration": 24,
    "start_time": "2022-10-30T12:14:54.756Z"
   },
   {
    "duration": 27,
    "start_time": "2022-10-30T12:14:54.782Z"
   },
   {
    "duration": 7,
    "start_time": "2022-10-30T12:14:54.811Z"
   },
   {
    "duration": 47,
    "start_time": "2022-10-30T12:14:54.822Z"
   },
   {
    "duration": 11,
    "start_time": "2022-10-30T12:14:54.871Z"
   },
   {
    "duration": 39,
    "start_time": "2022-10-30T12:14:54.883Z"
   },
   {
    "duration": 186,
    "start_time": "2022-10-30T12:14:54.924Z"
   },
   {
    "duration": 19,
    "start_time": "2022-10-30T12:14:55.112Z"
   },
   {
    "duration": 276,
    "start_time": "2022-10-30T12:14:55.133Z"
   },
   {
    "duration": 17,
    "start_time": "2022-10-30T12:14:55.411Z"
   },
   {
    "duration": 7,
    "start_time": "2022-10-30T12:14:55.430Z"
   },
   {
    "duration": 21,
    "start_time": "2022-10-30T12:14:55.439Z"
   },
   {
    "duration": 19,
    "start_time": "2022-10-30T12:14:55.462Z"
   },
   {
    "duration": 18,
    "start_time": "2022-10-30T12:14:55.510Z"
   },
   {
    "duration": 17,
    "start_time": "2022-10-30T12:14:55.530Z"
   },
   {
    "duration": 17,
    "start_time": "2022-10-30T12:14:55.548Z"
   },
   {
    "duration": 42,
    "start_time": "2022-10-30T12:14:55.567Z"
   },
   {
    "duration": 404,
    "start_time": "2022-10-30T12:14:55.611Z"
   },
   {
    "duration": 406,
    "start_time": "2022-10-30T12:14:56.016Z"
   },
   {
    "duration": 10,
    "start_time": "2022-10-30T12:14:56.425Z"
   },
   {
    "duration": 227,
    "start_time": "2022-10-30T12:14:56.437Z"
   },
   {
    "duration": 11,
    "start_time": "2022-10-30T12:14:56.666Z"
   },
   {
    "duration": 142,
    "start_time": "2022-10-30T12:14:56.679Z"
   },
   {
    "duration": 0,
    "start_time": "2022-10-30T12:14:56.823Z"
   },
   {
    "duration": 0,
    "start_time": "2022-10-30T12:14:56.824Z"
   },
   {
    "duration": 215,
    "start_time": "2022-10-30T12:15:35.483Z"
   },
   {
    "duration": 5,
    "start_time": "2022-10-30T12:15:47.442Z"
   },
   {
    "duration": 10,
    "start_time": "2022-10-30T12:15:50.277Z"
   },
   {
    "duration": 10,
    "start_time": "2022-10-30T12:16:19.687Z"
   },
   {
    "duration": 18,
    "start_time": "2022-10-30T12:17:16.858Z"
   },
   {
    "duration": 163,
    "start_time": "2022-10-30T12:23:15.894Z"
   },
   {
    "duration": 213,
    "start_time": "2022-10-30T12:25:36.300Z"
   },
   {
    "duration": 224,
    "start_time": "2022-10-30T12:26:26.458Z"
   },
   {
    "duration": 13,
    "start_time": "2022-10-30T12:31:26.446Z"
   },
   {
    "duration": 320,
    "start_time": "2022-10-30T12:31:54.706Z"
   },
   {
    "duration": 233,
    "start_time": "2022-10-30T12:32:23.434Z"
   },
   {
    "duration": 54,
    "start_time": "2022-10-30T12:38:26.900Z"
   },
   {
    "duration": 42,
    "start_time": "2022-10-30T12:40:06.379Z"
   },
   {
    "duration": 19,
    "start_time": "2022-10-30T12:41:09.966Z"
   },
   {
    "duration": 43,
    "start_time": "2022-10-30T12:41:53.245Z"
   },
   {
    "duration": 35,
    "start_time": "2022-10-30T12:42:15.316Z"
   },
   {
    "duration": 17,
    "start_time": "2022-10-30T12:42:54.892Z"
   },
   {
    "duration": 63,
    "start_time": "2022-10-30T12:45:26.802Z"
   },
   {
    "duration": 14,
    "start_time": "2022-10-30T12:47:52.211Z"
   },
   {
    "duration": 11,
    "start_time": "2022-10-30T12:48:07.195Z"
   },
   {
    "duration": 12,
    "start_time": "2022-10-30T12:49:40.340Z"
   },
   {
    "duration": 10,
    "start_time": "2022-10-30T12:51:14.014Z"
   },
   {
    "duration": 216,
    "start_time": "2022-10-30T12:52:17.471Z"
   },
   {
    "duration": 46,
    "start_time": "2022-10-30T12:55:57.748Z"
   },
   {
    "duration": 4,
    "start_time": "2022-10-30T14:01:37.924Z"
   },
   {
    "duration": 572,
    "start_time": "2022-10-30T14:01:56.739Z"
   },
   {
    "duration": 48,
    "start_time": "2022-10-30T14:04:45.787Z"
   },
   {
    "duration": 2,
    "start_time": "2022-10-30T14:10:36.694Z"
   },
   {
    "duration": 34,
    "start_time": "2022-10-30T14:13:46.348Z"
   },
   {
    "duration": 21,
    "start_time": "2022-10-30T14:19:25.374Z"
   },
   {
    "duration": 1374,
    "start_time": "2022-10-30T14:19:45.940Z"
   },
   {
    "duration": 54,
    "start_time": "2022-10-30T14:19:47.315Z"
   },
   {
    "duration": 12,
    "start_time": "2022-10-30T14:19:47.371Z"
   },
   {
    "duration": 19,
    "start_time": "2022-10-30T14:19:47.385Z"
   },
   {
    "duration": 5,
    "start_time": "2022-10-30T14:19:47.406Z"
   },
   {
    "duration": 5,
    "start_time": "2022-10-30T14:19:47.413Z"
   },
   {
    "duration": 7,
    "start_time": "2022-10-30T14:19:47.420Z"
   },
   {
    "duration": 7,
    "start_time": "2022-10-30T14:19:47.428Z"
   },
   {
    "duration": 11,
    "start_time": "2022-10-30T14:19:47.437Z"
   },
   {
    "duration": 9,
    "start_time": "2022-10-30T14:19:47.451Z"
   },
   {
    "duration": 5,
    "start_time": "2022-10-30T14:19:47.462Z"
   },
   {
    "duration": 41,
    "start_time": "2022-10-30T14:19:47.469Z"
   },
   {
    "duration": 7,
    "start_time": "2022-10-30T14:19:47.512Z"
   },
   {
    "duration": 8,
    "start_time": "2022-10-30T14:19:47.521Z"
   },
   {
    "duration": 8,
    "start_time": "2022-10-30T14:19:47.531Z"
   },
   {
    "duration": 15,
    "start_time": "2022-10-30T14:19:47.540Z"
   },
   {
    "duration": 143,
    "start_time": "2022-10-30T14:19:47.556Z"
   },
   {
    "duration": 148,
    "start_time": "2022-10-30T14:19:47.701Z"
   },
   {
    "duration": 5,
    "start_time": "2022-10-30T14:19:47.851Z"
   },
   {
    "duration": 5,
    "start_time": "2022-10-30T14:19:47.858Z"
   },
   {
    "duration": 5,
    "start_time": "2022-10-30T14:19:47.865Z"
   },
   {
    "duration": 38,
    "start_time": "2022-10-30T14:19:47.871Z"
   },
   {
    "duration": 18,
    "start_time": "2022-10-30T14:19:47.911Z"
   },
   {
    "duration": 18,
    "start_time": "2022-10-30T14:19:47.930Z"
   },
   {
    "duration": 19,
    "start_time": "2022-10-30T14:19:47.950Z"
   },
   {
    "duration": 11,
    "start_time": "2022-10-30T14:19:47.971Z"
   },
   {
    "duration": 30,
    "start_time": "2022-10-30T14:19:47.983Z"
   },
   {
    "duration": 56,
    "start_time": "2022-10-30T14:19:48.017Z"
   },
   {
    "duration": 12,
    "start_time": "2022-10-30T14:19:48.075Z"
   },
   {
    "duration": 30,
    "start_time": "2022-10-30T14:19:48.089Z"
   },
   {
    "duration": 195,
    "start_time": "2022-10-30T14:19:48.121Z"
   },
   {
    "duration": 14,
    "start_time": "2022-10-30T14:19:48.317Z"
   },
   {
    "duration": 256,
    "start_time": "2022-10-30T14:19:48.332Z"
   },
   {
    "duration": 23,
    "start_time": "2022-10-30T14:19:48.590Z"
   },
   {
    "duration": 9,
    "start_time": "2022-10-30T14:19:48.615Z"
   },
   {
    "duration": 19,
    "start_time": "2022-10-30T14:19:48.626Z"
   },
   {
    "duration": 17,
    "start_time": "2022-10-30T14:19:48.646Z"
   },
   {
    "duration": 16,
    "start_time": "2022-10-30T14:19:48.664Z"
   },
   {
    "duration": 42,
    "start_time": "2022-10-30T14:19:48.681Z"
   },
   {
    "duration": 17,
    "start_time": "2022-10-30T14:19:48.725Z"
   },
   {
    "duration": 16,
    "start_time": "2022-10-30T14:19:48.743Z"
   },
   {
    "duration": 401,
    "start_time": "2022-10-30T14:19:48.760Z"
   },
   {
    "duration": 397,
    "start_time": "2022-10-30T14:19:49.162Z"
   },
   {
    "duration": 9,
    "start_time": "2022-10-30T14:19:49.561Z"
   },
   {
    "duration": 201,
    "start_time": "2022-10-30T14:19:49.572Z"
   },
   {
    "duration": 10,
    "start_time": "2022-10-30T14:19:49.775Z"
   },
   {
    "duration": 233,
    "start_time": "2022-10-30T14:19:49.786Z"
   },
   {
    "duration": 4,
    "start_time": "2022-10-30T14:19:50.021Z"
   },
   {
    "duration": 17,
    "start_time": "2022-10-30T14:19:50.026Z"
   },
   {
    "duration": 228,
    "start_time": "2022-10-30T14:19:50.044Z"
   },
   {
    "duration": 11,
    "start_time": "2022-10-30T14:19:50.274Z"
   },
   {
    "duration": 211,
    "start_time": "2022-10-30T14:19:50.287Z"
   },
   {
    "duration": 485,
    "start_time": "2022-10-30T14:19:50.500Z"
   },
   {
    "duration": 159,
    "start_time": "2022-10-30T14:19:50.987Z"
   },
   {
    "duration": 21,
    "start_time": "2022-10-30T14:21:08.714Z"
   },
   {
    "duration": 1598,
    "start_time": "2022-10-30T16:00:28.641Z"
   },
   {
    "duration": 1560,
    "start_time": "2022-10-30T16:01:56.049Z"
   },
   {
    "duration": 1671,
    "start_time": "2022-10-30T16:07:35.480Z"
   },
   {
    "duration": 1715,
    "start_time": "2022-10-30T16:11:37.714Z"
   },
   {
    "duration": 1606,
    "start_time": "2022-10-30T16:17:19.165Z"
   },
   {
    "duration": 14,
    "start_time": "2022-10-30T16:21:04.060Z"
   },
   {
    "duration": 11,
    "start_time": "2022-10-30T16:23:25.264Z"
   },
   {
    "duration": 19,
    "start_time": "2022-10-30T16:23:37.757Z"
   },
   {
    "duration": 33,
    "start_time": "2022-10-30T16:23:55.585Z"
   },
   {
    "duration": 17,
    "start_time": "2022-10-30T16:25:33.151Z"
   },
   {
    "duration": 16,
    "start_time": "2022-10-30T16:31:41.173Z"
   },
   {
    "duration": 21,
    "start_time": "2022-10-30T16:32:45.048Z"
   },
   {
    "duration": 1692,
    "start_time": "2022-10-30T16:33:13.721Z"
   },
   {
    "duration": 16,
    "start_time": "2022-10-30T16:34:07.662Z"
   },
   {
    "duration": 1451,
    "start_time": "2022-10-30T16:34:32.717Z"
   },
   {
    "duration": 60,
    "start_time": "2022-10-30T16:34:34.170Z"
   },
   {
    "duration": 11,
    "start_time": "2022-10-30T16:34:34.232Z"
   },
   {
    "duration": 19,
    "start_time": "2022-10-30T16:34:34.245Z"
   },
   {
    "duration": 6,
    "start_time": "2022-10-30T16:34:34.265Z"
   },
   {
    "duration": 5,
    "start_time": "2022-10-30T16:34:34.273Z"
   },
   {
    "duration": 42,
    "start_time": "2022-10-30T16:34:34.280Z"
   },
   {
    "duration": 12,
    "start_time": "2022-10-30T16:34:34.324Z"
   },
   {
    "duration": 11,
    "start_time": "2022-10-30T16:34:34.338Z"
   },
   {
    "duration": 12,
    "start_time": "2022-10-30T16:34:34.351Z"
   },
   {
    "duration": 6,
    "start_time": "2022-10-30T16:34:34.364Z"
   },
   {
    "duration": 6,
    "start_time": "2022-10-30T16:34:34.371Z"
   },
   {
    "duration": 51,
    "start_time": "2022-10-30T16:34:34.379Z"
   },
   {
    "duration": 27,
    "start_time": "2022-10-30T16:34:34.432Z"
   },
   {
    "duration": 14,
    "start_time": "2022-10-30T16:34:34.461Z"
   },
   {
    "duration": 12,
    "start_time": "2022-10-30T16:34:34.477Z"
   },
   {
    "duration": 145,
    "start_time": "2022-10-30T16:34:34.491Z"
   },
   {
    "duration": 173,
    "start_time": "2022-10-30T16:34:34.638Z"
   },
   {
    "duration": 6,
    "start_time": "2022-10-30T16:34:34.813Z"
   },
   {
    "duration": 20,
    "start_time": "2022-10-30T16:34:34.820Z"
   },
   {
    "duration": 6,
    "start_time": "2022-10-30T16:34:34.842Z"
   },
   {
    "duration": 15,
    "start_time": "2022-10-30T16:34:34.849Z"
   },
   {
    "duration": 17,
    "start_time": "2022-10-30T16:34:34.865Z"
   },
   {
    "duration": 35,
    "start_time": "2022-10-30T16:34:34.884Z"
   },
   {
    "duration": 19,
    "start_time": "2022-10-30T16:34:34.921Z"
   },
   {
    "duration": 6,
    "start_time": "2022-10-30T16:34:34.941Z"
   },
   {
    "duration": 7,
    "start_time": "2022-10-30T16:34:34.949Z"
   },
   {
    "duration": 80,
    "start_time": "2022-10-30T16:34:34.959Z"
   },
   {
    "duration": 12,
    "start_time": "2022-10-30T16:34:35.042Z"
   },
   {
    "duration": 20,
    "start_time": "2022-10-30T16:34:35.055Z"
   },
   {
    "duration": 198,
    "start_time": "2022-10-30T16:34:35.076Z"
   },
   {
    "duration": 13,
    "start_time": "2022-10-30T16:34:35.276Z"
   },
   {
    "duration": 251,
    "start_time": "2022-10-30T16:34:35.291Z"
   },
   {
    "duration": 15,
    "start_time": "2022-10-30T16:34:35.544Z"
   },
   {
    "duration": 6,
    "start_time": "2022-10-30T16:34:35.561Z"
   },
   {
    "duration": 18,
    "start_time": "2022-10-30T16:34:35.568Z"
   },
   {
    "duration": 36,
    "start_time": "2022-10-30T16:34:35.587Z"
   },
   {
    "duration": 18,
    "start_time": "2022-10-30T16:34:35.625Z"
   },
   {
    "duration": 18,
    "start_time": "2022-10-30T16:34:35.645Z"
   },
   {
    "duration": 51,
    "start_time": "2022-10-30T16:34:35.665Z"
   },
   {
    "duration": 12,
    "start_time": "2022-10-30T16:34:35.718Z"
   },
   {
    "duration": 422,
    "start_time": "2022-10-30T16:34:35.732Z"
   },
   {
    "duration": 452,
    "start_time": "2022-10-30T16:34:36.156Z"
   },
   {
    "duration": 13,
    "start_time": "2022-10-30T16:34:36.610Z"
   },
   {
    "duration": 234,
    "start_time": "2022-10-30T16:34:36.625Z"
   },
   {
    "duration": 10,
    "start_time": "2022-10-30T16:34:36.860Z"
   },
   {
    "duration": 236,
    "start_time": "2022-10-30T16:34:36.871Z"
   },
   {
    "duration": 8,
    "start_time": "2022-10-30T16:34:37.109Z"
   },
   {
    "duration": 21,
    "start_time": "2022-10-30T16:34:37.118Z"
   },
   {
    "duration": 240,
    "start_time": "2022-10-30T16:34:37.140Z"
   },
   {
    "duration": 10,
    "start_time": "2022-10-30T16:34:37.382Z"
   },
   {
    "duration": 218,
    "start_time": "2022-10-30T16:34:37.393Z"
   },
   {
    "duration": 19,
    "start_time": "2022-10-30T16:34:37.613Z"
   },
   {
    "duration": 1668,
    "start_time": "2022-10-30T16:34:37.634Z"
   },
   {
    "duration": 595,
    "start_time": "2022-10-30T16:34:39.308Z"
   },
   {
    "duration": 1430,
    "start_time": "2022-10-30T17:15:12.097Z"
   },
   {
    "duration": 55,
    "start_time": "2022-10-30T17:15:13.529Z"
   },
   {
    "duration": 12,
    "start_time": "2022-10-30T17:15:13.585Z"
   },
   {
    "duration": 19,
    "start_time": "2022-10-30T17:15:13.599Z"
   },
   {
    "duration": 7,
    "start_time": "2022-10-30T17:15:13.620Z"
   },
   {
    "duration": 9,
    "start_time": "2022-10-30T17:15:13.629Z"
   },
   {
    "duration": 14,
    "start_time": "2022-10-30T17:15:13.640Z"
   },
   {
    "duration": 8,
    "start_time": "2022-10-30T17:15:13.655Z"
   },
   {
    "duration": 11,
    "start_time": "2022-10-30T17:15:13.664Z"
   },
   {
    "duration": 8,
    "start_time": "2022-10-30T17:15:13.678Z"
   },
   {
    "duration": 31,
    "start_time": "2022-10-30T17:15:13.688Z"
   },
   {
    "duration": 9,
    "start_time": "2022-10-30T17:15:13.721Z"
   },
   {
    "duration": 10,
    "start_time": "2022-10-30T17:15:13.732Z"
   },
   {
    "duration": 10,
    "start_time": "2022-10-30T17:15:13.744Z"
   },
   {
    "duration": 10,
    "start_time": "2022-10-30T17:15:13.755Z"
   },
   {
    "duration": 10,
    "start_time": "2022-10-30T17:15:13.767Z"
   },
   {
    "duration": 143,
    "start_time": "2022-10-30T17:15:13.778Z"
   },
   {
    "duration": 154,
    "start_time": "2022-10-30T17:15:13.923Z"
   },
   {
    "duration": 5,
    "start_time": "2022-10-30T17:15:14.078Z"
   },
   {
    "duration": 12,
    "start_time": "2022-10-30T17:15:14.085Z"
   },
   {
    "duration": 13,
    "start_time": "2022-10-30T17:15:14.098Z"
   },
   {
    "duration": 21,
    "start_time": "2022-10-30T17:15:14.112Z"
   },
   {
    "duration": 19,
    "start_time": "2022-10-30T17:15:14.134Z"
   },
   {
    "duration": 17,
    "start_time": "2022-10-30T17:15:14.155Z"
   },
   {
    "duration": 43,
    "start_time": "2022-10-30T17:15:14.174Z"
   },
   {
    "duration": 9,
    "start_time": "2022-10-30T17:15:14.219Z"
   },
   {
    "duration": 7,
    "start_time": "2022-10-30T17:15:14.230Z"
   },
   {
    "duration": 49,
    "start_time": "2022-10-30T17:15:14.240Z"
   },
   {
    "duration": 29,
    "start_time": "2022-10-30T17:15:14.291Z"
   },
   {
    "duration": 21,
    "start_time": "2022-10-30T17:15:14.321Z"
   },
   {
    "duration": 221,
    "start_time": "2022-10-30T17:15:14.344Z"
   },
   {
    "duration": 18,
    "start_time": "2022-10-30T17:15:14.567Z"
   },
   {
    "duration": 273,
    "start_time": "2022-10-30T17:15:14.588Z"
   },
   {
    "duration": 16,
    "start_time": "2022-10-30T17:15:14.864Z"
   },
   {
    "duration": 6,
    "start_time": "2022-10-30T17:15:14.881Z"
   },
   {
    "duration": 30,
    "start_time": "2022-10-30T17:15:14.889Z"
   },
   {
    "duration": 18,
    "start_time": "2022-10-30T17:15:14.920Z"
   },
   {
    "duration": 16,
    "start_time": "2022-10-30T17:15:14.940Z"
   },
   {
    "duration": 17,
    "start_time": "2022-10-30T17:15:14.958Z"
   },
   {
    "duration": 51,
    "start_time": "2022-10-30T17:15:14.976Z"
   },
   {
    "duration": 11,
    "start_time": "2022-10-30T17:15:15.029Z"
   },
   {
    "duration": 390,
    "start_time": "2022-10-30T17:15:15.042Z"
   },
   {
    "duration": 383,
    "start_time": "2022-10-30T17:15:15.434Z"
   },
   {
    "duration": 11,
    "start_time": "2022-10-30T17:15:15.820Z"
   },
   {
    "duration": 210,
    "start_time": "2022-10-30T17:15:15.833Z"
   },
   {
    "duration": 9,
    "start_time": "2022-10-30T17:15:16.044Z"
   },
   {
    "duration": 239,
    "start_time": "2022-10-30T17:15:16.055Z"
   },
   {
    "duration": 5,
    "start_time": "2022-10-30T17:15:16.295Z"
   },
   {
    "duration": 20,
    "start_time": "2022-10-30T17:15:16.301Z"
   },
   {
    "duration": 244,
    "start_time": "2022-10-30T17:15:16.323Z"
   },
   {
    "duration": 11,
    "start_time": "2022-10-30T17:15:16.569Z"
   },
   {
    "duration": 226,
    "start_time": "2022-10-30T17:15:16.581Z"
   },
   {
    "duration": 24,
    "start_time": "2022-10-30T17:15:16.809Z"
   },
   {
    "duration": 1652,
    "start_time": "2022-10-30T17:15:16.835Z"
   },
   {
    "duration": 583,
    "start_time": "2022-10-30T17:15:18.489Z"
   },
   {
    "duration": 80,
    "start_time": "2022-10-30T18:40:37.414Z"
   },
   {
    "duration": 12,
    "start_time": "2022-10-30T18:41:00.335Z"
   },
   {
    "duration": 1633,
    "start_time": "2022-10-30T18:41:20.290Z"
   },
   {
    "duration": 183,
    "start_time": "2022-10-30T18:41:21.925Z"
   },
   {
    "duration": 13,
    "start_time": "2022-10-30T18:41:22.109Z"
   },
   {
    "duration": 32,
    "start_time": "2022-10-30T18:41:22.125Z"
   },
   {
    "duration": 7,
    "start_time": "2022-10-30T18:41:22.159Z"
   },
   {
    "duration": 15,
    "start_time": "2022-10-30T18:41:22.168Z"
   },
   {
    "duration": 16,
    "start_time": "2022-10-30T18:41:22.185Z"
   },
   {
    "duration": 31,
    "start_time": "2022-10-30T18:41:22.204Z"
   },
   {
    "duration": 12,
    "start_time": "2022-10-30T18:41:22.237Z"
   },
   {
    "duration": 13,
    "start_time": "2022-10-30T18:41:22.253Z"
   },
   {
    "duration": 7,
    "start_time": "2022-10-30T18:41:22.267Z"
   },
   {
    "duration": 11,
    "start_time": "2022-10-30T18:41:22.276Z"
   },
   {
    "duration": 46,
    "start_time": "2022-10-30T18:41:22.289Z"
   },
   {
    "duration": 13,
    "start_time": "2022-10-30T18:41:22.337Z"
   },
   {
    "duration": 13,
    "start_time": "2022-10-30T18:41:22.352Z"
   },
   {
    "duration": 12,
    "start_time": "2022-10-30T18:41:22.367Z"
   },
   {
    "duration": 195,
    "start_time": "2022-10-30T18:41:22.381Z"
   },
   {
    "duration": 165,
    "start_time": "2022-10-30T18:41:22.578Z"
   },
   {
    "duration": 7,
    "start_time": "2022-10-30T18:41:22.745Z"
   },
   {
    "duration": 7,
    "start_time": "2022-10-30T18:41:22.754Z"
   },
   {
    "duration": 12,
    "start_time": "2022-10-30T18:41:22.763Z"
   },
   {
    "duration": 24,
    "start_time": "2022-10-30T18:41:22.777Z"
   },
   {
    "duration": 81,
    "start_time": "2022-10-30T18:41:22.804Z"
   },
   {
    "duration": 25,
    "start_time": "2022-10-30T18:41:22.888Z"
   },
   {
    "duration": 24,
    "start_time": "2022-10-30T18:41:22.915Z"
   },
   {
    "duration": 9,
    "start_time": "2022-10-30T18:41:22.941Z"
   },
   {
    "duration": 14,
    "start_time": "2022-10-30T18:41:22.952Z"
   },
   {
    "duration": 64,
    "start_time": "2022-10-30T18:41:22.971Z"
   },
   {
    "duration": 13,
    "start_time": "2022-10-30T18:41:23.036Z"
   },
   {
    "duration": 24,
    "start_time": "2022-10-30T18:41:23.051Z"
   },
   {
    "duration": 242,
    "start_time": "2022-10-30T18:41:23.077Z"
   },
   {
    "duration": 23,
    "start_time": "2022-10-30T18:41:23.321Z"
   },
   {
    "duration": 294,
    "start_time": "2022-10-30T18:41:23.346Z"
   },
   {
    "duration": 17,
    "start_time": "2022-10-30T18:41:23.642Z"
   },
   {
    "duration": 10,
    "start_time": "2022-10-30T18:41:23.662Z"
   },
   {
    "duration": 31,
    "start_time": "2022-10-30T18:41:23.674Z"
   },
   {
    "duration": 49,
    "start_time": "2022-10-30T18:41:23.707Z"
   },
   {
    "duration": 26,
    "start_time": "2022-10-30T18:41:23.758Z"
   },
   {
    "duration": 58,
    "start_time": "2022-10-30T18:41:23.787Z"
   },
   {
    "duration": 25,
    "start_time": "2022-10-30T18:41:23.847Z"
   },
   {
    "duration": 21,
    "start_time": "2022-10-30T18:41:23.875Z"
   },
   {
    "duration": 513,
    "start_time": "2022-10-30T18:41:23.899Z"
   },
   {
    "duration": 586,
    "start_time": "2022-10-30T18:41:24.414Z"
   },
   {
    "duration": 12,
    "start_time": "2022-10-30T18:41:25.004Z"
   },
   {
    "duration": 326,
    "start_time": "2022-10-30T18:41:25.018Z"
   },
   {
    "duration": 14,
    "start_time": "2022-10-30T18:41:25.346Z"
   },
   {
    "duration": 344,
    "start_time": "2022-10-30T18:41:25.362Z"
   },
   {
    "duration": 5,
    "start_time": "2022-10-30T18:41:25.709Z"
   },
   {
    "duration": 32,
    "start_time": "2022-10-30T18:41:25.716Z"
   },
   {
    "duration": 242,
    "start_time": "2022-10-30T18:41:25.750Z"
   },
   {
    "duration": 15,
    "start_time": "2022-10-30T18:41:25.994Z"
   },
   {
    "duration": 265,
    "start_time": "2022-10-30T18:41:26.011Z"
   },
   {
    "duration": 22,
    "start_time": "2022-10-30T18:41:26.279Z"
   },
   {
    "duration": 3407,
    "start_time": "2022-10-30T18:41:26.303Z"
   },
   {
    "duration": 589,
    "start_time": "2022-10-30T18:41:29.712Z"
   },
   {
    "duration": 77,
    "start_time": "2022-10-30T18:51:44.536Z"
   },
   {
    "duration": 116,
    "start_time": "2022-10-30T18:52:23.209Z"
   },
   {
    "duration": 1655,
    "start_time": "2022-10-30T18:52:35.347Z"
   },
   {
    "duration": 1507,
    "start_time": "2022-10-30T19:00:31.748Z"
   },
   {
    "duration": 53,
    "start_time": "2022-10-30T19:00:33.257Z"
   },
   {
    "duration": 13,
    "start_time": "2022-10-30T19:00:33.312Z"
   },
   {
    "duration": 22,
    "start_time": "2022-10-30T19:00:33.327Z"
   },
   {
    "duration": 6,
    "start_time": "2022-10-30T19:00:33.350Z"
   },
   {
    "duration": 6,
    "start_time": "2022-10-30T19:00:33.358Z"
   },
   {
    "duration": 8,
    "start_time": "2022-10-30T19:00:33.365Z"
   },
   {
    "duration": 34,
    "start_time": "2022-10-30T19:00:33.374Z"
   },
   {
    "duration": 16,
    "start_time": "2022-10-30T19:00:33.410Z"
   },
   {
    "duration": 28,
    "start_time": "2022-10-30T19:00:33.429Z"
   },
   {
    "duration": 36,
    "start_time": "2022-10-30T19:00:33.459Z"
   },
   {
    "duration": 44,
    "start_time": "2022-10-30T19:00:33.497Z"
   },
   {
    "duration": 44,
    "start_time": "2022-10-30T19:00:33.542Z"
   },
   {
    "duration": 23,
    "start_time": "2022-10-30T19:00:33.587Z"
   },
   {
    "duration": 44,
    "start_time": "2022-10-30T19:00:33.611Z"
   },
   {
    "duration": 28,
    "start_time": "2022-10-30T19:00:33.657Z"
   },
   {
    "duration": 142,
    "start_time": "2022-10-30T19:00:33.687Z"
   },
   {
    "duration": 152,
    "start_time": "2022-10-30T19:00:33.833Z"
   },
   {
    "duration": 5,
    "start_time": "2022-10-30T19:00:33.987Z"
   },
   {
    "duration": 36,
    "start_time": "2022-10-30T19:00:33.993Z"
   },
   {
    "duration": 15,
    "start_time": "2022-10-30T19:00:34.031Z"
   },
   {
    "duration": 42,
    "start_time": "2022-10-30T19:00:34.047Z"
   },
   {
    "duration": 46,
    "start_time": "2022-10-30T19:00:34.091Z"
   },
   {
    "duration": 18,
    "start_time": "2022-10-30T19:00:34.138Z"
   },
   {
    "duration": 55,
    "start_time": "2022-10-30T19:00:34.157Z"
   },
   {
    "duration": 20,
    "start_time": "2022-10-30T19:00:34.213Z"
   },
   {
    "duration": 36,
    "start_time": "2022-10-30T19:00:34.235Z"
   },
   {
    "duration": 81,
    "start_time": "2022-10-30T19:00:34.274Z"
   },
   {
    "duration": 11,
    "start_time": "2022-10-30T19:00:34.357Z"
   },
   {
    "duration": 45,
    "start_time": "2022-10-30T19:00:34.370Z"
   },
   {
    "duration": 210,
    "start_time": "2022-10-30T19:00:34.417Z"
   },
   {
    "duration": 15,
    "start_time": "2022-10-30T19:00:34.629Z"
   },
   {
    "duration": 257,
    "start_time": "2022-10-30T19:00:34.645Z"
   },
   {
    "duration": 15,
    "start_time": "2022-10-30T19:00:34.903Z"
   },
   {
    "duration": 26,
    "start_time": "2022-10-30T19:00:34.920Z"
   },
   {
    "duration": 18,
    "start_time": "2022-10-30T19:00:34.948Z"
   },
   {
    "duration": 16,
    "start_time": "2022-10-30T19:00:34.967Z"
   },
   {
    "duration": 25,
    "start_time": "2022-10-30T19:00:34.985Z"
   },
   {
    "duration": 22,
    "start_time": "2022-10-30T19:00:35.012Z"
   },
   {
    "duration": 24,
    "start_time": "2022-10-30T19:00:35.036Z"
   },
   {
    "duration": 11,
    "start_time": "2022-10-30T19:00:35.062Z"
   },
   {
    "duration": 373,
    "start_time": "2022-10-30T19:00:35.075Z"
   },
   {
    "duration": 394,
    "start_time": "2022-10-30T19:00:35.450Z"
   },
   {
    "duration": 10,
    "start_time": "2022-10-30T19:00:35.846Z"
   },
   {
    "duration": 214,
    "start_time": "2022-10-30T19:00:35.857Z"
   },
   {
    "duration": 9,
    "start_time": "2022-10-30T19:00:36.073Z"
   },
   {
    "duration": 267,
    "start_time": "2022-10-30T19:00:36.085Z"
   },
   {
    "duration": 5,
    "start_time": "2022-10-30T19:00:36.354Z"
   },
   {
    "duration": 20,
    "start_time": "2022-10-30T19:00:36.361Z"
   },
   {
    "duration": 270,
    "start_time": "2022-10-30T19:00:36.383Z"
   },
   {
    "duration": 11,
    "start_time": "2022-10-30T19:00:36.655Z"
   },
   {
    "duration": 241,
    "start_time": "2022-10-30T19:00:36.668Z"
   },
   {
    "duration": 24,
    "start_time": "2022-10-30T19:00:36.910Z"
   },
   {
    "duration": 1606,
    "start_time": "2022-10-30T19:00:36.936Z"
   },
   {
    "duration": 607,
    "start_time": "2022-10-30T19:00:38.544Z"
   },
   {
    "duration": 75,
    "start_time": "2022-10-30T19:15:57.624Z"
   },
   {
    "duration": 72,
    "start_time": "2022-10-30T19:25:02.747Z"
   },
   {
    "duration": 1444,
    "start_time": "2022-10-30T19:26:03.208Z"
   },
   {
    "duration": 53,
    "start_time": "2022-10-30T19:26:04.654Z"
   },
   {
    "duration": 13,
    "start_time": "2022-10-30T19:26:04.709Z"
   },
   {
    "duration": 47,
    "start_time": "2022-10-30T19:26:04.724Z"
   },
   {
    "duration": 35,
    "start_time": "2022-10-30T19:26:04.773Z"
   },
   {
    "duration": 36,
    "start_time": "2022-10-30T19:26:04.810Z"
   },
   {
    "duration": 31,
    "start_time": "2022-10-30T19:26:04.847Z"
   },
   {
    "duration": 20,
    "start_time": "2022-10-30T19:26:04.880Z"
   },
   {
    "duration": 34,
    "start_time": "2022-10-30T19:26:04.902Z"
   },
   {
    "duration": 33,
    "start_time": "2022-10-30T19:26:04.939Z"
   },
   {
    "duration": 23,
    "start_time": "2022-10-30T19:26:04.974Z"
   },
   {
    "duration": 33,
    "start_time": "2022-10-30T19:26:04.999Z"
   },
   {
    "duration": 23,
    "start_time": "2022-10-30T19:26:05.033Z"
   },
   {
    "duration": 35,
    "start_time": "2022-10-30T19:26:05.058Z"
   },
   {
    "duration": 19,
    "start_time": "2022-10-30T19:26:05.095Z"
   },
   {
    "duration": 27,
    "start_time": "2022-10-30T19:26:05.116Z"
   },
   {
    "duration": 141,
    "start_time": "2022-10-30T19:26:05.144Z"
   },
   {
    "duration": 155,
    "start_time": "2022-10-30T19:26:05.287Z"
   },
   {
    "duration": 5,
    "start_time": "2022-10-30T19:26:05.444Z"
   },
   {
    "duration": 27,
    "start_time": "2022-10-30T19:26:05.451Z"
   },
   {
    "duration": 36,
    "start_time": "2022-10-30T19:26:05.480Z"
   },
   {
    "duration": 37,
    "start_time": "2022-10-30T19:26:05.518Z"
   },
   {
    "duration": 60,
    "start_time": "2022-10-30T19:26:05.557Z"
   },
   {
    "duration": 37,
    "start_time": "2022-10-30T19:26:05.619Z"
   },
   {
    "duration": 56,
    "start_time": "2022-10-30T19:26:05.658Z"
   },
   {
    "duration": 33,
    "start_time": "2022-10-30T19:26:05.716Z"
   },
   {
    "duration": 22,
    "start_time": "2022-10-30T19:26:05.751Z"
   },
   {
    "duration": 79,
    "start_time": "2022-10-30T19:26:05.778Z"
   },
   {
    "duration": 13,
    "start_time": "2022-10-30T19:26:05.859Z"
   },
   {
    "duration": 22,
    "start_time": "2022-10-30T19:26:05.873Z"
   },
   {
    "duration": 196,
    "start_time": "2022-10-30T19:26:05.897Z"
   },
   {
    "duration": 14,
    "start_time": "2022-10-30T19:26:06.095Z"
   },
   {
    "duration": 318,
    "start_time": "2022-10-30T19:26:06.111Z"
   },
   {
    "duration": 22,
    "start_time": "2022-10-30T19:26:06.434Z"
   },
   {
    "duration": 24,
    "start_time": "2022-10-30T19:26:06.458Z"
   },
   {
    "duration": 26,
    "start_time": "2022-10-30T19:26:06.484Z"
   },
   {
    "duration": 31,
    "start_time": "2022-10-30T19:26:06.513Z"
   },
   {
    "duration": 17,
    "start_time": "2022-10-30T19:26:06.546Z"
   },
   {
    "duration": 18,
    "start_time": "2022-10-30T19:26:06.565Z"
   },
   {
    "duration": 17,
    "start_time": "2022-10-30T19:26:06.585Z"
   },
   {
    "duration": 38,
    "start_time": "2022-10-30T19:26:06.604Z"
   },
   {
    "duration": 421,
    "start_time": "2022-10-30T19:26:06.644Z"
   },
   {
    "duration": 417,
    "start_time": "2022-10-30T19:26:07.066Z"
   },
   {
    "duration": 10,
    "start_time": "2022-10-30T19:26:07.485Z"
   },
   {
    "duration": 220,
    "start_time": "2022-10-30T19:26:07.497Z"
   },
   {
    "duration": 9,
    "start_time": "2022-10-30T19:26:07.719Z"
   },
   {
    "duration": 247,
    "start_time": "2022-10-30T19:26:07.734Z"
   },
   {
    "duration": 5,
    "start_time": "2022-10-30T19:26:07.984Z"
   },
   {
    "duration": 18,
    "start_time": "2022-10-30T19:26:07.991Z"
   },
   {
    "duration": 257,
    "start_time": "2022-10-30T19:26:08.011Z"
   },
   {
    "duration": 12,
    "start_time": "2022-10-30T19:26:08.270Z"
   },
   {
    "duration": 241,
    "start_time": "2022-10-30T19:26:08.284Z"
   },
   {
    "duration": 22,
    "start_time": "2022-10-30T19:26:08.527Z"
   },
   {
    "duration": 1715,
    "start_time": "2022-10-30T19:26:08.551Z"
   },
   {
    "duration": 608,
    "start_time": "2022-10-30T19:26:10.268Z"
   },
   {
    "duration": 53,
    "start_time": "2022-10-31T06:49:18.641Z"
   },
   {
    "duration": 1965,
    "start_time": "2022-10-31T06:49:33.606Z"
   },
   {
    "duration": 172,
    "start_time": "2022-10-31T06:49:35.573Z"
   },
   {
    "duration": 13,
    "start_time": "2022-10-31T06:49:35.746Z"
   },
   {
    "duration": 19,
    "start_time": "2022-10-31T06:49:35.761Z"
   },
   {
    "duration": 6,
    "start_time": "2022-10-31T06:49:35.781Z"
   },
   {
    "duration": 6,
    "start_time": "2022-10-31T06:49:35.788Z"
   },
   {
    "duration": 16,
    "start_time": "2022-10-31T06:49:35.795Z"
   },
   {
    "duration": 5,
    "start_time": "2022-10-31T06:49:35.813Z"
   },
   {
    "duration": 12,
    "start_time": "2022-10-31T06:49:35.819Z"
   },
   {
    "duration": 9,
    "start_time": "2022-10-31T06:49:35.833Z"
   },
   {
    "duration": 6,
    "start_time": "2022-10-31T06:49:35.843Z"
   },
   {
    "duration": 11,
    "start_time": "2022-10-31T06:49:35.850Z"
   },
   {
    "duration": 8,
    "start_time": "2022-10-31T06:49:35.862Z"
   },
   {
    "duration": 9,
    "start_time": "2022-10-31T06:49:35.871Z"
   },
   {
    "duration": 10,
    "start_time": "2022-10-31T06:49:35.912Z"
   },
   {
    "duration": 11,
    "start_time": "2022-10-31T06:49:35.924Z"
   },
   {
    "duration": 134,
    "start_time": "2022-10-31T06:49:35.937Z"
   },
   {
    "duration": 154,
    "start_time": "2022-10-31T06:49:36.072Z"
   },
   {
    "duration": 5,
    "start_time": "2022-10-31T06:49:36.227Z"
   },
   {
    "duration": 7,
    "start_time": "2022-10-31T06:49:36.234Z"
   },
   {
    "duration": 12,
    "start_time": "2022-10-31T06:49:36.242Z"
   },
   {
    "duration": 15,
    "start_time": "2022-10-31T06:49:36.256Z"
   },
   {
    "duration": 43,
    "start_time": "2022-10-31T06:49:36.273Z"
   },
   {
    "duration": 15,
    "start_time": "2022-10-31T06:49:36.318Z"
   },
   {
    "duration": 18,
    "start_time": "2022-10-31T06:49:36.335Z"
   },
   {
    "duration": 5,
    "start_time": "2022-10-31T06:49:36.355Z"
   },
   {
    "duration": 7,
    "start_time": "2022-10-31T06:49:36.361Z"
   },
   {
    "duration": 66,
    "start_time": "2022-10-31T06:49:36.372Z"
   },
   {
    "duration": 11,
    "start_time": "2022-10-31T06:49:36.439Z"
   },
   {
    "duration": 18,
    "start_time": "2022-10-31T06:49:36.451Z"
   },
   {
    "duration": 211,
    "start_time": "2022-10-31T06:49:36.471Z"
   },
   {
    "duration": 13,
    "start_time": "2022-10-31T06:49:36.684Z"
   },
   {
    "duration": 232,
    "start_time": "2022-10-31T06:49:36.709Z"
   },
   {
    "duration": 16,
    "start_time": "2022-10-31T06:49:36.942Z"
   },
   {
    "duration": 6,
    "start_time": "2022-10-31T06:49:36.959Z"
   },
   {
    "duration": 16,
    "start_time": "2022-10-31T06:49:36.967Z"
   },
   {
    "duration": 39,
    "start_time": "2022-10-31T06:49:36.985Z"
   },
   {
    "duration": 16,
    "start_time": "2022-10-31T06:49:37.026Z"
   },
   {
    "duration": 17,
    "start_time": "2022-10-31T06:49:37.043Z"
   },
   {
    "duration": 16,
    "start_time": "2022-10-31T06:49:37.062Z"
   },
   {
    "duration": 37,
    "start_time": "2022-10-31T06:49:37.080Z"
   },
   {
    "duration": 371,
    "start_time": "2022-10-31T06:49:37.119Z"
   },
   {
    "duration": 388,
    "start_time": "2022-10-31T06:49:37.492Z"
   },
   {
    "duration": 9,
    "start_time": "2022-10-31T06:49:37.882Z"
   },
   {
    "duration": 206,
    "start_time": "2022-10-31T06:49:37.893Z"
   },
   {
    "duration": 9,
    "start_time": "2022-10-31T06:49:38.108Z"
   },
   {
    "duration": 218,
    "start_time": "2022-10-31T06:49:38.118Z"
   },
   {
    "duration": 4,
    "start_time": "2022-10-31T06:49:38.338Z"
   },
   {
    "duration": 12,
    "start_time": "2022-10-31T06:49:38.343Z"
   },
   {
    "duration": 231,
    "start_time": "2022-10-31T06:49:38.356Z"
   },
   {
    "duration": 21,
    "start_time": "2022-10-31T06:49:38.588Z"
   },
   {
    "duration": 208,
    "start_time": "2022-10-31T06:49:38.610Z"
   },
   {
    "duration": 18,
    "start_time": "2022-10-31T06:49:38.819Z"
   },
   {
    "duration": 1562,
    "start_time": "2022-10-31T06:49:38.839Z"
   },
   {
    "duration": 613,
    "start_time": "2022-10-31T06:49:40.402Z"
   },
   {
    "duration": 4,
    "start_time": "2022-10-31T06:49:41.017Z"
   },
   {
    "duration": 6,
    "start_time": "2022-10-31T06:53:40.274Z"
   },
   {
    "duration": 6,
    "start_time": "2022-10-31T07:00:10.729Z"
   },
   {
    "duration": 7,
    "start_time": "2022-10-31T07:00:36.238Z"
   },
   {
    "duration": 132,
    "start_time": "2022-10-31T07:02:14.522Z"
   },
   {
    "duration": 5,
    "start_time": "2022-10-31T07:03:32.031Z"
   },
   {
    "duration": 47,
    "start_time": "2022-10-31T07:05:32.450Z"
   },
   {
    "duration": 57,
    "start_time": "2022-10-31T07:06:58.997Z"
   },
   {
    "duration": 7,
    "start_time": "2022-10-31T07:07:27.671Z"
   },
   {
    "duration": 6,
    "start_time": "2022-10-31T07:07:34.692Z"
   },
   {
    "duration": 6,
    "start_time": "2022-10-31T07:11:13.676Z"
   },
   {
    "duration": 59,
    "start_time": "2022-10-31T08:05:28.326Z"
   },
   {
    "duration": 188,
    "start_time": "2022-10-31T08:05:44.433Z"
   },
   {
    "duration": 146,
    "start_time": "2022-10-31T08:11:33.596Z"
   },
   {
    "duration": 5,
    "start_time": "2022-10-31T08:17:23.828Z"
   },
   {
    "duration": 31,
    "start_time": "2022-10-31T08:17:47.747Z"
   },
   {
    "duration": 1466,
    "start_time": "2022-10-31T08:18:03.690Z"
   },
   {
    "duration": 71,
    "start_time": "2022-10-31T08:18:05.158Z"
   },
   {
    "duration": 12,
    "start_time": "2022-10-31T08:18:05.231Z"
   },
   {
    "duration": 19,
    "start_time": "2022-10-31T08:18:05.245Z"
   },
   {
    "duration": 6,
    "start_time": "2022-10-31T08:18:05.266Z"
   },
   {
    "duration": 7,
    "start_time": "2022-10-31T08:18:05.274Z"
   },
   {
    "duration": 35,
    "start_time": "2022-10-31T08:18:05.282Z"
   },
   {
    "duration": 13,
    "start_time": "2022-10-31T08:18:05.318Z"
   },
   {
    "duration": 15,
    "start_time": "2022-10-31T08:18:05.333Z"
   },
   {
    "duration": 9,
    "start_time": "2022-10-31T08:18:05.351Z"
   },
   {
    "duration": 9,
    "start_time": "2022-10-31T08:18:05.362Z"
   },
   {
    "duration": 7,
    "start_time": "2022-10-31T08:18:05.372Z"
   },
   {
    "duration": 33,
    "start_time": "2022-10-31T08:18:05.380Z"
   },
   {
    "duration": 10,
    "start_time": "2022-10-31T08:18:05.414Z"
   },
   {
    "duration": 8,
    "start_time": "2022-10-31T08:18:05.426Z"
   },
   {
    "duration": 10,
    "start_time": "2022-10-31T08:18:05.435Z"
   },
   {
    "duration": 142,
    "start_time": "2022-10-31T08:18:05.446Z"
   },
   {
    "duration": 155,
    "start_time": "2022-10-31T08:18:05.589Z"
   },
   {
    "duration": 4,
    "start_time": "2022-10-31T08:18:05.746Z"
   },
   {
    "duration": 4,
    "start_time": "2022-10-31T08:18:05.752Z"
   },
   {
    "duration": 11,
    "start_time": "2022-10-31T08:18:05.758Z"
   },
   {
    "duration": 18,
    "start_time": "2022-10-31T08:18:05.770Z"
   },
   {
    "duration": 33,
    "start_time": "2022-10-31T08:18:05.790Z"
   },
   {
    "duration": 20,
    "start_time": "2022-10-31T08:18:05.825Z"
   },
   {
    "duration": 23,
    "start_time": "2022-10-31T08:18:05.847Z"
   },
   {
    "duration": 36,
    "start_time": "2022-10-31T08:18:05.872Z"
   },
   {
    "duration": 7,
    "start_time": "2022-10-31T08:18:05.910Z"
   },
   {
    "duration": 56,
    "start_time": "2022-10-31T08:18:05.921Z"
   },
   {
    "duration": 12,
    "start_time": "2022-10-31T08:18:05.978Z"
   },
   {
    "duration": 16,
    "start_time": "2022-10-31T08:18:06.008Z"
   },
   {
    "duration": 209,
    "start_time": "2022-10-31T08:18:06.026Z"
   },
   {
    "duration": 15,
    "start_time": "2022-10-31T08:18:06.236Z"
   },
   {
    "duration": 274,
    "start_time": "2022-10-31T08:18:06.252Z"
   },
   {
    "duration": 16,
    "start_time": "2022-10-31T08:18:06.528Z"
   },
   {
    "duration": 7,
    "start_time": "2022-10-31T08:18:06.545Z"
   },
   {
    "duration": 20,
    "start_time": "2022-10-31T08:18:06.554Z"
   },
   {
    "duration": 43,
    "start_time": "2022-10-31T08:18:06.576Z"
   },
   {
    "duration": 17,
    "start_time": "2022-10-31T08:18:06.620Z"
   },
   {
    "duration": 17,
    "start_time": "2022-10-31T08:18:06.639Z"
   },
   {
    "duration": 15,
    "start_time": "2022-10-31T08:18:06.657Z"
   },
   {
    "duration": 36,
    "start_time": "2022-10-31T08:18:06.673Z"
   },
   {
    "duration": 360,
    "start_time": "2022-10-31T08:18:06.711Z"
   },
   {
    "duration": 385,
    "start_time": "2022-10-31T08:18:07.073Z"
   },
   {
    "duration": 9,
    "start_time": "2022-10-31T08:18:07.459Z"
   },
   {
    "duration": 203,
    "start_time": "2022-10-31T08:18:07.470Z"
   },
   {
    "duration": 8,
    "start_time": "2022-10-31T08:18:07.674Z"
   },
   {
    "duration": 219,
    "start_time": "2022-10-31T08:18:07.684Z"
   },
   {
    "duration": 6,
    "start_time": "2022-10-31T08:18:07.904Z"
   },
   {
    "duration": 11,
    "start_time": "2022-10-31T08:18:07.911Z"
   },
   {
    "duration": 228,
    "start_time": "2022-10-31T08:18:07.923Z"
   },
   {
    "duration": 12,
    "start_time": "2022-10-31T08:18:08.152Z"
   },
   {
    "duration": 223,
    "start_time": "2022-10-31T08:18:08.165Z"
   },
   {
    "duration": 24,
    "start_time": "2022-10-31T08:18:08.389Z"
   },
   {
    "duration": 1578,
    "start_time": "2022-10-31T08:18:08.415Z"
   },
   {
    "duration": 566,
    "start_time": "2022-10-31T08:18:09.995Z"
   },
   {
    "duration": 6,
    "start_time": "2022-10-31T08:18:10.562Z"
   },
   {
    "duration": 8,
    "start_time": "2022-10-31T08:18:10.570Z"
   },
   {
    "duration": 11,
    "start_time": "2022-10-31T08:18:10.579Z"
   },
   {
    "duration": 20,
    "start_time": "2022-10-31T08:18:10.592Z"
   },
   {
    "duration": 154,
    "start_time": "2022-10-31T08:18:10.613Z"
   },
   {
    "duration": 6,
    "start_time": "2022-10-31T08:19:03.468Z"
   },
   {
    "duration": 47,
    "start_time": "2022-10-31T08:19:15.720Z"
   },
   {
    "duration": 1353,
    "start_time": "2022-10-31T08:19:29.462Z"
   },
   {
    "duration": 54,
    "start_time": "2022-10-31T08:19:30.817Z"
   },
   {
    "duration": 11,
    "start_time": "2022-10-31T08:19:30.873Z"
   },
   {
    "duration": 23,
    "start_time": "2022-10-31T08:19:30.886Z"
   },
   {
    "duration": 6,
    "start_time": "2022-10-31T08:19:30.911Z"
   },
   {
    "duration": 16,
    "start_time": "2022-10-31T08:19:30.918Z"
   },
   {
    "duration": 11,
    "start_time": "2022-10-31T08:19:30.935Z"
   },
   {
    "duration": 7,
    "start_time": "2022-10-31T08:19:30.947Z"
   },
   {
    "duration": 13,
    "start_time": "2022-10-31T08:19:30.955Z"
   },
   {
    "duration": 9,
    "start_time": "2022-10-31T08:19:30.970Z"
   },
   {
    "duration": 18,
    "start_time": "2022-10-31T08:19:30.981Z"
   },
   {
    "duration": 20,
    "start_time": "2022-10-31T08:19:31.000Z"
   },
   {
    "duration": 9,
    "start_time": "2022-10-31T08:19:31.021Z"
   },
   {
    "duration": 14,
    "start_time": "2022-10-31T08:19:31.031Z"
   },
   {
    "duration": 10,
    "start_time": "2022-10-31T08:19:31.046Z"
   },
   {
    "duration": 13,
    "start_time": "2022-10-31T08:19:31.057Z"
   },
   {
    "duration": 121,
    "start_time": "2022-10-31T08:19:31.071Z"
   },
   {
    "duration": 162,
    "start_time": "2022-10-31T08:19:31.194Z"
   },
   {
    "duration": 6,
    "start_time": "2022-10-31T08:19:31.357Z"
   },
   {
    "duration": 6,
    "start_time": "2022-10-31T08:19:31.364Z"
   },
   {
    "duration": 9,
    "start_time": "2022-10-31T08:19:31.371Z"
   },
   {
    "duration": 15,
    "start_time": "2022-10-31T08:19:31.382Z"
   },
   {
    "duration": 19,
    "start_time": "2022-10-31T08:19:31.409Z"
   },
   {
    "duration": 28,
    "start_time": "2022-10-31T08:19:31.429Z"
   },
   {
    "duration": 28,
    "start_time": "2022-10-31T08:19:31.459Z"
   },
   {
    "duration": 5,
    "start_time": "2022-10-31T08:19:31.488Z"
   },
   {
    "duration": 18,
    "start_time": "2022-10-31T08:19:31.496Z"
   },
   {
    "duration": 51,
    "start_time": "2022-10-31T08:19:31.517Z"
   },
   {
    "duration": 11,
    "start_time": "2022-10-31T08:19:31.570Z"
   },
   {
    "duration": 30,
    "start_time": "2022-10-31T08:19:31.583Z"
   },
   {
    "duration": 188,
    "start_time": "2022-10-31T08:19:31.615Z"
   },
   {
    "duration": 15,
    "start_time": "2022-10-31T08:19:31.805Z"
   },
   {
    "duration": 246,
    "start_time": "2022-10-31T08:19:31.822Z"
   },
   {
    "duration": 16,
    "start_time": "2022-10-31T08:19:32.069Z"
   },
   {
    "duration": 23,
    "start_time": "2022-10-31T08:19:32.087Z"
   },
   {
    "duration": 18,
    "start_time": "2022-10-31T08:19:32.112Z"
   },
   {
    "duration": 16,
    "start_time": "2022-10-31T08:19:32.132Z"
   },
   {
    "duration": 17,
    "start_time": "2022-10-31T08:19:32.149Z"
   },
   {
    "duration": 42,
    "start_time": "2022-10-31T08:19:32.168Z"
   },
   {
    "duration": 16,
    "start_time": "2022-10-31T08:19:32.212Z"
   },
   {
    "duration": 10,
    "start_time": "2022-10-31T08:19:32.229Z"
   },
   {
    "duration": 369,
    "start_time": "2022-10-31T08:19:32.240Z"
   },
   {
    "duration": 424,
    "start_time": "2022-10-31T08:19:32.611Z"
   },
   {
    "duration": 10,
    "start_time": "2022-10-31T08:19:33.037Z"
   },
   {
    "duration": 317,
    "start_time": "2022-10-31T08:19:33.048Z"
   },
   {
    "duration": 10,
    "start_time": "2022-10-31T08:19:33.367Z"
   },
   {
    "duration": 230,
    "start_time": "2022-10-31T08:19:33.379Z"
   },
   {
    "duration": 4,
    "start_time": "2022-10-31T08:19:33.610Z"
   },
   {
    "duration": 12,
    "start_time": "2022-10-31T08:19:33.616Z"
   },
   {
    "duration": 216,
    "start_time": "2022-10-31T08:19:33.630Z"
   },
   {
    "duration": 11,
    "start_time": "2022-10-31T08:19:33.847Z"
   },
   {
    "duration": 217,
    "start_time": "2022-10-31T08:19:33.859Z"
   },
   {
    "duration": 18,
    "start_time": "2022-10-31T08:19:34.078Z"
   },
   {
    "duration": 1651,
    "start_time": "2022-10-31T08:19:34.097Z"
   },
   {
    "duration": 547,
    "start_time": "2022-10-31T08:19:35.749Z"
   },
   {
    "duration": 14,
    "start_time": "2022-10-31T08:19:36.298Z"
   },
   {
    "duration": 8,
    "start_time": "2022-10-31T08:19:36.313Z"
   },
   {
    "duration": 11,
    "start_time": "2022-10-31T08:19:36.323Z"
   },
   {
    "duration": 7,
    "start_time": "2022-10-31T08:19:36.335Z"
   },
   {
    "duration": 156,
    "start_time": "2022-10-31T08:19:36.344Z"
   },
   {
    "duration": 12,
    "start_time": "2022-10-31T08:20:56.877Z"
   },
   {
    "duration": 866,
    "start_time": "2022-10-31T08:22:40.100Z"
   },
   {
    "duration": 6,
    "start_time": "2022-10-31T08:22:53.488Z"
   },
   {
    "duration": 842,
    "start_time": "2022-10-31T08:23:48.180Z"
   },
   {
    "duration": 10,
    "start_time": "2022-10-31T08:23:57.365Z"
   },
   {
    "duration": 11,
    "start_time": "2022-10-31T08:24:05.944Z"
   },
   {
    "duration": 11,
    "start_time": "2022-10-31T08:24:13.812Z"
   },
   {
    "duration": 1373,
    "start_time": "2022-10-31T08:24:31.653Z"
   },
   {
    "duration": 53,
    "start_time": "2022-10-31T08:24:33.028Z"
   },
   {
    "duration": 11,
    "start_time": "2022-10-31T08:24:33.083Z"
   },
   {
    "duration": 30,
    "start_time": "2022-10-31T08:24:33.096Z"
   },
   {
    "duration": 7,
    "start_time": "2022-10-31T08:24:33.127Z"
   },
   {
    "duration": 9,
    "start_time": "2022-10-31T08:24:33.136Z"
   },
   {
    "duration": 9,
    "start_time": "2022-10-31T08:24:33.147Z"
   },
   {
    "duration": 10,
    "start_time": "2022-10-31T08:24:33.158Z"
   },
   {
    "duration": 47,
    "start_time": "2022-10-31T08:24:33.170Z"
   },
   {
    "duration": 9,
    "start_time": "2022-10-31T08:24:33.221Z"
   },
   {
    "duration": 6,
    "start_time": "2022-10-31T08:24:33.232Z"
   },
   {
    "duration": 6,
    "start_time": "2022-10-31T08:24:33.239Z"
   },
   {
    "duration": 8,
    "start_time": "2022-10-31T08:24:33.247Z"
   },
   {
    "duration": 11,
    "start_time": "2022-10-31T08:24:33.257Z"
   },
   {
    "duration": 40,
    "start_time": "2022-10-31T08:24:33.270Z"
   },
   {
    "duration": 9,
    "start_time": "2022-10-31T08:24:33.312Z"
   },
   {
    "duration": 138,
    "start_time": "2022-10-31T08:24:33.323Z"
   },
   {
    "duration": 154,
    "start_time": "2022-10-31T08:24:33.462Z"
   },
   {
    "duration": 6,
    "start_time": "2022-10-31T08:24:33.617Z"
   },
   {
    "duration": 6,
    "start_time": "2022-10-31T08:24:33.624Z"
   },
   {
    "duration": 7,
    "start_time": "2022-10-31T08:24:33.632Z"
   },
   {
    "duration": 19,
    "start_time": "2022-10-31T08:24:33.640Z"
   },
   {
    "duration": 17,
    "start_time": "2022-10-31T08:24:33.661Z"
   },
   {
    "duration": 39,
    "start_time": "2022-10-31T08:24:33.680Z"
   },
   {
    "duration": 19,
    "start_time": "2022-10-31T08:24:33.721Z"
   },
   {
    "duration": 3,
    "start_time": "2022-10-31T08:24:33.743Z"
   },
   {
    "duration": 7,
    "start_time": "2022-10-31T08:24:33.748Z"
   },
   {
    "duration": 79,
    "start_time": "2022-10-31T08:24:33.759Z"
   },
   {
    "duration": 10,
    "start_time": "2022-10-31T08:24:33.840Z"
   },
   {
    "duration": 15,
    "start_time": "2022-10-31T08:24:33.852Z"
   },
   {
    "duration": 198,
    "start_time": "2022-10-31T08:24:33.869Z"
   },
   {
    "duration": 14,
    "start_time": "2022-10-31T08:24:34.069Z"
   },
   {
    "duration": 266,
    "start_time": "2022-10-31T08:24:34.085Z"
   },
   {
    "duration": 16,
    "start_time": "2022-10-31T08:24:34.353Z"
   },
   {
    "duration": 7,
    "start_time": "2022-10-31T08:24:34.371Z"
   },
   {
    "duration": 42,
    "start_time": "2022-10-31T08:24:34.380Z"
   },
   {
    "duration": 24,
    "start_time": "2022-10-31T08:24:34.424Z"
   },
   {
    "duration": 21,
    "start_time": "2022-10-31T08:24:34.450Z"
   },
   {
    "duration": 50,
    "start_time": "2022-10-31T08:24:34.474Z"
   },
   {
    "duration": 23,
    "start_time": "2022-10-31T08:24:34.526Z"
   },
   {
    "duration": 12,
    "start_time": "2022-10-31T08:24:34.550Z"
   },
   {
    "duration": 432,
    "start_time": "2022-10-31T08:24:34.564Z"
   },
   {
    "duration": 389,
    "start_time": "2022-10-31T08:24:34.997Z"
   },
   {
    "duration": 9,
    "start_time": "2022-10-31T08:24:35.388Z"
   },
   {
    "duration": 201,
    "start_time": "2022-10-31T08:24:35.398Z"
   },
   {
    "duration": 15,
    "start_time": "2022-10-31T08:24:35.601Z"
   },
   {
    "duration": 220,
    "start_time": "2022-10-31T08:24:35.617Z"
   },
   {
    "duration": 5,
    "start_time": "2022-10-31T08:24:35.838Z"
   },
   {
    "duration": 13,
    "start_time": "2022-10-31T08:24:35.845Z"
   },
   {
    "duration": 231,
    "start_time": "2022-10-31T08:24:35.859Z"
   },
   {
    "duration": 21,
    "start_time": "2022-10-31T08:24:36.092Z"
   },
   {
    "duration": 230,
    "start_time": "2022-10-31T08:24:36.115Z"
   },
   {
    "duration": 17,
    "start_time": "2022-10-31T08:24:36.347Z"
   },
   {
    "duration": 1613,
    "start_time": "2022-10-31T08:24:36.366Z"
   },
   {
    "duration": 577,
    "start_time": "2022-10-31T08:24:37.981Z"
   },
   {
    "duration": 7,
    "start_time": "2022-10-31T08:24:38.560Z"
   },
   {
    "duration": 7,
    "start_time": "2022-10-31T08:24:38.568Z"
   },
   {
    "duration": 6,
    "start_time": "2022-10-31T08:24:38.577Z"
   },
   {
    "duration": 27,
    "start_time": "2022-10-31T08:24:38.585Z"
   },
   {
    "duration": 6,
    "start_time": "2022-10-31T08:24:38.614Z"
   },
   {
    "duration": 11,
    "start_time": "2022-10-31T08:24:38.622Z"
   },
   {
    "duration": 11,
    "start_time": "2022-10-31T08:24:38.635Z"
   },
   {
    "duration": 181,
    "start_time": "2022-10-31T08:24:38.647Z"
   },
   {
    "duration": 10,
    "start_time": "2022-10-31T08:28:28.298Z"
   },
   {
    "duration": 13,
    "start_time": "2022-10-31T08:28:30.872Z"
   },
   {
    "duration": 31,
    "start_time": "2022-10-31T08:28:35.733Z"
   },
   {
    "duration": 4,
    "start_time": "2022-10-31T08:33:22.177Z"
   },
   {
    "duration": 15,
    "start_time": "2022-10-31T08:33:34.542Z"
   },
   {
    "duration": 37,
    "start_time": "2022-10-31T08:33:46.749Z"
   },
   {
    "duration": 29,
    "start_time": "2022-10-31T08:33:49.495Z"
   },
   {
    "duration": 11,
    "start_time": "2022-10-31T08:35:27.105Z"
   },
   {
    "duration": 11,
    "start_time": "2022-10-31T08:35:31.946Z"
   },
   {
    "duration": 31,
    "start_time": "2022-10-31T08:35:36.807Z"
   },
   {
    "duration": 31,
    "start_time": "2022-10-31T08:35:45.140Z"
   },
   {
    "duration": 31,
    "start_time": "2022-10-31T08:35:58.461Z"
   },
   {
    "duration": 11,
    "start_time": "2022-10-31T08:36:19.517Z"
   },
   {
    "duration": 31,
    "start_time": "2022-10-31T08:36:23.613Z"
   },
   {
    "duration": 31,
    "start_time": "2022-10-31T08:37:03.808Z"
   },
   {
    "duration": 10,
    "start_time": "2022-10-31T08:38:44.308Z"
   },
   {
    "duration": 11,
    "start_time": "2022-10-31T08:38:47.600Z"
   },
   {
    "duration": 32,
    "start_time": "2022-10-31T08:38:51.846Z"
   },
   {
    "duration": 6,
    "start_time": "2022-10-31T08:40:05.199Z"
   },
   {
    "duration": 12,
    "start_time": "2022-10-31T08:40:11.563Z"
   },
   {
    "duration": 30,
    "start_time": "2022-10-31T08:40:19.282Z"
   },
   {
    "duration": 1375,
    "start_time": "2022-10-31T08:40:32.345Z"
   },
   {
    "duration": 52,
    "start_time": "2022-10-31T08:40:33.723Z"
   },
   {
    "duration": 11,
    "start_time": "2022-10-31T08:40:33.777Z"
   },
   {
    "duration": 19,
    "start_time": "2022-10-31T08:40:33.790Z"
   },
   {
    "duration": 5,
    "start_time": "2022-10-31T08:40:33.810Z"
   },
   {
    "duration": 6,
    "start_time": "2022-10-31T08:40:33.817Z"
   },
   {
    "duration": 7,
    "start_time": "2022-10-31T08:40:33.824Z"
   },
   {
    "duration": 6,
    "start_time": "2022-10-31T08:40:33.832Z"
   },
   {
    "duration": 11,
    "start_time": "2022-10-31T08:40:33.839Z"
   },
   {
    "duration": 9,
    "start_time": "2022-10-31T08:40:33.852Z"
   },
   {
    "duration": 5,
    "start_time": "2022-10-31T08:40:33.863Z"
   },
   {
    "duration": 41,
    "start_time": "2022-10-31T08:40:33.869Z"
   },
   {
    "duration": 7,
    "start_time": "2022-10-31T08:40:33.911Z"
   },
   {
    "duration": 10,
    "start_time": "2022-10-31T08:40:33.919Z"
   },
   {
    "duration": 8,
    "start_time": "2022-10-31T08:40:33.930Z"
   },
   {
    "duration": 9,
    "start_time": "2022-10-31T08:40:33.939Z"
   },
   {
    "duration": 148,
    "start_time": "2022-10-31T08:40:33.949Z"
   },
   {
    "duration": 146,
    "start_time": "2022-10-31T08:40:34.099Z"
   },
   {
    "duration": 5,
    "start_time": "2022-10-31T08:40:34.246Z"
   },
   {
    "duration": 5,
    "start_time": "2022-10-31T08:40:34.252Z"
   },
   {
    "duration": 5,
    "start_time": "2022-10-31T08:40:34.258Z"
   },
   {
    "duration": 15,
    "start_time": "2022-10-31T08:40:34.264Z"
   },
   {
    "duration": 38,
    "start_time": "2022-10-31T08:40:34.280Z"
   },
   {
    "duration": 16,
    "start_time": "2022-10-31T08:40:34.320Z"
   },
   {
    "duration": 19,
    "start_time": "2022-10-31T08:40:34.337Z"
   },
   {
    "duration": 4,
    "start_time": "2022-10-31T08:40:34.358Z"
   },
   {
    "duration": 7,
    "start_time": "2022-10-31T08:40:34.363Z"
   },
   {
    "duration": 85,
    "start_time": "2022-10-31T08:40:34.374Z"
   },
   {
    "duration": 14,
    "start_time": "2022-10-31T08:40:34.461Z"
   },
   {
    "duration": 37,
    "start_time": "2022-10-31T08:40:34.477Z"
   },
   {
    "duration": 215,
    "start_time": "2022-10-31T08:40:34.516Z"
   },
   {
    "duration": 12,
    "start_time": "2022-10-31T08:40:34.733Z"
   },
   {
    "duration": 249,
    "start_time": "2022-10-31T08:40:34.747Z"
   },
   {
    "duration": 20,
    "start_time": "2022-10-31T08:40:34.998Z"
   },
   {
    "duration": 6,
    "start_time": "2022-10-31T08:40:35.020Z"
   },
   {
    "duration": 17,
    "start_time": "2022-10-31T08:40:35.028Z"
   },
   {
    "duration": 16,
    "start_time": "2022-10-31T08:40:35.046Z"
   },
   {
    "duration": 15,
    "start_time": "2022-10-31T08:40:35.063Z"
   },
   {
    "duration": 43,
    "start_time": "2022-10-31T08:40:35.079Z"
   },
   {
    "duration": 16,
    "start_time": "2022-10-31T08:40:35.124Z"
   },
   {
    "duration": 11,
    "start_time": "2022-10-31T08:40:35.142Z"
   },
   {
    "duration": 433,
    "start_time": "2022-10-31T08:40:35.154Z"
   },
   {
    "duration": 383,
    "start_time": "2022-10-31T08:40:35.588Z"
   },
   {
    "duration": 9,
    "start_time": "2022-10-31T08:40:35.973Z"
   },
   {
    "duration": 203,
    "start_time": "2022-10-31T08:40:35.984Z"
   },
   {
    "duration": 9,
    "start_time": "2022-10-31T08:40:36.189Z"
   },
   {
    "duration": 234,
    "start_time": "2022-10-31T08:40:36.199Z"
   },
   {
    "duration": 4,
    "start_time": "2022-10-31T08:40:36.435Z"
   },
   {
    "duration": 14,
    "start_time": "2022-10-31T08:40:36.441Z"
   },
   {
    "duration": 240,
    "start_time": "2022-10-31T08:40:36.456Z"
   },
   {
    "duration": 16,
    "start_time": "2022-10-31T08:40:36.698Z"
   },
   {
    "duration": 205,
    "start_time": "2022-10-31T08:40:36.716Z"
   },
   {
    "duration": 16,
    "start_time": "2022-10-31T08:40:36.922Z"
   },
   {
    "duration": 1605,
    "start_time": "2022-10-31T08:40:36.940Z"
   },
   {
    "duration": 541,
    "start_time": "2022-10-31T08:40:38.546Z"
   },
   {
    "duration": 6,
    "start_time": "2022-10-31T08:40:39.089Z"
   },
   {
    "duration": 16,
    "start_time": "2022-10-31T08:40:39.096Z"
   },
   {
    "duration": 8,
    "start_time": "2022-10-31T08:40:39.113Z"
   },
   {
    "duration": 13,
    "start_time": "2022-10-31T08:40:39.122Z"
   },
   {
    "duration": 10,
    "start_time": "2022-10-31T08:40:39.137Z"
   },
   {
    "duration": 168,
    "start_time": "2022-10-31T08:40:39.149Z"
   },
   {
    "duration": 29,
    "start_time": "2022-10-31T08:42:12.083Z"
   },
   {
    "duration": 6,
    "start_time": "2022-10-31T08:45:42.370Z"
   },
   {
    "duration": 6,
    "start_time": "2022-10-31T08:46:01.737Z"
   },
   {
    "duration": 11,
    "start_time": "2022-10-31T08:46:04.360Z"
   },
   {
    "duration": 31,
    "start_time": "2022-10-31T08:46:11.190Z"
   },
   {
    "duration": 1402,
    "start_time": "2022-10-31T08:46:23.450Z"
   },
   {
    "duration": 53,
    "start_time": "2022-10-31T08:46:24.854Z"
   },
   {
    "duration": 11,
    "start_time": "2022-10-31T08:46:24.909Z"
   },
   {
    "duration": 19,
    "start_time": "2022-10-31T08:46:24.922Z"
   },
   {
    "duration": 5,
    "start_time": "2022-10-31T08:46:24.942Z"
   },
   {
    "duration": 6,
    "start_time": "2022-10-31T08:46:24.949Z"
   },
   {
    "duration": 7,
    "start_time": "2022-10-31T08:46:24.956Z"
   },
   {
    "duration": 5,
    "start_time": "2022-10-31T08:46:24.965Z"
   },
   {
    "duration": 48,
    "start_time": "2022-10-31T08:46:24.971Z"
   },
   {
    "duration": 9,
    "start_time": "2022-10-31T08:46:25.022Z"
   },
   {
    "duration": 5,
    "start_time": "2022-10-31T08:46:25.033Z"
   },
   {
    "duration": 7,
    "start_time": "2022-10-31T08:46:25.039Z"
   },
   {
    "duration": 10,
    "start_time": "2022-10-31T08:46:25.048Z"
   },
   {
    "duration": 10,
    "start_time": "2022-10-31T08:46:25.060Z"
   },
   {
    "duration": 8,
    "start_time": "2022-10-31T08:46:25.071Z"
   },
   {
    "duration": 32,
    "start_time": "2022-10-31T08:46:25.080Z"
   },
   {
    "duration": 119,
    "start_time": "2022-10-31T08:46:25.114Z"
   },
   {
    "duration": 146,
    "start_time": "2022-10-31T08:46:25.234Z"
   },
   {
    "duration": 5,
    "start_time": "2022-10-31T08:46:25.381Z"
   },
   {
    "duration": 6,
    "start_time": "2022-10-31T08:46:25.387Z"
   },
   {
    "duration": 16,
    "start_time": "2022-10-31T08:46:25.395Z"
   },
   {
    "duration": 20,
    "start_time": "2022-10-31T08:46:25.412Z"
   },
   {
    "duration": 17,
    "start_time": "2022-10-31T08:46:25.434Z"
   },
   {
    "duration": 16,
    "start_time": "2022-10-31T08:46:25.453Z"
   },
   {
    "duration": 17,
    "start_time": "2022-10-31T08:46:25.471Z"
   },
   {
    "duration": 4,
    "start_time": "2022-10-31T08:46:25.509Z"
   },
   {
    "duration": 8,
    "start_time": "2022-10-31T08:46:25.514Z"
   },
   {
    "duration": 50,
    "start_time": "2022-10-31T08:46:25.525Z"
   },
   {
    "duration": 33,
    "start_time": "2022-10-31T08:46:25.576Z"
   },
   {
    "duration": 14,
    "start_time": "2022-10-31T08:46:25.611Z"
   },
   {
    "duration": 196,
    "start_time": "2022-10-31T08:46:25.627Z"
   },
   {
    "duration": 13,
    "start_time": "2022-10-31T08:46:25.825Z"
   },
   {
    "duration": 262,
    "start_time": "2022-10-31T08:46:25.840Z"
   },
   {
    "duration": 16,
    "start_time": "2022-10-31T08:46:26.109Z"
   },
   {
    "duration": 6,
    "start_time": "2022-10-31T08:46:26.126Z"
   },
   {
    "duration": 23,
    "start_time": "2022-10-31T08:46:26.134Z"
   },
   {
    "duration": 19,
    "start_time": "2022-10-31T08:46:26.158Z"
   },
   {
    "duration": 41,
    "start_time": "2022-10-31T08:46:26.178Z"
   },
   {
    "duration": 19,
    "start_time": "2022-10-31T08:46:26.221Z"
   },
   {
    "duration": 18,
    "start_time": "2022-10-31T08:46:26.242Z"
   },
   {
    "duration": 15,
    "start_time": "2022-10-31T08:46:26.262Z"
   },
   {
    "duration": 412,
    "start_time": "2022-10-31T08:46:26.278Z"
   },
   {
    "duration": 385,
    "start_time": "2022-10-31T08:46:26.692Z"
   },
   {
    "duration": 10,
    "start_time": "2022-10-31T08:46:27.079Z"
   },
   {
    "duration": 206,
    "start_time": "2022-10-31T08:46:27.090Z"
   },
   {
    "duration": 12,
    "start_time": "2022-10-31T08:46:27.298Z"
   },
   {
    "duration": 226,
    "start_time": "2022-10-31T08:46:27.311Z"
   },
   {
    "duration": 5,
    "start_time": "2022-10-31T08:46:27.538Z"
   },
   {
    "duration": 11,
    "start_time": "2022-10-31T08:46:27.544Z"
   },
   {
    "duration": 226,
    "start_time": "2022-10-31T08:46:27.556Z"
   },
   {
    "duration": 12,
    "start_time": "2022-10-31T08:46:27.784Z"
   },
   {
    "duration": 204,
    "start_time": "2022-10-31T08:46:27.808Z"
   },
   {
    "duration": 16,
    "start_time": "2022-10-31T08:46:28.013Z"
   },
   {
    "duration": 1589,
    "start_time": "2022-10-31T08:46:28.031Z"
   },
   {
    "duration": 570,
    "start_time": "2022-10-31T08:46:29.622Z"
   },
   {
    "duration": 15,
    "start_time": "2022-10-31T08:46:30.194Z"
   },
   {
    "duration": 13,
    "start_time": "2022-10-31T08:46:30.210Z"
   },
   {
    "duration": 10,
    "start_time": "2022-10-31T08:46:30.224Z"
   },
   {
    "duration": 12,
    "start_time": "2022-10-31T08:46:30.235Z"
   },
   {
    "duration": 14,
    "start_time": "2022-10-31T08:46:30.248Z"
   },
   {
    "duration": 15,
    "start_time": "2022-10-31T08:46:30.263Z"
   },
   {
    "duration": 23,
    "start_time": "2022-10-31T08:46:30.280Z"
   },
   {
    "duration": 167,
    "start_time": "2022-10-31T08:46:30.304Z"
   },
   {
    "duration": 3,
    "start_time": "2022-10-31T08:52:46.894Z"
   },
   {
    "duration": 4,
    "start_time": "2022-10-31T10:29:46.257Z"
   },
   {
    "duration": 195,
    "start_time": "2022-10-31T12:04:49.487Z"
   },
   {
    "duration": 189,
    "start_time": "2022-10-31T12:12:18.051Z"
   },
   {
    "duration": 184,
    "start_time": "2022-10-31T12:14:12.958Z"
   },
   {
    "duration": 498,
    "start_time": "2022-10-31T12:17:17.177Z"
   },
   {
    "duration": 474,
    "start_time": "2022-10-31T12:25:27.515Z"
   },
   {
    "duration": 66,
    "start_time": "2022-10-31T12:28:51.456Z"
   },
   {
    "duration": 1403,
    "start_time": "2022-10-31T12:31:23.470Z"
   },
   {
    "duration": 51,
    "start_time": "2022-10-31T12:31:24.874Z"
   },
   {
    "duration": 11,
    "start_time": "2022-10-31T12:31:24.926Z"
   },
   {
    "duration": 18,
    "start_time": "2022-10-31T12:31:24.939Z"
   },
   {
    "duration": 6,
    "start_time": "2022-10-31T12:31:24.958Z"
   },
   {
    "duration": 7,
    "start_time": "2022-10-31T12:31:24.966Z"
   },
   {
    "duration": 13,
    "start_time": "2022-10-31T12:31:24.975Z"
   },
   {
    "duration": 23,
    "start_time": "2022-10-31T12:31:24.989Z"
   },
   {
    "duration": 10,
    "start_time": "2022-10-31T12:31:25.014Z"
   },
   {
    "duration": 12,
    "start_time": "2022-10-31T12:31:25.027Z"
   },
   {
    "duration": 6,
    "start_time": "2022-10-31T12:31:25.041Z"
   },
   {
    "duration": 7,
    "start_time": "2022-10-31T12:31:25.048Z"
   },
   {
    "duration": 8,
    "start_time": "2022-10-31T12:31:25.056Z"
   },
   {
    "duration": 8,
    "start_time": "2022-10-31T12:31:25.065Z"
   },
   {
    "duration": 41,
    "start_time": "2022-10-31T12:31:25.074Z"
   },
   {
    "duration": 13,
    "start_time": "2022-10-31T12:31:25.117Z"
   },
   {
    "duration": 130,
    "start_time": "2022-10-31T12:31:25.132Z"
   },
   {
    "duration": 164,
    "start_time": "2022-10-31T12:31:25.264Z"
   },
   {
    "duration": 5,
    "start_time": "2022-10-31T12:31:25.429Z"
   },
   {
    "duration": 7,
    "start_time": "2022-10-31T12:31:25.436Z"
   },
   {
    "duration": 6,
    "start_time": "2022-10-31T12:31:25.445Z"
   },
   {
    "duration": 16,
    "start_time": "2022-10-31T12:31:25.452Z"
   },
   {
    "duration": 17,
    "start_time": "2022-10-31T12:31:25.469Z"
   },
   {
    "duration": 15,
    "start_time": "2022-10-31T12:31:25.508Z"
   },
   {
    "duration": 19,
    "start_time": "2022-10-31T12:31:25.525Z"
   },
   {
    "duration": 4,
    "start_time": "2022-10-31T12:31:25.545Z"
   },
   {
    "duration": 7,
    "start_time": "2022-10-31T12:31:25.550Z"
   },
   {
    "duration": 75,
    "start_time": "2022-10-31T12:31:25.561Z"
   },
   {
    "duration": 12,
    "start_time": "2022-10-31T12:31:25.637Z"
   },
   {
    "duration": 16,
    "start_time": "2022-10-31T12:31:25.651Z"
   },
   {
    "duration": 204,
    "start_time": "2022-10-31T12:31:25.669Z"
   },
   {
    "duration": 16,
    "start_time": "2022-10-31T12:31:25.875Z"
   },
   {
    "duration": 256,
    "start_time": "2022-10-31T12:31:25.908Z"
   },
   {
    "duration": 19,
    "start_time": "2022-10-31T12:31:26.166Z"
   },
   {
    "duration": 23,
    "start_time": "2022-10-31T12:31:26.186Z"
   },
   {
    "duration": 20,
    "start_time": "2022-10-31T12:31:26.211Z"
   },
   {
    "duration": 18,
    "start_time": "2022-10-31T12:31:26.233Z"
   },
   {
    "duration": 24,
    "start_time": "2022-10-31T12:31:26.252Z"
   },
   {
    "duration": 41,
    "start_time": "2022-10-31T12:31:26.278Z"
   },
   {
    "duration": 15,
    "start_time": "2022-10-31T12:31:26.321Z"
   },
   {
    "duration": 10,
    "start_time": "2022-10-31T12:31:26.337Z"
   },
   {
    "duration": 377,
    "start_time": "2022-10-31T12:31:26.349Z"
   },
   {
    "duration": 396,
    "start_time": "2022-10-31T12:31:26.728Z"
   },
   {
    "duration": 9,
    "start_time": "2022-10-31T12:31:27.126Z"
   },
   {
    "duration": 205,
    "start_time": "2022-10-31T12:31:27.137Z"
   },
   {
    "duration": 9,
    "start_time": "2022-10-31T12:31:27.344Z"
   },
   {
    "duration": 226,
    "start_time": "2022-10-31T12:31:27.354Z"
   },
   {
    "duration": 3,
    "start_time": "2022-10-31T12:31:27.582Z"
   },
   {
    "duration": 22,
    "start_time": "2022-10-31T12:31:27.587Z"
   },
   {
    "duration": 202,
    "start_time": "2022-10-31T12:31:27.611Z"
   },
   {
    "duration": 10,
    "start_time": "2022-10-31T12:31:27.815Z"
   },
   {
    "duration": 196,
    "start_time": "2022-10-31T12:31:27.827Z"
   },
   {
    "duration": 15,
    "start_time": "2022-10-31T12:31:28.024Z"
   },
   {
    "duration": 1596,
    "start_time": "2022-10-31T12:31:28.041Z"
   },
   {
    "duration": 541,
    "start_time": "2022-10-31T12:31:29.639Z"
   },
   {
    "duration": 6,
    "start_time": "2022-10-31T12:31:30.182Z"
   },
   {
    "duration": 21,
    "start_time": "2022-10-31T12:31:30.189Z"
   },
   {
    "duration": 10,
    "start_time": "2022-10-31T12:31:30.212Z"
   },
   {
    "duration": 49,
    "start_time": "2022-11-01T13:04:04.469Z"
   },
   {
    "duration": 2092,
    "start_time": "2022-11-01T13:04:16.818Z"
   },
   {
    "duration": 101,
    "start_time": "2022-11-01T13:04:18.912Z"
   },
   {
    "duration": 17,
    "start_time": "2022-11-01T13:04:19.014Z"
   },
   {
    "duration": 32,
    "start_time": "2022-11-01T13:04:19.034Z"
   },
   {
    "duration": 9,
    "start_time": "2022-11-01T13:04:19.068Z"
   },
   {
    "duration": 9,
    "start_time": "2022-11-01T13:04:19.079Z"
   },
   {
    "duration": 42,
    "start_time": "2022-11-01T13:04:19.090Z"
   },
   {
    "duration": 9,
    "start_time": "2022-11-01T13:04:19.134Z"
   },
   {
    "duration": 15,
    "start_time": "2022-11-01T13:04:19.145Z"
   },
   {
    "duration": 23,
    "start_time": "2022-11-01T13:04:19.164Z"
   },
   {
    "duration": 8,
    "start_time": "2022-11-01T13:04:19.189Z"
   },
   {
    "duration": 36,
    "start_time": "2022-11-01T13:04:19.200Z"
   },
   {
    "duration": 9,
    "start_time": "2022-11-01T13:04:19.238Z"
   },
   {
    "duration": 12,
    "start_time": "2022-11-01T13:04:19.249Z"
   },
   {
    "duration": 11,
    "start_time": "2022-11-01T13:04:19.264Z"
   },
   {
    "duration": 11,
    "start_time": "2022-11-01T13:04:19.277Z"
   },
   {
    "duration": 50,
    "start_time": "2022-11-01T13:04:19.290Z"
   },
   {
    "duration": 152,
    "start_time": "2022-11-01T13:04:19.342Z"
   },
   {
    "duration": 181,
    "start_time": "2022-11-01T13:04:19.497Z"
   },
   {
    "duration": 5,
    "start_time": "2022-11-01T13:04:19.681Z"
   },
   {
    "duration": 7,
    "start_time": "2022-11-01T13:04:19.689Z"
   },
   {
    "duration": 12,
    "start_time": "2022-11-01T13:04:19.698Z"
   },
   {
    "duration": 34,
    "start_time": "2022-11-01T13:04:19.712Z"
   },
   {
    "duration": 55,
    "start_time": "2022-11-01T13:04:19.747Z"
   },
   {
    "duration": 18,
    "start_time": "2022-11-01T13:04:19.805Z"
   },
   {
    "duration": 20,
    "start_time": "2022-11-01T13:04:19.825Z"
   },
   {
    "duration": 9,
    "start_time": "2022-11-01T13:04:19.846Z"
   },
   {
    "duration": 9,
    "start_time": "2022-11-01T13:04:19.859Z"
   },
   {
    "duration": 64,
    "start_time": "2022-11-01T13:04:19.870Z"
   },
   {
    "duration": 15,
    "start_time": "2022-11-01T13:04:19.936Z"
   },
   {
    "duration": 25,
    "start_time": "2022-11-01T13:04:19.953Z"
   },
   {
    "duration": 231,
    "start_time": "2022-11-01T13:04:19.981Z"
   },
   {
    "duration": 22,
    "start_time": "2022-11-01T13:04:20.214Z"
   },
   {
    "duration": 301,
    "start_time": "2022-11-01T13:04:20.238Z"
   },
   {
    "duration": 18,
    "start_time": "2022-11-01T13:04:20.541Z"
   },
   {
    "duration": 8,
    "start_time": "2022-11-01T13:04:20.561Z"
   },
   {
    "duration": 23,
    "start_time": "2022-11-01T13:04:20.571Z"
   },
   {
    "duration": 52,
    "start_time": "2022-11-01T13:04:20.596Z"
   },
   {
    "duration": 20,
    "start_time": "2022-11-01T13:04:20.650Z"
   },
   {
    "duration": 27,
    "start_time": "2022-11-01T13:04:20.673Z"
   },
   {
    "duration": 50,
    "start_time": "2022-11-01T13:04:20.703Z"
   },
   {
    "duration": 17,
    "start_time": "2022-11-01T13:04:20.755Z"
   },
   {
    "duration": 522,
    "start_time": "2022-11-01T13:04:20.774Z"
   },
   {
    "duration": 500,
    "start_time": "2022-11-01T13:04:21.299Z"
   },
   {
    "duration": 11,
    "start_time": "2022-11-01T13:04:21.802Z"
   },
   {
    "duration": 302,
    "start_time": "2022-11-01T13:04:21.816Z"
   },
   {
    "duration": 21,
    "start_time": "2022-11-01T13:04:22.120Z"
   },
   {
    "duration": 306,
    "start_time": "2022-11-01T13:04:22.143Z"
   },
   {
    "duration": 5,
    "start_time": "2022-11-01T13:04:22.452Z"
   },
   {
    "duration": 11,
    "start_time": "2022-11-01T13:04:22.460Z"
   },
   {
    "duration": 288,
    "start_time": "2022-11-01T13:04:22.473Z"
   },
   {
    "duration": 14,
    "start_time": "2022-11-01T13:04:22.764Z"
   },
   {
    "duration": 244,
    "start_time": "2022-11-01T13:04:22.780Z"
   },
   {
    "duration": 30,
    "start_time": "2022-11-01T13:04:23.032Z"
   },
   {
    "duration": 2023,
    "start_time": "2022-11-01T13:04:23.064Z"
   },
   {
    "duration": 770,
    "start_time": "2022-11-01T13:04:25.088Z"
   },
   {
    "duration": 8,
    "start_time": "2022-11-01T13:04:25.860Z"
   },
   {
    "duration": 9,
    "start_time": "2022-11-01T13:04:25.869Z"
   },
   {
    "duration": 8,
    "start_time": "2022-11-01T13:04:25.881Z"
   },
   {
    "duration": 11,
    "start_time": "2022-11-01T13:05:00.903Z"
   },
   {
    "duration": 13,
    "start_time": "2022-11-01T13:05:37.134Z"
   },
   {
    "duration": 14,
    "start_time": "2022-11-01T13:05:50.160Z"
   },
   {
    "duration": 16,
    "start_time": "2022-11-01T13:08:47.661Z"
   },
   {
    "duration": 24,
    "start_time": "2022-11-01T13:09:12.440Z"
   },
   {
    "duration": 11,
    "start_time": "2022-11-01T13:09:25.112Z"
   },
   {
    "duration": 12,
    "start_time": "2022-11-01T13:10:00.947Z"
   },
   {
    "duration": 17,
    "start_time": "2022-11-01T13:10:28.779Z"
   },
   {
    "duration": 5,
    "start_time": "2022-11-01T13:11:33.585Z"
   },
   {
    "duration": 5,
    "start_time": "2022-11-01T13:11:59.857Z"
   },
   {
    "duration": 5,
    "start_time": "2022-11-01T13:12:27.317Z"
   },
   {
    "duration": 5,
    "start_time": "2022-11-01T13:12:55.671Z"
   },
   {
    "duration": 4,
    "start_time": "2022-11-01T13:13:54.192Z"
   },
   {
    "duration": 7,
    "start_time": "2022-11-01T13:14:18.687Z"
   },
   {
    "duration": 10,
    "start_time": "2022-11-01T13:15:06.983Z"
   },
   {
    "duration": 80,
    "start_time": "2022-11-01T13:20:50.521Z"
   },
   {
    "duration": 14,
    "start_time": "2022-11-01T13:22:59.112Z"
   },
   {
    "duration": 91,
    "start_time": "2022-11-01T13:23:58.663Z"
   },
   {
    "duration": 11,
    "start_time": "2022-11-01T13:26:08.712Z"
   },
   {
    "duration": 16,
    "start_time": "2022-11-01T13:26:17.615Z"
   },
   {
    "duration": 7,
    "start_time": "2022-11-01T13:30:16.820Z"
   },
   {
    "duration": 166,
    "start_time": "2022-11-01T13:30:39.594Z"
   },
   {
    "duration": 22,
    "start_time": "2022-11-01T13:30:58.579Z"
   },
   {
    "duration": 14,
    "start_time": "2022-11-01T13:31:07.979Z"
   },
   {
    "duration": 26,
    "start_time": "2022-11-01T13:35:43.553Z"
   },
   {
    "duration": 11,
    "start_time": "2022-11-01T13:43:36.565Z"
   },
   {
    "duration": 7,
    "start_time": "2022-11-01T13:44:20.052Z"
   },
   {
    "duration": 8,
    "start_time": "2022-11-01T13:49:27.322Z"
   },
   {
    "duration": 10,
    "start_time": "2022-11-01T13:50:47.431Z"
   },
   {
    "duration": 9,
    "start_time": "2022-11-01T13:51:34.718Z"
   },
   {
    "duration": 18,
    "start_time": "2022-11-01T14:15:37.146Z"
   },
   {
    "duration": 11,
    "start_time": "2022-11-01T14:16:28.460Z"
   },
   {
    "duration": 13,
    "start_time": "2022-11-01T14:26:18.867Z"
   },
   {
    "duration": 11,
    "start_time": "2022-11-01T14:26:30.410Z"
   },
   {
    "duration": 10,
    "start_time": "2022-11-01T14:26:48.493Z"
   },
   {
    "duration": 9,
    "start_time": "2022-11-01T14:31:27.218Z"
   },
   {
    "duration": 7,
    "start_time": "2022-11-01T14:32:05.673Z"
   },
   {
    "duration": 9,
    "start_time": "2022-11-01T14:33:02.191Z"
   },
   {
    "duration": 8,
    "start_time": "2022-11-01T14:33:55.769Z"
   },
   {
    "duration": 11,
    "start_time": "2022-11-01T14:35:29.838Z"
   },
   {
    "duration": 10,
    "start_time": "2022-11-01T14:35:37.359Z"
   },
   {
    "duration": 9,
    "start_time": "2022-11-01T14:36:26.821Z"
   },
   {
    "duration": 7,
    "start_time": "2022-11-01T14:37:39.994Z"
   },
   {
    "duration": 10,
    "start_time": "2022-11-01T14:38:38.204Z"
   },
   {
    "duration": 9,
    "start_time": "2022-11-01T14:39:52.125Z"
   },
   {
    "duration": 11,
    "start_time": "2022-11-01T14:47:27.380Z"
   },
   {
    "duration": 74,
    "start_time": "2022-11-01T14:59:20.637Z"
   },
   {
    "duration": 10,
    "start_time": "2022-11-01T14:59:29.151Z"
   },
   {
    "duration": 12,
    "start_time": "2022-11-01T14:59:42.446Z"
   },
   {
    "duration": 4,
    "start_time": "2022-11-01T15:01:07.859Z"
   },
   {
    "duration": 8,
    "start_time": "2022-11-01T15:22:13.421Z"
   },
   {
    "duration": 5,
    "start_time": "2022-11-01T15:22:27.695Z"
   },
   {
    "duration": 1680,
    "start_time": "2022-11-01T15:22:40.353Z"
   },
   {
    "duration": 57,
    "start_time": "2022-11-01T15:22:42.035Z"
   },
   {
    "duration": 16,
    "start_time": "2022-11-01T15:22:42.094Z"
   },
   {
    "duration": 26,
    "start_time": "2022-11-01T15:22:42.113Z"
   },
   {
    "duration": 7,
    "start_time": "2022-11-01T15:22:42.140Z"
   },
   {
    "duration": 8,
    "start_time": "2022-11-01T15:22:42.150Z"
   },
   {
    "duration": 11,
    "start_time": "2022-11-01T15:22:42.159Z"
   },
   {
    "duration": 9,
    "start_time": "2022-11-01T15:22:42.171Z"
   },
   {
    "duration": 54,
    "start_time": "2022-11-01T15:22:42.182Z"
   },
   {
    "duration": 16,
    "start_time": "2022-11-01T15:22:42.240Z"
   },
   {
    "duration": 14,
    "start_time": "2022-11-01T15:22:42.258Z"
   },
   {
    "duration": 8,
    "start_time": "2022-11-01T15:22:42.274Z"
   },
   {
    "duration": 10,
    "start_time": "2022-11-01T15:22:42.284Z"
   },
   {
    "duration": 46,
    "start_time": "2022-11-01T15:22:42.296Z"
   },
   {
    "duration": 13,
    "start_time": "2022-11-01T15:22:42.344Z"
   },
   {
    "duration": 8,
    "start_time": "2022-11-01T15:22:42.359Z"
   },
   {
    "duration": 7,
    "start_time": "2022-11-01T15:22:42.369Z"
   },
   {
    "duration": 9,
    "start_time": "2022-11-01T15:22:42.377Z"
   },
   {
    "duration": 49,
    "start_time": "2022-11-01T15:22:42.387Z"
   },
   {
    "duration": 167,
    "start_time": "2022-11-01T15:22:42.438Z"
   },
   {
    "duration": 244,
    "start_time": "2022-11-01T15:22:42.607Z"
   },
   {
    "duration": 7,
    "start_time": "2022-11-01T15:22:42.854Z"
   },
   {
    "duration": 5,
    "start_time": "2022-11-01T15:22:42.863Z"
   },
   {
    "duration": 7,
    "start_time": "2022-11-01T15:22:42.870Z"
   },
   {
    "duration": 53,
    "start_time": "2022-11-01T15:22:42.879Z"
   },
   {
    "duration": 72,
    "start_time": "2022-11-01T15:22:42.934Z"
   },
   {
    "duration": 29,
    "start_time": "2022-11-01T15:22:43.009Z"
   },
   {
    "duration": 22,
    "start_time": "2022-11-01T15:22:43.045Z"
   },
   {
    "duration": 6,
    "start_time": "2022-11-01T15:22:43.069Z"
   },
   {
    "duration": 11,
    "start_time": "2022-11-01T15:22:43.077Z"
   },
   {
    "duration": 80,
    "start_time": "2022-11-01T15:22:43.090Z"
   },
   {
    "duration": 15,
    "start_time": "2022-11-01T15:22:43.173Z"
   },
   {
    "duration": 24,
    "start_time": "2022-11-01T15:22:43.189Z"
   },
   {
    "duration": 263,
    "start_time": "2022-11-01T15:22:43.215Z"
   },
   {
    "duration": 17,
    "start_time": "2022-11-01T15:22:43.480Z"
   },
   {
    "duration": 321,
    "start_time": "2022-11-01T15:22:43.498Z"
   },
   {
    "duration": 34,
    "start_time": "2022-11-01T15:22:43.821Z"
   },
   {
    "duration": 7,
    "start_time": "2022-11-01T15:22:43.857Z"
   },
   {
    "duration": 21,
    "start_time": "2022-11-01T15:22:43.866Z"
   },
   {
    "duration": 48,
    "start_time": "2022-11-01T15:22:43.889Z"
   },
   {
    "duration": 22,
    "start_time": "2022-11-01T15:22:43.939Z"
   },
   {
    "duration": 28,
    "start_time": "2022-11-01T15:22:43.964Z"
   },
   {
    "duration": 51,
    "start_time": "2022-11-01T15:22:43.994Z"
   },
   {
    "duration": 9,
    "start_time": "2022-11-01T15:22:44.047Z"
   },
   {
    "duration": 14,
    "start_time": "2022-11-01T15:22:44.058Z"
   },
   {
    "duration": 402,
    "start_time": "2022-11-01T15:22:44.074Z"
   },
   {
    "duration": 476,
    "start_time": "2022-11-01T15:22:44.478Z"
   },
   {
    "duration": 14,
    "start_time": "2022-11-01T15:22:44.956Z"
   },
   {
    "duration": 267,
    "start_time": "2022-11-01T15:22:44.972Z"
   },
   {
    "duration": 12,
    "start_time": "2022-11-01T15:22:45.241Z"
   },
   {
    "duration": 292,
    "start_time": "2022-11-01T15:22:45.256Z"
   },
   {
    "duration": 17,
    "start_time": "2022-11-01T15:22:45.551Z"
   },
   {
    "duration": 19,
    "start_time": "2022-11-01T15:22:45.572Z"
   },
   {
    "duration": 260,
    "start_time": "2022-11-01T15:22:45.593Z"
   },
   {
    "duration": 13,
    "start_time": "2022-11-01T15:22:45.855Z"
   },
   {
    "duration": 254,
    "start_time": "2022-11-01T15:22:45.871Z"
   },
   {
    "duration": 24,
    "start_time": "2022-11-01T15:22:46.131Z"
   },
   {
    "duration": 2087,
    "start_time": "2022-11-01T15:22:46.157Z"
   },
   {
    "duration": 683,
    "start_time": "2022-11-01T15:22:48.246Z"
   },
   {
    "duration": 6,
    "start_time": "2022-11-01T15:22:48.932Z"
   },
   {
    "duration": 20,
    "start_time": "2022-11-01T15:22:48.940Z"
   },
   {
    "duration": 10,
    "start_time": "2022-11-01T15:22:48.963Z"
   },
   {
    "duration": 7,
    "start_time": "2022-11-01T15:26:53.692Z"
   },
   {
    "duration": 18,
    "start_time": "2022-11-01T15:27:02.119Z"
   },
   {
    "duration": 84,
    "start_time": "2022-11-01T15:28:49.379Z"
   },
   {
    "duration": 11,
    "start_time": "2022-11-01T15:31:52.368Z"
   },
   {
    "duration": 12,
    "start_time": "2022-11-01T15:34:06.386Z"
   },
   {
    "duration": 246,
    "start_time": "2022-11-01T15:34:19.247Z"
   },
   {
    "duration": 264,
    "start_time": "2022-11-01T15:34:35.210Z"
   },
   {
    "duration": 10,
    "start_time": "2022-11-01T15:35:20.369Z"
   },
   {
    "duration": 221,
    "start_time": "2022-11-01T15:36:19.888Z"
   },
   {
    "duration": 239,
    "start_time": "2022-11-01T15:36:59.316Z"
   },
   {
    "duration": 9,
    "start_time": "2022-11-01T15:37:04.327Z"
   },
   {
    "duration": 74,
    "start_time": "2022-11-01T15:58:50.084Z"
   },
   {
    "duration": 210,
    "start_time": "2022-11-01T16:08:17.340Z"
   },
   {
    "duration": 1793,
    "start_time": "2022-11-01T16:47:51.036Z"
   },
   {
    "duration": 66,
    "start_time": "2022-11-01T16:47:52.831Z"
   },
   {
    "duration": 15,
    "start_time": "2022-11-01T16:47:52.902Z"
   },
   {
    "duration": 34,
    "start_time": "2022-11-01T16:47:52.920Z"
   },
   {
    "duration": 12,
    "start_time": "2022-11-01T16:47:52.956Z"
   },
   {
    "duration": 11,
    "start_time": "2022-11-01T16:47:52.971Z"
   },
   {
    "duration": 14,
    "start_time": "2022-11-01T16:47:52.984Z"
   },
   {
    "duration": 36,
    "start_time": "2022-11-01T16:47:53.000Z"
   },
   {
    "duration": 19,
    "start_time": "2022-11-01T16:47:53.039Z"
   },
   {
    "duration": 14,
    "start_time": "2022-11-01T16:47:53.061Z"
   },
   {
    "duration": 5,
    "start_time": "2022-11-01T16:47:53.078Z"
   },
   {
    "duration": 6,
    "start_time": "2022-11-01T16:47:53.085Z"
   },
   {
    "duration": 44,
    "start_time": "2022-11-01T16:47:53.093Z"
   },
   {
    "duration": 11,
    "start_time": "2022-11-01T16:47:53.139Z"
   },
   {
    "duration": 11,
    "start_time": "2022-11-01T16:47:53.153Z"
   },
   {
    "duration": 9,
    "start_time": "2022-11-01T16:47:53.166Z"
   },
   {
    "duration": 8,
    "start_time": "2022-11-01T16:47:53.177Z"
   },
   {
    "duration": 45,
    "start_time": "2022-11-01T16:47:53.187Z"
   },
   {
    "duration": 11,
    "start_time": "2022-11-01T16:47:53.234Z"
   },
   {
    "duration": 175,
    "start_time": "2022-11-01T16:47:53.247Z"
   },
   {
    "duration": 227,
    "start_time": "2022-11-01T16:47:53.424Z"
   },
   {
    "duration": 6,
    "start_time": "2022-11-01T16:47:53.654Z"
   },
   {
    "duration": 8,
    "start_time": "2022-11-01T16:47:53.663Z"
   },
   {
    "duration": 146,
    "start_time": "2022-11-01T16:47:53.673Z"
   },
   {
    "duration": 23,
    "start_time": "2022-11-01T16:47:53.821Z"
   },
   {
    "duration": 48,
    "start_time": "2022-11-01T16:47:53.846Z"
   },
   {
    "duration": 18,
    "start_time": "2022-11-01T16:47:53.898Z"
   },
   {
    "duration": 27,
    "start_time": "2022-11-01T16:47:53.918Z"
   },
   {
    "duration": 8,
    "start_time": "2022-11-01T16:47:53.947Z"
   },
   {
    "duration": 12,
    "start_time": "2022-11-01T16:47:53.957Z"
   },
   {
    "duration": 93,
    "start_time": "2022-11-01T16:47:53.971Z"
   },
   {
    "duration": 18,
    "start_time": "2022-11-01T16:47:54.066Z"
   },
   {
    "duration": 31,
    "start_time": "2022-11-01T16:47:54.086Z"
   },
   {
    "duration": 231,
    "start_time": "2022-11-01T16:47:54.119Z"
   },
   {
    "duration": 20,
    "start_time": "2022-11-01T16:47:54.352Z"
   },
   {
    "duration": 307,
    "start_time": "2022-11-01T16:47:54.374Z"
   },
   {
    "duration": 23,
    "start_time": "2022-11-01T16:47:54.683Z"
   },
   {
    "duration": 24,
    "start_time": "2022-11-01T16:47:54.708Z"
   },
   {
    "duration": 29,
    "start_time": "2022-11-01T16:47:54.734Z"
   },
   {
    "duration": 24,
    "start_time": "2022-11-01T16:47:54.769Z"
   },
   {
    "duration": 38,
    "start_time": "2022-11-01T16:47:54.795Z"
   },
   {
    "duration": 24,
    "start_time": "2022-11-01T16:47:54.835Z"
   },
   {
    "duration": 21,
    "start_time": "2022-11-01T16:47:54.861Z"
   },
   {
    "duration": 7,
    "start_time": "2022-11-01T16:47:54.884Z"
   },
   {
    "duration": 44,
    "start_time": "2022-11-01T16:47:54.893Z"
   },
   {
    "duration": 395,
    "start_time": "2022-11-01T16:47:54.938Z"
   },
   {
    "duration": 468,
    "start_time": "2022-11-01T16:47:55.334Z"
   },
   {
    "duration": 10,
    "start_time": "2022-11-01T16:47:55.804Z"
   },
   {
    "duration": 248,
    "start_time": "2022-11-01T16:47:55.816Z"
   },
   {
    "duration": 10,
    "start_time": "2022-11-01T16:47:56.065Z"
   },
   {
    "duration": 247,
    "start_time": "2022-11-01T16:47:56.078Z"
   },
   {
    "duration": 6,
    "start_time": "2022-11-01T16:47:56.331Z"
   },
   {
    "duration": 16,
    "start_time": "2022-11-01T16:47:56.339Z"
   },
   {
    "duration": 266,
    "start_time": "2022-11-01T16:47:56.359Z"
   },
   {
    "duration": 19,
    "start_time": "2022-11-01T16:47:56.627Z"
   },
   {
    "duration": 281,
    "start_time": "2022-11-01T16:47:56.648Z"
   },
   {
    "duration": 21,
    "start_time": "2022-11-01T16:47:56.931Z"
   },
   {
    "duration": 2129,
    "start_time": "2022-11-01T16:47:56.954Z"
   },
   {
    "duration": 708,
    "start_time": "2022-11-01T16:47:59.085Z"
   },
   {
    "duration": 6,
    "start_time": "2022-11-01T16:47:59.795Z"
   },
   {
    "duration": 23,
    "start_time": "2022-11-01T16:47:59.802Z"
   },
   {
    "duration": 13,
    "start_time": "2022-11-01T16:47:59.827Z"
   },
   {
    "duration": 197,
    "start_time": "2022-11-01T16:50:55.345Z"
   },
   {
    "duration": 1854,
    "start_time": "2022-11-01T16:51:11.886Z"
   },
   {
    "duration": 96,
    "start_time": "2022-11-01T16:51:13.742Z"
   },
   {
    "duration": 16,
    "start_time": "2022-11-01T16:51:13.840Z"
   },
   {
    "duration": 33,
    "start_time": "2022-11-01T16:51:13.859Z"
   },
   {
    "duration": 8,
    "start_time": "2022-11-01T16:51:13.894Z"
   },
   {
    "duration": 7,
    "start_time": "2022-11-01T16:51:13.932Z"
   },
   {
    "duration": 13,
    "start_time": "2022-11-01T16:51:13.941Z"
   },
   {
    "duration": 10,
    "start_time": "2022-11-01T16:51:13.956Z"
   },
   {
    "duration": 20,
    "start_time": "2022-11-01T16:51:13.967Z"
   },
   {
    "duration": 11,
    "start_time": "2022-11-01T16:51:13.991Z"
   },
   {
    "duration": 6,
    "start_time": "2022-11-01T16:51:14.033Z"
   },
   {
    "duration": 18,
    "start_time": "2022-11-01T16:51:14.041Z"
   },
   {
    "duration": 12,
    "start_time": "2022-11-01T16:51:14.060Z"
   },
   {
    "duration": 12,
    "start_time": "2022-11-01T16:51:14.075Z"
   },
   {
    "duration": 12,
    "start_time": "2022-11-01T16:51:14.089Z"
   },
   {
    "duration": 11,
    "start_time": "2022-11-01T16:51:14.132Z"
   },
   {
    "duration": 9,
    "start_time": "2022-11-01T16:51:14.145Z"
   },
   {
    "duration": 8,
    "start_time": "2022-11-01T16:51:14.156Z"
   },
   {
    "duration": 12,
    "start_time": "2022-11-01T16:51:14.166Z"
   },
   {
    "duration": 184,
    "start_time": "2022-11-01T16:51:14.180Z"
   },
   {
    "duration": 196,
    "start_time": "2022-11-01T16:51:14.366Z"
   },
   {
    "duration": 6,
    "start_time": "2022-11-01T16:51:14.564Z"
   },
   {
    "duration": 13,
    "start_time": "2022-11-01T16:51:14.572Z"
   },
   {
    "duration": 140,
    "start_time": "2022-11-01T16:51:14.588Z"
   },
   {
    "duration": 22,
    "start_time": "2022-11-01T16:51:14.730Z"
   },
   {
    "duration": 69,
    "start_time": "2022-11-01T16:51:14.754Z"
   },
   {
    "duration": 28,
    "start_time": "2022-11-01T16:51:14.825Z"
   },
   {
    "duration": 30,
    "start_time": "2022-11-01T16:51:14.858Z"
   },
   {
    "duration": 13,
    "start_time": "2022-11-01T16:51:14.891Z"
   },
   {
    "duration": 25,
    "start_time": "2022-11-01T16:51:14.907Z"
   },
   {
    "duration": 68,
    "start_time": "2022-11-01T16:51:14.935Z"
   },
   {
    "duration": 31,
    "start_time": "2022-11-01T16:51:15.005Z"
   },
   {
    "duration": 24,
    "start_time": "2022-11-01T16:51:15.040Z"
   },
   {
    "duration": 264,
    "start_time": "2022-11-01T16:51:15.066Z"
   },
   {
    "duration": 19,
    "start_time": "2022-11-01T16:51:15.332Z"
   },
   {
    "duration": 328,
    "start_time": "2022-11-01T16:51:15.353Z"
   },
   {
    "duration": 18,
    "start_time": "2022-11-01T16:51:15.683Z"
   },
   {
    "duration": 8,
    "start_time": "2022-11-01T16:51:15.703Z"
   },
   {
    "duration": 39,
    "start_time": "2022-11-01T16:51:15.712Z"
   },
   {
    "duration": 28,
    "start_time": "2022-11-01T16:51:15.754Z"
   },
   {
    "duration": 21,
    "start_time": "2022-11-01T16:51:15.784Z"
   },
   {
    "duration": 26,
    "start_time": "2022-11-01T16:51:15.832Z"
   },
   {
    "duration": 32,
    "start_time": "2022-11-01T16:51:15.860Z"
   },
   {
    "duration": 38,
    "start_time": "2022-11-01T16:51:15.894Z"
   },
   {
    "duration": 18,
    "start_time": "2022-11-01T16:51:15.934Z"
   },
   {
    "duration": 442,
    "start_time": "2022-11-01T16:51:15.955Z"
   },
   {
    "duration": 453,
    "start_time": "2022-11-01T16:51:16.400Z"
   },
   {
    "duration": 14,
    "start_time": "2022-11-01T16:51:16.855Z"
   },
   {
    "duration": 286,
    "start_time": "2022-11-01T16:51:16.871Z"
   },
   {
    "duration": 14,
    "start_time": "2022-11-01T16:51:17.160Z"
   },
   {
    "duration": 259,
    "start_time": "2022-11-01T16:51:17.177Z"
   },
   {
    "duration": 7,
    "start_time": "2022-11-01T16:51:17.438Z"
   },
   {
    "duration": 17,
    "start_time": "2022-11-01T16:51:17.447Z"
   },
   {
    "duration": 310,
    "start_time": "2022-11-01T16:51:17.465Z"
   },
   {
    "duration": 17,
    "start_time": "2022-11-01T16:51:17.778Z"
   },
   {
    "duration": 366,
    "start_time": "2022-11-01T16:51:17.798Z"
   },
   {
    "duration": 25,
    "start_time": "2022-11-01T16:51:18.167Z"
   },
   {
    "duration": 2146,
    "start_time": "2022-11-01T16:51:18.194Z"
   },
   {
    "duration": 861,
    "start_time": "2022-11-01T16:51:20.342Z"
   },
   {
    "duration": 12,
    "start_time": "2022-11-01T16:51:21.205Z"
   },
   {
    "duration": 27,
    "start_time": "2022-11-01T16:51:21.219Z"
   },
   {
    "duration": 8,
    "start_time": "2022-11-01T16:51:21.249Z"
   },
   {
    "duration": 1733,
    "start_time": "2022-11-01T16:53:25.919Z"
   },
   {
    "duration": 62,
    "start_time": "2022-11-01T16:53:27.654Z"
   },
   {
    "duration": 444,
    "start_time": "2022-11-01T16:53:27.718Z"
   },
   {
    "duration": 32,
    "start_time": "2022-11-01T16:53:28.164Z"
   },
   {
    "duration": 9,
    "start_time": "2022-11-01T16:53:28.199Z"
   },
   {
    "duration": 26,
    "start_time": "2022-11-01T16:53:28.211Z"
   },
   {
    "duration": 21,
    "start_time": "2022-11-01T16:53:28.240Z"
   },
   {
    "duration": 7,
    "start_time": "2022-11-01T16:53:28.263Z"
   },
   {
    "duration": 19,
    "start_time": "2022-11-01T16:53:28.273Z"
   },
   {
    "duration": 15,
    "start_time": "2022-11-01T16:53:28.295Z"
   },
   {
    "duration": 7,
    "start_time": "2022-11-01T16:53:28.332Z"
   },
   {
    "duration": 7,
    "start_time": "2022-11-01T16:53:28.341Z"
   },
   {
    "duration": 9,
    "start_time": "2022-11-01T16:53:28.350Z"
   },
   {
    "duration": 11,
    "start_time": "2022-11-01T16:53:28.362Z"
   },
   {
    "duration": 59,
    "start_time": "2022-11-01T16:53:28.375Z"
   },
   {
    "duration": 12,
    "start_time": "2022-11-01T16:53:28.436Z"
   },
   {
    "duration": 6,
    "start_time": "2022-11-01T16:53:28.451Z"
   },
   {
    "duration": 11,
    "start_time": "2022-11-01T16:53:28.459Z"
   },
   {
    "duration": 13,
    "start_time": "2022-11-01T16:53:28.472Z"
   },
   {
    "duration": 193,
    "start_time": "2022-11-01T16:53:28.487Z"
   },
   {
    "duration": 197,
    "start_time": "2022-11-01T16:53:28.682Z"
   },
   {
    "duration": 6,
    "start_time": "2022-11-01T16:53:28.881Z"
   },
   {
    "duration": 8,
    "start_time": "2022-11-01T16:53:28.889Z"
   },
   {
    "duration": 124,
    "start_time": "2022-11-01T16:53:28.899Z"
   },
   {
    "duration": 28,
    "start_time": "2022-11-01T16:53:29.026Z"
   },
   {
    "duration": 81,
    "start_time": "2022-11-01T16:53:29.057Z"
   },
   {
    "duration": 19,
    "start_time": "2022-11-01T16:53:29.140Z"
   },
   {
    "duration": 23,
    "start_time": "2022-11-01T16:53:29.164Z"
   },
   {
    "duration": 8,
    "start_time": "2022-11-01T16:53:29.189Z"
   },
   {
    "duration": 36,
    "start_time": "2022-11-01T16:53:29.199Z"
   },
   {
    "duration": 59,
    "start_time": "2022-11-01T16:53:29.238Z"
   },
   {
    "duration": 12,
    "start_time": "2022-11-01T16:53:29.299Z"
   },
   {
    "duration": 20,
    "start_time": "2022-11-01T16:53:29.331Z"
   },
   {
    "duration": 257,
    "start_time": "2022-11-01T16:53:29.353Z"
   },
   {
    "duration": 25,
    "start_time": "2022-11-01T16:53:29.612Z"
   },
   {
    "duration": 303,
    "start_time": "2022-11-01T16:53:29.640Z"
   },
   {
    "duration": 23,
    "start_time": "2022-11-01T16:53:29.945Z"
   },
   {
    "duration": 9,
    "start_time": "2022-11-01T16:53:29.970Z"
   },
   {
    "duration": 31,
    "start_time": "2022-11-01T16:53:29.980Z"
   },
   {
    "duration": 28,
    "start_time": "2022-11-01T16:53:30.033Z"
   },
   {
    "duration": 26,
    "start_time": "2022-11-01T16:53:30.063Z"
   },
   {
    "duration": 47,
    "start_time": "2022-11-01T16:53:30.090Z"
   },
   {
    "duration": 27,
    "start_time": "2022-11-01T16:53:30.139Z"
   },
   {
    "duration": 7,
    "start_time": "2022-11-01T16:53:30.169Z"
   },
   {
    "duration": 27,
    "start_time": "2022-11-01T16:53:30.178Z"
   },
   {
    "duration": 402,
    "start_time": "2022-11-01T16:53:30.207Z"
   },
   {
    "duration": 443,
    "start_time": "2022-11-01T16:53:30.612Z"
   },
   {
    "duration": 17,
    "start_time": "2022-11-01T16:53:31.058Z"
   },
   {
    "duration": 343,
    "start_time": "2022-11-01T16:53:31.078Z"
   },
   {
    "duration": 20,
    "start_time": "2022-11-01T16:53:31.424Z"
   },
   {
    "duration": 283,
    "start_time": "2022-11-01T16:53:31.446Z"
   },
   {
    "duration": 6,
    "start_time": "2022-11-01T16:53:31.734Z"
   },
   {
    "duration": 34,
    "start_time": "2022-11-01T16:53:31.743Z"
   },
   {
    "duration": 304,
    "start_time": "2022-11-01T16:53:31.780Z"
   },
   {
    "duration": 20,
    "start_time": "2022-11-01T16:53:32.087Z"
   },
   {
    "duration": 342,
    "start_time": "2022-11-01T16:53:32.109Z"
   },
   {
    "duration": 23,
    "start_time": "2022-11-01T16:53:32.453Z"
   },
   {
    "duration": 2116,
    "start_time": "2022-11-01T16:53:32.479Z"
   },
   {
    "duration": 690,
    "start_time": "2022-11-01T16:53:34.597Z"
   },
   {
    "duration": 9,
    "start_time": "2022-11-01T16:53:35.290Z"
   },
   {
    "duration": 31,
    "start_time": "2022-11-01T16:53:35.302Z"
   },
   {
    "duration": 8,
    "start_time": "2022-11-01T16:53:35.335Z"
   },
   {
    "duration": 448,
    "start_time": "2022-11-01T16:56:15.161Z"
   },
   {
    "duration": 332,
    "start_time": "2022-11-01T16:59:12.849Z"
   },
   {
    "duration": 294,
    "start_time": "2022-11-01T17:01:02.707Z"
   },
   {
    "duration": 1610,
    "start_time": "2022-11-01T17:05:54.923Z"
   },
   {
    "duration": 61,
    "start_time": "2022-11-01T17:05:56.535Z"
   },
   {
    "duration": 15,
    "start_time": "2022-11-01T17:05:56.598Z"
   },
   {
    "duration": 38,
    "start_time": "2022-11-01T17:05:56.615Z"
   },
   {
    "duration": 6,
    "start_time": "2022-11-01T17:05:56.655Z"
   },
   {
    "duration": 30,
    "start_time": "2022-11-01T17:05:56.663Z"
   },
   {
    "duration": 23,
    "start_time": "2022-11-01T17:05:56.697Z"
   },
   {
    "duration": 18,
    "start_time": "2022-11-01T17:05:56.722Z"
   },
   {
    "duration": 53,
    "start_time": "2022-11-01T17:05:56.742Z"
   },
   {
    "duration": 23,
    "start_time": "2022-11-01T17:05:56.799Z"
   },
   {
    "duration": 30,
    "start_time": "2022-11-01T17:05:56.823Z"
   },
   {
    "duration": 26,
    "start_time": "2022-11-01T17:05:56.855Z"
   },
   {
    "duration": 21,
    "start_time": "2022-11-01T17:05:56.882Z"
   },
   {
    "duration": 25,
    "start_time": "2022-11-01T17:05:56.905Z"
   },
   {
    "duration": 14,
    "start_time": "2022-11-01T17:05:56.932Z"
   },
   {
    "duration": 17,
    "start_time": "2022-11-01T17:05:56.947Z"
   },
   {
    "duration": 30,
    "start_time": "2022-11-01T17:05:56.966Z"
   },
   {
    "duration": 25,
    "start_time": "2022-11-01T17:05:56.998Z"
   },
   {
    "duration": 27,
    "start_time": "2022-11-01T17:05:57.025Z"
   },
   {
    "duration": 146,
    "start_time": "2022-11-01T17:05:57.053Z"
   },
   {
    "duration": 180,
    "start_time": "2022-11-01T17:05:57.201Z"
   },
   {
    "duration": 18,
    "start_time": "2022-11-01T17:05:57.383Z"
   },
   {
    "duration": 13,
    "start_time": "2022-11-01T17:05:57.406Z"
   },
   {
    "duration": 125,
    "start_time": "2022-11-01T17:05:57.421Z"
   },
   {
    "duration": 19,
    "start_time": "2022-11-01T17:05:57.548Z"
   },
   {
    "duration": 56,
    "start_time": "2022-11-01T17:05:57.570Z"
   },
   {
    "duration": 18,
    "start_time": "2022-11-01T17:05:57.628Z"
   },
   {
    "duration": 20,
    "start_time": "2022-11-01T17:05:57.650Z"
   },
   {
    "duration": 11,
    "start_time": "2022-11-01T17:05:57.672Z"
   },
   {
    "duration": 12,
    "start_time": "2022-11-01T17:05:57.685Z"
   },
   {
    "duration": 95,
    "start_time": "2022-11-01T17:05:57.699Z"
   },
   {
    "duration": 14,
    "start_time": "2022-11-01T17:05:57.797Z"
   },
   {
    "duration": 36,
    "start_time": "2022-11-01T17:05:57.814Z"
   },
   {
    "duration": 277,
    "start_time": "2022-11-01T17:05:57.853Z"
   },
   {
    "duration": 21,
    "start_time": "2022-11-01T17:05:58.133Z"
   },
   {
    "duration": 341,
    "start_time": "2022-11-01T17:05:58.156Z"
   },
   {
    "duration": 36,
    "start_time": "2022-11-01T17:05:58.499Z"
   },
   {
    "duration": 10,
    "start_time": "2022-11-01T17:05:58.538Z"
   },
   {
    "duration": 22,
    "start_time": "2022-11-01T17:05:58.550Z"
   },
   {
    "duration": 22,
    "start_time": "2022-11-01T17:05:58.574Z"
   },
   {
    "duration": 52,
    "start_time": "2022-11-01T17:05:58.597Z"
   },
   {
    "duration": 26,
    "start_time": "2022-11-01T17:05:58.651Z"
   },
   {
    "duration": 22,
    "start_time": "2022-11-01T17:05:58.679Z"
   },
   {
    "duration": 6,
    "start_time": "2022-11-01T17:05:58.732Z"
   },
   {
    "duration": 16,
    "start_time": "2022-11-01T17:05:58.740Z"
   },
   {
    "duration": 370,
    "start_time": "2022-11-01T17:05:58.758Z"
   },
   {
    "duration": 422,
    "start_time": "2022-11-01T17:05:59.132Z"
   },
   {
    "duration": 13,
    "start_time": "2022-11-01T17:05:59.556Z"
   },
   {
    "duration": 262,
    "start_time": "2022-11-01T17:05:59.571Z"
   },
   {
    "duration": 13,
    "start_time": "2022-11-01T17:05:59.836Z"
   },
   {
    "duration": 248,
    "start_time": "2022-11-01T17:05:59.851Z"
   },
   {
    "duration": 7,
    "start_time": "2022-11-01T17:06:00.102Z"
   },
   {
    "duration": 34,
    "start_time": "2022-11-01T17:06:00.111Z"
   },
   {
    "duration": 255,
    "start_time": "2022-11-01T17:06:00.147Z"
   },
   {
    "duration": 13,
    "start_time": "2022-11-01T17:06:00.404Z"
   },
   {
    "duration": 262,
    "start_time": "2022-11-01T17:06:00.433Z"
   },
   {
    "duration": 19,
    "start_time": "2022-11-01T17:06:00.697Z"
   },
   {
    "duration": 2135,
    "start_time": "2022-11-01T17:06:00.733Z"
   },
   {
    "duration": 753,
    "start_time": "2022-11-01T17:06:02.871Z"
   },
   {
    "duration": 10,
    "start_time": "2022-11-01T17:06:03.627Z"
   },
   {
    "duration": 24,
    "start_time": "2022-11-01T17:06:03.639Z"
   },
   {
    "duration": 49,
    "start_time": "2022-11-01T17:06:03.665Z"
   },
   {
    "duration": 2056,
    "start_time": "2022-11-01T23:46:26.128Z"
   },
   {
    "duration": 191,
    "start_time": "2022-11-01T23:46:28.187Z"
   },
   {
    "duration": 13,
    "start_time": "2022-11-01T23:46:28.380Z"
   },
   {
    "duration": 21,
    "start_time": "2022-11-01T23:46:28.395Z"
   },
   {
    "duration": 6,
    "start_time": "2022-11-01T23:46:28.417Z"
   },
   {
    "duration": 15,
    "start_time": "2022-11-01T23:46:28.425Z"
   },
   {
    "duration": 7,
    "start_time": "2022-11-01T23:46:28.442Z"
   },
   {
    "duration": 7,
    "start_time": "2022-11-01T23:46:28.451Z"
   },
   {
    "duration": 10,
    "start_time": "2022-11-01T23:46:28.460Z"
   },
   {
    "duration": 11,
    "start_time": "2022-11-01T23:46:28.473Z"
   },
   {
    "duration": 8,
    "start_time": "2022-11-01T23:46:28.486Z"
   },
   {
    "duration": 6,
    "start_time": "2022-11-01T23:46:28.495Z"
   },
   {
    "duration": 44,
    "start_time": "2022-11-01T23:46:28.502Z"
   },
   {
    "duration": 9,
    "start_time": "2022-11-01T23:46:28.548Z"
   },
   {
    "duration": 8,
    "start_time": "2022-11-01T23:46:28.558Z"
   },
   {
    "duration": 9,
    "start_time": "2022-11-01T23:46:28.568Z"
   },
   {
    "duration": 7,
    "start_time": "2022-11-01T23:46:28.579Z"
   },
   {
    "duration": 6,
    "start_time": "2022-11-01T23:46:28.588Z"
   },
   {
    "duration": 7,
    "start_time": "2022-11-01T23:46:28.596Z"
   },
   {
    "duration": 43,
    "start_time": "2022-11-01T23:46:28.604Z"
   },
   {
    "duration": 139,
    "start_time": "2022-11-01T23:46:28.649Z"
   },
   {
    "duration": 162,
    "start_time": "2022-11-01T23:46:28.790Z"
   },
   {
    "duration": 6,
    "start_time": "2022-11-01T23:46:28.953Z"
   },
   {
    "duration": 6,
    "start_time": "2022-11-01T23:46:28.960Z"
   },
   {
    "duration": 160,
    "start_time": "2022-11-01T23:46:28.967Z"
   },
   {
    "duration": 15,
    "start_time": "2022-11-01T23:46:29.130Z"
   },
   {
    "duration": 73,
    "start_time": "2022-11-01T23:46:29.146Z"
   },
   {
    "duration": 16,
    "start_time": "2022-11-01T23:46:29.223Z"
   },
   {
    "duration": 19,
    "start_time": "2022-11-01T23:46:29.240Z"
   },
   {
    "duration": 5,
    "start_time": "2022-11-01T23:46:29.260Z"
   },
   {
    "duration": 8,
    "start_time": "2022-11-01T23:46:29.266Z"
   },
   {
    "duration": 66,
    "start_time": "2022-11-01T23:46:29.275Z"
   },
   {
    "duration": 11,
    "start_time": "2022-11-01T23:46:29.343Z"
   },
   {
    "duration": 17,
    "start_time": "2022-11-01T23:46:29.356Z"
   },
   {
    "duration": 214,
    "start_time": "2022-11-01T23:46:29.374Z"
   },
   {
    "duration": 14,
    "start_time": "2022-11-01T23:46:29.589Z"
   },
   {
    "duration": 251,
    "start_time": "2022-11-01T23:46:29.605Z"
   },
   {
    "duration": 15,
    "start_time": "2022-11-01T23:46:29.858Z"
   },
   {
    "duration": 7,
    "start_time": "2022-11-01T23:46:29.875Z"
   },
   {
    "duration": 20,
    "start_time": "2022-11-01T23:46:29.884Z"
   },
   {
    "duration": 36,
    "start_time": "2022-11-01T23:46:29.906Z"
   },
   {
    "duration": 14,
    "start_time": "2022-11-01T23:46:29.943Z"
   },
   {
    "duration": 15,
    "start_time": "2022-11-01T23:46:29.959Z"
   },
   {
    "duration": 18,
    "start_time": "2022-11-01T23:46:29.975Z"
   },
   {
    "duration": 4,
    "start_time": "2022-11-01T23:46:29.995Z"
   },
   {
    "duration": 41,
    "start_time": "2022-11-01T23:46:30.001Z"
   },
   {
    "duration": 320,
    "start_time": "2022-11-01T23:46:30.044Z"
   },
   {
    "duration": 375,
    "start_time": "2022-11-01T23:46:30.366Z"
   },
   {
    "duration": 10,
    "start_time": "2022-11-01T23:46:30.744Z"
   },
   {
    "duration": 215,
    "start_time": "2022-11-01T23:46:30.756Z"
   },
   {
    "duration": 10,
    "start_time": "2022-11-01T23:46:30.972Z"
   },
   {
    "duration": 209,
    "start_time": "2022-11-01T23:46:30.984Z"
   },
   {
    "duration": 4,
    "start_time": "2022-11-01T23:46:31.195Z"
   },
   {
    "duration": 15,
    "start_time": "2022-11-01T23:46:31.200Z"
   },
   {
    "duration": 214,
    "start_time": "2022-11-01T23:46:31.217Z"
   },
   {
    "duration": 16,
    "start_time": "2022-11-01T23:46:31.433Z"
   },
   {
    "duration": 194,
    "start_time": "2022-11-01T23:46:31.451Z"
   },
   {
    "duration": 17,
    "start_time": "2022-11-01T23:46:31.647Z"
   },
   {
    "duration": 1590,
    "start_time": "2022-11-01T23:46:31.666Z"
   },
   {
    "duration": 595,
    "start_time": "2022-11-01T23:46:33.257Z"
   },
   {
    "duration": 5,
    "start_time": "2022-11-01T23:46:33.854Z"
   },
   {
    "duration": 11,
    "start_time": "2022-11-01T23:46:33.861Z"
   },
   {
    "duration": 6,
    "start_time": "2022-11-01T23:46:33.873Z"
   },
   {
    "duration": 108,
    "start_time": "2022-11-01T23:53:53.676Z"
   },
   {
    "duration": 11,
    "start_time": "2022-11-01T23:54:02.566Z"
   },
   {
    "duration": 16,
    "start_time": "2022-11-01T23:55:24.732Z"
   },
   {
    "duration": 11,
    "start_time": "2022-11-01T23:55:38.207Z"
   },
   {
    "duration": 11,
    "start_time": "2022-11-01T23:55:57.769Z"
   },
   {
    "duration": 11,
    "start_time": "2022-11-01T23:57:35.413Z"
   },
   {
    "duration": 1655,
    "start_time": "2022-11-01T23:57:44.444Z"
   },
   {
    "duration": 52,
    "start_time": "2022-11-01T23:57:46.101Z"
   },
   {
    "duration": 12,
    "start_time": "2022-11-01T23:57:46.155Z"
   },
   {
    "duration": 21,
    "start_time": "2022-11-01T23:57:46.169Z"
   },
   {
    "duration": 5,
    "start_time": "2022-11-01T23:57:46.192Z"
   },
   {
    "duration": 8,
    "start_time": "2022-11-01T23:57:46.198Z"
   },
   {
    "duration": 8,
    "start_time": "2022-11-01T23:57:46.207Z"
   },
   {
    "duration": 26,
    "start_time": "2022-11-01T23:57:46.216Z"
   },
   {
    "duration": 12,
    "start_time": "2022-11-01T23:57:46.243Z"
   },
   {
    "duration": 9,
    "start_time": "2022-11-01T23:57:46.257Z"
   },
   {
    "duration": 6,
    "start_time": "2022-11-01T23:57:46.268Z"
   },
   {
    "duration": 6,
    "start_time": "2022-11-01T23:57:46.276Z"
   },
   {
    "duration": 7,
    "start_time": "2022-11-01T23:57:46.284Z"
   },
   {
    "duration": 17,
    "start_time": "2022-11-01T23:57:46.293Z"
   },
   {
    "duration": 35,
    "start_time": "2022-11-01T23:57:46.311Z"
   },
   {
    "duration": 12,
    "start_time": "2022-11-01T23:57:46.347Z"
   },
   {
    "duration": 12,
    "start_time": "2022-11-01T23:57:46.360Z"
   },
   {
    "duration": 6,
    "start_time": "2022-11-01T23:57:46.373Z"
   },
   {
    "duration": 10,
    "start_time": "2022-11-01T23:57:46.381Z"
   },
   {
    "duration": 12,
    "start_time": "2022-11-01T23:57:46.393Z"
   },
   {
    "duration": 42,
    "start_time": "2022-11-01T23:57:46.407Z"
   },
   {
    "duration": 118,
    "start_time": "2022-11-01T23:57:46.451Z"
   },
   {
    "duration": 141,
    "start_time": "2022-11-01T23:57:46.571Z"
   },
   {
    "duration": 4,
    "start_time": "2022-11-01T23:57:46.714Z"
   },
   {
    "duration": 8,
    "start_time": "2022-11-01T23:57:46.720Z"
   },
   {
    "duration": 96,
    "start_time": "2022-11-01T23:57:46.738Z"
   },
   {
    "duration": 14,
    "start_time": "2022-11-01T23:57:46.836Z"
   },
   {
    "duration": 34,
    "start_time": "2022-11-01T23:57:46.853Z"
   },
   {
    "duration": 16,
    "start_time": "2022-11-01T23:57:46.889Z"
   },
   {
    "duration": 19,
    "start_time": "2022-11-01T23:57:46.906Z"
   },
   {
    "duration": 4,
    "start_time": "2022-11-01T23:57:46.939Z"
   },
   {
    "duration": 8,
    "start_time": "2022-11-01T23:57:46.945Z"
   },
   {
    "duration": 45,
    "start_time": "2022-11-01T23:57:46.955Z"
   },
   {
    "duration": 12,
    "start_time": "2022-11-01T23:57:47.002Z"
   },
   {
    "duration": 37,
    "start_time": "2022-11-01T23:57:47.015Z"
   },
   {
    "duration": 237,
    "start_time": "2022-11-01T23:57:47.054Z"
   },
   {
    "duration": 17,
    "start_time": "2022-11-01T23:57:47.293Z"
   },
   {
    "duration": 264,
    "start_time": "2022-11-01T23:57:47.312Z"
   },
   {
    "duration": 15,
    "start_time": "2022-11-01T23:57:47.577Z"
   },
   {
    "duration": 6,
    "start_time": "2022-11-01T23:57:47.593Z"
   },
   {
    "duration": 17,
    "start_time": "2022-11-01T23:57:47.601Z"
   },
   {
    "duration": 34,
    "start_time": "2022-11-01T23:57:47.619Z"
   },
   {
    "duration": 16,
    "start_time": "2022-11-01T23:57:47.655Z"
   },
   {
    "duration": 16,
    "start_time": "2022-11-01T23:57:47.672Z"
   },
   {
    "duration": 16,
    "start_time": "2022-11-01T23:57:47.689Z"
   },
   {
    "duration": 34,
    "start_time": "2022-11-01T23:57:47.707Z"
   },
   {
    "duration": 12,
    "start_time": "2022-11-01T23:57:47.743Z"
   },
   {
    "duration": 287,
    "start_time": "2022-11-01T23:57:47.757Z"
   },
   {
    "duration": 326,
    "start_time": "2022-11-01T23:57:48.046Z"
   },
   {
    "duration": 9,
    "start_time": "2022-11-01T23:57:48.373Z"
   },
   {
    "duration": 204,
    "start_time": "2022-11-01T23:57:48.383Z"
   },
   {
    "duration": 9,
    "start_time": "2022-11-01T23:57:48.588Z"
   },
   {
    "duration": 197,
    "start_time": "2022-11-01T23:57:48.599Z"
   },
   {
    "duration": 5,
    "start_time": "2022-11-01T23:57:48.797Z"
   },
   {
    "duration": 11,
    "start_time": "2022-11-01T23:57:48.804Z"
   },
   {
    "duration": 197,
    "start_time": "2022-11-01T23:57:48.816Z"
   },
   {
    "duration": 10,
    "start_time": "2022-11-01T23:57:49.015Z"
   },
   {
    "duration": 187,
    "start_time": "2022-11-01T23:57:49.039Z"
   },
   {
    "duration": 24,
    "start_time": "2022-11-01T23:57:49.228Z"
   },
   {
    "duration": 1577,
    "start_time": "2022-11-01T23:57:49.254Z"
   },
   {
    "duration": 586,
    "start_time": "2022-11-01T23:57:50.833Z"
   },
   {
    "duration": 6,
    "start_time": "2022-11-01T23:57:51.421Z"
   },
   {
    "duration": 14,
    "start_time": "2022-11-01T23:57:51.428Z"
   },
   {
    "duration": 16,
    "start_time": "2022-11-01T23:57:51.443Z"
   },
   {
    "duration": 22,
    "start_time": "2022-11-01T23:58:29.776Z"
   },
   {
    "duration": 1760,
    "start_time": "2022-11-01T23:59:07.147Z"
   },
   {
    "duration": 52,
    "start_time": "2022-11-01T23:59:08.909Z"
   },
   {
    "duration": 10,
    "start_time": "2022-11-01T23:59:08.963Z"
   },
   {
    "duration": 39,
    "start_time": "2022-11-01T23:59:08.975Z"
   },
   {
    "duration": 6,
    "start_time": "2022-11-01T23:59:09.016Z"
   },
   {
    "duration": 8,
    "start_time": "2022-11-01T23:59:09.023Z"
   },
   {
    "duration": 9,
    "start_time": "2022-11-01T23:59:09.033Z"
   },
   {
    "duration": 9,
    "start_time": "2022-11-01T23:59:09.044Z"
   },
   {
    "duration": 10,
    "start_time": "2022-11-01T23:59:09.055Z"
   },
   {
    "duration": 14,
    "start_time": "2022-11-01T23:59:09.067Z"
   },
   {
    "duration": 6,
    "start_time": "2022-11-01T23:59:09.083Z"
   },
   {
    "duration": 6,
    "start_time": "2022-11-01T23:59:09.091Z"
   },
   {
    "duration": 7,
    "start_time": "2022-11-01T23:59:09.099Z"
   },
   {
    "duration": 33,
    "start_time": "2022-11-01T23:59:09.109Z"
   },
   {
    "duration": 8,
    "start_time": "2022-11-01T23:59:09.143Z"
   },
   {
    "duration": 11,
    "start_time": "2022-11-01T23:59:09.152Z"
   },
   {
    "duration": 15,
    "start_time": "2022-11-01T23:59:09.165Z"
   },
   {
    "duration": 6,
    "start_time": "2022-11-01T23:59:09.182Z"
   },
   {
    "duration": 6,
    "start_time": "2022-11-01T23:59:09.189Z"
   },
   {
    "duration": 7,
    "start_time": "2022-11-01T23:59:09.196Z"
   },
   {
    "duration": 41,
    "start_time": "2022-11-01T23:59:09.204Z"
   },
   {
    "duration": 128,
    "start_time": "2022-11-01T23:59:09.247Z"
   },
   {
    "duration": 161,
    "start_time": "2022-11-01T23:59:09.376Z"
   },
   {
    "duration": 5,
    "start_time": "2022-11-01T23:59:09.539Z"
   },
   {
    "duration": 6,
    "start_time": "2022-11-01T23:59:09.545Z"
   },
   {
    "duration": 87,
    "start_time": "2022-11-01T23:59:09.553Z"
   },
   {
    "duration": 15,
    "start_time": "2022-11-01T23:59:09.642Z"
   },
   {
    "duration": 36,
    "start_time": "2022-11-01T23:59:09.659Z"
   },
   {
    "duration": 16,
    "start_time": "2022-11-01T23:59:09.697Z"
   },
   {
    "duration": 18,
    "start_time": "2022-11-01T23:59:09.715Z"
   },
   {
    "duration": 3,
    "start_time": "2022-11-01T23:59:09.738Z"
   },
   {
    "duration": 7,
    "start_time": "2022-11-01T23:59:09.743Z"
   },
   {
    "duration": 50,
    "start_time": "2022-11-01T23:59:09.751Z"
   },
   {
    "duration": 12,
    "start_time": "2022-11-01T23:59:09.802Z"
   },
   {
    "duration": 34,
    "start_time": "2022-11-01T23:59:09.816Z"
   },
   {
    "duration": 180,
    "start_time": "2022-11-01T23:59:09.852Z"
   },
   {
    "duration": 14,
    "start_time": "2022-11-01T23:59:10.034Z"
   },
   {
    "duration": 256,
    "start_time": "2022-11-01T23:59:10.049Z"
   },
   {
    "duration": 16,
    "start_time": "2022-11-01T23:59:10.307Z"
   },
   {
    "duration": 18,
    "start_time": "2022-11-01T23:59:10.325Z"
   },
   {
    "duration": 16,
    "start_time": "2022-11-01T23:59:10.348Z"
   },
   {
    "duration": 18,
    "start_time": "2022-11-01T23:59:10.366Z"
   },
   {
    "duration": 16,
    "start_time": "2022-11-01T23:59:10.385Z"
   },
   {
    "duration": 45,
    "start_time": "2022-11-01T23:59:10.402Z"
   },
   {
    "duration": 16,
    "start_time": "2022-11-01T23:59:10.449Z"
   },
   {
    "duration": 6,
    "start_time": "2022-11-01T23:59:10.467Z"
   },
   {
    "duration": 12,
    "start_time": "2022-11-01T23:59:10.474Z"
   },
   {
    "duration": 346,
    "start_time": "2022-11-01T23:59:10.488Z"
   },
   {
    "duration": 328,
    "start_time": "2022-11-01T23:59:10.838Z"
   },
   {
    "duration": 9,
    "start_time": "2022-11-01T23:59:11.167Z"
   },
   {
    "duration": 197,
    "start_time": "2022-11-01T23:59:11.178Z"
   },
   {
    "duration": 8,
    "start_time": "2022-11-01T23:59:11.377Z"
   },
   {
    "duration": 201,
    "start_time": "2022-11-01T23:59:11.386Z"
   },
   {
    "duration": 5,
    "start_time": "2022-11-01T23:59:11.588Z"
   },
   {
    "duration": 14,
    "start_time": "2022-11-01T23:59:11.595Z"
   },
   {
    "duration": 189,
    "start_time": "2022-11-01T23:59:11.610Z"
   },
   {
    "duration": 11,
    "start_time": "2022-11-01T23:59:11.800Z"
   },
   {
    "duration": 201,
    "start_time": "2022-11-01T23:59:11.812Z"
   },
   {
    "duration": 27,
    "start_time": "2022-11-01T23:59:12.014Z"
   },
   {
    "duration": 1535,
    "start_time": "2022-11-01T23:59:12.043Z"
   },
   {
    "duration": 548,
    "start_time": "2022-11-01T23:59:13.580Z"
   },
   {
    "duration": 11,
    "start_time": "2022-11-01T23:59:14.130Z"
   },
   {
    "duration": 7,
    "start_time": "2022-11-01T23:59:14.142Z"
   },
   {
    "duration": 9,
    "start_time": "2022-11-01T23:59:14.150Z"
   },
   {
    "duration": 1897,
    "start_time": "2022-11-02T00:00:19.566Z"
   },
   {
    "duration": 53,
    "start_time": "2022-11-02T00:00:21.465Z"
   },
   {
    "duration": 11,
    "start_time": "2022-11-02T00:00:21.519Z"
   },
   {
    "duration": 18,
    "start_time": "2022-11-02T00:00:21.533Z"
   },
   {
    "duration": 5,
    "start_time": "2022-11-02T00:00:21.553Z"
   },
   {
    "duration": 7,
    "start_time": "2022-11-02T00:00:21.559Z"
   },
   {
    "duration": 7,
    "start_time": "2022-11-02T00:00:21.567Z"
   },
   {
    "duration": 6,
    "start_time": "2022-11-02T00:00:21.575Z"
   },
   {
    "duration": 10,
    "start_time": "2022-11-02T00:00:21.582Z"
   },
   {
    "duration": 14,
    "start_time": "2022-11-02T00:00:21.594Z"
   },
   {
    "duration": 7,
    "start_time": "2022-11-02T00:00:21.609Z"
   },
   {
    "duration": 5,
    "start_time": "2022-11-02T00:00:21.638Z"
   },
   {
    "duration": 17,
    "start_time": "2022-11-02T00:00:21.645Z"
   },
   {
    "duration": 10,
    "start_time": "2022-11-02T00:00:21.664Z"
   },
   {
    "duration": 8,
    "start_time": "2022-11-02T00:00:21.675Z"
   },
   {
    "duration": 9,
    "start_time": "2022-11-02T00:00:21.685Z"
   },
   {
    "duration": 45,
    "start_time": "2022-11-02T00:00:21.695Z"
   },
   {
    "duration": 6,
    "start_time": "2022-11-02T00:00:21.741Z"
   },
   {
    "duration": 7,
    "start_time": "2022-11-02T00:00:21.749Z"
   },
   {
    "duration": 7,
    "start_time": "2022-11-02T00:00:21.757Z"
   },
   {
    "duration": 8,
    "start_time": "2022-11-02T00:00:21.766Z"
   },
   {
    "duration": 137,
    "start_time": "2022-11-02T00:00:21.776Z"
   },
   {
    "duration": 151,
    "start_time": "2022-11-02T00:00:21.915Z"
   },
   {
    "duration": 5,
    "start_time": "2022-11-02T00:00:22.067Z"
   },
   {
    "duration": 8,
    "start_time": "2022-11-02T00:00:22.073Z"
   },
   {
    "duration": 103,
    "start_time": "2022-11-02T00:00:22.082Z"
   },
   {
    "duration": 16,
    "start_time": "2022-11-02T00:00:22.187Z"
   },
   {
    "duration": 55,
    "start_time": "2022-11-02T00:00:22.209Z"
   },
   {
    "duration": 19,
    "start_time": "2022-11-02T00:00:22.265Z"
   },
   {
    "duration": 19,
    "start_time": "2022-11-02T00:00:22.286Z"
   },
   {
    "duration": 6,
    "start_time": "2022-11-02T00:00:22.307Z"
   },
   {
    "duration": 8,
    "start_time": "2022-11-02T00:00:22.314Z"
   },
   {
    "duration": 50,
    "start_time": "2022-11-02T00:00:22.323Z"
   },
   {
    "duration": 11,
    "start_time": "2022-11-02T00:00:22.374Z"
   },
   {
    "duration": 17,
    "start_time": "2022-11-02T00:00:22.387Z"
   },
   {
    "duration": 199,
    "start_time": "2022-11-02T00:00:22.405Z"
   },
   {
    "duration": 12,
    "start_time": "2022-11-02T00:00:22.606Z"
   },
   {
    "duration": 249,
    "start_time": "2022-11-02T00:00:22.620Z"
   },
   {
    "duration": 15,
    "start_time": "2022-11-02T00:00:22.871Z"
   },
   {
    "duration": 6,
    "start_time": "2022-11-02T00:00:22.887Z"
   },
   {
    "duration": 18,
    "start_time": "2022-11-02T00:00:22.895Z"
   },
   {
    "duration": 37,
    "start_time": "2022-11-02T00:00:22.915Z"
   },
   {
    "duration": 15,
    "start_time": "2022-11-02T00:00:22.954Z"
   },
   {
    "duration": 15,
    "start_time": "2022-11-02T00:00:22.970Z"
   },
   {
    "duration": 16,
    "start_time": "2022-11-02T00:00:22.987Z"
   },
   {
    "duration": 35,
    "start_time": "2022-11-02T00:00:23.004Z"
   },
   {
    "duration": 10,
    "start_time": "2022-11-02T00:00:23.040Z"
   },
   {
    "duration": 298,
    "start_time": "2022-11-02T00:00:23.051Z"
   },
   {
    "duration": 349,
    "start_time": "2022-11-02T00:00:23.351Z"
   },
   {
    "duration": 10,
    "start_time": "2022-11-02T00:00:23.702Z"
   },
   {
    "duration": 215,
    "start_time": "2022-11-02T00:00:23.714Z"
   },
   {
    "duration": 9,
    "start_time": "2022-11-02T00:00:23.931Z"
   },
   {
    "duration": 208,
    "start_time": "2022-11-02T00:00:23.941Z"
   },
   {
    "duration": 5,
    "start_time": "2022-11-02T00:00:24.150Z"
   },
   {
    "duration": 12,
    "start_time": "2022-11-02T00:00:24.157Z"
   },
   {
    "duration": 200,
    "start_time": "2022-11-02T00:00:24.171Z"
   },
   {
    "duration": 11,
    "start_time": "2022-11-02T00:00:24.374Z"
   },
   {
    "duration": 198,
    "start_time": "2022-11-02T00:00:24.387Z"
   },
   {
    "duration": 16,
    "start_time": "2022-11-02T00:00:24.586Z"
   },
   {
    "duration": 1560,
    "start_time": "2022-11-02T00:00:24.603Z"
   },
   {
    "duration": 548,
    "start_time": "2022-11-02T00:00:26.164Z"
   },
   {
    "duration": 5,
    "start_time": "2022-11-02T00:00:26.714Z"
   },
   {
    "duration": 17,
    "start_time": "2022-11-02T00:00:26.720Z"
   },
   {
    "duration": 24,
    "start_time": "2022-11-02T00:00:26.739Z"
   },
   {
    "duration": 1753,
    "start_time": "2022-11-02T00:03:38.019Z"
   },
   {
    "duration": 54,
    "start_time": "2022-11-02T00:03:39.773Z"
   },
   {
    "duration": 11,
    "start_time": "2022-11-02T00:03:39.829Z"
   },
   {
    "duration": 29,
    "start_time": "2022-11-02T00:03:39.843Z"
   },
   {
    "duration": 7,
    "start_time": "2022-11-02T00:03:39.874Z"
   },
   {
    "duration": 7,
    "start_time": "2022-11-02T00:03:39.882Z"
   },
   {
    "duration": 8,
    "start_time": "2022-11-02T00:03:39.891Z"
   },
   {
    "duration": 6,
    "start_time": "2022-11-02T00:03:39.901Z"
   },
   {
    "duration": 11,
    "start_time": "2022-11-02T00:03:39.938Z"
   },
   {
    "duration": 9,
    "start_time": "2022-11-02T00:03:39.952Z"
   },
   {
    "duration": 5,
    "start_time": "2022-11-02T00:03:39.963Z"
   },
   {
    "duration": 5,
    "start_time": "2022-11-02T00:03:39.970Z"
   },
   {
    "duration": 10,
    "start_time": "2022-11-02T00:03:39.977Z"
   },
   {
    "duration": 11,
    "start_time": "2022-11-02T00:03:39.988Z"
   },
   {
    "duration": 7,
    "start_time": "2022-11-02T00:03:40.000Z"
   },
   {
    "duration": 14,
    "start_time": "2022-11-02T00:03:40.038Z"
   },
   {
    "duration": 13,
    "start_time": "2022-11-02T00:03:40.054Z"
   },
   {
    "duration": 6,
    "start_time": "2022-11-02T00:03:40.069Z"
   },
   {
    "duration": 9,
    "start_time": "2022-11-02T00:03:40.076Z"
   },
   {
    "duration": 13,
    "start_time": "2022-11-02T00:03:40.087Z"
   },
   {
    "duration": 12,
    "start_time": "2022-11-02T00:03:40.101Z"
   },
   {
    "duration": 136,
    "start_time": "2022-11-02T00:03:40.115Z"
   },
   {
    "duration": 156,
    "start_time": "2022-11-02T00:03:40.252Z"
   },
   {
    "duration": 5,
    "start_time": "2022-11-02T00:03:40.409Z"
   },
   {
    "duration": 6,
    "start_time": "2022-11-02T00:03:40.415Z"
   },
   {
    "duration": 124,
    "start_time": "2022-11-02T00:03:40.423Z"
   },
   {
    "duration": 14,
    "start_time": "2022-11-02T00:03:40.548Z"
   },
   {
    "duration": 33,
    "start_time": "2022-11-02T00:03:40.566Z"
   },
   {
    "duration": 17,
    "start_time": "2022-11-02T00:03:40.601Z"
   },
   {
    "duration": 19,
    "start_time": "2022-11-02T00:03:40.620Z"
   },
   {
    "duration": 6,
    "start_time": "2022-11-02T00:03:40.641Z"
   },
   {
    "duration": 7,
    "start_time": "2022-11-02T00:03:40.648Z"
   },
   {
    "duration": 54,
    "start_time": "2022-11-02T00:03:40.657Z"
   },
   {
    "duration": 30,
    "start_time": "2022-11-02T00:03:40.713Z"
   },
   {
    "duration": 17,
    "start_time": "2022-11-02T00:03:40.745Z"
   },
   {
    "duration": 185,
    "start_time": "2022-11-02T00:03:40.764Z"
   },
   {
    "duration": 12,
    "start_time": "2022-11-02T00:03:40.951Z"
   },
   {
    "duration": 261,
    "start_time": "2022-11-02T00:03:40.965Z"
   },
   {
    "duration": 19,
    "start_time": "2022-11-02T00:03:41.228Z"
   },
   {
    "duration": 6,
    "start_time": "2022-11-02T00:03:41.248Z"
   },
   {
    "duration": 17,
    "start_time": "2022-11-02T00:03:41.255Z"
   },
   {
    "duration": 16,
    "start_time": "2022-11-02T00:03:41.273Z"
   },
   {
    "duration": 15,
    "start_time": "2022-11-02T00:03:41.290Z"
   },
   {
    "duration": 47,
    "start_time": "2022-11-02T00:03:41.306Z"
   },
   {
    "duration": 16,
    "start_time": "2022-11-02T00:03:41.354Z"
   },
   {
    "duration": 5,
    "start_time": "2022-11-02T00:03:41.372Z"
   },
   {
    "duration": 14,
    "start_time": "2022-11-02T00:03:41.378Z"
   },
   {
    "duration": 349,
    "start_time": "2022-11-02T00:03:41.394Z"
   },
   {
    "duration": 329,
    "start_time": "2022-11-02T00:03:41.744Z"
   },
   {
    "duration": 9,
    "start_time": "2022-11-02T00:03:42.074Z"
   },
   {
    "duration": 192,
    "start_time": "2022-11-02T00:03:42.084Z"
   },
   {
    "duration": 9,
    "start_time": "2022-11-02T00:03:42.278Z"
   },
   {
    "duration": 194,
    "start_time": "2022-11-02T00:03:42.289Z"
   },
   {
    "duration": 4,
    "start_time": "2022-11-02T00:03:42.485Z"
   },
   {
    "duration": 13,
    "start_time": "2022-11-02T00:03:42.491Z"
   },
   {
    "duration": 194,
    "start_time": "2022-11-02T00:03:42.505Z"
   },
   {
    "duration": 10,
    "start_time": "2022-11-02T00:03:42.701Z"
   },
   {
    "duration": 181,
    "start_time": "2022-11-02T00:03:42.712Z"
   },
   {
    "duration": 16,
    "start_time": "2022-11-02T00:03:42.894Z"
   },
   {
    "duration": 1607,
    "start_time": "2022-11-02T00:03:42.912Z"
   },
   {
    "duration": 575,
    "start_time": "2022-11-02T00:03:44.521Z"
   },
   {
    "duration": 6,
    "start_time": "2022-11-02T00:03:45.097Z"
   },
   {
    "duration": 10,
    "start_time": "2022-11-02T00:03:45.104Z"
   },
   {
    "duration": 8,
    "start_time": "2022-11-02T00:03:45.115Z"
   },
   {
    "duration": 15,
    "start_time": "2022-11-02T00:04:29.663Z"
   },
   {
    "duration": 1662,
    "start_time": "2022-11-02T00:04:41.093Z"
   },
   {
    "duration": 52,
    "start_time": "2022-11-02T00:04:42.756Z"
   },
   {
    "duration": 10,
    "start_time": "2022-11-02T00:04:42.810Z"
   },
   {
    "duration": 17,
    "start_time": "2022-11-02T00:04:42.823Z"
   },
   {
    "duration": 4,
    "start_time": "2022-11-02T00:04:42.842Z"
   },
   {
    "duration": 6,
    "start_time": "2022-11-02T00:04:42.848Z"
   },
   {
    "duration": 11,
    "start_time": "2022-11-02T00:04:42.855Z"
   },
   {
    "duration": 7,
    "start_time": "2022-11-02T00:04:42.867Z"
   },
   {
    "duration": 14,
    "start_time": "2022-11-02T00:04:42.875Z"
   },
   {
    "duration": 14,
    "start_time": "2022-11-02T00:04:42.891Z"
   },
   {
    "duration": 21,
    "start_time": "2022-11-02T00:04:42.906Z"
   },
   {
    "duration": 19,
    "start_time": "2022-11-02T00:04:42.939Z"
   },
   {
    "duration": 13,
    "start_time": "2022-11-02T00:04:42.960Z"
   },
   {
    "duration": 31,
    "start_time": "2022-11-02T00:04:42.975Z"
   },
   {
    "duration": 14,
    "start_time": "2022-11-02T00:04:43.007Z"
   },
   {
    "duration": 30,
    "start_time": "2022-11-02T00:04:43.022Z"
   },
   {
    "duration": 23,
    "start_time": "2022-11-02T00:04:43.054Z"
   },
   {
    "duration": 6,
    "start_time": "2022-11-02T00:04:43.078Z"
   },
   {
    "duration": 31,
    "start_time": "2022-11-02T00:04:43.085Z"
   },
   {
    "duration": 23,
    "start_time": "2022-11-02T00:04:43.118Z"
   },
   {
    "duration": 17,
    "start_time": "2022-11-02T00:04:43.142Z"
   },
   {
    "duration": 121,
    "start_time": "2022-11-02T00:04:43.161Z"
   },
   {
    "duration": 147,
    "start_time": "2022-11-02T00:04:43.284Z"
   },
   {
    "duration": 5,
    "start_time": "2022-11-02T00:04:43.438Z"
   },
   {
    "duration": 13,
    "start_time": "2022-11-02T00:04:43.444Z"
   },
   {
    "duration": 102,
    "start_time": "2022-11-02T00:04:43.458Z"
   },
   {
    "duration": 14,
    "start_time": "2022-11-02T00:04:43.562Z"
   },
   {
    "duration": 31,
    "start_time": "2022-11-02T00:04:43.580Z"
   },
   {
    "duration": 15,
    "start_time": "2022-11-02T00:04:43.613Z"
   },
   {
    "duration": 18,
    "start_time": "2022-11-02T00:04:43.629Z"
   },
   {
    "duration": 6,
    "start_time": "2022-11-02T00:04:43.648Z"
   },
   {
    "duration": 8,
    "start_time": "2022-11-02T00:04:43.656Z"
   },
   {
    "duration": 49,
    "start_time": "2022-11-02T00:04:43.666Z"
   },
   {
    "duration": 11,
    "start_time": "2022-11-02T00:04:43.717Z"
   },
   {
    "duration": 15,
    "start_time": "2022-11-02T00:04:43.739Z"
   },
   {
    "duration": 185,
    "start_time": "2022-11-02T00:04:43.755Z"
   },
   {
    "duration": 14,
    "start_time": "2022-11-02T00:04:43.941Z"
   },
   {
    "duration": 243,
    "start_time": "2022-11-02T00:04:43.956Z"
   },
   {
    "duration": 15,
    "start_time": "2022-11-02T00:04:44.201Z"
   },
   {
    "duration": 6,
    "start_time": "2022-11-02T00:04:44.217Z"
   },
   {
    "duration": 15,
    "start_time": "2022-11-02T00:04:44.238Z"
   },
   {
    "duration": 15,
    "start_time": "2022-11-02T00:04:44.255Z"
   },
   {
    "duration": 16,
    "start_time": "2022-11-02T00:04:44.271Z"
   },
   {
    "duration": 15,
    "start_time": "2022-11-02T00:04:44.288Z"
   },
   {
    "duration": 49,
    "start_time": "2022-11-02T00:04:44.304Z"
   },
   {
    "duration": 6,
    "start_time": "2022-11-02T00:04:44.355Z"
   },
   {
    "duration": 11,
    "start_time": "2022-11-02T00:04:44.362Z"
   },
   {
    "duration": 325,
    "start_time": "2022-11-02T00:04:44.374Z"
   },
   {
    "duration": 363,
    "start_time": "2022-11-02T00:04:44.702Z"
   },
   {
    "duration": 9,
    "start_time": "2022-11-02T00:04:45.068Z"
   },
   {
    "duration": 206,
    "start_time": "2022-11-02T00:04:45.079Z"
   },
   {
    "duration": 9,
    "start_time": "2022-11-02T00:04:45.286Z"
   },
   {
    "duration": 197,
    "start_time": "2022-11-02T00:04:45.297Z"
   },
   {
    "duration": 6,
    "start_time": "2022-11-02T00:04:45.496Z"
   },
   {
    "duration": 20,
    "start_time": "2022-11-02T00:04:45.504Z"
   },
   {
    "duration": 196,
    "start_time": "2022-11-02T00:04:45.526Z"
   },
   {
    "duration": 18,
    "start_time": "2022-11-02T00:04:45.724Z"
   },
   {
    "duration": 192,
    "start_time": "2022-11-02T00:04:45.744Z"
   },
   {
    "duration": 17,
    "start_time": "2022-11-02T00:04:45.938Z"
   },
   {
    "duration": 1601,
    "start_time": "2022-11-02T00:04:45.956Z"
   },
   {
    "duration": 551,
    "start_time": "2022-11-02T00:04:47.558Z"
   },
   {
    "duration": 5,
    "start_time": "2022-11-02T00:04:48.111Z"
   },
   {
    "duration": 12,
    "start_time": "2022-11-02T00:04:48.117Z"
   },
   {
    "duration": 13,
    "start_time": "2022-11-02T00:04:48.131Z"
   },
   {
    "duration": 64,
    "start_time": "2022-11-12T16:36:34.657Z"
   },
   {
    "duration": 1648,
    "start_time": "2022-11-12T16:36:47.676Z"
   },
   {
    "duration": 183,
    "start_time": "2022-11-12T16:36:49.326Z"
   },
   {
    "duration": 12,
    "start_time": "2022-11-12T16:36:49.511Z"
   },
   {
    "duration": 18,
    "start_time": "2022-11-12T16:36:49.525Z"
   },
   {
    "duration": 5,
    "start_time": "2022-11-12T16:36:49.545Z"
   },
   {
    "duration": 6,
    "start_time": "2022-11-12T16:36:49.551Z"
   },
   {
    "duration": 8,
    "start_time": "2022-11-12T16:36:49.559Z"
   },
   {
    "duration": 10,
    "start_time": "2022-11-12T16:36:49.568Z"
   },
   {
    "duration": 11,
    "start_time": "2022-11-12T16:36:49.579Z"
   },
   {
    "duration": 9,
    "start_time": "2022-11-12T16:36:49.593Z"
   },
   {
    "duration": 9,
    "start_time": "2022-11-12T16:36:49.603Z"
   },
   {
    "duration": 6,
    "start_time": "2022-11-12T16:36:49.613Z"
   },
   {
    "duration": 38,
    "start_time": "2022-11-12T16:36:49.621Z"
   },
   {
    "duration": 8,
    "start_time": "2022-11-12T16:36:49.661Z"
   },
   {
    "duration": 8,
    "start_time": "2022-11-12T16:36:49.671Z"
   },
   {
    "duration": 10,
    "start_time": "2022-11-12T16:36:49.681Z"
   },
   {
    "duration": 20,
    "start_time": "2022-11-12T16:36:49.692Z"
   },
   {
    "duration": 8,
    "start_time": "2022-11-12T16:36:49.714Z"
   },
   {
    "duration": 10,
    "start_time": "2022-11-12T16:36:49.759Z"
   },
   {
    "duration": 11,
    "start_time": "2022-11-12T16:36:49.771Z"
   },
   {
    "duration": 14,
    "start_time": "2022-11-12T16:36:49.783Z"
   },
   {
    "duration": 121,
    "start_time": "2022-11-12T16:36:49.799Z"
   },
   {
    "duration": 153,
    "start_time": "2022-11-12T16:36:49.922Z"
   },
   {
    "duration": 5,
    "start_time": "2022-11-12T16:36:50.076Z"
   },
   {
    "duration": 9,
    "start_time": "2022-11-12T16:36:50.083Z"
   },
   {
    "duration": 105,
    "start_time": "2022-11-12T16:36:50.093Z"
   },
   {
    "duration": 14,
    "start_time": "2022-11-12T16:36:50.199Z"
   },
   {
    "duration": 39,
    "start_time": "2022-11-12T16:36:50.217Z"
   },
   {
    "duration": 16,
    "start_time": "2022-11-12T16:36:50.257Z"
   },
   {
    "duration": 18,
    "start_time": "2022-11-12T16:36:50.275Z"
   },
   {
    "duration": 6,
    "start_time": "2022-11-12T16:36:50.295Z"
   },
   {
    "duration": 7,
    "start_time": "2022-11-12T16:36:50.303Z"
   },
   {
    "duration": 74,
    "start_time": "2022-11-12T16:36:50.312Z"
   },
   {
    "duration": 11,
    "start_time": "2022-11-12T16:36:50.387Z"
   },
   {
    "duration": 23,
    "start_time": "2022-11-12T16:36:50.399Z"
   },
   {
    "duration": 303,
    "start_time": "2022-11-12T16:36:50.424Z"
   },
   {
    "duration": 0,
    "start_time": "2022-11-12T16:36:50.729Z"
   },
   {
    "duration": 0,
    "start_time": "2022-11-12T16:36:50.731Z"
   },
   {
    "duration": 0,
    "start_time": "2022-11-12T16:36:50.732Z"
   },
   {
    "duration": 0,
    "start_time": "2022-11-12T16:36:50.734Z"
   },
   {
    "duration": 0,
    "start_time": "2022-11-12T16:36:50.735Z"
   },
   {
    "duration": 0,
    "start_time": "2022-11-12T16:36:50.737Z"
   },
   {
    "duration": 0,
    "start_time": "2022-11-12T16:36:50.738Z"
   },
   {
    "duration": 0,
    "start_time": "2022-11-12T16:36:50.740Z"
   },
   {
    "duration": 0,
    "start_time": "2022-11-12T16:36:50.741Z"
   },
   {
    "duration": 0,
    "start_time": "2022-11-12T16:36:50.743Z"
   },
   {
    "duration": 0,
    "start_time": "2022-11-12T16:36:50.744Z"
   },
   {
    "duration": 0,
    "start_time": "2022-11-12T16:36:50.746Z"
   },
   {
    "duration": 0,
    "start_time": "2022-11-12T16:36:50.747Z"
   },
   {
    "duration": 0,
    "start_time": "2022-11-12T16:36:50.748Z"
   },
   {
    "duration": 0,
    "start_time": "2022-11-12T16:36:50.750Z"
   },
   {
    "duration": 0,
    "start_time": "2022-11-12T16:36:50.751Z"
   },
   {
    "duration": 0,
    "start_time": "2022-11-12T16:36:50.752Z"
   },
   {
    "duration": 0,
    "start_time": "2022-11-12T16:36:50.755Z"
   },
   {
    "duration": 0,
    "start_time": "2022-11-12T16:36:50.756Z"
   },
   {
    "duration": 0,
    "start_time": "2022-11-12T16:36:50.757Z"
   },
   {
    "duration": 0,
    "start_time": "2022-11-12T16:36:50.759Z"
   },
   {
    "duration": 0,
    "start_time": "2022-11-12T16:36:50.760Z"
   },
   {
    "duration": 0,
    "start_time": "2022-11-12T16:36:50.762Z"
   },
   {
    "duration": 0,
    "start_time": "2022-11-12T16:36:50.764Z"
   },
   {
    "duration": 0,
    "start_time": "2022-11-12T16:36:50.765Z"
   },
   {
    "duration": 0,
    "start_time": "2022-11-12T16:36:50.767Z"
   },
   {
    "duration": 0,
    "start_time": "2022-11-12T16:36:50.768Z"
   },
   {
    "duration": 0,
    "start_time": "2022-11-12T16:36:50.769Z"
   },
   {
    "duration": 0,
    "start_time": "2022-11-12T16:36:50.770Z"
   },
   {
    "duration": 1359,
    "start_time": "2022-11-12T16:38:46.958Z"
   },
   {
    "duration": 54,
    "start_time": "2022-11-12T16:38:48.318Z"
   },
   {
    "duration": 11,
    "start_time": "2022-11-12T16:38:48.374Z"
   },
   {
    "duration": 21,
    "start_time": "2022-11-12T16:38:48.387Z"
   },
   {
    "duration": 7,
    "start_time": "2022-11-12T16:38:48.410Z"
   },
   {
    "duration": 15,
    "start_time": "2022-11-12T16:38:48.419Z"
   },
   {
    "duration": 27,
    "start_time": "2022-11-12T16:38:48.435Z"
   },
   {
    "duration": 13,
    "start_time": "2022-11-12T16:38:48.464Z"
   },
   {
    "duration": 15,
    "start_time": "2022-11-12T16:38:48.478Z"
   },
   {
    "duration": 12,
    "start_time": "2022-11-12T16:38:48.496Z"
   },
   {
    "duration": 6,
    "start_time": "2022-11-12T16:38:48.510Z"
   },
   {
    "duration": 9,
    "start_time": "2022-11-12T16:38:48.517Z"
   },
   {
    "duration": 11,
    "start_time": "2022-11-12T16:38:48.527Z"
   },
   {
    "duration": 11,
    "start_time": "2022-11-12T16:38:48.559Z"
   },
   {
    "duration": 11,
    "start_time": "2022-11-12T16:38:48.572Z"
   },
   {
    "duration": 20,
    "start_time": "2022-11-12T16:38:48.585Z"
   },
   {
    "duration": 23,
    "start_time": "2022-11-12T16:38:48.607Z"
   },
   {
    "duration": 34,
    "start_time": "2022-11-12T16:38:48.632Z"
   },
   {
    "duration": 11,
    "start_time": "2022-11-12T16:38:48.667Z"
   },
   {
    "duration": 16,
    "start_time": "2022-11-12T16:38:48.680Z"
   },
   {
    "duration": 15,
    "start_time": "2022-11-12T16:38:48.698Z"
   },
   {
    "duration": 133,
    "start_time": "2022-11-12T16:38:48.715Z"
   },
   {
    "duration": 155,
    "start_time": "2022-11-12T16:38:48.850Z"
   },
   {
    "duration": 6,
    "start_time": "2022-11-12T16:38:49.008Z"
   },
   {
    "duration": 12,
    "start_time": "2022-11-12T16:38:49.016Z"
   },
   {
    "duration": 144,
    "start_time": "2022-11-12T16:38:49.030Z"
   },
   {
    "duration": 16,
    "start_time": "2022-11-12T16:38:49.176Z"
   },
   {
    "duration": 47,
    "start_time": "2022-11-12T16:38:49.197Z"
   },
   {
    "duration": 18,
    "start_time": "2022-11-12T16:38:49.246Z"
   },
   {
    "duration": 27,
    "start_time": "2022-11-12T16:38:49.265Z"
   },
   {
    "duration": 7,
    "start_time": "2022-11-12T16:38:49.294Z"
   },
   {
    "duration": 9,
    "start_time": "2022-11-12T16:38:49.303Z"
   },
   {
    "duration": 79,
    "start_time": "2022-11-12T16:38:49.314Z"
   },
   {
    "duration": 16,
    "start_time": "2022-11-12T16:38:49.395Z"
   },
   {
    "duration": 23,
    "start_time": "2022-11-12T16:38:49.412Z"
   },
   {
    "duration": 183,
    "start_time": "2022-11-12T16:38:49.436Z"
   },
   {
    "duration": 13,
    "start_time": "2022-11-12T16:38:49.620Z"
   },
   {
    "duration": 243,
    "start_time": "2022-11-12T16:38:49.635Z"
   },
   {
    "duration": 14,
    "start_time": "2022-11-12T16:38:49.880Z"
   },
   {
    "duration": 7,
    "start_time": "2022-11-12T16:38:49.896Z"
   },
   {
    "duration": 16,
    "start_time": "2022-11-12T16:38:49.904Z"
   },
   {
    "duration": 39,
    "start_time": "2022-11-12T16:38:49.922Z"
   },
   {
    "duration": 15,
    "start_time": "2022-11-12T16:38:49.963Z"
   },
   {
    "duration": 16,
    "start_time": "2022-11-12T16:38:49.979Z"
   },
   {
    "duration": 21,
    "start_time": "2022-11-12T16:38:49.996Z"
   },
   {
    "duration": 5,
    "start_time": "2022-11-12T16:38:50.019Z"
   },
   {
    "duration": 42,
    "start_time": "2022-11-12T16:38:50.025Z"
   },
   {
    "duration": 315,
    "start_time": "2022-11-12T16:38:50.069Z"
   },
   {
    "duration": 340,
    "start_time": "2022-11-12T16:38:50.385Z"
   },
   {
    "duration": 10,
    "start_time": "2022-11-12T16:38:50.727Z"
   },
   {
    "duration": 198,
    "start_time": "2022-11-12T16:38:50.738Z"
   },
   {
    "duration": 22,
    "start_time": "2022-11-12T16:38:50.938Z"
   },
   {
    "duration": 189,
    "start_time": "2022-11-12T16:38:50.962Z"
   },
   {
    "duration": 8,
    "start_time": "2022-11-12T16:38:51.153Z"
   },
   {
    "duration": 18,
    "start_time": "2022-11-12T16:38:51.163Z"
   },
   {
    "duration": 198,
    "start_time": "2022-11-12T16:38:51.183Z"
   },
   {
    "duration": 12,
    "start_time": "2022-11-12T16:38:51.383Z"
   },
   {
    "duration": 219,
    "start_time": "2022-11-12T16:38:51.397Z"
   },
   {
    "duration": 15,
    "start_time": "2022-11-12T16:38:51.618Z"
   },
   {
    "duration": 1574,
    "start_time": "2022-11-12T16:38:51.635Z"
   },
   {
    "duration": 556,
    "start_time": "2022-11-12T16:38:53.210Z"
   },
   {
    "duration": 6,
    "start_time": "2022-11-12T16:38:53.768Z"
   },
   {
    "duration": 9,
    "start_time": "2022-11-12T16:38:53.775Z"
   },
   {
    "duration": 9,
    "start_time": "2022-11-12T16:38:53.787Z"
   },
   {
    "duration": 126,
    "start_time": "2022-11-12T16:40:18.635Z"
   },
   {
    "duration": 270,
    "start_time": "2022-11-12T16:40:57.203Z"
   },
   {
    "duration": 127,
    "start_time": "2022-11-12T16:44:58.434Z"
   },
   {
    "duration": 153,
    "start_time": "2022-11-12T16:46:40.492Z"
   },
   {
    "duration": 1374,
    "start_time": "2022-11-12T16:50:31.895Z"
   },
   {
    "duration": 51,
    "start_time": "2022-11-12T16:50:33.271Z"
   },
   {
    "duration": 16,
    "start_time": "2022-11-12T16:50:33.323Z"
   },
   {
    "duration": 24,
    "start_time": "2022-11-12T16:50:33.342Z"
   },
   {
    "duration": 7,
    "start_time": "2022-11-12T16:50:33.368Z"
   },
   {
    "duration": 9,
    "start_time": "2022-11-12T16:50:33.376Z"
   },
   {
    "duration": 8,
    "start_time": "2022-11-12T16:50:33.386Z"
   },
   {
    "duration": 11,
    "start_time": "2022-11-12T16:50:33.395Z"
   },
   {
    "duration": 11,
    "start_time": "2022-11-12T16:50:33.408Z"
   },
   {
    "duration": 39,
    "start_time": "2022-11-12T16:50:33.421Z"
   },
   {
    "duration": 4,
    "start_time": "2022-11-12T16:50:33.462Z"
   },
   {
    "duration": 6,
    "start_time": "2022-11-12T16:50:33.468Z"
   },
   {
    "duration": 8,
    "start_time": "2022-11-12T16:50:33.475Z"
   },
   {
    "duration": 10,
    "start_time": "2022-11-12T16:50:33.485Z"
   },
   {
    "duration": 9,
    "start_time": "2022-11-12T16:50:33.496Z"
   },
   {
    "duration": 10,
    "start_time": "2022-11-12T16:50:33.506Z"
   },
   {
    "duration": 56,
    "start_time": "2022-11-12T16:50:33.517Z"
   },
   {
    "duration": 7,
    "start_time": "2022-11-12T16:50:33.575Z"
   },
   {
    "duration": 135,
    "start_time": "2022-11-12T16:50:33.584Z"
   },
   {
    "duration": 155,
    "start_time": "2022-11-12T16:50:33.721Z"
   },
   {
    "duration": 6,
    "start_time": "2022-11-12T16:50:33.878Z"
   },
   {
    "duration": 12,
    "start_time": "2022-11-12T16:50:33.886Z"
   },
   {
    "duration": 232,
    "start_time": "2022-11-12T16:50:33.900Z"
   },
   {
    "duration": 17,
    "start_time": "2022-11-12T16:50:34.134Z"
   },
   {
    "duration": 59,
    "start_time": "2022-11-12T16:50:34.153Z"
   },
   {
    "duration": 19,
    "start_time": "2022-11-12T16:50:34.215Z"
   },
   {
    "duration": 18,
    "start_time": "2022-11-12T16:50:34.236Z"
   },
   {
    "duration": 6,
    "start_time": "2022-11-12T16:50:34.257Z"
   },
   {
    "duration": 7,
    "start_time": "2022-11-12T16:50:34.265Z"
   },
   {
    "duration": 49,
    "start_time": "2022-11-12T16:50:34.273Z"
   },
   {
    "duration": 13,
    "start_time": "2022-11-12T16:50:34.324Z"
   },
   {
    "duration": 31,
    "start_time": "2022-11-12T16:50:34.339Z"
   },
   {
    "duration": 189,
    "start_time": "2022-11-12T16:50:34.372Z"
   },
   {
    "duration": 82,
    "start_time": "2022-11-12T16:50:34.563Z"
   },
   {
    "duration": 258,
    "start_time": "2022-11-12T16:50:34.648Z"
   },
   {
    "duration": 16,
    "start_time": "2022-11-12T16:50:34.907Z"
   },
   {
    "duration": 6,
    "start_time": "2022-11-12T16:50:34.924Z"
   },
   {
    "duration": 37,
    "start_time": "2022-11-12T16:50:34.931Z"
   },
   {
    "duration": 15,
    "start_time": "2022-11-12T16:50:34.969Z"
   },
   {
    "duration": 13,
    "start_time": "2022-11-12T16:50:34.985Z"
   },
   {
    "duration": 16,
    "start_time": "2022-11-12T16:50:34.999Z"
   },
   {
    "duration": 47,
    "start_time": "2022-11-12T16:50:35.016Z"
   },
   {
    "duration": 5,
    "start_time": "2022-11-12T16:50:35.065Z"
   },
   {
    "duration": 29,
    "start_time": "2022-11-12T16:50:35.071Z"
   },
   {
    "duration": 290,
    "start_time": "2022-11-12T16:50:35.102Z"
   },
   {
    "duration": 343,
    "start_time": "2022-11-12T16:50:35.394Z"
   },
   {
    "duration": 10,
    "start_time": "2022-11-12T16:50:35.739Z"
   },
   {
    "duration": 193,
    "start_time": "2022-11-12T16:50:35.759Z"
   },
   {
    "duration": 9,
    "start_time": "2022-11-12T16:50:35.954Z"
   },
   {
    "duration": 196,
    "start_time": "2022-11-12T16:50:35.965Z"
   },
   {
    "duration": 4,
    "start_time": "2022-11-12T16:50:36.163Z"
   },
   {
    "duration": 16,
    "start_time": "2022-11-12T16:50:36.168Z"
   },
   {
    "duration": 191,
    "start_time": "2022-11-12T16:50:36.185Z"
   },
   {
    "duration": 10,
    "start_time": "2022-11-12T16:50:36.377Z"
   },
   {
    "duration": 190,
    "start_time": "2022-11-12T16:50:36.389Z"
   },
   {
    "duration": 17,
    "start_time": "2022-11-12T16:50:36.581Z"
   },
   {
    "duration": 1578,
    "start_time": "2022-11-12T16:50:36.600Z"
   },
   {
    "duration": 597,
    "start_time": "2022-11-12T16:50:38.180Z"
   },
   {
    "duration": 5,
    "start_time": "2022-11-12T16:50:38.779Z"
   },
   {
    "duration": 29,
    "start_time": "2022-11-12T16:50:38.785Z"
   },
   {
    "duration": 29,
    "start_time": "2022-11-12T16:50:38.815Z"
   },
   {
    "duration": 50,
    "start_time": "2022-11-15T09:10:46.458Z"
   },
   {
    "duration": 1594,
    "start_time": "2022-11-15T09:11:01.643Z"
   },
   {
    "duration": 209,
    "start_time": "2022-11-15T09:11:03.239Z"
   },
   {
    "duration": 14,
    "start_time": "2022-11-15T09:11:03.449Z"
   },
   {
    "duration": 21,
    "start_time": "2022-11-15T09:11:03.465Z"
   },
   {
    "duration": 5,
    "start_time": "2022-11-15T09:11:03.487Z"
   },
   {
    "duration": 10,
    "start_time": "2022-11-15T09:11:03.494Z"
   },
   {
    "duration": 9,
    "start_time": "2022-11-15T09:11:03.505Z"
   },
   {
    "duration": 12,
    "start_time": "2022-11-15T09:11:03.515Z"
   },
   {
    "duration": 37,
    "start_time": "2022-11-15T09:11:03.528Z"
   },
   {
    "duration": 16,
    "start_time": "2022-11-15T09:11:03.567Z"
   },
   {
    "duration": 13,
    "start_time": "2022-11-15T09:11:03.585Z"
   },
   {
    "duration": 16,
    "start_time": "2022-11-15T09:11:03.600Z"
   },
   {
    "duration": 10,
    "start_time": "2022-11-15T09:11:03.618Z"
   },
   {
    "duration": 11,
    "start_time": "2022-11-15T09:11:03.630Z"
   },
   {
    "duration": 18,
    "start_time": "2022-11-15T09:11:03.643Z"
   },
   {
    "duration": 13,
    "start_time": "2022-11-15T09:11:03.663Z"
   },
   {
    "duration": 23,
    "start_time": "2022-11-15T09:11:03.677Z"
   },
   {
    "duration": 9,
    "start_time": "2022-11-15T09:11:03.702Z"
   },
   {
    "duration": 149,
    "start_time": "2022-11-15T09:11:03.713Z"
   },
   {
    "duration": 154,
    "start_time": "2022-11-15T09:11:03.864Z"
   },
   {
    "duration": 5,
    "start_time": "2022-11-15T09:11:04.020Z"
   },
   {
    "duration": 8,
    "start_time": "2022-11-15T09:11:04.027Z"
   },
   {
    "duration": 120,
    "start_time": "2022-11-15T09:11:04.037Z"
   },
   {
    "duration": 17,
    "start_time": "2022-11-15T09:11:04.159Z"
   },
   {
    "duration": 33,
    "start_time": "2022-11-15T09:11:04.178Z"
   },
   {
    "duration": 18,
    "start_time": "2022-11-15T09:11:04.212Z"
   },
   {
    "duration": 30,
    "start_time": "2022-11-15T09:11:04.232Z"
   },
   {
    "duration": 3,
    "start_time": "2022-11-15T09:11:04.266Z"
   },
   {
    "duration": 8,
    "start_time": "2022-11-15T09:11:04.270Z"
   },
   {
    "duration": 51,
    "start_time": "2022-11-15T09:11:04.279Z"
   },
   {
    "duration": 26,
    "start_time": "2022-11-15T09:11:04.331Z"
   },
   {
    "duration": 18,
    "start_time": "2022-11-15T09:11:04.359Z"
   },
   {
    "duration": 210,
    "start_time": "2022-11-15T09:11:04.378Z"
   },
   {
    "duration": 13,
    "start_time": "2022-11-15T09:11:04.589Z"
   },
   {
    "duration": 299,
    "start_time": "2022-11-15T09:11:04.604Z"
   },
   {
    "duration": 20,
    "start_time": "2022-11-15T09:11:04.904Z"
   },
   {
    "duration": 10,
    "start_time": "2022-11-15T09:11:04.926Z"
   },
   {
    "duration": 38,
    "start_time": "2022-11-15T09:11:04.938Z"
   },
   {
    "duration": 21,
    "start_time": "2022-11-15T09:11:04.978Z"
   },
   {
    "duration": 17,
    "start_time": "2022-11-15T09:11:05.002Z"
   },
   {
    "duration": 38,
    "start_time": "2022-11-15T09:11:05.020Z"
   },
   {
    "duration": 16,
    "start_time": "2022-11-15T09:11:05.059Z"
   },
   {
    "duration": 5,
    "start_time": "2022-11-15T09:11:05.076Z"
   },
   {
    "duration": 17,
    "start_time": "2022-11-15T09:11:05.083Z"
   },
   {
    "duration": 307,
    "start_time": "2022-11-15T09:11:05.102Z"
   },
   {
    "duration": 330,
    "start_time": "2022-11-15T09:11:05.411Z"
   },
   {
    "duration": 14,
    "start_time": "2022-11-15T09:11:05.742Z"
   },
   {
    "duration": 194,
    "start_time": "2022-11-15T09:11:05.757Z"
   },
   {
    "duration": 10,
    "start_time": "2022-11-15T09:11:05.952Z"
   },
   {
    "duration": 196,
    "start_time": "2022-11-15T09:11:05.964Z"
   },
   {
    "duration": 4,
    "start_time": "2022-11-15T09:11:06.162Z"
   },
   {
    "duration": 14,
    "start_time": "2022-11-15T09:11:06.168Z"
   },
   {
    "duration": 231,
    "start_time": "2022-11-15T09:11:06.184Z"
   },
   {
    "duration": 11,
    "start_time": "2022-11-15T09:11:06.417Z"
   },
   {
    "duration": 207,
    "start_time": "2022-11-15T09:11:06.429Z"
   },
   {
    "duration": 26,
    "start_time": "2022-11-15T09:11:06.638Z"
   },
   {
    "duration": 1498,
    "start_time": "2022-11-15T09:11:06.666Z"
   },
   {
    "duration": 624,
    "start_time": "2022-11-15T09:11:08.165Z"
   },
   {
    "duration": 7,
    "start_time": "2022-11-15T09:11:08.790Z"
   },
   {
    "duration": 10,
    "start_time": "2022-11-15T09:11:08.799Z"
   },
   {
    "duration": 10,
    "start_time": "2022-11-15T09:11:08.810Z"
   },
   {
    "duration": 2380,
    "start_time": "2022-11-15T09:28:52.009Z"
   },
   {
    "duration": 147,
    "start_time": "2022-11-15T09:30:26.491Z"
   },
   {
    "duration": 14,
    "start_time": "2022-11-15T09:30:35.616Z"
   },
   {
    "duration": 14,
    "start_time": "2022-11-15T09:33:03.769Z"
   },
   {
    "duration": 15,
    "start_time": "2022-11-15T09:33:06.659Z"
   },
   {
    "duration": 2406,
    "start_time": "2022-11-15T09:33:50.111Z"
   },
   {
    "duration": 14,
    "start_time": "2022-11-15T09:39:47.644Z"
   },
   {
    "duration": 1723,
    "start_time": "2022-11-15T09:44:53.310Z"
   },
   {
    "duration": 2988,
    "start_time": "2022-11-15T09:46:12.248Z"
   },
   {
    "duration": 1519,
    "start_time": "2022-11-15T09:58:10.046Z"
   },
   {
    "duration": 57,
    "start_time": "2022-11-15T09:58:11.567Z"
   },
   {
    "duration": 12,
    "start_time": "2022-11-15T09:58:11.625Z"
   },
   {
    "duration": 51,
    "start_time": "2022-11-15T09:58:11.638Z"
   },
   {
    "duration": 29,
    "start_time": "2022-11-15T09:58:11.690Z"
   },
   {
    "duration": 32,
    "start_time": "2022-11-15T09:58:11.720Z"
   },
   {
    "duration": 34,
    "start_time": "2022-11-15T09:58:11.753Z"
   },
   {
    "duration": 57,
    "start_time": "2022-11-15T09:58:11.789Z"
   },
   {
    "duration": 26,
    "start_time": "2022-11-15T09:58:11.848Z"
   },
   {
    "duration": 30,
    "start_time": "2022-11-15T09:58:11.877Z"
   },
   {
    "duration": 11,
    "start_time": "2022-11-15T09:58:11.908Z"
   },
   {
    "duration": 40,
    "start_time": "2022-11-15T09:58:11.921Z"
   },
   {
    "duration": 33,
    "start_time": "2022-11-15T09:58:11.962Z"
   },
   {
    "duration": 48,
    "start_time": "2022-11-15T09:58:11.997Z"
   },
   {
    "duration": 50,
    "start_time": "2022-11-15T09:58:12.047Z"
   },
   {
    "duration": 23,
    "start_time": "2022-11-15T09:58:12.099Z"
   },
   {
    "duration": 59,
    "start_time": "2022-11-15T09:58:12.124Z"
   },
   {
    "duration": 26,
    "start_time": "2022-11-15T09:58:12.184Z"
   },
   {
    "duration": 136,
    "start_time": "2022-11-15T09:58:12.212Z"
   },
   {
    "duration": 158,
    "start_time": "2022-11-15T09:58:12.350Z"
   },
   {
    "duration": 5,
    "start_time": "2022-11-15T09:58:12.510Z"
   },
   {
    "duration": 40,
    "start_time": "2022-11-15T09:58:12.516Z"
   },
   {
    "duration": 183,
    "start_time": "2022-11-15T09:58:12.558Z"
   },
   {
    "duration": 15,
    "start_time": "2022-11-15T09:58:12.743Z"
   },
   {
    "duration": 80,
    "start_time": "2022-11-15T09:58:12.759Z"
   },
   {
    "duration": 24,
    "start_time": "2022-11-15T09:58:12.841Z"
   },
   {
    "duration": 80,
    "start_time": "2022-11-15T09:58:12.867Z"
   },
   {
    "duration": 31,
    "start_time": "2022-11-15T09:58:12.951Z"
   },
   {
    "duration": 45,
    "start_time": "2022-11-15T09:58:12.985Z"
   },
   {
    "duration": 126,
    "start_time": "2022-11-15T09:58:13.032Z"
   },
   {
    "duration": 30,
    "start_time": "2022-11-15T09:58:13.160Z"
   },
   {
    "duration": 68,
    "start_time": "2022-11-15T09:58:13.192Z"
   },
   {
    "duration": 199,
    "start_time": "2022-11-15T09:58:13.262Z"
   },
   {
    "duration": 14,
    "start_time": "2022-11-15T09:58:13.463Z"
   },
   {
    "duration": 317,
    "start_time": "2022-11-15T09:58:13.478Z"
   },
   {
    "duration": 15,
    "start_time": "2022-11-15T09:58:13.797Z"
   },
   {
    "duration": 56,
    "start_time": "2022-11-15T09:58:13.814Z"
   },
   {
    "duration": 51,
    "start_time": "2022-11-15T09:58:13.872Z"
   },
   {
    "duration": 44,
    "start_time": "2022-11-15T09:58:13.924Z"
   },
   {
    "duration": 58,
    "start_time": "2022-11-15T09:58:13.970Z"
   },
   {
    "duration": 43,
    "start_time": "2022-11-15T09:58:14.029Z"
   },
   {
    "duration": 51,
    "start_time": "2022-11-15T09:58:14.073Z"
   },
   {
    "duration": 44,
    "start_time": "2022-11-15T09:58:14.127Z"
   },
   {
    "duration": 57,
    "start_time": "2022-11-15T09:58:14.172Z"
   },
   {
    "duration": 379,
    "start_time": "2022-11-15T09:58:14.231Z"
   },
   {
    "duration": 401,
    "start_time": "2022-11-15T09:58:14.612Z"
   },
   {
    "duration": 10,
    "start_time": "2022-11-15T09:58:15.015Z"
   },
   {
    "duration": 208,
    "start_time": "2022-11-15T09:58:15.027Z"
   },
   {
    "duration": 9,
    "start_time": "2022-11-15T09:58:15.236Z"
   },
   {
    "duration": 189,
    "start_time": "2022-11-15T09:58:15.255Z"
   },
   {
    "duration": 10,
    "start_time": "2022-11-15T09:58:15.445Z"
   },
   {
    "duration": 12,
    "start_time": "2022-11-15T09:58:15.456Z"
   },
   {
    "duration": 192,
    "start_time": "2022-11-15T09:58:15.471Z"
   },
   {
    "duration": 12,
    "start_time": "2022-11-15T09:58:15.665Z"
   },
   {
    "duration": 204,
    "start_time": "2022-11-15T09:58:15.679Z"
   },
   {
    "duration": 17,
    "start_time": "2022-11-15T09:58:15.885Z"
   },
   {
    "duration": 2560,
    "start_time": "2022-11-15T09:58:15.903Z"
   },
   {
    "duration": 603,
    "start_time": "2022-11-15T09:58:18.465Z"
   },
   {
    "duration": 7,
    "start_time": "2022-11-15T09:58:19.070Z"
   },
   {
    "duration": 14,
    "start_time": "2022-11-15T09:58:19.079Z"
   },
   {
    "duration": 11,
    "start_time": "2022-11-15T09:58:19.095Z"
   },
   {
    "duration": 2,
    "start_time": "2022-11-15T11:08:08.001Z"
   },
   {
    "duration": 7,
    "start_time": "2022-11-15T11:08:34.159Z"
   },
   {
    "duration": 5,
    "start_time": "2022-11-15T11:12:19.991Z"
   },
   {
    "duration": 10,
    "start_time": "2022-11-15T11:12:38.493Z"
   },
   {
    "duration": 9,
    "start_time": "2022-11-15T11:14:05.759Z"
   },
   {
    "duration": 10,
    "start_time": "2022-11-15T11:14:39.658Z"
   },
   {
    "duration": 115,
    "start_time": "2022-11-15T11:28:25.592Z"
   },
   {
    "duration": 17,
    "start_time": "2022-11-15T11:28:58.893Z"
   },
   {
    "duration": 17,
    "start_time": "2022-11-15T11:29:02.163Z"
   },
   {
    "duration": 50,
    "start_time": "2022-11-15T11:35:55.522Z"
   },
   {
    "duration": 51,
    "start_time": "2022-11-15T11:36:57.065Z"
   },
   {
    "duration": 50,
    "start_time": "2022-11-15T11:37:05.290Z"
   },
   {
    "duration": 11,
    "start_time": "2022-11-15T12:24:47.192Z"
   },
   {
    "duration": 45,
    "start_time": "2022-11-15T13:24:16.667Z"
   },
   {
    "duration": 1710,
    "start_time": "2022-11-15T13:24:37.080Z"
   },
   {
    "duration": 91,
    "start_time": "2022-11-15T13:24:38.793Z"
   },
   {
    "duration": 13,
    "start_time": "2022-11-15T13:24:38.885Z"
   },
   {
    "duration": 23,
    "start_time": "2022-11-15T13:24:38.900Z"
   },
   {
    "duration": 7,
    "start_time": "2022-11-15T13:24:38.925Z"
   },
   {
    "duration": 7,
    "start_time": "2022-11-15T13:24:38.934Z"
   },
   {
    "duration": 8,
    "start_time": "2022-11-15T13:24:38.943Z"
   },
   {
    "duration": 5,
    "start_time": "2022-11-15T13:24:38.953Z"
   },
   {
    "duration": 9,
    "start_time": "2022-11-15T13:24:38.960Z"
   },
   {
    "duration": 39,
    "start_time": "2022-11-15T13:24:38.972Z"
   },
   {
    "duration": 8,
    "start_time": "2022-11-15T13:24:39.013Z"
   },
   {
    "duration": 60,
    "start_time": "2022-11-15T13:24:39.022Z"
   },
   {
    "duration": 16,
    "start_time": "2022-11-15T13:24:39.083Z"
   },
   {
    "duration": 10,
    "start_time": "2022-11-15T13:24:39.101Z"
   },
   {
    "duration": 10,
    "start_time": "2022-11-15T13:24:39.113Z"
   },
   {
    "duration": 18,
    "start_time": "2022-11-15T13:24:39.124Z"
   },
   {
    "duration": 16,
    "start_time": "2022-11-15T13:24:39.144Z"
   },
   {
    "duration": 7,
    "start_time": "2022-11-15T13:24:39.161Z"
   },
   {
    "duration": 137,
    "start_time": "2022-11-15T13:24:39.169Z"
   },
   {
    "duration": 145,
    "start_time": "2022-11-15T13:24:39.307Z"
   },
   {
    "duration": 4,
    "start_time": "2022-11-15T13:24:39.454Z"
   },
   {
    "duration": 6,
    "start_time": "2022-11-15T13:24:39.460Z"
   },
   {
    "duration": 124,
    "start_time": "2022-11-15T13:24:39.467Z"
   },
   {
    "duration": 15,
    "start_time": "2022-11-15T13:24:39.593Z"
   },
   {
    "duration": 35,
    "start_time": "2022-11-15T13:24:39.610Z"
   },
   {
    "duration": 15,
    "start_time": "2022-11-15T13:24:39.647Z"
   },
   {
    "duration": 37,
    "start_time": "2022-11-15T13:24:39.663Z"
   },
   {
    "duration": 12,
    "start_time": "2022-11-15T13:24:39.704Z"
   },
   {
    "duration": 31,
    "start_time": "2022-11-15T13:24:39.718Z"
   },
   {
    "duration": 63,
    "start_time": "2022-11-15T13:24:39.751Z"
   },
   {
    "duration": 12,
    "start_time": "2022-11-15T13:24:39.815Z"
   },
   {
    "duration": 26,
    "start_time": "2022-11-15T13:24:39.829Z"
   },
   {
    "duration": 250,
    "start_time": "2022-11-15T13:24:39.857Z"
   },
   {
    "duration": 14,
    "start_time": "2022-11-15T13:24:40.109Z"
   },
   {
    "duration": 310,
    "start_time": "2022-11-15T13:24:40.124Z"
   },
   {
    "duration": 15,
    "start_time": "2022-11-15T13:24:40.435Z"
   },
   {
    "duration": 6,
    "start_time": "2022-11-15T13:24:40.451Z"
   },
   {
    "duration": 22,
    "start_time": "2022-11-15T13:24:40.459Z"
   },
   {
    "duration": 38,
    "start_time": "2022-11-15T13:24:40.483Z"
   },
   {
    "duration": 15,
    "start_time": "2022-11-15T13:24:40.523Z"
   },
   {
    "duration": 17,
    "start_time": "2022-11-15T13:24:40.540Z"
   },
   {
    "duration": 52,
    "start_time": "2022-11-15T13:24:40.559Z"
   },
   {
    "duration": 6,
    "start_time": "2022-11-15T13:24:40.612Z"
   },
   {
    "duration": 15,
    "start_time": "2022-11-15T13:24:40.620Z"
   },
   {
    "duration": 297,
    "start_time": "2022-11-15T13:24:40.637Z"
   },
   {
    "duration": 340,
    "start_time": "2022-11-15T13:24:40.936Z"
   },
   {
    "duration": 10,
    "start_time": "2022-11-15T13:24:41.278Z"
   },
   {
    "duration": 202,
    "start_time": "2022-11-15T13:24:41.305Z"
   },
   {
    "duration": 9,
    "start_time": "2022-11-15T13:24:41.509Z"
   },
   {
    "duration": 199,
    "start_time": "2022-11-15T13:24:41.520Z"
   },
   {
    "duration": 4,
    "start_time": "2022-11-15T13:24:41.721Z"
   },
   {
    "duration": 13,
    "start_time": "2022-11-15T13:24:41.726Z"
   },
   {
    "duration": 203,
    "start_time": "2022-11-15T13:24:41.741Z"
   },
   {
    "duration": 10,
    "start_time": "2022-11-15T13:24:41.946Z"
   },
   {
    "duration": 208,
    "start_time": "2022-11-15T13:24:41.957Z"
   },
   {
    "duration": 17,
    "start_time": "2022-11-15T13:24:42.167Z"
   },
   {
    "duration": 2582,
    "start_time": "2022-11-15T13:24:42.185Z"
   },
   {
    "duration": 675,
    "start_time": "2022-11-15T13:24:44.768Z"
   },
   {
    "duration": 8,
    "start_time": "2022-11-15T13:24:45.444Z"
   },
   {
    "duration": 12,
    "start_time": "2022-11-15T13:24:45.453Z"
   },
   {
    "duration": 153,
    "start_time": "2022-11-15T13:24:45.466Z"
   },
   {
    "duration": 0,
    "start_time": "2022-11-15T13:24:45.620Z"
   },
   {
    "duration": 0,
    "start_time": "2022-11-15T13:24:45.622Z"
   },
   {
    "duration": 0,
    "start_time": "2022-11-15T13:24:45.622Z"
   },
   {
    "duration": 18,
    "start_time": "2022-11-15T13:29:13.637Z"
   },
   {
    "duration": 5,
    "start_time": "2022-11-15T13:33:38.957Z"
   },
   {
    "duration": 4,
    "start_time": "2022-11-15T13:36:13.434Z"
   },
   {
    "duration": 9,
    "start_time": "2022-11-15T13:36:27.925Z"
   },
   {
    "duration": 14,
    "start_time": "2022-11-15T13:37:27.809Z"
   },
   {
    "duration": 10,
    "start_time": "2022-11-15T13:37:33.836Z"
   },
   {
    "duration": 5,
    "start_time": "2022-11-15T13:38:13.238Z"
   },
   {
    "duration": 10,
    "start_time": "2022-11-15T13:38:15.508Z"
   },
   {
    "duration": 14,
    "start_time": "2022-11-15T13:40:46.238Z"
   },
   {
    "duration": 9,
    "start_time": "2022-11-15T13:40:50.835Z"
   },
   {
    "duration": 5,
    "start_time": "2022-11-15T13:41:38.111Z"
   },
   {
    "duration": 9,
    "start_time": "2022-11-15T13:41:41.466Z"
   },
   {
    "duration": 12,
    "start_time": "2022-11-15T13:43:31.292Z"
   },
   {
    "duration": 5,
    "start_time": "2022-11-15T13:43:51.138Z"
   },
   {
    "duration": 1200,
    "start_time": "2022-11-15T13:45:57.574Z"
   },
   {
    "duration": 5,
    "start_time": "2022-11-15T13:46:10.008Z"
   },
   {
    "duration": 9,
    "start_time": "2022-11-15T13:46:12.772Z"
   },
   {
    "duration": 4,
    "start_time": "2022-11-15T13:55:25.855Z"
   },
   {
    "duration": 10,
    "start_time": "2022-11-15T13:55:42.072Z"
   },
   {
    "duration": 12,
    "start_time": "2022-11-15T13:56:21.593Z"
   },
   {
    "duration": 1444,
    "start_time": "2022-11-15T13:56:36.982Z"
   },
   {
    "duration": 51,
    "start_time": "2022-11-15T13:56:38.428Z"
   },
   {
    "duration": 15,
    "start_time": "2022-11-15T13:56:38.481Z"
   },
   {
    "duration": 26,
    "start_time": "2022-11-15T13:56:38.498Z"
   },
   {
    "duration": 6,
    "start_time": "2022-11-15T13:56:38.525Z"
   },
   {
    "duration": 8,
    "start_time": "2022-11-15T13:56:38.532Z"
   },
   {
    "duration": 9,
    "start_time": "2022-11-15T13:56:38.541Z"
   },
   {
    "duration": 6,
    "start_time": "2022-11-15T13:56:38.552Z"
   },
   {
    "duration": 14,
    "start_time": "2022-11-15T13:56:38.559Z"
   },
   {
    "duration": 31,
    "start_time": "2022-11-15T13:56:38.575Z"
   },
   {
    "duration": 9,
    "start_time": "2022-11-15T13:56:38.608Z"
   },
   {
    "duration": 9,
    "start_time": "2022-11-15T13:56:38.619Z"
   },
   {
    "duration": 10,
    "start_time": "2022-11-15T13:56:38.629Z"
   },
   {
    "duration": 10,
    "start_time": "2022-11-15T13:56:38.641Z"
   },
   {
    "duration": 9,
    "start_time": "2022-11-15T13:56:38.652Z"
   },
   {
    "duration": 10,
    "start_time": "2022-11-15T13:56:38.663Z"
   },
   {
    "duration": 40,
    "start_time": "2022-11-15T13:56:38.675Z"
   },
   {
    "duration": 8,
    "start_time": "2022-11-15T13:56:38.716Z"
   },
   {
    "duration": 123,
    "start_time": "2022-11-15T13:56:38.725Z"
   },
   {
    "duration": 143,
    "start_time": "2022-11-15T13:56:38.850Z"
   },
   {
    "duration": 10,
    "start_time": "2022-11-15T13:56:38.994Z"
   },
   {
    "duration": 4,
    "start_time": "2022-11-15T13:56:39.005Z"
   },
   {
    "duration": 137,
    "start_time": "2022-11-15T13:56:39.011Z"
   },
   {
    "duration": 13,
    "start_time": "2022-11-15T13:56:39.150Z"
   },
   {
    "duration": 40,
    "start_time": "2022-11-15T13:56:39.165Z"
   },
   {
    "duration": 15,
    "start_time": "2022-11-15T13:56:39.207Z"
   },
   {
    "duration": 19,
    "start_time": "2022-11-15T13:56:39.224Z"
   },
   {
    "duration": 3,
    "start_time": "2022-11-15T13:56:39.247Z"
   },
   {
    "duration": 7,
    "start_time": "2022-11-15T13:56:39.252Z"
   },
   {
    "duration": 66,
    "start_time": "2022-11-15T13:56:39.261Z"
   },
   {
    "duration": 12,
    "start_time": "2022-11-15T13:56:39.328Z"
   },
   {
    "duration": 99,
    "start_time": "2022-11-15T13:56:39.342Z"
   },
   {
    "duration": 167,
    "start_time": "2022-11-15T13:56:39.443Z"
   },
   {
    "duration": 13,
    "start_time": "2022-11-15T13:56:39.612Z"
   },
   {
    "duration": 326,
    "start_time": "2022-11-15T13:56:39.627Z"
   },
   {
    "duration": 15,
    "start_time": "2022-11-15T13:56:39.955Z"
   },
   {
    "duration": 5,
    "start_time": "2022-11-15T13:56:39.971Z"
   },
   {
    "duration": 28,
    "start_time": "2022-11-15T13:56:39.978Z"
   },
   {
    "duration": 34,
    "start_time": "2022-11-15T13:56:40.008Z"
   },
   {
    "duration": 25,
    "start_time": "2022-11-15T13:56:40.044Z"
   },
   {
    "duration": 17,
    "start_time": "2022-11-15T13:56:40.070Z"
   },
   {
    "duration": 18,
    "start_time": "2022-11-15T13:56:40.089Z"
   },
   {
    "duration": 23,
    "start_time": "2022-11-15T13:56:40.109Z"
   },
   {
    "duration": 16,
    "start_time": "2022-11-15T13:56:40.134Z"
   },
   {
    "duration": 280,
    "start_time": "2022-11-15T13:56:40.152Z"
   },
   {
    "duration": 342,
    "start_time": "2022-11-15T13:56:40.434Z"
   },
   {
    "duration": 10,
    "start_time": "2022-11-15T13:56:40.778Z"
   },
   {
    "duration": 208,
    "start_time": "2022-11-15T13:56:40.790Z"
   },
   {
    "duration": 10,
    "start_time": "2022-11-15T13:56:41.000Z"
   },
   {
    "duration": 215,
    "start_time": "2022-11-15T13:56:41.012Z"
   },
   {
    "duration": 5,
    "start_time": "2022-11-15T13:56:41.229Z"
   },
   {
    "duration": 13,
    "start_time": "2022-11-15T13:56:41.235Z"
   },
   {
    "duration": 190,
    "start_time": "2022-11-15T13:56:41.249Z"
   },
   {
    "duration": 10,
    "start_time": "2022-11-15T13:56:41.441Z"
   },
   {
    "duration": 193,
    "start_time": "2022-11-15T13:56:41.453Z"
   },
   {
    "duration": 14,
    "start_time": "2022-11-15T13:56:41.648Z"
   },
   {
    "duration": 2415,
    "start_time": "2022-11-15T13:56:41.664Z"
   },
   {
    "duration": 599,
    "start_time": "2022-11-15T13:56:44.081Z"
   },
   {
    "duration": 8,
    "start_time": "2022-11-15T13:56:44.682Z"
   },
   {
    "duration": 18,
    "start_time": "2022-11-15T13:56:44.691Z"
   },
   {
    "duration": 18,
    "start_time": "2022-11-15T13:56:44.711Z"
   },
   {
    "duration": 8,
    "start_time": "2022-11-15T13:56:44.731Z"
   },
   {
    "duration": 11,
    "start_time": "2022-11-15T13:56:44.740Z"
   },
   {
    "duration": 15,
    "start_time": "2022-11-15T13:56:44.753Z"
   },
   {
    "duration": 72,
    "start_time": "2022-11-15T14:00:09.610Z"
   },
   {
    "duration": 75,
    "start_time": "2022-11-15T14:01:13.118Z"
   },
   {
    "duration": 71,
    "start_time": "2022-11-15T14:01:20.857Z"
   },
   {
    "duration": 74,
    "start_time": "2022-11-15T14:02:22.457Z"
   },
   {
    "duration": 69,
    "start_time": "2022-11-15T14:03:55.374Z"
   },
   {
    "duration": 9,
    "start_time": "2022-11-15T14:04:03.759Z"
   },
   {
    "duration": 72,
    "start_time": "2022-11-15T14:07:22.366Z"
   },
   {
    "duration": 11,
    "start_time": "2022-11-15T14:13:41.480Z"
   },
   {
    "duration": 11,
    "start_time": "2022-11-15T14:14:43.191Z"
   },
   {
    "duration": 10,
    "start_time": "2022-11-15T14:14:46.490Z"
   },
   {
    "duration": 11,
    "start_time": "2022-11-15T14:15:12.469Z"
   },
   {
    "duration": 11,
    "start_time": "2022-11-15T14:15:22.143Z"
   },
   {
    "duration": 9,
    "start_time": "2022-11-15T14:15:30.930Z"
   },
   {
    "duration": 107,
    "start_time": "2022-11-15T14:20:03.829Z"
   },
   {
    "duration": 6,
    "start_time": "2022-11-15T14:20:12.420Z"
   },
   {
    "duration": 12,
    "start_time": "2022-11-15T14:21:50.364Z"
   },
   {
    "duration": 12,
    "start_time": "2022-11-15T14:23:10.534Z"
   },
   {
    "duration": 12,
    "start_time": "2022-11-15T14:23:40.019Z"
   },
   {
    "duration": 11,
    "start_time": "2022-11-15T14:28:57.322Z"
   },
   {
    "duration": 11,
    "start_time": "2022-11-15T14:29:11.058Z"
   },
   {
    "duration": 67,
    "start_time": "2022-11-15T14:37:46.729Z"
   },
   {
    "duration": 1370,
    "start_time": "2022-11-15T14:43:14.965Z"
   },
   {
    "duration": 50,
    "start_time": "2022-11-15T14:43:16.337Z"
   },
   {
    "duration": 13,
    "start_time": "2022-11-15T14:43:16.388Z"
   },
   {
    "duration": 36,
    "start_time": "2022-11-15T14:43:16.403Z"
   },
   {
    "duration": 6,
    "start_time": "2022-11-15T14:43:16.440Z"
   },
   {
    "duration": 24,
    "start_time": "2022-11-15T14:43:16.448Z"
   },
   {
    "duration": 15,
    "start_time": "2022-11-15T14:43:16.473Z"
   },
   {
    "duration": 13,
    "start_time": "2022-11-15T14:43:16.489Z"
   },
   {
    "duration": 25,
    "start_time": "2022-11-15T14:43:16.504Z"
   },
   {
    "duration": 17,
    "start_time": "2022-11-15T14:43:16.531Z"
   },
   {
    "duration": 26,
    "start_time": "2022-11-15T14:43:16.550Z"
   },
   {
    "duration": 27,
    "start_time": "2022-11-15T14:43:16.577Z"
   },
   {
    "duration": 29,
    "start_time": "2022-11-15T14:43:16.605Z"
   },
   {
    "duration": 29,
    "start_time": "2022-11-15T14:43:16.635Z"
   },
   {
    "duration": 16,
    "start_time": "2022-11-15T14:43:16.666Z"
   },
   {
    "duration": 21,
    "start_time": "2022-11-15T14:43:16.684Z"
   },
   {
    "duration": 24,
    "start_time": "2022-11-15T14:43:16.707Z"
   },
   {
    "duration": 14,
    "start_time": "2022-11-15T14:43:16.733Z"
   },
   {
    "duration": 130,
    "start_time": "2022-11-15T14:43:16.749Z"
   },
   {
    "duration": 153,
    "start_time": "2022-11-15T14:43:16.880Z"
   },
   {
    "duration": 4,
    "start_time": "2022-11-15T14:43:17.035Z"
   },
   {
    "duration": 26,
    "start_time": "2022-11-15T14:43:17.040Z"
   },
   {
    "duration": 132,
    "start_time": "2022-11-15T14:43:17.068Z"
   },
   {
    "duration": 14,
    "start_time": "2022-11-15T14:43:17.202Z"
   },
   {
    "duration": 39,
    "start_time": "2022-11-15T14:43:17.218Z"
   },
   {
    "duration": 37,
    "start_time": "2022-11-15T14:43:17.259Z"
   },
   {
    "duration": 25,
    "start_time": "2022-11-15T14:43:17.297Z"
   },
   {
    "duration": 5,
    "start_time": "2022-11-15T14:43:17.326Z"
   },
   {
    "duration": 7,
    "start_time": "2022-11-15T14:43:17.332Z"
   },
   {
    "duration": 47,
    "start_time": "2022-11-15T14:43:17.340Z"
   },
   {
    "duration": 17,
    "start_time": "2022-11-15T14:43:17.389Z"
   },
   {
    "duration": 19,
    "start_time": "2022-11-15T14:43:17.407Z"
   },
   {
    "duration": 228,
    "start_time": "2022-11-15T14:43:17.428Z"
   },
   {
    "duration": 16,
    "start_time": "2022-11-15T14:43:17.658Z"
   },
   {
    "duration": 290,
    "start_time": "2022-11-15T14:43:17.676Z"
   },
   {
    "duration": 15,
    "start_time": "2022-11-15T14:43:17.968Z"
   },
   {
    "duration": 20,
    "start_time": "2022-11-15T14:43:17.985Z"
   },
   {
    "duration": 25,
    "start_time": "2022-11-15T14:43:18.007Z"
   },
   {
    "duration": 15,
    "start_time": "2022-11-15T14:43:18.034Z"
   },
   {
    "duration": 16,
    "start_time": "2022-11-15T14:43:18.051Z"
   },
   {
    "duration": 37,
    "start_time": "2022-11-15T14:43:18.069Z"
   },
   {
    "duration": 18,
    "start_time": "2022-11-15T14:43:18.107Z"
   },
   {
    "duration": 9,
    "start_time": "2022-11-15T14:43:18.126Z"
   },
   {
    "duration": 15,
    "start_time": "2022-11-15T14:43:18.137Z"
   },
   {
    "duration": 343,
    "start_time": "2022-11-15T14:43:18.153Z"
   },
   {
    "duration": 345,
    "start_time": "2022-11-15T14:43:18.497Z"
   },
   {
    "duration": 10,
    "start_time": "2022-11-15T14:43:18.844Z"
   },
   {
    "duration": 242,
    "start_time": "2022-11-15T14:43:18.856Z"
   },
   {
    "duration": 10,
    "start_time": "2022-11-15T14:43:19.100Z"
   },
   {
    "duration": 217,
    "start_time": "2022-11-15T14:43:19.112Z"
   },
   {
    "duration": 4,
    "start_time": "2022-11-15T14:43:19.330Z"
   },
   {
    "duration": 16,
    "start_time": "2022-11-15T14:43:19.336Z"
   },
   {
    "duration": 208,
    "start_time": "2022-11-15T14:43:19.354Z"
   },
   {
    "duration": 11,
    "start_time": "2022-11-15T14:43:19.564Z"
   },
   {
    "duration": 197,
    "start_time": "2022-11-15T14:43:19.576Z"
   },
   {
    "duration": 16,
    "start_time": "2022-11-15T14:43:19.774Z"
   },
   {
    "duration": 2525,
    "start_time": "2022-11-15T14:43:19.791Z"
   },
   {
    "duration": 582,
    "start_time": "2022-11-15T14:43:22.318Z"
   },
   {
    "duration": 8,
    "start_time": "2022-11-15T14:43:22.902Z"
   },
   {
    "duration": 16,
    "start_time": "2022-11-15T14:43:22.911Z"
   },
   {
    "duration": 30,
    "start_time": "2022-11-15T14:43:22.928Z"
   },
   {
    "duration": 17,
    "start_time": "2022-11-15T14:43:22.960Z"
   },
   {
    "duration": 5,
    "start_time": "2022-11-15T14:43:22.979Z"
   },
   {
    "duration": 25,
    "start_time": "2022-11-15T14:43:22.985Z"
   },
   {
    "duration": 11,
    "start_time": "2022-11-15T14:43:23.012Z"
   },
   {
    "duration": 5,
    "start_time": "2022-11-15T17:37:33.067Z"
   },
   {
    "duration": 11,
    "start_time": "2022-11-15T17:40:36.362Z"
   },
   {
    "duration": 16,
    "start_time": "2022-11-15T17:40:54.594Z"
   },
   {
    "duration": 15,
    "start_time": "2022-11-15T17:55:10.739Z"
   },
   {
    "duration": 5,
    "start_time": "2022-11-15T17:58:26.916Z"
   },
   {
    "duration": 10,
    "start_time": "2022-11-15T17:58:36.771Z"
   },
   {
    "duration": 6,
    "start_time": "2022-11-15T17:59:24.395Z"
   },
   {
    "duration": 6,
    "start_time": "2022-11-15T19:01:03.421Z"
   },
   {
    "duration": 1440,
    "start_time": "2022-11-15T20:30:46.934Z"
   },
   {
    "duration": 52,
    "start_time": "2022-11-15T20:30:48.376Z"
   },
   {
    "duration": 12,
    "start_time": "2022-11-15T20:30:48.430Z"
   },
   {
    "duration": 23,
    "start_time": "2022-11-15T20:30:48.444Z"
   },
   {
    "duration": 7,
    "start_time": "2022-11-15T20:30:48.470Z"
   },
   {
    "duration": 29,
    "start_time": "2022-11-15T20:30:48.479Z"
   },
   {
    "duration": 10,
    "start_time": "2022-11-15T20:30:48.509Z"
   },
   {
    "duration": 12,
    "start_time": "2022-11-15T20:30:48.521Z"
   },
   {
    "duration": 14,
    "start_time": "2022-11-15T20:30:48.535Z"
   },
   {
    "duration": 10,
    "start_time": "2022-11-15T20:30:48.552Z"
   },
   {
    "duration": 7,
    "start_time": "2022-11-15T20:30:48.564Z"
   },
   {
    "duration": 33,
    "start_time": "2022-11-15T20:30:48.573Z"
   },
   {
    "duration": 8,
    "start_time": "2022-11-15T20:30:48.607Z"
   },
   {
    "duration": 10,
    "start_time": "2022-11-15T20:30:48.618Z"
   },
   {
    "duration": 8,
    "start_time": "2022-11-15T20:30:48.629Z"
   },
   {
    "duration": 12,
    "start_time": "2022-11-15T20:30:48.639Z"
   },
   {
    "duration": 16,
    "start_time": "2022-11-15T20:30:48.652Z"
   },
   {
    "duration": 39,
    "start_time": "2022-11-15T20:30:48.670Z"
   },
   {
    "duration": 121,
    "start_time": "2022-11-15T20:30:48.710Z"
   },
   {
    "duration": 139,
    "start_time": "2022-11-15T20:30:48.833Z"
   },
   {
    "duration": 5,
    "start_time": "2022-11-15T20:30:48.974Z"
   },
   {
    "duration": 10,
    "start_time": "2022-11-15T20:30:48.980Z"
   },
   {
    "duration": 122,
    "start_time": "2022-11-15T20:30:48.991Z"
   },
   {
    "duration": 16,
    "start_time": "2022-11-15T20:30:49.115Z"
   },
   {
    "duration": 32,
    "start_time": "2022-11-15T20:30:49.133Z"
   },
   {
    "duration": 16,
    "start_time": "2022-11-15T20:30:49.167Z"
   },
   {
    "duration": 24,
    "start_time": "2022-11-15T20:30:49.185Z"
   },
   {
    "duration": 3,
    "start_time": "2022-11-15T20:30:49.213Z"
   },
   {
    "duration": 8,
    "start_time": "2022-11-15T20:30:49.218Z"
   },
   {
    "duration": 44,
    "start_time": "2022-11-15T20:30:49.227Z"
   },
   {
    "duration": 10,
    "start_time": "2022-11-15T20:30:49.273Z"
   },
   {
    "duration": 32,
    "start_time": "2022-11-15T20:30:49.284Z"
   },
   {
    "duration": 172,
    "start_time": "2022-11-15T20:30:49.317Z"
   },
   {
    "duration": 16,
    "start_time": "2022-11-15T20:30:49.490Z"
   },
   {
    "duration": 231,
    "start_time": "2022-11-15T20:30:49.508Z"
   },
   {
    "duration": 14,
    "start_time": "2022-11-15T20:30:49.741Z"
   },
   {
    "duration": 5,
    "start_time": "2022-11-15T20:30:49.757Z"
   },
   {
    "duration": 19,
    "start_time": "2022-11-15T20:30:49.764Z"
   },
   {
    "duration": 34,
    "start_time": "2022-11-15T20:30:49.784Z"
   },
   {
    "duration": 15,
    "start_time": "2022-11-15T20:30:49.819Z"
   },
   {
    "duration": 15,
    "start_time": "2022-11-15T20:30:49.835Z"
   },
   {
    "duration": 14,
    "start_time": "2022-11-15T20:30:49.851Z"
   },
   {
    "duration": 4,
    "start_time": "2022-11-15T20:30:49.867Z"
   },
   {
    "duration": 38,
    "start_time": "2022-11-15T20:30:49.872Z"
   },
   {
    "duration": 311,
    "start_time": "2022-11-15T20:30:49.911Z"
   },
   {
    "duration": 320,
    "start_time": "2022-11-15T20:30:50.224Z"
   },
   {
    "duration": 8,
    "start_time": "2022-11-15T20:30:50.546Z"
   },
   {
    "duration": 199,
    "start_time": "2022-11-15T20:30:50.556Z"
   },
   {
    "duration": 8,
    "start_time": "2022-11-15T20:30:50.757Z"
   },
   {
    "duration": 188,
    "start_time": "2022-11-15T20:30:50.767Z"
   },
   {
    "duration": 5,
    "start_time": "2022-11-15T20:30:50.957Z"
   },
   {
    "duration": 11,
    "start_time": "2022-11-15T20:30:50.964Z"
   },
   {
    "duration": 175,
    "start_time": "2022-11-15T20:30:50.976Z"
   },
   {
    "duration": 10,
    "start_time": "2022-11-15T20:30:51.153Z"
   },
   {
    "duration": 184,
    "start_time": "2022-11-15T20:30:51.164Z"
   },
   {
    "duration": 15,
    "start_time": "2022-11-15T20:30:51.349Z"
   },
   {
    "duration": 2354,
    "start_time": "2022-11-15T20:30:51.365Z"
   },
   {
    "duration": 558,
    "start_time": "2022-11-15T20:30:53.721Z"
   },
   {
    "duration": 8,
    "start_time": "2022-11-15T20:30:54.281Z"
   },
   {
    "duration": 20,
    "start_time": "2022-11-15T20:30:54.290Z"
   },
   {
    "duration": 12,
    "start_time": "2022-11-15T20:30:54.311Z"
   },
   {
    "duration": 13,
    "start_time": "2022-11-15T20:30:54.325Z"
   },
   {
    "duration": 15,
    "start_time": "2022-11-15T20:30:54.339Z"
   },
   {
    "duration": 5,
    "start_time": "2022-11-15T20:30:54.355Z"
   },
   {
    "duration": 9,
    "start_time": "2022-11-15T20:30:54.361Z"
   },
   {
    "duration": 16,
    "start_time": "2022-11-15T20:30:54.372Z"
   },
   {
    "duration": 4,
    "start_time": "2022-11-15T20:30:54.404Z"
   },
   {
    "duration": 5,
    "start_time": "2022-11-17T14:01:41.933Z"
   },
   {
    "duration": 44,
    "start_time": "2022-11-17T17:27:15.918Z"
   },
   {
    "duration": 1636,
    "start_time": "2022-11-17T17:30:37.243Z"
   },
   {
    "duration": 85,
    "start_time": "2022-11-17T17:30:38.880Z"
   },
   {
    "duration": 12,
    "start_time": "2022-11-17T17:30:38.966Z"
   },
   {
    "duration": 18,
    "start_time": "2022-11-17T17:30:38.981Z"
   },
   {
    "duration": 5,
    "start_time": "2022-11-17T17:30:39.001Z"
   },
   {
    "duration": 6,
    "start_time": "2022-11-17T17:30:39.007Z"
   },
   {
    "duration": 11,
    "start_time": "2022-11-17T17:30:39.014Z"
   },
   {
    "duration": 13,
    "start_time": "2022-11-17T17:30:39.026Z"
   },
   {
    "duration": 10,
    "start_time": "2022-11-17T17:30:39.040Z"
   },
   {
    "duration": 13,
    "start_time": "2022-11-17T17:30:39.052Z"
   },
   {
    "duration": 9,
    "start_time": "2022-11-17T17:30:39.066Z"
   },
   {
    "duration": 9,
    "start_time": "2022-11-17T17:30:39.077Z"
   },
   {
    "duration": 7,
    "start_time": "2022-11-17T17:30:39.088Z"
   },
   {
    "duration": 7,
    "start_time": "2022-11-17T17:30:39.104Z"
   },
   {
    "duration": 22,
    "start_time": "2022-11-17T17:30:39.113Z"
   },
   {
    "duration": 16,
    "start_time": "2022-11-17T17:30:39.137Z"
   },
   {
    "duration": 39,
    "start_time": "2022-11-17T17:30:39.155Z"
   },
   {
    "duration": 21,
    "start_time": "2022-11-17T17:30:39.195Z"
   },
   {
    "duration": 132,
    "start_time": "2022-11-17T17:30:39.218Z"
   },
   {
    "duration": 149,
    "start_time": "2022-11-17T17:30:39.352Z"
   },
   {
    "duration": 4,
    "start_time": "2022-11-17T17:30:39.503Z"
   },
   {
    "duration": 53,
    "start_time": "2022-11-17T17:30:39.509Z"
   },
   {
    "duration": 153,
    "start_time": "2022-11-17T17:30:39.563Z"
   },
   {
    "duration": 14,
    "start_time": "2022-11-17T17:30:39.718Z"
   },
   {
    "duration": 31,
    "start_time": "2022-11-17T17:30:39.733Z"
   },
   {
    "duration": 21,
    "start_time": "2022-11-17T17:30:39.766Z"
   },
   {
    "duration": 44,
    "start_time": "2022-11-17T17:30:39.789Z"
   },
   {
    "duration": 29,
    "start_time": "2022-11-17T17:30:39.838Z"
   },
   {
    "duration": 24,
    "start_time": "2022-11-17T17:30:39.869Z"
   },
   {
    "duration": 68,
    "start_time": "2022-11-17T17:30:39.895Z"
   },
   {
    "duration": 12,
    "start_time": "2022-11-17T17:30:39.965Z"
   },
   {
    "duration": 29,
    "start_time": "2022-11-17T17:30:39.979Z"
   },
   {
    "duration": 184,
    "start_time": "2022-11-17T17:30:40.010Z"
   },
   {
    "duration": 17,
    "start_time": "2022-11-17T17:30:40.195Z"
   },
   {
    "duration": 240,
    "start_time": "2022-11-17T17:30:40.213Z"
   },
   {
    "duration": 15,
    "start_time": "2022-11-17T17:30:40.454Z"
   },
   {
    "duration": 16,
    "start_time": "2022-11-17T17:30:40.470Z"
   },
   {
    "duration": 33,
    "start_time": "2022-11-17T17:30:40.487Z"
   },
   {
    "duration": 19,
    "start_time": "2022-11-17T17:30:40.522Z"
   },
   {
    "duration": 39,
    "start_time": "2022-11-17T17:30:40.543Z"
   },
   {
    "duration": 16,
    "start_time": "2022-11-17T17:30:40.585Z"
   },
   {
    "duration": 16,
    "start_time": "2022-11-17T17:30:40.603Z"
   },
   {
    "duration": 24,
    "start_time": "2022-11-17T17:30:40.620Z"
   },
   {
    "duration": 19,
    "start_time": "2022-11-17T17:30:40.645Z"
   },
   {
    "duration": 302,
    "start_time": "2022-11-17T17:30:40.665Z"
   },
   {
    "duration": 346,
    "start_time": "2022-11-17T17:30:40.968Z"
   },
   {
    "duration": 9,
    "start_time": "2022-11-17T17:30:41.315Z"
   },
   {
    "duration": 199,
    "start_time": "2022-11-17T17:30:41.325Z"
   },
   {
    "duration": 8,
    "start_time": "2022-11-17T17:30:41.526Z"
   },
   {
    "duration": 222,
    "start_time": "2022-11-17T17:30:41.536Z"
   },
   {
    "duration": 5,
    "start_time": "2022-11-17T17:30:41.759Z"
   },
   {
    "duration": 33,
    "start_time": "2022-11-17T17:30:41.765Z"
   },
   {
    "duration": 193,
    "start_time": "2022-11-17T17:30:41.800Z"
   },
   {
    "duration": 18,
    "start_time": "2022-11-17T17:30:41.994Z"
   },
   {
    "duration": 193,
    "start_time": "2022-11-17T17:30:42.013Z"
   },
   {
    "duration": 15,
    "start_time": "2022-11-17T17:30:42.208Z"
   },
   {
    "duration": 2434,
    "start_time": "2022-11-17T17:30:42.224Z"
   },
   {
    "duration": 633,
    "start_time": "2022-11-17T17:30:44.659Z"
   },
   {
    "duration": 11,
    "start_time": "2022-11-17T17:30:45.294Z"
   },
   {
    "duration": 9,
    "start_time": "2022-11-17T17:30:45.306Z"
   },
   {
    "duration": 12,
    "start_time": "2022-11-17T17:30:45.316Z"
   },
   {
    "duration": 15,
    "start_time": "2022-11-17T17:30:45.329Z"
   },
   {
    "duration": 14,
    "start_time": "2022-11-17T17:30:45.345Z"
   },
   {
    "duration": 5,
    "start_time": "2022-11-17T17:30:45.361Z"
   },
   {
    "duration": 146,
    "start_time": "2022-11-17T17:30:45.367Z"
   },
   {
    "duration": 0,
    "start_time": "2022-11-17T17:30:45.515Z"
   },
   {
    "duration": 0,
    "start_time": "2022-11-17T17:30:45.516Z"
   },
   {
    "duration": 0,
    "start_time": "2022-11-17T17:30:45.517Z"
   },
   {
    "duration": 14,
    "start_time": "2022-11-17T17:31:14.644Z"
   },
   {
    "duration": 168,
    "start_time": "2022-11-17T19:08:58.757Z"
   },
   {
    "duration": 165,
    "start_time": "2022-11-17T19:12:36.249Z"
   },
   {
    "duration": 9,
    "start_time": "2022-11-17T19:15:17.038Z"
   },
   {
    "duration": 11,
    "start_time": "2022-11-17T19:15:26.145Z"
   },
   {
    "duration": 160,
    "start_time": "2022-11-17T19:15:45.381Z"
   },
   {
    "duration": 82,
    "start_time": "2022-11-17T19:19:38.207Z"
   },
   {
    "duration": 77,
    "start_time": "2022-11-17T19:20:00.222Z"
   },
   {
    "duration": 166,
    "start_time": "2022-11-17T19:20:09.612Z"
   },
   {
    "duration": 234,
    "start_time": "2022-11-17T19:20:50.995Z"
   },
   {
    "duration": 231,
    "start_time": "2022-11-17T19:21:54.516Z"
   },
   {
    "duration": 185,
    "start_time": "2022-11-17T19:22:25.681Z"
   },
   {
    "duration": 194,
    "start_time": "2022-11-17T19:22:58.534Z"
   },
   {
    "duration": 202,
    "start_time": "2022-11-17T19:23:21.437Z"
   },
   {
    "duration": 88,
    "start_time": "2022-11-17T19:28:59.954Z"
   },
   {
    "duration": 214,
    "start_time": "2022-11-17T19:29:21.793Z"
   },
   {
    "duration": 68,
    "start_time": "2022-11-17T19:41:39.336Z"
   },
   {
    "duration": 75,
    "start_time": "2022-11-17T19:41:46.935Z"
   },
   {
    "duration": 69,
    "start_time": "2022-11-17T19:42:11.817Z"
   },
   {
    "duration": 6,
    "start_time": "2022-11-17T19:42:32.641Z"
   },
   {
    "duration": 12,
    "start_time": "2022-11-17T19:43:33.817Z"
   },
   {
    "duration": 1424,
    "start_time": "2022-11-17T20:55:18.289Z"
   },
   {
    "duration": 46,
    "start_time": "2022-11-17T20:55:19.715Z"
   },
   {
    "duration": 12,
    "start_time": "2022-11-17T20:55:19.763Z"
   },
   {
    "duration": 19,
    "start_time": "2022-11-17T20:55:19.777Z"
   },
   {
    "duration": 6,
    "start_time": "2022-11-17T20:55:19.805Z"
   },
   {
    "duration": 6,
    "start_time": "2022-11-17T20:55:19.813Z"
   },
   {
    "duration": 10,
    "start_time": "2022-11-17T20:55:19.821Z"
   },
   {
    "duration": 8,
    "start_time": "2022-11-17T20:55:19.832Z"
   },
   {
    "duration": 21,
    "start_time": "2022-11-17T20:55:19.841Z"
   },
   {
    "duration": 12,
    "start_time": "2022-11-17T20:55:19.866Z"
   },
   {
    "duration": 28,
    "start_time": "2022-11-17T20:55:19.879Z"
   },
   {
    "duration": 7,
    "start_time": "2022-11-17T20:55:19.909Z"
   },
   {
    "duration": 8,
    "start_time": "2022-11-17T20:55:19.917Z"
   },
   {
    "duration": 9,
    "start_time": "2022-11-17T20:55:19.926Z"
   },
   {
    "duration": 8,
    "start_time": "2022-11-17T20:55:19.937Z"
   },
   {
    "duration": 10,
    "start_time": "2022-11-17T20:55:19.947Z"
   },
   {
    "duration": 57,
    "start_time": "2022-11-17T20:55:19.959Z"
   },
   {
    "duration": 8,
    "start_time": "2022-11-17T20:55:20.017Z"
   },
   {
    "duration": 126,
    "start_time": "2022-11-17T20:55:20.027Z"
   },
   {
    "duration": 158,
    "start_time": "2022-11-17T20:55:20.155Z"
   },
   {
    "duration": 4,
    "start_time": "2022-11-17T20:55:20.314Z"
   },
   {
    "duration": 6,
    "start_time": "2022-11-17T20:55:20.320Z"
   },
   {
    "duration": 110,
    "start_time": "2022-11-17T20:55:20.327Z"
   },
   {
    "duration": 13,
    "start_time": "2022-11-17T20:55:20.439Z"
   },
   {
    "duration": 21,
    "start_time": "2022-11-17T20:55:20.454Z"
   },
   {
    "duration": 14,
    "start_time": "2022-11-17T20:55:20.476Z"
   },
   {
    "duration": 26,
    "start_time": "2022-11-17T20:55:20.492Z"
   },
   {
    "duration": 3,
    "start_time": "2022-11-17T20:55:20.521Z"
   },
   {
    "duration": 6,
    "start_time": "2022-11-17T20:55:20.526Z"
   },
   {
    "duration": 52,
    "start_time": "2022-11-17T20:55:20.533Z"
   },
   {
    "duration": 10,
    "start_time": "2022-11-17T20:55:20.586Z"
   },
   {
    "duration": 14,
    "start_time": "2022-11-17T20:55:20.604Z"
   },
   {
    "duration": 176,
    "start_time": "2022-11-17T20:55:20.620Z"
   },
   {
    "duration": 17,
    "start_time": "2022-11-17T20:55:20.797Z"
   },
   {
    "duration": 239,
    "start_time": "2022-11-17T20:55:20.816Z"
   },
   {
    "duration": 14,
    "start_time": "2022-11-17T20:55:21.057Z"
   },
   {
    "duration": 5,
    "start_time": "2022-11-17T20:55:21.073Z"
   },
   {
    "duration": 29,
    "start_time": "2022-11-17T20:55:21.080Z"
   },
   {
    "duration": 14,
    "start_time": "2022-11-17T20:55:21.111Z"
   },
   {
    "duration": 14,
    "start_time": "2022-11-17T20:55:21.127Z"
   },
   {
    "duration": 14,
    "start_time": "2022-11-17T20:55:21.143Z"
   },
   {
    "duration": 14,
    "start_time": "2022-11-17T20:55:21.158Z"
   },
   {
    "duration": 34,
    "start_time": "2022-11-17T20:55:21.173Z"
   },
   {
    "duration": 9,
    "start_time": "2022-11-17T20:55:21.208Z"
   },
   {
    "duration": 292,
    "start_time": "2022-11-17T20:55:21.218Z"
   },
   {
    "duration": 319,
    "start_time": "2022-11-17T20:55:21.511Z"
   },
   {
    "duration": 9,
    "start_time": "2022-11-17T20:55:21.832Z"
   },
   {
    "duration": 200,
    "start_time": "2022-11-17T20:55:21.843Z"
   },
   {
    "duration": 9,
    "start_time": "2022-11-17T20:55:22.044Z"
   },
   {
    "duration": 187,
    "start_time": "2022-11-17T20:55:22.054Z"
   },
   {
    "duration": 4,
    "start_time": "2022-11-17T20:55:22.242Z"
   },
   {
    "duration": 15,
    "start_time": "2022-11-17T20:55:22.248Z"
   },
   {
    "duration": 187,
    "start_time": "2022-11-17T20:55:22.264Z"
   },
   {
    "duration": 11,
    "start_time": "2022-11-17T20:55:22.453Z"
   },
   {
    "duration": 191,
    "start_time": "2022-11-17T20:55:22.466Z"
   },
   {
    "duration": 16,
    "start_time": "2022-11-17T20:55:22.659Z"
   },
   {
    "duration": 2496,
    "start_time": "2022-11-17T20:55:22.677Z"
   },
   {
    "duration": 615,
    "start_time": "2022-11-17T20:55:25.175Z"
   },
   {
    "duration": 12,
    "start_time": "2022-11-17T20:55:25.792Z"
   },
   {
    "duration": 9,
    "start_time": "2022-11-17T20:55:25.806Z"
   },
   {
    "duration": 12,
    "start_time": "2022-11-17T20:55:25.816Z"
   },
   {
    "duration": 15,
    "start_time": "2022-11-17T20:55:25.829Z"
   },
   {
    "duration": 17,
    "start_time": "2022-11-17T20:55:25.845Z"
   },
   {
    "duration": 222,
    "start_time": "2022-11-17T20:55:25.863Z"
   },
   {
    "duration": 6,
    "start_time": "2022-11-17T20:55:26.086Z"
   },
   {
    "duration": 215,
    "start_time": "2022-11-17T20:55:26.105Z"
   },
   {
    "duration": 5,
    "start_time": "2022-11-17T20:55:26.321Z"
   },
   {
    "duration": 8,
    "start_time": "2022-11-17T20:55:26.327Z"
   },
   {
    "duration": 5,
    "start_time": "2022-11-17T20:55:26.336Z"
   },
   {
    "duration": 5,
    "start_time": "2022-11-17T20:55:26.343Z"
   },
   {
    "duration": 44,
    "start_time": "2022-11-18T09:53:34.563Z"
   },
   {
    "duration": 1499,
    "start_time": "2022-11-18T09:53:44.606Z"
   },
   {
    "duration": 199,
    "start_time": "2022-11-18T09:53:46.107Z"
   },
   {
    "duration": 13,
    "start_time": "2022-11-18T09:53:46.307Z"
   },
   {
    "duration": 21,
    "start_time": "2022-11-18T09:53:46.323Z"
   },
   {
    "duration": 5,
    "start_time": "2022-11-18T09:53:46.346Z"
   },
   {
    "duration": 8,
    "start_time": "2022-11-18T09:53:46.352Z"
   },
   {
    "duration": 7,
    "start_time": "2022-11-18T09:53:46.361Z"
   },
   {
    "duration": 32,
    "start_time": "2022-11-18T09:53:46.369Z"
   },
   {
    "duration": 10,
    "start_time": "2022-11-18T09:53:46.402Z"
   },
   {
    "duration": 9,
    "start_time": "2022-11-18T09:53:46.414Z"
   },
   {
    "duration": 5,
    "start_time": "2022-11-18T09:53:46.424Z"
   },
   {
    "duration": 5,
    "start_time": "2022-11-18T09:53:46.431Z"
   },
   {
    "duration": 7,
    "start_time": "2022-11-18T09:53:46.438Z"
   },
   {
    "duration": 9,
    "start_time": "2022-11-18T09:53:46.446Z"
   },
   {
    "duration": 48,
    "start_time": "2022-11-18T09:53:46.456Z"
   },
   {
    "duration": 10,
    "start_time": "2022-11-18T09:53:46.505Z"
   },
   {
    "duration": 16,
    "start_time": "2022-11-18T09:53:46.516Z"
   },
   {
    "duration": 7,
    "start_time": "2022-11-18T09:53:46.534Z"
   },
   {
    "duration": 145,
    "start_time": "2022-11-18T09:53:46.542Z"
   },
   {
    "duration": 141,
    "start_time": "2022-11-18T09:53:46.689Z"
   },
   {
    "duration": 5,
    "start_time": "2022-11-18T09:53:46.832Z"
   },
   {
    "duration": 6,
    "start_time": "2022-11-18T09:53:46.838Z"
   },
   {
    "duration": 96,
    "start_time": "2022-11-18T09:53:46.845Z"
   },
   {
    "duration": 15,
    "start_time": "2022-11-18T09:53:46.942Z"
   },
   {
    "duration": 39,
    "start_time": "2022-11-18T09:53:46.959Z"
   },
   {
    "duration": 21,
    "start_time": "2022-11-18T09:53:47.000Z"
   },
   {
    "duration": 16,
    "start_time": "2022-11-18T09:53:47.023Z"
   },
   {
    "duration": 4,
    "start_time": "2022-11-18T09:53:47.043Z"
   },
   {
    "duration": 12,
    "start_time": "2022-11-18T09:53:47.048Z"
   },
   {
    "duration": 66,
    "start_time": "2022-11-18T09:53:47.061Z"
   },
   {
    "duration": 11,
    "start_time": "2022-11-18T09:53:47.128Z"
   },
   {
    "duration": 14,
    "start_time": "2022-11-18T09:53:47.141Z"
   },
   {
    "duration": 180,
    "start_time": "2022-11-18T09:53:47.156Z"
   },
   {
    "duration": 14,
    "start_time": "2022-11-18T09:53:47.338Z"
   },
   {
    "duration": 239,
    "start_time": "2022-11-18T09:53:47.353Z"
   },
   {
    "duration": 18,
    "start_time": "2022-11-18T09:53:47.596Z"
   },
   {
    "duration": 6,
    "start_time": "2022-11-18T09:53:47.615Z"
   },
   {
    "duration": 19,
    "start_time": "2022-11-18T09:53:47.623Z"
   },
   {
    "duration": 14,
    "start_time": "2022-11-18T09:53:47.643Z"
   },
   {
    "duration": 39,
    "start_time": "2022-11-18T09:53:47.659Z"
   },
   {
    "duration": 16,
    "start_time": "2022-11-18T09:53:47.700Z"
   },
   {
    "duration": 16,
    "start_time": "2022-11-18T09:53:47.718Z"
   },
   {
    "duration": 11,
    "start_time": "2022-11-18T09:53:47.735Z"
   },
   {
    "duration": 12,
    "start_time": "2022-11-18T09:53:47.748Z"
   },
   {
    "duration": 308,
    "start_time": "2022-11-18T09:53:47.761Z"
   },
   {
    "duration": 311,
    "start_time": "2022-11-18T09:53:48.070Z"
   },
   {
    "duration": 19,
    "start_time": "2022-11-18T09:53:48.383Z"
   },
   {
    "duration": 183,
    "start_time": "2022-11-18T09:53:48.404Z"
   },
   {
    "duration": 15,
    "start_time": "2022-11-18T09:53:48.589Z"
   },
   {
    "duration": 198,
    "start_time": "2022-11-18T09:53:48.606Z"
   },
   {
    "duration": 5,
    "start_time": "2022-11-18T09:53:48.806Z"
   },
   {
    "duration": 14,
    "start_time": "2022-11-18T09:53:48.812Z"
   },
   {
    "duration": 175,
    "start_time": "2022-11-18T09:53:48.827Z"
   },
   {
    "duration": 11,
    "start_time": "2022-11-18T09:53:49.004Z"
   },
   {
    "duration": 195,
    "start_time": "2022-11-18T09:53:49.016Z"
   },
   {
    "duration": 18,
    "start_time": "2022-11-18T09:53:49.212Z"
   },
   {
    "duration": 2397,
    "start_time": "2022-11-18T09:53:49.231Z"
   },
   {
    "duration": 592,
    "start_time": "2022-11-18T09:53:51.630Z"
   },
   {
    "duration": 7,
    "start_time": "2022-11-18T09:53:52.224Z"
   },
   {
    "duration": 42,
    "start_time": "2022-11-18T09:53:52.232Z"
   },
   {
    "duration": 28,
    "start_time": "2022-11-18T09:53:52.275Z"
   },
   {
    "duration": 31,
    "start_time": "2022-11-18T09:53:52.305Z"
   },
   {
    "duration": 34,
    "start_time": "2022-11-18T09:53:52.338Z"
   },
   {
    "duration": 197,
    "start_time": "2022-11-18T09:53:52.374Z"
   },
   {
    "duration": 6,
    "start_time": "2022-11-18T09:53:52.573Z"
   },
   {
    "duration": 228,
    "start_time": "2022-11-18T09:53:52.581Z"
   },
   {
    "duration": 4,
    "start_time": "2022-11-18T09:53:52.811Z"
   },
   {
    "duration": 30,
    "start_time": "2022-11-18T09:53:52.817Z"
   },
   {
    "duration": 17,
    "start_time": "2022-11-18T09:53:52.849Z"
   },
   {
    "duration": 17,
    "start_time": "2022-11-18T09:53:52.867Z"
   },
   {
    "duration": 31,
    "start_time": "2022-11-18T09:53:52.885Z"
   },
   {
    "duration": 130,
    "start_time": "2022-11-18T09:55:04.817Z"
   },
   {
    "duration": 11,
    "start_time": "2022-11-18T09:55:20.565Z"
   },
   {
    "duration": 14,
    "start_time": "2022-11-18T09:57:44.690Z"
   },
   {
    "duration": 11,
    "start_time": "2022-11-18T09:58:38.094Z"
   },
   {
    "duration": 13,
    "start_time": "2022-11-18T10:02:26.720Z"
   },
   {
    "duration": 10,
    "start_time": "2022-11-18T10:04:04.470Z"
   },
   {
    "duration": 16,
    "start_time": "2022-11-18T10:14:20.242Z"
   },
   {
    "duration": 4,
    "start_time": "2022-11-18T10:16:02.978Z"
   },
   {
    "duration": 10,
    "start_time": "2022-11-18T10:16:21.623Z"
   },
   {
    "duration": 13,
    "start_time": "2022-11-18T10:17:06.021Z"
   },
   {
    "duration": 6,
    "start_time": "2022-11-18T10:17:21.301Z"
   },
   {
    "duration": 398,
    "start_time": "2022-11-18T10:17:56.295Z"
   },
   {
    "duration": 7,
    "start_time": "2022-11-18T10:23:57.422Z"
   },
   {
    "duration": 332,
    "start_time": "2022-11-18T10:26:56.778Z"
   },
   {
    "duration": 13,
    "start_time": "2022-11-18T10:28:19.000Z"
   },
   {
    "duration": 66324,
    "start_time": "2022-11-18T10:35:23.452Z"
   },
   {
    "duration": 69111,
    "start_time": "2022-11-18T10:36:29.778Z"
   },
   {
    "duration": 320,
    "start_time": "2022-11-18T10:38:46.690Z"
   },
   {
    "duration": 311,
    "start_time": "2022-11-18T10:38:49.776Z"
   },
   {
    "duration": 284,
    "start_time": "2022-11-18T10:41:16.638Z"
   },
   {
    "duration": 278,
    "start_time": "2022-11-18T10:41:16.924Z"
   },
   {
    "duration": 320,
    "start_time": "2022-11-18T10:41:32.819Z"
   },
   {
    "duration": 11,
    "start_time": "2022-11-18T10:50:28.892Z"
   },
   {
    "duration": 7,
    "start_time": "2022-11-18T11:22:02.101Z"
   },
   {
    "duration": 16,
    "start_time": "2022-11-18T11:23:01.288Z"
   },
   {
    "duration": 16,
    "start_time": "2022-11-18T11:23:09.779Z"
   },
   {
    "duration": 217,
    "start_time": "2022-11-18T11:25:13.429Z"
   },
   {
    "duration": 203,
    "start_time": "2022-11-18T11:26:58.413Z"
   },
   {
    "duration": 8661,
    "start_time": "2022-11-18T11:28:09.081Z"
   },
   {
    "duration": 8803,
    "start_time": "2022-11-18T11:29:08.349Z"
   },
   {
    "duration": 184,
    "start_time": "2022-11-18T11:31:29.620Z"
   },
   {
    "duration": 5,
    "start_time": "2022-11-18T11:50:47.377Z"
   },
   {
    "duration": 5,
    "start_time": "2022-11-18T11:54:16.069Z"
   },
   {
    "duration": 38,
    "start_time": "2022-11-18T11:55:17.183Z"
   },
   {
    "duration": 47,
    "start_time": "2022-11-18T11:57:45.057Z"
   },
   {
    "duration": 63,
    "start_time": "2022-11-18T11:59:09.341Z"
   },
   {
    "duration": 48,
    "start_time": "2022-11-18T12:04:30.807Z"
   },
   {
    "duration": 13,
    "start_time": "2022-11-18T12:05:32.530Z"
   },
   {
    "duration": 13,
    "start_time": "2022-11-18T12:05:48.053Z"
   },
   {
    "duration": 7,
    "start_time": "2022-11-18T12:10:01.826Z"
   },
   {
    "duration": 309,
    "start_time": "2022-11-18T12:11:20.926Z"
   },
   {
    "duration": 308,
    "start_time": "2022-11-18T12:11:46.655Z"
   },
   {
    "duration": 7,
    "start_time": "2022-11-18T12:13:05.911Z"
   },
   {
    "duration": 49,
    "start_time": "2022-11-18T12:14:17.643Z"
   },
   {
    "duration": 7,
    "start_time": "2022-11-18T12:14:27.324Z"
   },
   {
    "duration": 11,
    "start_time": "2022-11-18T12:14:49.031Z"
   },
   {
    "duration": 12,
    "start_time": "2022-11-18T12:15:03.026Z"
   },
   {
    "duration": 7,
    "start_time": "2022-11-18T12:15:41.063Z"
   },
   {
    "duration": 11,
    "start_time": "2022-11-18T12:15:43.456Z"
   },
   {
    "duration": 7,
    "start_time": "2022-11-18T12:15:59.274Z"
   },
   {
    "duration": 12,
    "start_time": "2022-11-18T12:16:13.634Z"
   },
   {
    "duration": 10,
    "start_time": "2022-11-18T12:16:47.071Z"
   },
   {
    "duration": 11,
    "start_time": "2022-11-18T12:17:17.340Z"
   },
   {
    "duration": 1354,
    "start_time": "2022-11-18T12:17:34.906Z"
   },
   {
    "duration": 65,
    "start_time": "2022-11-18T12:17:36.261Z"
   },
   {
    "duration": 11,
    "start_time": "2022-11-18T12:17:36.328Z"
   },
   {
    "duration": 19,
    "start_time": "2022-11-18T12:17:36.341Z"
   },
   {
    "duration": 23,
    "start_time": "2022-11-18T12:17:36.361Z"
   },
   {
    "duration": 14,
    "start_time": "2022-11-18T12:17:36.386Z"
   },
   {
    "duration": 20,
    "start_time": "2022-11-18T12:17:36.401Z"
   },
   {
    "duration": 12,
    "start_time": "2022-11-18T12:17:36.422Z"
   },
   {
    "duration": 15,
    "start_time": "2022-11-18T12:17:36.436Z"
   },
   {
    "duration": 28,
    "start_time": "2022-11-18T12:17:36.453Z"
   },
   {
    "duration": 11,
    "start_time": "2022-11-18T12:17:36.482Z"
   },
   {
    "duration": 9,
    "start_time": "2022-11-18T12:17:36.494Z"
   },
   {
    "duration": 9,
    "start_time": "2022-11-18T12:17:36.504Z"
   },
   {
    "duration": 10,
    "start_time": "2022-11-18T12:17:36.514Z"
   },
   {
    "duration": 8,
    "start_time": "2022-11-18T12:17:36.525Z"
   },
   {
    "duration": 11,
    "start_time": "2022-11-18T12:17:36.534Z"
   },
   {
    "duration": 15,
    "start_time": "2022-11-18T12:17:36.546Z"
   },
   {
    "duration": 7,
    "start_time": "2022-11-18T12:17:36.563Z"
   },
   {
    "duration": 120,
    "start_time": "2022-11-18T12:17:36.597Z"
   },
   {
    "duration": 154,
    "start_time": "2022-11-18T12:17:36.718Z"
   },
   {
    "duration": 5,
    "start_time": "2022-11-18T12:17:36.873Z"
   },
   {
    "duration": 17,
    "start_time": "2022-11-18T12:17:36.880Z"
   },
   {
    "duration": 115,
    "start_time": "2022-11-18T12:17:36.898Z"
   },
   {
    "duration": 19,
    "start_time": "2022-11-18T12:17:37.015Z"
   },
   {
    "duration": 15,
    "start_time": "2022-11-18T12:17:37.035Z"
   },
   {
    "duration": 14,
    "start_time": "2022-11-18T12:17:37.052Z"
   },
   {
    "duration": 18,
    "start_time": "2022-11-18T12:17:37.067Z"
   },
   {
    "duration": 4,
    "start_time": "2022-11-18T12:17:37.098Z"
   },
   {
    "duration": 8,
    "start_time": "2022-11-18T12:17:37.103Z"
   },
   {
    "duration": 44,
    "start_time": "2022-11-18T12:17:37.112Z"
   },
   {
    "duration": 10,
    "start_time": "2022-11-18T12:17:37.158Z"
   },
   {
    "duration": 36,
    "start_time": "2022-11-18T12:17:37.170Z"
   },
   {
    "duration": 179,
    "start_time": "2022-11-18T12:17:37.207Z"
   },
   {
    "duration": 22,
    "start_time": "2022-11-18T12:17:37.387Z"
   },
   {
    "duration": 249,
    "start_time": "2022-11-18T12:17:37.410Z"
   },
   {
    "duration": 14,
    "start_time": "2022-11-18T12:17:37.661Z"
   },
   {
    "duration": 5,
    "start_time": "2022-11-18T12:17:37.677Z"
   },
   {
    "duration": 27,
    "start_time": "2022-11-18T12:17:37.684Z"
   },
   {
    "duration": 42,
    "start_time": "2022-11-18T12:17:37.713Z"
   },
   {
    "duration": 14,
    "start_time": "2022-11-18T12:17:37.756Z"
   },
   {
    "duration": 16,
    "start_time": "2022-11-18T12:17:37.771Z"
   },
   {
    "duration": 20,
    "start_time": "2022-11-18T12:17:37.788Z"
   },
   {
    "duration": 5,
    "start_time": "2022-11-18T12:17:37.810Z"
   },
   {
    "duration": 13,
    "start_time": "2022-11-18T12:17:37.817Z"
   },
   {
    "duration": 319,
    "start_time": "2022-11-18T12:17:37.831Z"
   },
   {
    "duration": 314,
    "start_time": "2022-11-18T12:17:38.151Z"
   },
   {
    "duration": 9,
    "start_time": "2022-11-18T12:17:38.467Z"
   },
   {
    "duration": 196,
    "start_time": "2022-11-18T12:17:38.478Z"
   },
   {
    "duration": 8,
    "start_time": "2022-11-18T12:17:38.676Z"
   },
   {
    "duration": 177,
    "start_time": "2022-11-18T12:17:38.698Z"
   },
   {
    "duration": 4,
    "start_time": "2022-11-18T12:17:38.877Z"
   },
   {
    "duration": 18,
    "start_time": "2022-11-18T12:17:38.882Z"
   },
   {
    "duration": 175,
    "start_time": "2022-11-18T12:17:38.902Z"
   },
   {
    "duration": 10,
    "start_time": "2022-11-18T12:17:39.078Z"
   },
   {
    "duration": 178,
    "start_time": "2022-11-18T12:17:39.096Z"
   },
   {
    "duration": 22,
    "start_time": "2022-11-18T12:17:39.275Z"
   },
   {
    "duration": 2314,
    "start_time": "2022-11-18T12:17:39.298Z"
   },
   {
    "duration": 566,
    "start_time": "2022-11-18T12:17:41.614Z"
   },
   {
    "duration": 6,
    "start_time": "2022-11-18T12:17:42.182Z"
   },
   {
    "duration": 19,
    "start_time": "2022-11-18T12:17:42.197Z"
   },
   {
    "duration": 12,
    "start_time": "2022-11-18T12:17:42.217Z"
   },
   {
    "duration": 15,
    "start_time": "2022-11-18T12:17:42.230Z"
   },
   {
    "duration": 14,
    "start_time": "2022-11-18T12:17:42.247Z"
   },
   {
    "duration": 215,
    "start_time": "2022-11-18T12:17:42.262Z"
   },
   {
    "duration": 7,
    "start_time": "2022-11-18T12:17:42.479Z"
   },
   {
    "duration": 199,
    "start_time": "2022-11-18T12:17:42.498Z"
   },
   {
    "duration": 7,
    "start_time": "2022-11-18T12:17:42.699Z"
   },
   {
    "duration": 391,
    "start_time": "2022-11-18T12:17:42.707Z"
   },
   {
    "duration": 12,
    "start_time": "2022-11-18T12:17:43.100Z"
   },
   {
    "duration": 130,
    "start_time": "2022-11-18T12:17:43.113Z"
   },
   {
    "duration": 0,
    "start_time": "2022-11-18T12:17:43.245Z"
   },
   {
    "duration": 0,
    "start_time": "2022-11-18T12:17:43.246Z"
   },
   {
    "duration": 0,
    "start_time": "2022-11-18T12:17:43.248Z"
   },
   {
    "duration": 0,
    "start_time": "2022-11-18T12:17:43.249Z"
   },
   {
    "duration": 0,
    "start_time": "2022-11-18T12:17:43.251Z"
   },
   {
    "duration": 0,
    "start_time": "2022-11-18T12:17:43.252Z"
   },
   {
    "duration": 0,
    "start_time": "2022-11-18T12:17:43.253Z"
   },
   {
    "duration": 0,
    "start_time": "2022-11-18T12:17:43.254Z"
   },
   {
    "duration": 13,
    "start_time": "2022-11-18T12:19:14.658Z"
   },
   {
    "duration": 12,
    "start_time": "2022-11-18T12:19:26.117Z"
   },
   {
    "duration": 12,
    "start_time": "2022-11-18T12:20:03.284Z"
   },
   {
    "duration": 1366,
    "start_time": "2022-11-18T12:21:15.701Z"
   },
   {
    "duration": 52,
    "start_time": "2022-11-18T12:21:17.069Z"
   },
   {
    "duration": 12,
    "start_time": "2022-11-18T12:21:17.122Z"
   },
   {
    "duration": 22,
    "start_time": "2022-11-18T12:21:17.136Z"
   },
   {
    "duration": 6,
    "start_time": "2022-11-18T12:21:17.160Z"
   },
   {
    "duration": 12,
    "start_time": "2022-11-18T12:21:17.167Z"
   },
   {
    "duration": 7,
    "start_time": "2022-11-18T12:21:17.198Z"
   },
   {
    "duration": 9,
    "start_time": "2022-11-18T12:21:17.207Z"
   },
   {
    "duration": 15,
    "start_time": "2022-11-18T12:21:17.218Z"
   },
   {
    "duration": 9,
    "start_time": "2022-11-18T12:21:17.236Z"
   },
   {
    "duration": 6,
    "start_time": "2022-11-18T12:21:17.247Z"
   },
   {
    "duration": 11,
    "start_time": "2022-11-18T12:21:17.254Z"
   },
   {
    "duration": 11,
    "start_time": "2022-11-18T12:21:17.267Z"
   },
   {
    "duration": 24,
    "start_time": "2022-11-18T12:21:17.279Z"
   },
   {
    "duration": 8,
    "start_time": "2022-11-18T12:21:17.305Z"
   },
   {
    "duration": 10,
    "start_time": "2022-11-18T12:21:17.314Z"
   },
   {
    "duration": 14,
    "start_time": "2022-11-18T12:21:17.326Z"
   },
   {
    "duration": 7,
    "start_time": "2022-11-18T12:21:17.341Z"
   },
   {
    "duration": 141,
    "start_time": "2022-11-18T12:21:17.349Z"
   },
   {
    "duration": 146,
    "start_time": "2022-11-18T12:21:17.492Z"
   },
   {
    "duration": 4,
    "start_time": "2022-11-18T12:21:17.640Z"
   },
   {
    "duration": 8,
    "start_time": "2022-11-18T12:21:17.646Z"
   },
   {
    "duration": 118,
    "start_time": "2022-11-18T12:21:17.655Z"
   },
   {
    "duration": 15,
    "start_time": "2022-11-18T12:21:17.774Z"
   },
   {
    "duration": 17,
    "start_time": "2022-11-18T12:21:17.791Z"
   },
   {
    "duration": 15,
    "start_time": "2022-11-18T12:21:17.809Z"
   },
   {
    "duration": 19,
    "start_time": "2022-11-18T12:21:17.826Z"
   },
   {
    "duration": 4,
    "start_time": "2022-11-18T12:21:17.849Z"
   },
   {
    "duration": 7,
    "start_time": "2022-11-18T12:21:17.855Z"
   },
   {
    "duration": 69,
    "start_time": "2022-11-18T12:21:17.864Z"
   },
   {
    "duration": 13,
    "start_time": "2022-11-18T12:21:17.935Z"
   },
   {
    "duration": 25,
    "start_time": "2022-11-18T12:21:17.949Z"
   },
   {
    "duration": 205,
    "start_time": "2022-11-18T12:21:17.975Z"
   },
   {
    "duration": 20,
    "start_time": "2022-11-18T12:21:18.182Z"
   },
   {
    "duration": 252,
    "start_time": "2022-11-18T12:21:18.203Z"
   },
   {
    "duration": 16,
    "start_time": "2022-11-18T12:21:18.456Z"
   },
   {
    "duration": 9,
    "start_time": "2022-11-18T12:21:18.473Z"
   },
   {
    "duration": 25,
    "start_time": "2022-11-18T12:21:18.483Z"
   },
   {
    "duration": 16,
    "start_time": "2022-11-18T12:21:18.509Z"
   },
   {
    "duration": 16,
    "start_time": "2022-11-18T12:21:18.526Z"
   },
   {
    "duration": 16,
    "start_time": "2022-11-18T12:21:18.544Z"
   },
   {
    "duration": 45,
    "start_time": "2022-11-18T12:21:18.562Z"
   },
   {
    "duration": 5,
    "start_time": "2022-11-18T12:21:18.609Z"
   },
   {
    "duration": 11,
    "start_time": "2022-11-18T12:21:18.616Z"
   },
   {
    "duration": 332,
    "start_time": "2022-11-18T12:21:18.629Z"
   },
   {
    "duration": 375,
    "start_time": "2022-11-18T12:21:18.963Z"
   },
   {
    "duration": 9,
    "start_time": "2022-11-18T12:21:19.340Z"
   },
   {
    "duration": 205,
    "start_time": "2022-11-18T12:21:19.351Z"
   },
   {
    "duration": 9,
    "start_time": "2022-11-18T12:21:19.558Z"
   },
   {
    "duration": 197,
    "start_time": "2022-11-18T12:21:19.569Z"
   },
   {
    "duration": 5,
    "start_time": "2022-11-18T12:21:19.767Z"
   },
   {
    "duration": 23,
    "start_time": "2022-11-18T12:21:19.774Z"
   },
   {
    "duration": 191,
    "start_time": "2022-11-18T12:21:19.799Z"
   },
   {
    "duration": 17,
    "start_time": "2022-11-18T12:21:19.992Z"
   },
   {
    "duration": 223,
    "start_time": "2022-11-18T12:21:20.011Z"
   },
   {
    "duration": 16,
    "start_time": "2022-11-18T12:21:20.236Z"
   },
   {
    "duration": 2420,
    "start_time": "2022-11-18T12:21:20.254Z"
   },
   {
    "duration": 601,
    "start_time": "2022-11-18T12:21:22.675Z"
   },
   {
    "duration": 7,
    "start_time": "2022-11-18T12:21:23.278Z"
   },
   {
    "duration": 14,
    "start_time": "2022-11-18T12:21:23.286Z"
   },
   {
    "duration": 13,
    "start_time": "2022-11-18T12:21:23.302Z"
   },
   {
    "duration": 20,
    "start_time": "2022-11-18T12:21:23.316Z"
   },
   {
    "duration": 14,
    "start_time": "2022-11-18T12:21:23.337Z"
   },
   {
    "duration": 209,
    "start_time": "2022-11-18T12:21:23.353Z"
   },
   {
    "duration": 6,
    "start_time": "2022-11-18T12:21:23.564Z"
   },
   {
    "duration": 246,
    "start_time": "2022-11-18T12:21:23.571Z"
   },
   {
    "duration": 7,
    "start_time": "2022-11-18T12:21:23.819Z"
   },
   {
    "duration": 406,
    "start_time": "2022-11-18T12:21:23.827Z"
   },
   {
    "duration": 11,
    "start_time": "2022-11-18T12:21:24.235Z"
   },
   {
    "duration": 350,
    "start_time": "2022-11-18T12:21:24.248Z"
   },
   {
    "duration": 7,
    "start_time": "2022-11-18T12:21:24.600Z"
   },
   {
    "duration": 263,
    "start_time": "2022-11-18T12:21:24.609Z"
   },
   {
    "duration": 5,
    "start_time": "2022-11-18T12:21:24.874Z"
   },
   {
    "duration": 37,
    "start_time": "2022-11-18T12:21:24.881Z"
   },
   {
    "duration": 15,
    "start_time": "2022-11-18T12:21:24.921Z"
   },
   {
    "duration": 8,
    "start_time": "2022-11-18T12:21:24.937Z"
   },
   {
    "duration": 10,
    "start_time": "2022-11-18T12:22:26.353Z"
   },
   {
    "duration": 388,
    "start_time": "2022-11-18T12:22:34.576Z"
   },
   {
    "duration": 11,
    "start_time": "2022-11-18T12:23:15.178Z"
   },
   {
    "duration": 321,
    "start_time": "2022-11-18T12:23:19.581Z"
   },
   {
    "duration": 12,
    "start_time": "2022-11-18T12:23:54.170Z"
   },
   {
    "duration": 304,
    "start_time": "2022-11-18T12:23:57.316Z"
   },
   {
    "duration": 189,
    "start_time": "2022-11-18T12:24:16.865Z"
   },
   {
    "duration": 5,
    "start_time": "2022-11-18T12:24:20.371Z"
   },
   {
    "duration": 1392,
    "start_time": "2022-11-18T12:24:43.193Z"
   },
   {
    "duration": 61,
    "start_time": "2022-11-18T12:24:44.587Z"
   },
   {
    "duration": 17,
    "start_time": "2022-11-18T12:24:44.650Z"
   },
   {
    "duration": 26,
    "start_time": "2022-11-18T12:24:44.669Z"
   },
   {
    "duration": 8,
    "start_time": "2022-11-18T12:24:44.697Z"
   },
   {
    "duration": 15,
    "start_time": "2022-11-18T12:24:44.706Z"
   },
   {
    "duration": 17,
    "start_time": "2022-11-18T12:24:44.723Z"
   },
   {
    "duration": 13,
    "start_time": "2022-11-18T12:24:44.742Z"
   },
   {
    "duration": 22,
    "start_time": "2022-11-18T12:24:44.757Z"
   },
   {
    "duration": 11,
    "start_time": "2022-11-18T12:24:44.798Z"
   },
   {
    "duration": 15,
    "start_time": "2022-11-18T12:24:44.811Z"
   },
   {
    "duration": 9,
    "start_time": "2022-11-18T12:24:44.828Z"
   },
   {
    "duration": 10,
    "start_time": "2022-11-18T12:24:44.839Z"
   },
   {
    "duration": 9,
    "start_time": "2022-11-18T12:24:44.850Z"
   },
   {
    "duration": 9,
    "start_time": "2022-11-18T12:24:44.860Z"
   },
   {
    "duration": 31,
    "start_time": "2022-11-18T12:24:44.871Z"
   },
   {
    "duration": 19,
    "start_time": "2022-11-18T12:24:44.904Z"
   },
   {
    "duration": 9,
    "start_time": "2022-11-18T12:24:44.925Z"
   },
   {
    "duration": 141,
    "start_time": "2022-11-18T12:24:44.935Z"
   },
   {
    "duration": 166,
    "start_time": "2022-11-18T12:24:45.078Z"
   },
   {
    "duration": 6,
    "start_time": "2022-11-18T12:24:45.246Z"
   },
   {
    "duration": 6,
    "start_time": "2022-11-18T12:24:45.253Z"
   },
   {
    "duration": 96,
    "start_time": "2022-11-18T12:24:45.260Z"
   },
   {
    "duration": 16,
    "start_time": "2022-11-18T12:24:45.358Z"
   },
   {
    "duration": 18,
    "start_time": "2022-11-18T12:24:45.376Z"
   },
   {
    "duration": 17,
    "start_time": "2022-11-18T12:24:45.396Z"
   },
   {
    "duration": 21,
    "start_time": "2022-11-18T12:24:45.415Z"
   },
   {
    "duration": 4,
    "start_time": "2022-11-18T12:24:45.439Z"
   },
   {
    "duration": 8,
    "start_time": "2022-11-18T12:24:45.444Z"
   },
   {
    "duration": 67,
    "start_time": "2022-11-18T12:24:45.453Z"
   },
   {
    "duration": 11,
    "start_time": "2022-11-18T12:24:45.521Z"
   },
   {
    "duration": 17,
    "start_time": "2022-11-18T12:24:45.533Z"
   },
   {
    "duration": 204,
    "start_time": "2022-11-18T12:24:45.551Z"
   },
   {
    "duration": 13,
    "start_time": "2022-11-18T12:24:45.756Z"
   },
   {
    "duration": 266,
    "start_time": "2022-11-18T12:24:45.771Z"
   },
   {
    "duration": 17,
    "start_time": "2022-11-18T12:24:46.039Z"
   },
   {
    "duration": 28,
    "start_time": "2022-11-18T12:24:46.058Z"
   },
   {
    "duration": 26,
    "start_time": "2022-11-18T12:24:46.087Z"
   },
   {
    "duration": 21,
    "start_time": "2022-11-18T12:24:46.115Z"
   },
   {
    "duration": 48,
    "start_time": "2022-11-18T12:24:46.139Z"
   },
   {
    "duration": 26,
    "start_time": "2022-11-18T12:24:46.189Z"
   },
   {
    "duration": 27,
    "start_time": "2022-11-18T12:24:46.217Z"
   },
   {
    "duration": 18,
    "start_time": "2022-11-18T12:24:46.246Z"
   },
   {
    "duration": 20,
    "start_time": "2022-11-18T12:24:46.265Z"
   },
   {
    "duration": 325,
    "start_time": "2022-11-18T12:24:46.287Z"
   },
   {
    "duration": 348,
    "start_time": "2022-11-18T12:24:46.614Z"
   },
   {
    "duration": 9,
    "start_time": "2022-11-18T12:24:46.964Z"
   },
   {
    "duration": 212,
    "start_time": "2022-11-18T12:24:46.975Z"
   },
   {
    "duration": 13,
    "start_time": "2022-11-18T12:24:47.188Z"
   },
   {
    "duration": 198,
    "start_time": "2022-11-18T12:24:47.203Z"
   },
   {
    "duration": 5,
    "start_time": "2022-11-18T12:24:47.402Z"
   },
   {
    "duration": 11,
    "start_time": "2022-11-18T12:24:47.408Z"
   },
   {
    "duration": 205,
    "start_time": "2022-11-18T12:24:47.421Z"
   },
   {
    "duration": 11,
    "start_time": "2022-11-18T12:24:47.627Z"
   },
   {
    "duration": 201,
    "start_time": "2022-11-18T12:24:47.640Z"
   },
   {
    "duration": 15,
    "start_time": "2022-11-18T12:24:47.843Z"
   },
   {
    "duration": 2428,
    "start_time": "2022-11-18T12:24:47.859Z"
   },
   {
    "duration": 574,
    "start_time": "2022-11-18T12:24:50.288Z"
   },
   {
    "duration": 8,
    "start_time": "2022-11-18T12:24:50.863Z"
   },
   {
    "duration": 24,
    "start_time": "2022-11-18T12:24:50.872Z"
   },
   {
    "duration": 35,
    "start_time": "2022-11-18T12:24:50.898Z"
   },
   {
    "duration": 18,
    "start_time": "2022-11-18T12:24:50.934Z"
   },
   {
    "duration": 17,
    "start_time": "2022-11-18T12:24:50.953Z"
   },
   {
    "duration": 190,
    "start_time": "2022-11-18T12:24:50.971Z"
   },
   {
    "duration": 7,
    "start_time": "2022-11-18T12:24:51.162Z"
   },
   {
    "duration": 243,
    "start_time": "2022-11-18T12:24:51.171Z"
   },
   {
    "duration": 7,
    "start_time": "2022-11-18T12:24:51.416Z"
   },
   {
    "duration": 391,
    "start_time": "2022-11-18T12:24:51.425Z"
   },
   {
    "duration": 11,
    "start_time": "2022-11-18T12:24:51.818Z"
   },
   {
    "duration": 338,
    "start_time": "2022-11-18T12:24:51.830Z"
   },
   {
    "duration": 7,
    "start_time": "2022-11-18T12:24:52.169Z"
   },
   {
    "duration": 245,
    "start_time": "2022-11-18T12:24:52.177Z"
   },
   {
    "duration": 5,
    "start_time": "2022-11-18T12:24:52.424Z"
   },
   {
    "duration": 22,
    "start_time": "2022-11-18T12:24:52.430Z"
   },
   {
    "duration": 10,
    "start_time": "2022-11-18T12:24:52.454Z"
   },
   {
    "duration": 10,
    "start_time": "2022-11-18T12:24:52.466Z"
   },
   {
    "duration": 6,
    "start_time": "2022-11-18T12:25:48.941Z"
   },
   {
    "duration": 348,
    "start_time": "2022-11-18T12:25:51.913Z"
   },
   {
    "duration": 1379,
    "start_time": "2022-11-18T12:26:52.561Z"
   },
   {
    "duration": 54,
    "start_time": "2022-11-18T12:26:53.942Z"
   },
   {
    "duration": 12,
    "start_time": "2022-11-18T12:26:53.998Z"
   },
   {
    "duration": 22,
    "start_time": "2022-11-18T12:26:54.012Z"
   },
   {
    "duration": 5,
    "start_time": "2022-11-18T12:26:54.036Z"
   },
   {
    "duration": 9,
    "start_time": "2022-11-18T12:26:54.043Z"
   },
   {
    "duration": 7,
    "start_time": "2022-11-18T12:26:54.054Z"
   },
   {
    "duration": 6,
    "start_time": "2022-11-18T12:26:54.063Z"
   },
   {
    "duration": 35,
    "start_time": "2022-11-18T12:26:54.070Z"
   },
   {
    "duration": 9,
    "start_time": "2022-11-18T12:26:54.107Z"
   },
   {
    "duration": 5,
    "start_time": "2022-11-18T12:26:54.118Z"
   },
   {
    "duration": 5,
    "start_time": "2022-11-18T12:26:54.124Z"
   },
   {
    "duration": 7,
    "start_time": "2022-11-18T12:26:54.130Z"
   },
   {
    "duration": 14,
    "start_time": "2022-11-18T12:26:54.138Z"
   },
   {
    "duration": 8,
    "start_time": "2022-11-18T12:26:54.154Z"
   },
   {
    "duration": 35,
    "start_time": "2022-11-18T12:26:54.163Z"
   },
   {
    "duration": 17,
    "start_time": "2022-11-18T12:26:54.199Z"
   },
   {
    "duration": 7,
    "start_time": "2022-11-18T12:26:54.217Z"
   },
   {
    "duration": 124,
    "start_time": "2022-11-18T12:26:54.225Z"
   },
   {
    "duration": 140,
    "start_time": "2022-11-18T12:26:54.351Z"
   },
   {
    "duration": 4,
    "start_time": "2022-11-18T12:26:54.497Z"
   },
   {
    "duration": 16,
    "start_time": "2022-11-18T12:26:54.502Z"
   },
   {
    "duration": 169,
    "start_time": "2022-11-18T12:26:54.519Z"
   },
   {
    "duration": 18,
    "start_time": "2022-11-18T12:26:54.690Z"
   },
   {
    "duration": 20,
    "start_time": "2022-11-18T12:26:54.710Z"
   },
   {
    "duration": 21,
    "start_time": "2022-11-18T12:26:54.732Z"
   },
   {
    "duration": 23,
    "start_time": "2022-11-18T12:26:54.755Z"
   },
   {
    "duration": 4,
    "start_time": "2022-11-18T12:26:54.799Z"
   },
   {
    "duration": 7,
    "start_time": "2022-11-18T12:26:54.804Z"
   },
   {
    "duration": 43,
    "start_time": "2022-11-18T12:26:54.813Z"
   },
   {
    "duration": 11,
    "start_time": "2022-11-18T12:26:54.858Z"
   },
   {
    "duration": 37,
    "start_time": "2022-11-18T12:26:54.870Z"
   },
   {
    "duration": 178,
    "start_time": "2022-11-18T12:26:54.909Z"
   },
   {
    "duration": 17,
    "start_time": "2022-11-18T12:26:55.088Z"
   },
   {
    "duration": 247,
    "start_time": "2022-11-18T12:26:55.107Z"
   },
   {
    "duration": 15,
    "start_time": "2022-11-18T12:26:55.355Z"
   },
   {
    "duration": 5,
    "start_time": "2022-11-18T12:26:55.372Z"
   },
   {
    "duration": 33,
    "start_time": "2022-11-18T12:26:55.378Z"
   },
   {
    "duration": 15,
    "start_time": "2022-11-18T12:26:55.412Z"
   },
   {
    "duration": 14,
    "start_time": "2022-11-18T12:26:55.428Z"
   },
   {
    "duration": 14,
    "start_time": "2022-11-18T12:26:55.443Z"
   },
   {
    "duration": 43,
    "start_time": "2022-11-18T12:26:55.458Z"
   },
   {
    "duration": 5,
    "start_time": "2022-11-18T12:26:55.502Z"
   },
   {
    "duration": 16,
    "start_time": "2022-11-18T12:26:55.508Z"
   },
   {
    "duration": 306,
    "start_time": "2022-11-18T12:26:55.525Z"
   },
   {
    "duration": 318,
    "start_time": "2022-11-18T12:26:55.832Z"
   },
   {
    "duration": 9,
    "start_time": "2022-11-18T12:26:56.151Z"
   },
   {
    "duration": 185,
    "start_time": "2022-11-18T12:26:56.161Z"
   },
   {
    "duration": 8,
    "start_time": "2022-11-18T12:26:56.347Z"
   },
   {
    "duration": 181,
    "start_time": "2022-11-18T12:26:56.356Z"
   },
   {
    "duration": 5,
    "start_time": "2022-11-18T12:26:56.538Z"
   },
   {
    "duration": 16,
    "start_time": "2022-11-18T12:26:56.544Z"
   },
   {
    "duration": 182,
    "start_time": "2022-11-18T12:26:56.561Z"
   },
   {
    "duration": 11,
    "start_time": "2022-11-18T12:26:56.745Z"
   },
   {
    "duration": 196,
    "start_time": "2022-11-18T12:26:56.757Z"
   },
   {
    "duration": 16,
    "start_time": "2022-11-18T12:26:56.955Z"
   },
   {
    "duration": 2406,
    "start_time": "2022-11-18T12:26:56.972Z"
   },
   {
    "duration": 574,
    "start_time": "2022-11-18T12:26:59.380Z"
   },
   {
    "duration": 13,
    "start_time": "2022-11-18T12:26:59.956Z"
   },
   {
    "duration": 13,
    "start_time": "2022-11-18T12:26:59.971Z"
   },
   {
    "duration": 15,
    "start_time": "2022-11-18T12:26:59.986Z"
   },
   {
    "duration": 26,
    "start_time": "2022-11-18T12:27:00.003Z"
   },
   {
    "duration": 17,
    "start_time": "2022-11-18T12:27:00.031Z"
   },
   {
    "duration": 207,
    "start_time": "2022-11-18T12:27:00.050Z"
   },
   {
    "duration": 6,
    "start_time": "2022-11-18T12:27:00.258Z"
   },
   {
    "duration": 217,
    "start_time": "2022-11-18T12:27:00.265Z"
   },
   {
    "duration": 15,
    "start_time": "2022-11-18T12:27:00.483Z"
   },
   {
    "duration": 384,
    "start_time": "2022-11-18T12:27:00.500Z"
   },
   {
    "duration": 12,
    "start_time": "2022-11-18T12:27:00.886Z"
   },
   {
    "duration": 209,
    "start_time": "2022-11-18T12:27:00.900Z"
   },
   {
    "duration": 6,
    "start_time": "2022-11-18T12:27:01.111Z"
   },
   {
    "duration": 13,
    "start_time": "2022-11-18T12:27:01.118Z"
   },
   {
    "duration": 33,
    "start_time": "2022-11-18T12:27:01.132Z"
   },
   {
    "duration": 42,
    "start_time": "2022-11-18T12:27:01.167Z"
   },
   {
    "duration": 54,
    "start_time": "2022-11-25T13:09:55.909Z"
   },
   {
    "duration": 50,
    "start_time": "2022-11-25T13:12:16.235Z"
   },
   {
    "duration": 1109,
    "start_time": "2022-11-25T13:12:52.394Z"
   },
   {
    "duration": 174,
    "start_time": "2022-11-25T13:12:53.504Z"
   },
   {
    "duration": 13,
    "start_time": "2022-11-25T13:12:53.680Z"
   },
   {
    "duration": 22,
    "start_time": "2022-11-25T13:12:53.696Z"
   },
   {
    "duration": 6,
    "start_time": "2022-11-25T13:12:53.721Z"
   },
   {
    "duration": 13,
    "start_time": "2022-11-25T13:12:53.729Z"
   },
   {
    "duration": 17,
    "start_time": "2022-11-25T13:12:53.744Z"
   },
   {
    "duration": 7,
    "start_time": "2022-11-25T13:12:53.763Z"
   },
   {
    "duration": 11,
    "start_time": "2022-11-25T13:12:53.772Z"
   },
   {
    "duration": 10,
    "start_time": "2022-11-25T13:12:53.786Z"
   },
   {
    "duration": 6,
    "start_time": "2022-11-25T13:12:53.797Z"
   },
   {
    "duration": 6,
    "start_time": "2022-11-25T13:12:53.805Z"
   },
   {
    "duration": 44,
    "start_time": "2022-11-25T13:12:53.812Z"
   },
   {
    "duration": 9,
    "start_time": "2022-11-25T13:12:53.857Z"
   },
   {
    "duration": 9,
    "start_time": "2022-11-25T13:12:53.867Z"
   },
   {
    "duration": 10,
    "start_time": "2022-11-25T13:12:53.878Z"
   },
   {
    "duration": 16,
    "start_time": "2022-11-25T13:12:53.890Z"
   },
   {
    "duration": 10,
    "start_time": "2022-11-25T13:12:53.907Z"
   },
   {
    "duration": 121,
    "start_time": "2022-11-25T13:12:53.954Z"
   },
   {
    "duration": 159,
    "start_time": "2022-11-25T13:12:54.077Z"
   },
   {
    "duration": 5,
    "start_time": "2022-11-25T13:12:54.238Z"
   },
   {
    "duration": 12,
    "start_time": "2022-11-25T13:12:54.244Z"
   },
   {
    "duration": 107,
    "start_time": "2022-11-25T13:12:54.258Z"
   },
   {
    "duration": 17,
    "start_time": "2022-11-25T13:12:54.367Z"
   },
   {
    "duration": 45,
    "start_time": "2022-11-25T13:12:54.385Z"
   },
   {
    "duration": 17,
    "start_time": "2022-11-25T13:12:54.432Z"
   },
   {
    "duration": 18,
    "start_time": "2022-11-25T13:12:54.450Z"
   },
   {
    "duration": 4,
    "start_time": "2022-11-25T13:12:54.472Z"
   },
   {
    "duration": 7,
    "start_time": "2022-11-25T13:12:54.478Z"
   },
   {
    "duration": 72,
    "start_time": "2022-11-25T13:12:54.487Z"
   },
   {
    "duration": 16,
    "start_time": "2022-11-25T13:12:54.561Z"
   },
   {
    "duration": 28,
    "start_time": "2022-11-25T13:12:54.580Z"
   },
   {
    "duration": 250,
    "start_time": "2022-11-25T13:12:54.612Z"
   },
   {
    "duration": 14,
    "start_time": "2022-11-25T13:12:54.864Z"
   },
   {
    "duration": 206,
    "start_time": "2022-11-25T13:12:54.879Z"
   },
   {
    "duration": 23,
    "start_time": "2022-11-25T13:12:55.087Z"
   },
   {
    "duration": 7,
    "start_time": "2022-11-25T13:12:55.112Z"
   },
   {
    "duration": 40,
    "start_time": "2022-11-25T13:12:55.121Z"
   },
   {
    "duration": 19,
    "start_time": "2022-11-25T13:12:55.163Z"
   },
   {
    "duration": 18,
    "start_time": "2022-11-25T13:12:55.184Z"
   },
   {
    "duration": 18,
    "start_time": "2022-11-25T13:12:55.204Z"
   },
   {
    "duration": 49,
    "start_time": "2022-11-25T13:12:55.224Z"
   },
   {
    "duration": 20,
    "start_time": "2022-11-25T13:12:55.275Z"
   },
   {
    "duration": 18,
    "start_time": "2022-11-25T13:12:55.297Z"
   },
   {
    "duration": 334,
    "start_time": "2022-11-25T13:12:55.317Z"
   },
   {
    "duration": 381,
    "start_time": "2022-11-25T13:12:55.654Z"
   },
   {
    "duration": 17,
    "start_time": "2022-11-25T13:12:56.038Z"
   },
   {
    "duration": 214,
    "start_time": "2022-11-25T13:12:56.056Z"
   },
   {
    "duration": 9,
    "start_time": "2022-11-25T13:12:56.271Z"
   },
   {
    "duration": 217,
    "start_time": "2022-11-25T13:12:56.282Z"
   },
   {
    "duration": 4,
    "start_time": "2022-11-25T13:12:56.501Z"
   },
   {
    "duration": 12,
    "start_time": "2022-11-25T13:12:56.506Z"
   },
   {
    "duration": 293,
    "start_time": "2022-11-25T13:12:56.520Z"
   },
   {
    "duration": 11,
    "start_time": "2022-11-25T13:12:56.815Z"
   },
   {
    "duration": 223,
    "start_time": "2022-11-25T13:12:56.827Z"
   },
   {
    "duration": 20,
    "start_time": "2022-11-25T13:12:57.052Z"
   },
   {
    "duration": 2717,
    "start_time": "2022-11-25T13:12:57.073Z"
   },
   {
    "duration": 531,
    "start_time": "2022-11-25T13:12:59.792Z"
   },
   {
    "duration": 9,
    "start_time": "2022-11-25T13:13:00.325Z"
   },
   {
    "duration": 34,
    "start_time": "2022-11-25T13:13:00.336Z"
   },
   {
    "duration": 27,
    "start_time": "2022-11-25T13:13:00.372Z"
   },
   {
    "duration": 34,
    "start_time": "2022-11-25T13:13:00.401Z"
   },
   {
    "duration": 31,
    "start_time": "2022-11-25T13:13:00.438Z"
   },
   {
    "duration": 233,
    "start_time": "2022-11-25T13:13:00.471Z"
   },
   {
    "duration": 6,
    "start_time": "2022-11-25T13:13:00.706Z"
   },
   {
    "duration": 254,
    "start_time": "2022-11-25T13:13:00.714Z"
   },
   {
    "duration": 17,
    "start_time": "2022-11-25T13:13:00.970Z"
   },
   {
    "duration": 569,
    "start_time": "2022-11-25T13:13:00.990Z"
   },
   {
    "duration": 9,
    "start_time": "2022-11-25T13:13:01.562Z"
   },
   {
    "duration": 259,
    "start_time": "2022-11-25T13:13:01.572Z"
   },
   {
    "duration": 5,
    "start_time": "2022-11-25T13:13:01.833Z"
   },
   {
    "duration": 17,
    "start_time": "2022-11-25T13:13:01.840Z"
   },
   {
    "duration": 32,
    "start_time": "2022-11-25T13:13:01.859Z"
   },
   {
    "duration": 52,
    "start_time": "2022-11-25T13:13:01.893Z"
   },
   {
    "duration": 7,
    "start_time": "2022-11-25T13:14:55.510Z"
   },
   {
    "duration": 1286,
    "start_time": "2022-11-25T13:19:20.249Z"
   },
   {
    "duration": 58,
    "start_time": "2022-11-25T13:19:21.537Z"
   },
   {
    "duration": 15,
    "start_time": "2022-11-25T13:19:21.597Z"
   },
   {
    "duration": 24,
    "start_time": "2022-11-25T13:19:21.614Z"
   },
   {
    "duration": 20,
    "start_time": "2022-11-25T13:19:21.640Z"
   },
   {
    "duration": 7,
    "start_time": "2022-11-25T13:19:21.663Z"
   },
   {
    "duration": 14,
    "start_time": "2022-11-25T13:19:21.671Z"
   },
   {
    "duration": 9,
    "start_time": "2022-11-25T13:19:21.687Z"
   },
   {
    "duration": 13,
    "start_time": "2022-11-25T13:19:21.698Z"
   },
   {
    "duration": 43,
    "start_time": "2022-11-25T13:19:21.714Z"
   },
   {
    "duration": 6,
    "start_time": "2022-11-25T13:19:21.759Z"
   },
   {
    "duration": 10,
    "start_time": "2022-11-25T13:19:21.767Z"
   },
   {
    "duration": 8,
    "start_time": "2022-11-25T13:19:21.779Z"
   },
   {
    "duration": 10,
    "start_time": "2022-11-25T13:19:21.789Z"
   },
   {
    "duration": 10,
    "start_time": "2022-11-25T13:19:21.800Z"
   },
   {
    "duration": 48,
    "start_time": "2022-11-25T13:19:21.812Z"
   },
   {
    "duration": 20,
    "start_time": "2022-11-25T13:19:21.861Z"
   },
   {
    "duration": 9,
    "start_time": "2022-11-25T13:19:21.882Z"
   },
   {
    "duration": 169,
    "start_time": "2022-11-25T13:19:21.893Z"
   },
   {
    "duration": 170,
    "start_time": "2022-11-25T13:19:22.064Z"
   },
   {
    "duration": 7,
    "start_time": "2022-11-25T13:19:22.236Z"
   },
   {
    "duration": 14,
    "start_time": "2022-11-25T13:19:22.244Z"
   },
   {
    "duration": 144,
    "start_time": "2022-11-25T13:19:22.260Z"
   },
   {
    "duration": 19,
    "start_time": "2022-11-25T13:19:22.406Z"
   },
   {
    "duration": 6,
    "start_time": "2022-11-25T13:19:22.426Z"
   },
   {
    "duration": 20,
    "start_time": "2022-11-25T13:19:22.433Z"
   },
   {
    "duration": 19,
    "start_time": "2022-11-25T13:19:22.455Z"
   },
   {
    "duration": 6,
    "start_time": "2022-11-25T13:19:22.478Z"
   },
   {
    "duration": 8,
    "start_time": "2022-11-25T13:19:22.486Z"
   },
   {
    "duration": 75,
    "start_time": "2022-11-25T13:19:22.496Z"
   },
   {
    "duration": 15,
    "start_time": "2022-11-25T13:19:22.574Z"
   },
   {
    "duration": 25,
    "start_time": "2022-11-25T13:19:22.591Z"
   },
   {
    "duration": 232,
    "start_time": "2022-11-25T13:19:22.618Z"
   },
   {
    "duration": 17,
    "start_time": "2022-11-25T13:19:22.851Z"
   },
   {
    "duration": 217,
    "start_time": "2022-11-25T13:19:22.870Z"
   },
   {
    "duration": 17,
    "start_time": "2022-11-25T13:19:23.089Z"
   },
   {
    "duration": 6,
    "start_time": "2022-11-25T13:19:23.108Z"
   },
   {
    "duration": 40,
    "start_time": "2022-11-25T13:19:23.116Z"
   },
   {
    "duration": 19,
    "start_time": "2022-11-25T13:19:23.157Z"
   },
   {
    "duration": 22,
    "start_time": "2022-11-25T13:19:23.178Z"
   },
   {
    "duration": 24,
    "start_time": "2022-11-25T13:19:23.202Z"
   },
   {
    "duration": 43,
    "start_time": "2022-11-25T13:19:23.228Z"
   },
   {
    "duration": 7,
    "start_time": "2022-11-25T13:19:23.273Z"
   },
   {
    "duration": 13,
    "start_time": "2022-11-25T13:19:23.282Z"
   },
   {
    "duration": 356,
    "start_time": "2022-11-25T13:19:23.297Z"
   },
   {
    "duration": 428,
    "start_time": "2022-11-25T13:19:23.655Z"
   },
   {
    "duration": 12,
    "start_time": "2022-11-25T13:19:24.085Z"
   },
   {
    "duration": 238,
    "start_time": "2022-11-25T13:19:24.100Z"
   },
   {
    "duration": 16,
    "start_time": "2022-11-25T13:19:24.339Z"
   },
   {
    "duration": 291,
    "start_time": "2022-11-25T13:19:24.357Z"
   },
   {
    "duration": 9,
    "start_time": "2022-11-25T13:19:24.650Z"
   },
   {
    "duration": 16,
    "start_time": "2022-11-25T13:19:24.661Z"
   },
   {
    "duration": 305,
    "start_time": "2022-11-25T13:19:24.679Z"
   },
   {
    "duration": 13,
    "start_time": "2022-11-25T13:19:24.986Z"
   },
   {
    "duration": 239,
    "start_time": "2022-11-25T13:19:25.002Z"
   },
   {
    "duration": 25,
    "start_time": "2022-11-25T13:19:25.243Z"
   },
   {
    "duration": 2833,
    "start_time": "2022-11-25T13:19:25.270Z"
   },
   {
    "duration": 524,
    "start_time": "2022-11-25T13:19:28.105Z"
   },
   {
    "duration": 8,
    "start_time": "2022-11-25T13:19:28.632Z"
   },
   {
    "duration": 18,
    "start_time": "2022-11-25T13:19:28.642Z"
   },
   {
    "duration": 13,
    "start_time": "2022-11-25T13:19:28.662Z"
   },
   {
    "duration": 15,
    "start_time": "2022-11-25T13:19:28.677Z"
   },
   {
    "duration": 18,
    "start_time": "2022-11-25T13:19:28.694Z"
   },
   {
    "duration": 266,
    "start_time": "2022-11-25T13:19:28.714Z"
   },
   {
    "duration": 7,
    "start_time": "2022-11-25T13:19:28.982Z"
   },
   {
    "duration": 264,
    "start_time": "2022-11-25T13:19:28.991Z"
   },
   {
    "duration": 14,
    "start_time": "2022-11-25T13:19:29.257Z"
   },
   {
    "duration": 578,
    "start_time": "2022-11-25T13:19:29.272Z"
   },
   {
    "duration": 8,
    "start_time": "2022-11-25T13:19:29.853Z"
   },
   {
    "duration": 251,
    "start_time": "2022-11-25T13:19:29.863Z"
   },
   {
    "duration": 6,
    "start_time": "2022-11-25T13:19:30.115Z"
   },
   {
    "duration": 27,
    "start_time": "2022-11-25T13:19:30.122Z"
   },
   {
    "duration": 48,
    "start_time": "2022-11-25T13:19:30.151Z"
   },
   {
    "duration": 32,
    "start_time": "2022-11-25T13:19:30.201Z"
   },
   {
    "duration": 324,
    "start_time": "2022-11-25T13:25:35.279Z"
   },
   {
    "duration": 134,
    "start_time": "2022-11-25T13:27:32.953Z"
   },
   {
    "duration": 315,
    "start_time": "2022-11-25T13:27:59.083Z"
   },
   {
    "duration": 17,
    "start_time": "2022-11-25T13:28:14.585Z"
   },
   {
    "duration": 12,
    "start_time": "2022-11-25T13:29:43.984Z"
   },
   {
    "duration": 12,
    "start_time": "2022-11-25T13:29:51.298Z"
   },
   {
    "duration": 1269,
    "start_time": "2022-11-25T13:30:01.180Z"
   },
   {
    "duration": 173,
    "start_time": "2022-11-25T13:30:02.451Z"
   },
   {
    "duration": 14,
    "start_time": "2022-11-25T13:30:02.625Z"
   },
   {
    "duration": 48,
    "start_time": "2022-11-25T13:30:02.641Z"
   },
   {
    "duration": 6,
    "start_time": "2022-11-25T13:30:02.691Z"
   },
   {
    "duration": 14,
    "start_time": "2022-11-25T13:30:02.699Z"
   },
   {
    "duration": 30,
    "start_time": "2022-11-25T13:30:02.714Z"
   },
   {
    "duration": 22,
    "start_time": "2022-11-25T13:30:02.746Z"
   },
   {
    "duration": 26,
    "start_time": "2022-11-25T13:30:02.770Z"
   },
   {
    "duration": 21,
    "start_time": "2022-11-25T13:30:02.799Z"
   },
   {
    "duration": 23,
    "start_time": "2022-11-25T13:30:02.822Z"
   },
   {
    "duration": 10,
    "start_time": "2022-11-25T13:30:02.847Z"
   },
   {
    "duration": 20,
    "start_time": "2022-11-25T13:30:02.859Z"
   },
   {
    "duration": 21,
    "start_time": "2022-11-25T13:30:02.880Z"
   },
   {
    "duration": 16,
    "start_time": "2022-11-25T13:30:02.903Z"
   },
   {
    "duration": 27,
    "start_time": "2022-11-25T13:30:02.921Z"
   },
   {
    "duration": 19,
    "start_time": "2022-11-25T13:30:02.950Z"
   },
   {
    "duration": 19,
    "start_time": "2022-11-25T13:30:02.970Z"
   },
   {
    "duration": 142,
    "start_time": "2022-11-25T13:30:02.991Z"
   },
   {
    "duration": 176,
    "start_time": "2022-11-25T13:30:03.135Z"
   },
   {
    "duration": 6,
    "start_time": "2022-11-25T13:30:03.313Z"
   },
   {
    "duration": 22,
    "start_time": "2022-11-25T13:30:03.320Z"
   },
   {
    "duration": 151,
    "start_time": "2022-11-25T13:30:03.344Z"
   },
   {
    "duration": 15,
    "start_time": "2022-11-25T13:30:03.497Z"
   },
   {
    "duration": 33,
    "start_time": "2022-11-25T13:30:03.514Z"
   },
   {
    "duration": 45,
    "start_time": "2022-11-25T13:30:03.549Z"
   },
   {
    "duration": 39,
    "start_time": "2022-11-25T13:30:03.595Z"
   },
   {
    "duration": 41,
    "start_time": "2022-11-25T13:30:03.639Z"
   },
   {
    "duration": 22,
    "start_time": "2022-11-25T13:30:03.682Z"
   },
   {
    "duration": 94,
    "start_time": "2022-11-25T13:30:03.706Z"
   },
   {
    "duration": 21,
    "start_time": "2022-11-25T13:30:03.803Z"
   },
   {
    "duration": 31,
    "start_time": "2022-11-25T13:30:03.826Z"
   },
   {
    "duration": 201,
    "start_time": "2022-11-25T13:30:03.859Z"
   },
   {
    "duration": 15,
    "start_time": "2022-11-25T13:30:04.062Z"
   },
   {
    "duration": 201,
    "start_time": "2022-11-25T13:30:04.079Z"
   },
   {
    "duration": 17,
    "start_time": "2022-11-25T13:30:04.282Z"
   },
   {
    "duration": 25,
    "start_time": "2022-11-25T13:30:04.300Z"
   },
   {
    "duration": 35,
    "start_time": "2022-11-25T13:30:04.327Z"
   },
   {
    "duration": 20,
    "start_time": "2022-11-25T13:30:04.365Z"
   },
   {
    "duration": 17,
    "start_time": "2022-11-25T13:30:04.387Z"
   },
   {
    "duration": 31,
    "start_time": "2022-11-25T13:30:04.406Z"
   },
   {
    "duration": 25,
    "start_time": "2022-11-25T13:30:04.439Z"
   },
   {
    "duration": 17,
    "start_time": "2022-11-25T13:30:04.466Z"
   },
   {
    "duration": 32,
    "start_time": "2022-11-25T13:30:04.484Z"
   },
   {
    "duration": 374,
    "start_time": "2022-11-25T13:30:04.518Z"
   },
   {
    "duration": 374,
    "start_time": "2022-11-25T13:30:04.893Z"
   },
   {
    "duration": 10,
    "start_time": "2022-11-25T13:30:05.269Z"
   },
   {
    "duration": 237,
    "start_time": "2022-11-25T13:30:05.281Z"
   },
   {
    "duration": 10,
    "start_time": "2022-11-25T13:30:05.520Z"
   },
   {
    "duration": 249,
    "start_time": "2022-11-25T13:30:05.531Z"
   },
   {
    "duration": 5,
    "start_time": "2022-11-25T13:30:05.782Z"
   },
   {
    "duration": 42,
    "start_time": "2022-11-25T13:30:05.788Z"
   },
   {
    "duration": 332,
    "start_time": "2022-11-25T13:30:05.832Z"
   },
   {
    "duration": 11,
    "start_time": "2022-11-25T13:30:06.166Z"
   },
   {
    "duration": 220,
    "start_time": "2022-11-25T13:30:06.179Z"
   },
   {
    "duration": 19,
    "start_time": "2022-11-25T13:30:06.401Z"
   },
   {
    "duration": 126,
    "start_time": "2022-11-25T13:30:06.422Z"
   },
   {
    "duration": 0,
    "start_time": "2022-11-25T13:30:06.555Z"
   },
   {
    "duration": 0,
    "start_time": "2022-11-25T13:30:06.557Z"
   },
   {
    "duration": 0,
    "start_time": "2022-11-25T13:30:06.559Z"
   },
   {
    "duration": 0,
    "start_time": "2022-11-25T13:30:06.560Z"
   },
   {
    "duration": 0,
    "start_time": "2022-11-25T13:30:06.562Z"
   },
   {
    "duration": 0,
    "start_time": "2022-11-25T13:30:06.564Z"
   },
   {
    "duration": 0,
    "start_time": "2022-11-25T13:30:06.565Z"
   },
   {
    "duration": 0,
    "start_time": "2022-11-25T13:30:06.567Z"
   },
   {
    "duration": 0,
    "start_time": "2022-11-25T13:30:06.568Z"
   },
   {
    "duration": 0,
    "start_time": "2022-11-25T13:30:06.570Z"
   },
   {
    "duration": 0,
    "start_time": "2022-11-25T13:30:06.571Z"
   },
   {
    "duration": 0,
    "start_time": "2022-11-25T13:30:06.573Z"
   },
   {
    "duration": 0,
    "start_time": "2022-11-25T13:30:06.575Z"
   },
   {
    "duration": 0,
    "start_time": "2022-11-25T13:30:06.576Z"
   },
   {
    "duration": 0,
    "start_time": "2022-11-25T13:30:06.578Z"
   },
   {
    "duration": 0,
    "start_time": "2022-11-25T13:30:06.580Z"
   },
   {
    "duration": 0,
    "start_time": "2022-11-25T13:30:06.581Z"
   },
   {
    "duration": 13,
    "start_time": "2022-11-25T13:31:17.459Z"
   },
   {
    "duration": 18,
    "start_time": "2022-11-25T13:31:58.865Z"
   },
   {
    "duration": 12,
    "start_time": "2022-11-25T13:32:12.001Z"
   },
   {
    "duration": 13,
    "start_time": "2022-11-25T13:32:33.689Z"
   },
   {
    "duration": 1225,
    "start_time": "2022-11-25T13:34:20.638Z"
   },
   {
    "duration": 55,
    "start_time": "2022-11-25T13:34:21.865Z"
   },
   {
    "duration": 14,
    "start_time": "2022-11-25T13:34:21.921Z"
   },
   {
    "duration": 60,
    "start_time": "2022-11-25T13:34:21.937Z"
   },
   {
    "duration": 7,
    "start_time": "2022-11-25T13:34:21.998Z"
   },
   {
    "duration": 31,
    "start_time": "2022-11-25T13:34:22.007Z"
   },
   {
    "duration": 13,
    "start_time": "2022-11-25T13:34:22.039Z"
   },
   {
    "duration": 16,
    "start_time": "2022-11-25T13:34:22.054Z"
   },
   {
    "duration": 18,
    "start_time": "2022-11-25T13:34:22.072Z"
   },
   {
    "duration": 17,
    "start_time": "2022-11-25T13:34:22.093Z"
   },
   {
    "duration": 6,
    "start_time": "2022-11-25T13:34:22.112Z"
   },
   {
    "duration": 8,
    "start_time": "2022-11-25T13:34:22.120Z"
   },
   {
    "duration": 24,
    "start_time": "2022-11-25T13:34:22.131Z"
   },
   {
    "duration": 14,
    "start_time": "2022-11-25T13:34:22.157Z"
   },
   {
    "duration": 11,
    "start_time": "2022-11-25T13:34:22.173Z"
   },
   {
    "duration": 14,
    "start_time": "2022-11-25T13:34:22.186Z"
   },
   {
    "duration": 29,
    "start_time": "2022-11-25T13:34:22.202Z"
   },
   {
    "duration": 10,
    "start_time": "2022-11-25T13:34:22.254Z"
   },
   {
    "duration": 143,
    "start_time": "2022-11-25T13:34:22.265Z"
   },
   {
    "duration": 173,
    "start_time": "2022-11-25T13:34:22.410Z"
   },
   {
    "duration": 6,
    "start_time": "2022-11-25T13:34:22.585Z"
   },
   {
    "duration": 9,
    "start_time": "2022-11-25T13:34:22.592Z"
   },
   {
    "duration": 109,
    "start_time": "2022-11-25T13:34:22.602Z"
   },
   {
    "duration": 16,
    "start_time": "2022-11-25T13:34:22.713Z"
   },
   {
    "duration": 5,
    "start_time": "2022-11-25T13:34:22.730Z"
   },
   {
    "duration": 20,
    "start_time": "2022-11-25T13:34:22.737Z"
   },
   {
    "duration": 21,
    "start_time": "2022-11-25T13:34:22.758Z"
   },
   {
    "duration": 5,
    "start_time": "2022-11-25T13:34:22.783Z"
   },
   {
    "duration": 8,
    "start_time": "2022-11-25T13:34:22.789Z"
   },
   {
    "duration": 73,
    "start_time": "2022-11-25T13:34:22.799Z"
   },
   {
    "duration": 12,
    "start_time": "2022-11-25T13:34:22.874Z"
   },
   {
    "duration": 18,
    "start_time": "2022-11-25T13:34:22.887Z"
   },
   {
    "duration": 222,
    "start_time": "2022-11-25T13:34:22.907Z"
   },
   {
    "duration": 14,
    "start_time": "2022-11-25T13:34:23.131Z"
   },
   {
    "duration": 212,
    "start_time": "2022-11-25T13:34:23.155Z"
   },
   {
    "duration": 16,
    "start_time": "2022-11-25T13:34:23.369Z"
   },
   {
    "duration": 6,
    "start_time": "2022-11-25T13:34:23.387Z"
   },
   {
    "duration": 23,
    "start_time": "2022-11-25T13:34:23.395Z"
   },
   {
    "duration": 44,
    "start_time": "2022-11-25T13:34:23.420Z"
   },
   {
    "duration": 18,
    "start_time": "2022-11-25T13:34:23.465Z"
   },
   {
    "duration": 20,
    "start_time": "2022-11-25T13:34:23.484Z"
   },
   {
    "duration": 50,
    "start_time": "2022-11-25T13:34:23.506Z"
   },
   {
    "duration": 6,
    "start_time": "2022-11-25T13:34:23.557Z"
   },
   {
    "duration": 15,
    "start_time": "2022-11-25T13:34:23.565Z"
   },
   {
    "duration": 367,
    "start_time": "2022-11-25T13:34:23.581Z"
   },
   {
    "duration": 386,
    "start_time": "2022-11-25T13:34:23.955Z"
   },
   {
    "duration": 16,
    "start_time": "2022-11-25T13:34:24.343Z"
   },
   {
    "duration": 232,
    "start_time": "2022-11-25T13:34:24.361Z"
   },
   {
    "duration": 11,
    "start_time": "2022-11-25T13:34:24.595Z"
   },
   {
    "duration": 283,
    "start_time": "2022-11-25T13:34:24.608Z"
   },
   {
    "duration": 5,
    "start_time": "2022-11-25T13:34:24.892Z"
   },
   {
    "duration": 14,
    "start_time": "2022-11-25T13:34:24.898Z"
   },
   {
    "duration": 291,
    "start_time": "2022-11-25T13:34:24.914Z"
   },
   {
    "duration": 12,
    "start_time": "2022-11-25T13:34:25.207Z"
   },
   {
    "duration": 232,
    "start_time": "2022-11-25T13:34:25.220Z"
   },
   {
    "duration": 521,
    "start_time": "2022-11-25T13:34:25.455Z"
   },
   {
    "duration": 8,
    "start_time": "2022-11-25T13:34:25.978Z"
   },
   {
    "duration": 19,
    "start_time": "2022-11-25T13:34:25.988Z"
   },
   {
    "duration": 14,
    "start_time": "2022-11-25T13:34:26.008Z"
   },
   {
    "duration": 32,
    "start_time": "2022-11-25T13:34:26.024Z"
   },
   {
    "duration": 27,
    "start_time": "2022-11-25T13:34:26.057Z"
   },
   {
    "duration": 213,
    "start_time": "2022-11-25T13:34:26.085Z"
   },
   {
    "duration": 6,
    "start_time": "2022-11-25T13:34:26.300Z"
   },
   {
    "duration": 251,
    "start_time": "2022-11-25T13:34:26.307Z"
   },
   {
    "duration": 12,
    "start_time": "2022-11-25T13:34:26.559Z"
   },
   {
    "duration": 485,
    "start_time": "2022-11-25T13:34:26.573Z"
   },
   {
    "duration": 8,
    "start_time": "2022-11-25T13:34:27.060Z"
   },
   {
    "duration": 237,
    "start_time": "2022-11-25T13:34:27.069Z"
   },
   {
    "duration": 5,
    "start_time": "2022-11-25T13:34:27.308Z"
   },
   {
    "duration": 26,
    "start_time": "2022-11-25T13:34:27.314Z"
   },
   {
    "duration": 14,
    "start_time": "2022-11-25T13:34:27.341Z"
   },
   {
    "duration": 30,
    "start_time": "2022-11-25T13:34:27.357Z"
   }
  ],
  "kernelspec": {
   "display_name": "Python 3 (ipykernel)",
   "language": "python",
   "name": "python3"
  },
  "language_info": {
   "codemirror_mode": {
    "name": "ipython",
    "version": 3
   },
   "file_extension": ".py",
   "mimetype": "text/x-python",
   "name": "python",
   "nbconvert_exporter": "python",
   "pygments_lexer": "ipython3",
   "version": "3.10.7"
  },
  "toc": {
   "base_numbering": 1,
   "nav_menu": {},
   "number_sections": true,
   "sideBar": true,
   "skip_h1_title": true,
   "title_cell": "Table of Contents",
   "title_sidebar": "Contents",
   "toc_cell": false,
   "toc_position": {},
   "toc_section_display": true,
   "toc_window_display": false
  }
 },
 "nbformat": 4,
 "nbformat_minor": 2
}
